{
 "cells": [
  {
   "cell_type": "code",
   "execution_count": 1,
   "metadata": {},
   "outputs": [],
   "source": [
    "import pandas as pd\n",
    "import matplotlib.pyplot as plt\n",
    "import seaborn as sns\n",
    "import numpy as np\n",
    "import copy\n",
    "import warnings\n",
    "from IPython.display import display"
   ]
  },
  {
   "cell_type": "code",
   "execution_count": null,
   "metadata": {
    "collapsed": true
   },
   "outputs": [],
   "source": []
  },
  {
   "cell_type": "code",
   "execution_count": 1,
   "metadata": {},
   "outputs": [
    {
     "data": {
      "text/plain": [
       "'C:\\\\Users\\\\mattt\\\\Anaconda3\\\\python.exe'"
      ]
     },
     "execution_count": 1,
     "metadata": {},
     "output_type": "execute_result"
    }
   ],
   "source": [
    "import sys\n",
    "sys.executable  # shows the location of the running python executable\n",
    "\n",
    "# !{sys.executable} -m pip install --upgrade numpy\n"
   ]
  },
  {
   "cell_type": "code",
   "execution_count": null,
   "metadata": {
    "collapsed": true
   },
   "outputs": [],
   "source": [
    "# import numpy as np\n",
    "# np.version.version  # shows the version of the imported package ('np' in this case)\n",
    "# np.__file__  # shows the location of that packages __init__ file\n",
    "# np.__path__  # shows the location of that package\n",
    "# np.lib.NumpyVersion"
   ]
  },
  {
   "cell_type": "markdown",
   "metadata": {},
   "source": [
    "Scatter Plots"
   ]
  },
  {
   "cell_type": "code",
   "execution_count": null,
   "metadata": {
    "collapsed": true
   },
   "outputs": [],
   "source": []
  },
  {
   "cell_type": "code",
   "execution_count": 5,
   "metadata": {},
   "outputs": [
    {
     "data": {
      "text/plain": [
       "Index(['Class', 'Alcohol', 'Malic acid', 'Ash', 'Alcalinity of ash', 'Mg',\n",
       "       'Total phenols', 'Flavanoids', 'Nonflavanoid phenols',\n",
       "       'Proanthocyanins', 'Color intensity', 'Hue',\n",
       "       'OD280/OD315 of diluted wines', 'Proline'],\n",
       "      dtype='object')"
      ]
     },
     "metadata": {},
     "output_type": "display_data"
    },
    {
     "data": {
      "text/html": [
       "<div>\n",
       "<style>\n",
       "    .dataframe thead tr:only-child th {\n",
       "        text-align: right;\n",
       "    }\n",
       "\n",
       "    .dataframe thead th {\n",
       "        text-align: left;\n",
       "    }\n",
       "\n",
       "    .dataframe tbody tr th {\n",
       "        vertical-align: top;\n",
       "    }\n",
       "</style>\n",
       "<table border=\"1\" class=\"dataframe\">\n",
       "  <thead>\n",
       "    <tr style=\"text-align: right;\">\n",
       "      <th></th>\n",
       "      <th>Class</th>\n",
       "      <th>Alcohol</th>\n",
       "      <th>Malic acid</th>\n",
       "      <th>Ash</th>\n",
       "      <th>Alcalinity of ash</th>\n",
       "      <th>Mg</th>\n",
       "      <th>Total phenols</th>\n",
       "      <th>Flavanoids</th>\n",
       "      <th>Nonflavanoid phenols</th>\n",
       "      <th>Proanthocyanins</th>\n",
       "      <th>Color intensity</th>\n",
       "      <th>Hue</th>\n",
       "      <th>OD280/OD315 of diluted wines</th>\n",
       "      <th>Proline</th>\n",
       "    </tr>\n",
       "  </thead>\n",
       "  <tbody>\n",
       "    <tr>\n",
       "      <th>0</th>\n",
       "      <td>1</td>\n",
       "      <td>14.23</td>\n",
       "      <td>1.71</td>\n",
       "      <td>2.43</td>\n",
       "      <td>15.6</td>\n",
       "      <td>127</td>\n",
       "      <td>2.80</td>\n",
       "      <td>3.06</td>\n",
       "      <td>0.28</td>\n",
       "      <td>2.29</td>\n",
       "      <td>5.64</td>\n",
       "      <td>1.04</td>\n",
       "      <td>3.92</td>\n",
       "      <td>1065</td>\n",
       "    </tr>\n",
       "    <tr>\n",
       "      <th>1</th>\n",
       "      <td>1</td>\n",
       "      <td>13.20</td>\n",
       "      <td>1.78</td>\n",
       "      <td>2.14</td>\n",
       "      <td>11.2</td>\n",
       "      <td>100</td>\n",
       "      <td>2.65</td>\n",
       "      <td>2.76</td>\n",
       "      <td>0.26</td>\n",
       "      <td>1.28</td>\n",
       "      <td>4.38</td>\n",
       "      <td>1.05</td>\n",
       "      <td>3.40</td>\n",
       "      <td>1050</td>\n",
       "    </tr>\n",
       "    <tr>\n",
       "      <th>2</th>\n",
       "      <td>1</td>\n",
       "      <td>13.16</td>\n",
       "      <td>2.36</td>\n",
       "      <td>2.67</td>\n",
       "      <td>18.6</td>\n",
       "      <td>101</td>\n",
       "      <td>2.80</td>\n",
       "      <td>3.24</td>\n",
       "      <td>0.30</td>\n",
       "      <td>2.81</td>\n",
       "      <td>5.68</td>\n",
       "      <td>1.03</td>\n",
       "      <td>3.17</td>\n",
       "      <td>1185</td>\n",
       "    </tr>\n",
       "    <tr>\n",
       "      <th>3</th>\n",
       "      <td>1</td>\n",
       "      <td>14.37</td>\n",
       "      <td>1.95</td>\n",
       "      <td>2.50</td>\n",
       "      <td>16.8</td>\n",
       "      <td>113</td>\n",
       "      <td>3.85</td>\n",
       "      <td>3.49</td>\n",
       "      <td>0.24</td>\n",
       "      <td>2.18</td>\n",
       "      <td>7.80</td>\n",
       "      <td>0.86</td>\n",
       "      <td>3.45</td>\n",
       "      <td>1480</td>\n",
       "    </tr>\n",
       "    <tr>\n",
       "      <th>4</th>\n",
       "      <td>1</td>\n",
       "      <td>13.24</td>\n",
       "      <td>2.59</td>\n",
       "      <td>2.87</td>\n",
       "      <td>21.0</td>\n",
       "      <td>118</td>\n",
       "      <td>2.80</td>\n",
       "      <td>2.69</td>\n",
       "      <td>0.39</td>\n",
       "      <td>1.82</td>\n",
       "      <td>4.32</td>\n",
       "      <td>1.04</td>\n",
       "      <td>2.93</td>\n",
       "      <td>735</td>\n",
       "    </tr>\n",
       "  </tbody>\n",
       "</table>\n",
       "</div>"
      ],
      "text/plain": [
       "   Class  Alcohol  Malic acid   Ash  Alcalinity of ash   Mg  Total phenols  \\\n",
       "0      1    14.23        1.71  2.43               15.6  127           2.80   \n",
       "1      1    13.20        1.78  2.14               11.2  100           2.65   \n",
       "2      1    13.16        2.36  2.67               18.6  101           2.80   \n",
       "3      1    14.37        1.95  2.50               16.8  113           3.85   \n",
       "4      1    13.24        2.59  2.87               21.0  118           2.80   \n",
       "\n",
       "   Flavanoids  Nonflavanoid phenols  Proanthocyanins  Color intensity   Hue  \\\n",
       "0        3.06                  0.28             2.29             5.64  1.04   \n",
       "1        2.76                  0.26             1.28             4.38  1.05   \n",
       "2        3.24                  0.30             2.81             5.68  1.03   \n",
       "3        3.49                  0.24             2.18             7.80  0.86   \n",
       "4        2.69                  0.39             1.82             4.32  1.04   \n",
       "\n",
       "   OD280/OD315 of diluted wines  Proline  \n",
       "0                          3.92     1065  \n",
       "1                          3.40     1050  \n",
       "2                          3.17     1185  \n",
       "3                          3.45     1480  \n",
       "4                          2.93      735  "
      ]
     },
     "execution_count": 5,
     "metadata": {},
     "output_type": "execute_result"
    }
   ],
   "source": [
    "wine_df = pd.read_csv(\"wine.csv\")\n",
    "display(wine_df.columns)\n",
    "wine_df.head(5)"
   ]
  },
  {
   "cell_type": "markdown",
   "metadata": {},
   "source": [
    "KDE Plots"
   ]
  },
  {
   "cell_type": "code",
   "execution_count": 6,
   "metadata": {
    "collapsed": true
   },
   "outputs": [],
   "source": [
    "iris = sns.load_dataset(\"iris\")\n",
    "setosa = iris.loc[iris.species == \"setosa\"]\n",
    "virginica = iris.loc[iris.species == \"virginica\"]\n",
    "ax = sns.kdeplot(setosa.sepal_width, setosa.sepal_length,\n",
    "                 cmap=\"Reds\", shade=True, shade_lowest=False)\n",
    "ax = sns.kdeplot(virginica.sepal_width, virginica.sepal_length,\n",
    "                 cmap=\"Blues\", shade=True, shade_lowest=False)"
   ]
  },
  {
   "cell_type": "code",
   "execution_count": 7,
   "metadata": {
    "collapsed": true
   },
   "outputs": [],
   "source": [
    "# Still Developing this\n",
    "\n",
    "def kde_compare(cat1, cat2, cat3, feat1, feat2):\n",
    "    ax = sns.kdeplot(cat1[feat1], cat1[feat2], cmap=\"Blues\", shade=True, shade_lowest=False,\n",
    "                     legend=True)\n",
    "    ax = sns.kdeplot(cat2[feat1], cat2[feat2], cmap=\"Oranges\", shade=True, shade_lowest=False,\n",
    "                     legend=True)\n",
    "    ax = sns.kdeplot(cat3[feat1], cat3[feat2], cmap=\"Greens\", shade=True, shade_lowest=False, \n",
    "                     legend=True)"
   ]
  },
  {
   "cell_type": "code",
   "execution_count": 8,
   "metadata": {
    "collapsed": true
   },
   "outputs": [],
   "source": [
    "# sample that was being used with the above\n",
    "# feature_compare(wine_df, 'OD280/OD315 of diluted wines', 'Proline')\n",
    "wine_c1 = wine_df.loc[wine_df.Class == 1]\n",
    "wine_c2 = wine_df.loc[wine_df.Class == 2]\n",
    "wine_c3 = wine_df.loc[wine_df.Class == 3]\n",
    "\n",
    "# ax = sns.kdeplot(wine_c1['Proline'], wine_c1['Proline'],\n",
    "#                  cmap=\"Reds\", shade=True, shade_lowest=False)\n",
    "# ax = sns.kdeplot(virginica.sepal_width, virginica.sepal_length,\n",
    "#                  cmap=\"Blues\", shade=True, shade_lowest=False)\n",
    "\n",
    "kde_compare(wine_c1, wine_c2, wine_c3, 'Alcohol', 'Ash')"
   ]
  },
  {
   "cell_type": "markdown",
   "metadata": {},
   "source": [
    "## small-sample hypothesis test for independent population means\n",
    "\n",
    "The small-sample hypothesis test for independent population means (ie the paired t-test) is given by the equation below\n",
    "\n",
    "$$t=\\frac{\\big(\\bar{x}_1 - \\bar{x}_2\\big)-D_0}{\\sqrt{s_p^2\\big(\\frac{1}{n_1} + \\frac{1}{n_2}\\big)}}$$\n",
    "\n",
    "where sample variance for the pair, $s_p^2$ is given by \n",
    "\n",
    "$$s_p^2 = \\frac{\\big(n_1-1\\big)s_1^2 + \\big(n_2 -1\\big)s_2^2}{n_1+n_2-2}$$\n",
    "\n",
    "* tree_clf sample mean:         $\\bar{x}_1 = 0.91421$ \n",
    "* tree_clf sample variance:     $s_1^2 = 0.00092$\n",
    "* nb_gauss_clf sample mean:     $\\bar{x}_2 = 0.96885$\n",
    "* nb_gauss_clf sample variance: $s_2^2 = 0.00023$\n",
    "* pooled pop. variance est:     $s_p = \\frac{0.00092\\big(29\\big)+0.00023\\big(29\\big)}{58} = 0.000575$"
   ]
  },
  {
   "cell_type": "markdown",
   "metadata": {
    "collapsed": true
   },
   "source": [
    "# Still under development"
   ]
  },
  {
   "cell_type": "code",
   "execution_count": 10,
   "metadata": {},
   "outputs": [],
   "source": [
    "# sns.swarmplot(x='Ash', y='Mg',hue='Class', data=wine_df)\n",
    "# iris = sns.load_dataset(\"iris\")\n",
    "tips = sns.load_dataset(\"tips\")\n",
    "tips\n",
    "# iris = pd.melt(iris, \"species\", var_name=\"measurement\")\n",
    "# iris\n",
    "# Draw a categorical scatterplot to show each observation\n",
    "# sns.swarmplot(x=\"measurement\", y=\"value\", hue=\"species\", data=iris)\n",
    "# sns.violinplot(x=wine_df['Class'], y=wine_df['Mg'], hue=wine_df['Class'], inner='points')\n",
    "# help(sns.violinplot)\n",
    "\n",
    "# fig, ax = plt.subplots(2,2,sharex='col', sharey='row')\n",
    "# fig=plt.figure(figsize=(6,6))\n",
    "# # help(plt.GridSpec)\n",
    "# grid = plt.GridSpec(2, 2, wspace=0.4, hspace=0.4)\n",
    "# plt.subplot(grid[0,0])\n",
    "# plt.subplot(grid[0, 1])\n",
    "# plt.subplot(grid[1, 0])\n",
    "# plt.subplot(grid[1, 1]);\n",
    "# help(plt.subplots)\n",
    "\n",
    "plt.figure(figsize=(12,12))\n",
    "ax1 = plt.subplot2grid((3,3), (0,0))\n",
    "ax2 = plt.subplot2grid((3,3), (1,0))\n",
    "ax4 = plt.subplot2grid((3,3), (1,1))\n",
    "sns.violinplot(x=wine_df['Class'], y=wine_df['Mg'], hue=wine_df['Class'], inner='points', ax=ax4)\n",
    "sns.violinplot(x=wine_df['Ash'], y=wine_df['Class'], hue=wine_df['Class'], inner='points', ax=ax1,\n",
    "               orient='h', legend=False)\n",
    "plt.tight_layout()\n",
    "l1 = ax1.legend(loc='best')\n",
    "l4 = ax4.legend(loc='best')\n",
    "# l.set_title()"
   ]
  },
  {
   "cell_type": "code",
   "execution_count": null,
   "metadata": {
    "collapsed": true
   },
   "outputs": [],
   "source": []
  },
  {
   "cell_type": "code",
   "execution_count": 11,
   "metadata": {},
   "outputs": [
    {
     "data": {
      "text/plain": [
       "['classic',\n",
       " 'seaborn-pastel',\n",
       " 'seaborn',\n",
       " 'dark_background',\n",
       " 'seaborn-white',\n",
       " 'fivethirtyeight',\n",
       " 'seaborn-darkgrid',\n",
       " 'seaborn-dark-palette',\n",
       " 'seaborn-dark',\n",
       " 'seaborn-whitegrid',\n",
       " 'seaborn-muted',\n",
       " 'bmh',\n",
       " 'seaborn-ticks',\n",
       " 'seaborn-talk',\n",
       " '_classic_test',\n",
       " 'seaborn-colorblind',\n",
       " 'grayscale',\n",
       " 'seaborn-notebook',\n",
       " 'seaborn-deep',\n",
       " 'seaborn-poster',\n",
       " 'seaborn-paper',\n",
       " 'seaborn-bright',\n",
       " 'ggplot']"
      ]
     },
     "execution_count": 11,
     "metadata": {},
     "output_type": "execute_result"
    }
   ],
   "source": [
    "plt.style.available"
   ]
  },
  {
   "cell_type": "markdown",
   "metadata": {},
   "source": [
    "## Adjusting Tick Angles"
   ]
  },
  {
   "cell_type": "code",
   "execution_count": 2,
   "metadata": {},
   "outputs": [],
   "source": [
    "cc_raw = pd.read_csv('data/taiwan_cc/default_of_credit_card_clients.csv', index_col='ID')"
   ]
  },
  {
   "cell_type": "code",
   "execution_count": 4,
   "metadata": {},
   "outputs": [],
   "source": [
    "with plt.style.context('seaborn-whitegrid'):\n",
    "    fig, ax = plt.subplots(nrows=1, ncols=2,figsize=(16,6))\n",
    "#     ax = ax.flatten()\n",
    "#     fig.suptitle(title)\n",
    "    sns.countplot(x='default_payment_next_month', data=cc_raw, ax=ax[0])\n",
    "    ax[0].set_ylabel('Count', fontsize=12)\n",
    "    ax[0].set_title('Defaulted on CC Payment')\n",
    "    sns.countplot(x='AGE', data=cc_raw, hue='default_payment_next_month', ax=ax[1])\n",
    "    ax[1].set_xlabel('Age [years]', fontsize=12)\n",
    "    ax[1].set_ylabel('Count', fontsize=12)\n",
    "    ax[1].set_xticklabels(ax[1].get_xticklabels(), rotation=90, ha='right', fontsize=7.5)\n",
    "    ax[1].legend(loc='upper right', title='Defaulted on CC Payment')\n",
    "    ax[1].set_title('Age Distribution')"
   ]
  },
  {
   "cell_type": "markdown",
   "metadata": {
    "collapsed": true
   },
   "source": [
    "## ROC Curves"
   ]
  },
  {
   "cell_type": "code",
   "execution_count": null,
   "metadata": {},
   "outputs": [],
   "source": [
    "# Used the example at this address to encode threshold to color on the ROC curve \n",
    "# https://nbviewer.jupyter.org/github/dpsanders/matplotlib-examples/blob/master/colorline.ipynb\n",
    "def make_segments(x, y):\n",
    "    '''\n",
    "    Create list of line segments from x and y coordinates, in the correct format for LineCollection:\n",
    "    an array of the form   numlines x (points per line) x 2 (x and y) array\n",
    "    '''\n",
    "\n",
    "    points = np.array([x, y]).T.reshape(-1, 1, 2)\n",
    "    segments = np.concatenate([points[:-1], points[1:]], axis=1)\n",
    "    \n",
    "    return segments\n",
    "\n",
    "def colorline(ax, x, y, z=None, cmap='coolwarm', \n",
    "              norm=plt.Normalize(0.0, 1.0), linewidth=3, alpha=1.0):\n",
    "    '''\n",
    "    Plot a colored line with coordinates x and y\n",
    "    Optionally specify colors in the array z\n",
    "    Optionally specify a colormap, a norm function and a line width\n",
    "    '''    \n",
    "    # Default colors equally spaced on [0,1]:\n",
    "    if z is None:\n",
    "        z = np.linspace(0.0, 1.0, len(x))\n",
    "           \n",
    "    # Special case if a single number:\n",
    "    if not hasattr(z, \"__iter__\"):  # to check for numerical input -- this is a hack\n",
    "        z = np.array([z])\n",
    "        \n",
    "    z = np.asarray(z)\n",
    "    \n",
    "    segments = make_segments(x, y)\n",
    "    lc = LineCollection(segments, array=z, cmap=cmap, norm=norm, linewidth=linewidth, alpha=alpha)\n",
    "    \n",
    "#     ax = plt.gca()\n",
    "    ax.add_collection(lc)\n",
    "    \n",
    "    return lc"
   ]
  },
  {
   "cell_type": "code",
   "execution_count": null,
   "metadata": {},
   "outputs": [],
   "source": [
    "# \n",
    "def roc_plotter(ax_, fprs_, tprs_, threshs_, clf_type, pp_steps, DEBUG=False):\n",
    "    tpr_set = []\n",
    "    aucs = []\n",
    "    mean_fpr = np.linspace(0, 1, 100)\n",
    "    if DEBUG:\n",
    "        print('fprs_.shape: {}'.format(fprs_.shape))\n",
    "        print('tprs_.shape: {}'.format(tprs_.shape))\n",
    "        print('threshs_.shape: {}'.format(threshs_.shape))\n",
    "    for i in range(len(fprs_)):\n",
    "#         ax_.plot(fprs_[i], tprs_[i], lw=1, alpha=0.3)\n",
    "        tpr_set.append(interp(mean_fpr, fprs_[i], tprs_[i]))\n",
    "        tpr_set[-1][0] = 0.0\n",
    "        roc_auc = auc(fprs_[i], tprs_[i])\n",
    "        aucs.append(roc_auc)\n",
    "        lc = colorline(ax_, fprs_[i], tprs_[i], threshs_[i])\n",
    "        if DEBUG:\n",
    "            print('[ROC plotter debug]: \\ni: {}\\nfprs_[i]: {}\\ntprs_[i]: {}\\nthreshs_[i]: {}'\n",
    "                  .format(i, fprs_[i], tprs_[i], threshs_[i]))\n",
    "    mean_tpr = np.mean(tpr_set, axis=0)\n",
    "    mean_tpr[-1] = 1.0\n",
    "    mean_auc = auc(mean_fpr, mean_tpr)\n",
    "    std_auc = np.std(aucs)\n",
    "    std_tpr = np.std(tpr_set, axis=0)\n",
    "    tprs_upper = np.minimum(mean_tpr + std_tpr, 1)\n",
    "    tprs_lower = np.maximum(mean_tpr - std_tpr, 0)\n",
    "    ax_.plot(mean_fpr, mean_tpr, color='k',\n",
    "            label='Mean ROC (AUC = {:0.2f} $\\pm$ {:0.2f})'\n",
    "               .format(mean_auc, std_auc), lw=1, alpha=0.8)\n",
    "    ax_.fill_between(mean_fpr, tprs_lower, tprs_upper, color='grey', \n",
    "                     alpha=.2, label='$\\pm$ 1 std. dev.')\n",
    "    ax_.plot([0, 1], [0, 1], linestyle='--', lw=2, color='r', \n",
    "               label='Random', alpha=.8)\n",
    "    ax_.legend(loc='best', fancybox=True, framealpha=0.4)\n",
    "    ax_.set_title('ROC Curve: Base Clf: [{}] \\n Steps: [{}]'\n",
    "                  .format(clf_type, pp_steps), fontsize=14)\n",
    "    ax_.set_ylabel('True Positive Rate', fontsize=14)\n",
    "    ax_.set_xlabel('False Positive Rate', fontsize=14)\n",
    "    ax_.set_xlim([0.0,1.0])\n",
    "    ax_.set_ylim([0.0,1.0])\n",
    "    divider = make_axes_locatable(ax_)\n",
    "    fig = ax_.get_figure()\n",
    "    cax = divider.append_axes('right', size='5%', pad=0.05)\n",
    "    fig.colorbar(lc, cax=cax, orientation='vertical')"
   ]
  },
  {
   "cell_type": "code",
   "execution_count": null,
   "metadata": {},
   "outputs": [],
   "source": []
  },
  {
   "cell_type": "code",
   "execution_count": null,
   "metadata": {},
   "outputs": [],
   "source": []
  },
  {
   "cell_type": "code",
   "execution_count": null,
   "metadata": {},
   "outputs": [],
   "source": []
  },
  {
   "cell_type": "code",
   "execution_count": null,
   "metadata": {},
   "outputs": [],
   "source": []
  },
  {
   "cell_type": "code",
   "execution_count": null,
   "metadata": {},
   "outputs": [],
   "source": []
  },
  {
   "cell_type": "code",
   "execution_count": null,
   "metadata": {},
   "outputs": [],
   "source": []
  },
  {
   "cell_type": "code",
   "execution_count": null,
   "metadata": {},
   "outputs": [],
   "source": []
  },
  {
   "cell_type": "code",
   "execution_count": null,
   "metadata": {},
   "outputs": [],
   "source": []
  },
  {
   "cell_type": "code",
   "execution_count": null,
   "metadata": {},
   "outputs": [],
   "source": [
    "\n",
    "\n",
    "\n",
    "\n",
    "\n",
    "\n",
    "\n",
    "\n",
    "\n",
    "\n",
    "\n",
    "\n",
    "\n",
    "\n",
    "\n",
    "\n",
    "\n",
    "\n",
    "\n",
    "\n",
    "\n",
    "\n",
    "\n",
    "\n",
    "\n",
    "\n",
    "\n",
    "\n",
    "\n",
    "\n",
    "\n",
    "\n",
    "\n",
    "\n",
    "\n",
    "\n",
    "\n",
    "\n",
    "\n",
    "\n",
    "\n",
    "\n",
    "\n",
    "\n",
    "\n",
    "\n",
    "\n",
    "\n",
    "\n",
    "\n",
    "\n",
    "\n"
   ]
  }
 ],
 "metadata": {
  "anaconda-cloud": {},
  "kernelspec": {
   "display_name": "Python [default]",
   "language": "python",
   "name": "python3"
  },
  "language_info": {
   "codemirror_mode": {
    "name": "ipython",
    "version": 3
   },
   "file_extension": ".py",
   "mimetype": "text/x-python",
   "name": "python",
   "nbconvert_exporter": "python",
   "pygments_lexer": "ipython3",
   "version": "3.5.4"
  }
 },
 "nbformat": 4,
 "nbformat_minor": 2
}
