{
 "cells": [
  {
   "cell_type": "code",
   "execution_count": 4,
   "metadata": {
    "collapsed": true
   },
   "outputs": [],
   "source": [
    "import pandas as pd\n",
    "import matplotlib.pyplot as plt\n",
    "import seaborn as sns\n",
    "import numpy as np\n",
    "import copy\n",
    "import warnings\n",
    "from IPython.display import display"
   ]
  },
  {
   "cell_type": "markdown",
   "metadata": {},
   "source": [
    "Scatter Plots"
   ]
  },
  {
   "cell_type": "code",
   "execution_count": null,
   "metadata": {
    "collapsed": true
   },
   "outputs": [],
   "source": []
  },
  {
   "cell_type": "code",
   "execution_count": 5,
   "metadata": {
    "collapsed": false
   },
   "outputs": [
    {
     "data": {
      "text/plain": [
       "Index(['Class', 'Alcohol', 'Malic acid', 'Ash', 'Alcalinity of ash', 'Mg',\n",
       "       'Total phenols', 'Flavanoids', 'Nonflavanoid phenols',\n",
       "       'Proanthocyanins', 'Color intensity', 'Hue',\n",
       "       'OD280/OD315 of diluted wines', 'Proline'],\n",
       "      dtype='object')"
      ]
     },
     "metadata": {},
     "output_type": "display_data"
    },
    {
     "data": {
      "text/html": [
       "<div>\n",
       "<style>\n",
       "    .dataframe thead tr:only-child th {\n",
       "        text-align: right;\n",
       "    }\n",
       "\n",
       "    .dataframe thead th {\n",
       "        text-align: left;\n",
       "    }\n",
       "\n",
       "    .dataframe tbody tr th {\n",
       "        vertical-align: top;\n",
       "    }\n",
       "</style>\n",
       "<table border=\"1\" class=\"dataframe\">\n",
       "  <thead>\n",
       "    <tr style=\"text-align: right;\">\n",
       "      <th></th>\n",
       "      <th>Class</th>\n",
       "      <th>Alcohol</th>\n",
       "      <th>Malic acid</th>\n",
       "      <th>Ash</th>\n",
       "      <th>Alcalinity of ash</th>\n",
       "      <th>Mg</th>\n",
       "      <th>Total phenols</th>\n",
       "      <th>Flavanoids</th>\n",
       "      <th>Nonflavanoid phenols</th>\n",
       "      <th>Proanthocyanins</th>\n",
       "      <th>Color intensity</th>\n",
       "      <th>Hue</th>\n",
       "      <th>OD280/OD315 of diluted wines</th>\n",
       "      <th>Proline</th>\n",
       "    </tr>\n",
       "  </thead>\n",
       "  <tbody>\n",
       "    <tr>\n",
       "      <th>0</th>\n",
       "      <td>1</td>\n",
       "      <td>14.23</td>\n",
       "      <td>1.71</td>\n",
       "      <td>2.43</td>\n",
       "      <td>15.6</td>\n",
       "      <td>127</td>\n",
       "      <td>2.80</td>\n",
       "      <td>3.06</td>\n",
       "      <td>0.28</td>\n",
       "      <td>2.29</td>\n",
       "      <td>5.64</td>\n",
       "      <td>1.04</td>\n",
       "      <td>3.92</td>\n",
       "      <td>1065</td>\n",
       "    </tr>\n",
       "    <tr>\n",
       "      <th>1</th>\n",
       "      <td>1</td>\n",
       "      <td>13.20</td>\n",
       "      <td>1.78</td>\n",
       "      <td>2.14</td>\n",
       "      <td>11.2</td>\n",
       "      <td>100</td>\n",
       "      <td>2.65</td>\n",
       "      <td>2.76</td>\n",
       "      <td>0.26</td>\n",
       "      <td>1.28</td>\n",
       "      <td>4.38</td>\n",
       "      <td>1.05</td>\n",
       "      <td>3.40</td>\n",
       "      <td>1050</td>\n",
       "    </tr>\n",
       "    <tr>\n",
       "      <th>2</th>\n",
       "      <td>1</td>\n",
       "      <td>13.16</td>\n",
       "      <td>2.36</td>\n",
       "      <td>2.67</td>\n",
       "      <td>18.6</td>\n",
       "      <td>101</td>\n",
       "      <td>2.80</td>\n",
       "      <td>3.24</td>\n",
       "      <td>0.30</td>\n",
       "      <td>2.81</td>\n",
       "      <td>5.68</td>\n",
       "      <td>1.03</td>\n",
       "      <td>3.17</td>\n",
       "      <td>1185</td>\n",
       "    </tr>\n",
       "    <tr>\n",
       "      <th>3</th>\n",
       "      <td>1</td>\n",
       "      <td>14.37</td>\n",
       "      <td>1.95</td>\n",
       "      <td>2.50</td>\n",
       "      <td>16.8</td>\n",
       "      <td>113</td>\n",
       "      <td>3.85</td>\n",
       "      <td>3.49</td>\n",
       "      <td>0.24</td>\n",
       "      <td>2.18</td>\n",
       "      <td>7.80</td>\n",
       "      <td>0.86</td>\n",
       "      <td>3.45</td>\n",
       "      <td>1480</td>\n",
       "    </tr>\n",
       "    <tr>\n",
       "      <th>4</th>\n",
       "      <td>1</td>\n",
       "      <td>13.24</td>\n",
       "      <td>2.59</td>\n",
       "      <td>2.87</td>\n",
       "      <td>21.0</td>\n",
       "      <td>118</td>\n",
       "      <td>2.80</td>\n",
       "      <td>2.69</td>\n",
       "      <td>0.39</td>\n",
       "      <td>1.82</td>\n",
       "      <td>4.32</td>\n",
       "      <td>1.04</td>\n",
       "      <td>2.93</td>\n",
       "      <td>735</td>\n",
       "    </tr>\n",
       "  </tbody>\n",
       "</table>\n",
       "</div>"
      ],
      "text/plain": [
       "   Class  Alcohol  Malic acid   Ash  Alcalinity of ash   Mg  Total phenols  \\\n",
       "0      1    14.23        1.71  2.43               15.6  127           2.80   \n",
       "1      1    13.20        1.78  2.14               11.2  100           2.65   \n",
       "2      1    13.16        2.36  2.67               18.6  101           2.80   \n",
       "3      1    14.37        1.95  2.50               16.8  113           3.85   \n",
       "4      1    13.24        2.59  2.87               21.0  118           2.80   \n",
       "\n",
       "   Flavanoids  Nonflavanoid phenols  Proanthocyanins  Color intensity   Hue  \\\n",
       "0        3.06                  0.28             2.29             5.64  1.04   \n",
       "1        2.76                  0.26             1.28             4.38  1.05   \n",
       "2        3.24                  0.30             2.81             5.68  1.03   \n",
       "3        3.49                  0.24             2.18             7.80  0.86   \n",
       "4        2.69                  0.39             1.82             4.32  1.04   \n",
       "\n",
       "   OD280/OD315 of diluted wines  Proline  \n",
       "0                          3.92     1065  \n",
       "1                          3.40     1050  \n",
       "2                          3.17     1185  \n",
       "3                          3.45     1480  \n",
       "4                          2.93      735  "
      ]
     },
     "execution_count": 5,
     "metadata": {},
     "output_type": "execute_result"
    }
   ],
   "source": [
    "wine_df = pd.read_csv(\"wine.csv\")\n",
    "display(wine_df.columns)\n",
    "wine_df.head(5)"
   ]
  },
  {
   "cell_type": "markdown",
   "metadata": {},
   "source": [
    "KDE Plots"
   ]
  },
  {
   "cell_type": "code",
   "execution_count": 6,
   "metadata": {
    "collapsed": true
   },
   "outputs": [],
   "source": [
    "iris = sns.load_dataset(\"iris\")\n",
    "setosa = iris.loc[iris.species == \"setosa\"]\n",
    "virginica = iris.loc[iris.species == \"virginica\"]\n",
    "ax = sns.kdeplot(setosa.sepal_width, setosa.sepal_length,\n",
    "                 cmap=\"Reds\", shade=True, shade_lowest=False)\n",
    "ax = sns.kdeplot(virginica.sepal_width, virginica.sepal_length,\n",
    "                 cmap=\"Blues\", shade=True, shade_lowest=False)"
   ]
  },
  {
   "cell_type": "code",
   "execution_count": 7,
   "metadata": {
    "collapsed": true
   },
   "outputs": [],
   "source": [
    "# Still Developing this\n",
    "\n",
    "def kde_compare(cat1, cat2, cat3, feat1, feat2):\n",
    "    ax = sns.kdeplot(cat1[feat1], cat1[feat2], cmap=\"Blues\", shade=True, shade_lowest=False,\n",
    "                     legend=True)\n",
    "    ax = sns.kdeplot(cat2[feat1], cat2[feat2], cmap=\"Oranges\", shade=True, shade_lowest=False,\n",
    "                     legend=True)\n",
    "    ax = sns.kdeplot(cat3[feat1], cat3[feat2], cmap=\"Greens\", shade=True, shade_lowest=False, \n",
    "                     legend=True)"
   ]
  },
  {
   "cell_type": "code",
   "execution_count": 8,
   "metadata": {
    "collapsed": true
   },
   "outputs": [],
   "source": [
    "# sample that was being used with the above\n",
    "# feature_compare(wine_df, 'OD280/OD315 of diluted wines', 'Proline')\n",
    "wine_c1 = wine_df.loc[wine_df.Class == 1]\n",
    "wine_c2 = wine_df.loc[wine_df.Class == 2]\n",
    "wine_c3 = wine_df.loc[wine_df.Class == 3]\n",
    "\n",
    "# ax = sns.kdeplot(wine_c1['Proline'], wine_c1['Proline'],\n",
    "#                  cmap=\"Reds\", shade=True, shade_lowest=False)\n",
    "# ax = sns.kdeplot(virginica.sepal_width, virginica.sepal_length,\n",
    "#                  cmap=\"Blues\", shade=True, shade_lowest=False)\n",
    "\n",
    "kde_compare(wine_c1, wine_c2, wine_c3, 'Alcohol', 'Ash')"
   ]
  },
  {
   "cell_type": "markdown",
   "metadata": {},
   "source": [
    "## small-sample hypothesis test for independent population means\n",
    "\n",
    "The small-sample hypothesis test for independent population means (ie the paired t-test) is given by the equation below\n",
    "\n",
    "$$t=\\frac{\\big(\\bar{x}_1 - \\bar{x}_2\\big)-D_0}{\\sqrt{s_p^2\\big(\\frac{1}{n_1} + \\frac{1}{n_2}\\big)}}$$\n",
    "\n",
    "where sample variance for the pair, $s_p^2$ is given by \n",
    "\n",
    "$$s_p^2 = \\frac{\\big(n_1-1\\big)s_1^2 + \\big(n_2 -1\\big)s_2^2}{n_1+n_2-2}$$\n",
    "\n",
    "* tree_clf sample mean:         $\\bar{x}_1 = 0.91421$ \n",
    "* tree_clf sample variance:     $s_1^2 = 0.00092$\n",
    "* nb_gauss_clf sample mean:     $\\bar{x}_2 = 0.96885$\n",
    "* nb_gauss_clf sample variance: $s_2^2 = 0.00023$\n",
    "* pooled pop. variance est:     $s_p = \\frac{0.00092\\big(29\\big)+0.00023\\big(29\\big)}{58} = 0.000575$"
   ]
  },
  {
   "cell_type": "markdown",
   "metadata": {
    "collapsed": true
   },
   "source": [
    "# Still under development"
   ]
  },
  {
   "cell_type": "code",
   "execution_count": 10,
   "metadata": {
    "collapsed": false
   },
   "outputs": [],
   "source": [
    "# sns.swarmplot(x='Ash', y='Mg',hue='Class', data=wine_df)\n",
    "# iris = sns.load_dataset(\"iris\")\n",
    "tips = sns.load_dataset(\"tips\")\n",
    "tips\n",
    "# iris = pd.melt(iris, \"species\", var_name=\"measurement\")\n",
    "# iris\n",
    "# Draw a categorical scatterplot to show each observation\n",
    "# sns.swarmplot(x=\"measurement\", y=\"value\", hue=\"species\", data=iris)\n",
    "# sns.violinplot(x=wine_df['Class'], y=wine_df['Mg'], hue=wine_df['Class'], inner='points')\n",
    "# help(sns.violinplot)\n",
    "\n",
    "# fig, ax = plt.subplots(2,2,sharex='col', sharey='row')\n",
    "# fig=plt.figure(figsize=(6,6))\n",
    "# # help(plt.GridSpec)\n",
    "# grid = plt.GridSpec(2, 2, wspace=0.4, hspace=0.4)\n",
    "# plt.subplot(grid[0,0])\n",
    "# plt.subplot(grid[0, 1])\n",
    "# plt.subplot(grid[1, 0])\n",
    "# plt.subplot(grid[1, 1]);\n",
    "# help(plt.subplots)\n",
    "\n",
    "plt.figure(figsize=(12,12))\n",
    "ax1 = plt.subplot2grid((3,3), (0,0))\n",
    "ax2 = plt.subplot2grid((3,3), (1,0))\n",
    "ax4 = plt.subplot2grid((3,3), (1,1))\n",
    "sns.violinplot(x=wine_df['Class'], y=wine_df['Mg'], hue=wine_df['Class'], inner='points', ax=ax4)\n",
    "sns.violinplot(x=wine_df['Ash'], y=wine_df['Class'], hue=wine_df['Class'], inner='points', ax=ax1,\n",
    "               orient='h', legend=False)\n",
    "plt.tight_layout()\n",
    "l1 = ax1.legend(loc='best')\n",
    "l4 = ax4.legend(loc='best')\n",
    "# l.set_title()"
   ]
  },
  {
   "cell_type": "code",
   "execution_count": null,
   "metadata": {
    "collapsed": true
   },
   "outputs": [],
   "source": []
  },
  {
   "cell_type": "code",
   "execution_count": null,
   "metadata": {
    "collapsed": true
   },
   "outputs": [],
   "source": []
  },
  {
   "cell_type": "code",
   "execution_count": null,
   "metadata": {
    "collapsed": true
   },
   "outputs": [],
   "source": []
  },
  {
   "cell_type": "code",
   "execution_count": null,
   "metadata": {
    "collapsed": true
   },
   "outputs": [],
   "source": []
  },
  {
   "cell_type": "code",
   "execution_count": null,
   "metadata": {
    "collapsed": true
   },
   "outputs": [],
   "source": []
  },
  {
   "cell_type": "code",
   "execution_count": null,
   "metadata": {
    "collapsed": true
   },
   "outputs": [],
   "source": []
  }
 ],
 "metadata": {
  "anaconda-cloud": {},
  "kernelspec": {
   "display_name": "Python [default]",
   "language": "python",
   "name": "python3"
  },
  "language_info": {
   "codemirror_mode": {
    "name": "ipython",
    "version": 3
   },
   "file_extension": ".py",
   "mimetype": "text/x-python",
   "name": "python",
   "nbconvert_exporter": "python",
   "pygments_lexer": "ipython3",
   "version": "3.5.4"
  }
 },
 "nbformat": 4,
 "nbformat_minor": 2
}
