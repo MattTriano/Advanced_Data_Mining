{
 "cells": [
  {
   "cell_type": "code",
   "execution_count": 42,
   "metadata": {
    "collapsed": false
   },
   "outputs": [],
   "source": [
    "import pandas as pd\n",
    "import matplotlib.pyplot as plt\n",
    "import seaborn as sns\n",
    "import numpy as np\n",
    "import copy\n",
    "import warnings\n",
    "from scipy import stats\n",
    "from scipy.stats import t\n",
    "from IPython.display import display\n",
    "from sklearn import tree\n",
    "from sklearn import metrics\n",
    "from sklearn.metrics import accuracy_score\n",
    "from sklearn.feature_selection import SelectFromModel\n",
    "from sklearn.model_selection import GridSearchCV\n",
    "from sklearn.model_selection import train_test_split\n",
    "from sklearn import naive_bayes\n",
    "from sklearn import neighbors\n",
    "from sklearn import preprocessing\n",
    "%matplotlib inline"
   ]
  },
  {
   "cell_type": "code",
   "execution_count": 2,
   "metadata": {
    "collapsed": false
   },
   "outputs": [
    {
     "data": {
      "text/plain": [
       "Index(['Class', 'Alcohol', 'Malic acid', 'Ash', 'Alcalinity of ash', 'Mg',\n",
       "       'Total phenols', 'Flavanoids', 'Nonflavanoid phenols',\n",
       "       'Proanthocyanins', 'Color intensity', 'Hue',\n",
       "       'OD280/OD315 of diluted wines', 'Proline'],\n",
       "      dtype='object')"
      ]
     },
     "metadata": {},
     "output_type": "display_data"
    },
    {
     "data": {
      "text/html": [
       "<div>\n",
       "<style>\n",
       "    .dataframe thead tr:only-child th {\n",
       "        text-align: right;\n",
       "    }\n",
       "\n",
       "    .dataframe thead th {\n",
       "        text-align: left;\n",
       "    }\n",
       "\n",
       "    .dataframe tbody tr th {\n",
       "        vertical-align: top;\n",
       "    }\n",
       "</style>\n",
       "<table border=\"1\" class=\"dataframe\">\n",
       "  <thead>\n",
       "    <tr style=\"text-align: right;\">\n",
       "      <th></th>\n",
       "      <th>Class</th>\n",
       "      <th>Alcohol</th>\n",
       "      <th>Malic acid</th>\n",
       "      <th>Ash</th>\n",
       "      <th>Alcalinity of ash</th>\n",
       "      <th>Mg</th>\n",
       "      <th>Total phenols</th>\n",
       "      <th>Flavanoids</th>\n",
       "      <th>Nonflavanoid phenols</th>\n",
       "      <th>Proanthocyanins</th>\n",
       "      <th>Color intensity</th>\n",
       "      <th>Hue</th>\n",
       "      <th>OD280/OD315 of diluted wines</th>\n",
       "      <th>Proline</th>\n",
       "    </tr>\n",
       "  </thead>\n",
       "  <tbody>\n",
       "    <tr>\n",
       "      <th>0</th>\n",
       "      <td>1</td>\n",
       "      <td>14.23</td>\n",
       "      <td>1.71</td>\n",
       "      <td>2.43</td>\n",
       "      <td>15.6</td>\n",
       "      <td>127</td>\n",
       "      <td>2.80</td>\n",
       "      <td>3.06</td>\n",
       "      <td>0.28</td>\n",
       "      <td>2.29</td>\n",
       "      <td>5.64</td>\n",
       "      <td>1.04</td>\n",
       "      <td>3.92</td>\n",
       "      <td>1065</td>\n",
       "    </tr>\n",
       "    <tr>\n",
       "      <th>1</th>\n",
       "      <td>1</td>\n",
       "      <td>13.20</td>\n",
       "      <td>1.78</td>\n",
       "      <td>2.14</td>\n",
       "      <td>11.2</td>\n",
       "      <td>100</td>\n",
       "      <td>2.65</td>\n",
       "      <td>2.76</td>\n",
       "      <td>0.26</td>\n",
       "      <td>1.28</td>\n",
       "      <td>4.38</td>\n",
       "      <td>1.05</td>\n",
       "      <td>3.40</td>\n",
       "      <td>1050</td>\n",
       "    </tr>\n",
       "    <tr>\n",
       "      <th>2</th>\n",
       "      <td>1</td>\n",
       "      <td>13.16</td>\n",
       "      <td>2.36</td>\n",
       "      <td>2.67</td>\n",
       "      <td>18.6</td>\n",
       "      <td>101</td>\n",
       "      <td>2.80</td>\n",
       "      <td>3.24</td>\n",
       "      <td>0.30</td>\n",
       "      <td>2.81</td>\n",
       "      <td>5.68</td>\n",
       "      <td>1.03</td>\n",
       "      <td>3.17</td>\n",
       "      <td>1185</td>\n",
       "    </tr>\n",
       "    <tr>\n",
       "      <th>3</th>\n",
       "      <td>1</td>\n",
       "      <td>14.37</td>\n",
       "      <td>1.95</td>\n",
       "      <td>2.50</td>\n",
       "      <td>16.8</td>\n",
       "      <td>113</td>\n",
       "      <td>3.85</td>\n",
       "      <td>3.49</td>\n",
       "      <td>0.24</td>\n",
       "      <td>2.18</td>\n",
       "      <td>7.80</td>\n",
       "      <td>0.86</td>\n",
       "      <td>3.45</td>\n",
       "      <td>1480</td>\n",
       "    </tr>\n",
       "    <tr>\n",
       "      <th>4</th>\n",
       "      <td>1</td>\n",
       "      <td>13.24</td>\n",
       "      <td>2.59</td>\n",
       "      <td>2.87</td>\n",
       "      <td>21.0</td>\n",
       "      <td>118</td>\n",
       "      <td>2.80</td>\n",
       "      <td>2.69</td>\n",
       "      <td>0.39</td>\n",
       "      <td>1.82</td>\n",
       "      <td>4.32</td>\n",
       "      <td>1.04</td>\n",
       "      <td>2.93</td>\n",
       "      <td>735</td>\n",
       "    </tr>\n",
       "  </tbody>\n",
       "</table>\n",
       "</div>"
      ],
      "text/plain": [
       "   Class  Alcohol  Malic acid   Ash  Alcalinity of ash   Mg  Total phenols  \\\n",
       "0      1    14.23        1.71  2.43               15.6  127           2.80   \n",
       "1      1    13.20        1.78  2.14               11.2  100           2.65   \n",
       "2      1    13.16        2.36  2.67               18.6  101           2.80   \n",
       "3      1    14.37        1.95  2.50               16.8  113           3.85   \n",
       "4      1    13.24        2.59  2.87               21.0  118           2.80   \n",
       "\n",
       "   Flavanoids  Nonflavanoid phenols  Proanthocyanins  Color intensity   Hue  \\\n",
       "0        3.06                  0.28             2.29             5.64  1.04   \n",
       "1        2.76                  0.26             1.28             4.38  1.05   \n",
       "2        3.24                  0.30             2.81             5.68  1.03   \n",
       "3        3.49                  0.24             2.18             7.80  0.86   \n",
       "4        2.69                  0.39             1.82             4.32  1.04   \n",
       "\n",
       "   OD280/OD315 of diluted wines  Proline  \n",
       "0                          3.92     1065  \n",
       "1                          3.40     1050  \n",
       "2                          3.17     1185  \n",
       "3                          3.45     1480  \n",
       "4                          2.93      735  "
      ]
     },
     "execution_count": 2,
     "metadata": {},
     "output_type": "execute_result"
    }
   ],
   "source": [
    "# Loading the data set and splitting off the target feature, 'Class'\n",
    "wine_df = pd.read_csv(\"wine.csv\")\n",
    "wine_class_df = wine_df['Class']\n",
    "wine_data_df = wine_df.drop('Class', axis=1)\n",
    "display(wine_df.columns)\n",
    "wine_df.head(5)"
   ]
  },
  {
   "cell_type": "code",
   "execution_count": 3,
   "metadata": {
    "collapsed": false
   },
   "outputs": [
    {
     "data": {
      "text/plain": [
       "array([92975, 58067, 34086, 60620, 89460, 82584, 32399, 55985, 41239,\n",
       "        9449, 23706,  8222, 97963, 33950, 40684,  8060, 73498, 79222,\n",
       "       79728, 73180, 93509, 93520, 49398, 68094, 36271,  3824, 22267,\n",
       "       21580, 80165, 77734])"
      ]
     },
     "execution_count": 3,
     "metadata": {},
     "output_type": "execute_result"
    }
   ],
   "source": [
    "# Generating a consistent set of random seeds, so that my results are reproducible\n",
    "rng = np.random.RandomState(1234)\n",
    "random_seeds = rng.randint(low=0, high=99999, size=30)\n",
    "random_seeds"
   ]
  },
  {
   "cell_type": "code",
   "execution_count": 4,
   "metadata": {
    "collapsed": false
   },
   "outputs": [
    {
     "ename": "NameError",
     "evalue": "name 'tree_acc' is not defined",
     "output_type": "error",
     "traceback": [
      "\u001b[0;31m---------------------------------------------------------------------------\u001b[0m",
      "\u001b[0;31mNameError\u001b[0m                                 Traceback (most recent call last)",
      "\u001b[0;32m<ipython-input-4-f85d86e81f6d>\u001b[0m in \u001b[0;36m<module>\u001b[0;34m()\u001b[0m\n\u001b[1;32m      1\u001b[0m \u001b[1;31m# help(stats.t.ppf)\u001b[0m\u001b[1;33m\u001b[0m\u001b[1;33m\u001b[0m\u001b[0m\n\u001b[0;32m----> 2\u001b[0;31m \u001b[0mtmp\u001b[0m \u001b[1;33m=\u001b[0m \u001b[0mpd\u001b[0m\u001b[1;33m.\u001b[0m\u001b[0mSeries\u001b[0m\u001b[1;33m(\u001b[0m\u001b[0mtree_acc\u001b[0m\u001b[1;33m)\u001b[0m\u001b[1;33m\u001b[0m\u001b[0m\n\u001b[0m\u001b[1;32m      3\u001b[0m \u001b[0mt_crit\u001b[0m \u001b[1;33m=\u001b[0m \u001b[0mstats\u001b[0m\u001b[1;33m.\u001b[0m\u001b[0mt\u001b[0m\u001b[1;33m.\u001b[0m\u001b[0mppf\u001b[0m\u001b[1;33m(\u001b[0m\u001b[1;36m0.975\u001b[0m\u001b[1;33m,\u001b[0m \u001b[0mtmp\u001b[0m\u001b[1;33m)\u001b[0m\u001b[1;33m\u001b[0m\u001b[0m\n\u001b[1;32m      4\u001b[0m \u001b[0merr_margin\u001b[0m \u001b[1;33m=\u001b[0m \u001b[0mt_crit\u001b[0m \u001b[1;33m*\u001b[0m \u001b[0mtmp\u001b[0m\u001b[1;33m.\u001b[0m\u001b[0mstd\u001b[0m\u001b[1;33m(\u001b[0m\u001b[1;33m)\u001b[0m \u001b[1;33m/\u001b[0m \u001b[1;33m(\u001b[0m\u001b[0mlen\u001b[0m\u001b[1;33m(\u001b[0m\u001b[0mtmp\u001b[0m\u001b[1;33m)\u001b[0m \u001b[1;33m**\u001b[0m \u001b[1;36m0.5\u001b[0m\u001b[1;33m)\u001b[0m\u001b[1;33m\u001b[0m\u001b[0m\n\u001b[1;32m      5\u001b[0m \u001b[0merr_margin\u001b[0m\u001b[1;33m\u001b[0m\u001b[0m\n",
      "\u001b[0;31mNameError\u001b[0m: name 'tree_acc' is not defined"
     ]
    }
   ],
   "source": [
    "# help(stats.t.ppf)\n",
    "tmp = pd.Series(tree_acc)\n",
    "t_crit = stats.t.ppf(0.975, tmp)\n",
    "err_margin = t_crit * tmp.std() / (len(tmp) ** 0.5)\n",
    "err_margin"
   ]
  },
  {
   "cell_type": "code",
   "execution_count": 33,
   "metadata": {
    "collapsed": false
   },
   "outputs": [],
   "source": [
    "# This function calculates the total accuracy of 2 classifiers, clf1 and clf2, \n",
    "#  as well as the accuracy on the training data (which gives the resubstitution \n",
    "#  (resub) error) and accuracy on the testing data (which gives the \n",
    "#  generalization error).\n",
    "# Takes 2 classifiers that conform to the sklearn classifier interface, strings\n",
    "#  containing the names of the classifiers\n",
    "# data_df:  an array-like object containing \n",
    "def clf_comparison(clf1, clf1_name, clf2, clf2_name, data_df, class_df,\\\n",
    "                   test_size=0.34, printStats=True, n_trials=30, seed=1234):\n",
    "    rng = np.random.RandomState(seed)\n",
    "    random_seeds = rng.randint(low=0, high=99999, size=n_trials)\n",
    "    clf1_acc = [];       clf2_acc = []\n",
    "    clf1_resub_acc = []; clf2_resub_acc = []\n",
    "    clf1_gen_acc = [];   clf2_gen_acc = []\n",
    "    for i in range(n_trials):\n",
    "        data_train, data_test, class_train, class_test = \\\n",
    "                train_test_split(data_df, class_df, test_size=test_size, \\\n",
    "                                 random_state=random_seeds[i])\n",
    "        clf1_acc.append(clf_evaluation(clf1, data_train, data_test, class_train, class_test))\n",
    "        clf2_acc.append(clf_evaluation(clf2, data_train, data_test, class_train, class_test))\n",
    "    clf1_resub, clf1_gen = resub_and_gen_errors(clf1, data_train, data_test, class_train, class_test)\n",
    "    clf2_resub, clf2_gen = resub_and_gen_errors(clf2, data_train, data_test, class_train, class_test)\n",
    "    clf1_resub_acc.append(clf1_resub)\n",
    "    clf2_resub_acc.append(clf2_resub)\n",
    "    clf1_gen_acc.append(clf1_gen)\n",
    "    clf2_gen_acc.append(clf2_gen)\n",
    "    mean_var_CI_calculator(clf1_name, pd.Series(clf1_acc), test_size, printStats)\n",
    "    mean_var_CI_calculator(clf2_name, pd.Series(clf2_acc), test_size, printStats)\n",
    "    mean_var_CI_calculator(\"Difference of \" + clf1_name + \" and \" + clf2_name,\n",
    "                           (pd.Series(clf1_acc)-pd.Series(clf2_acc)).abs(),0.34, printStats)\n",
    "    return clf1_acc, clf2_acc, clf1_resub_acc, clf2_resub_acc, clf1_gen_acc, clf2_gen_acc\n",
    "                        \n",
    "# This executes a simple fit-predict-evaluate routine with a single data split.\n",
    "# classifier:   a classifier model that conforms to sklearns regular classifier interface\n",
    "# data/class_train/test: array-like containers holding corresponding data and class labels\n",
    "def clf_evaluation(classifier, data_train, data_test, class_train, class_test):\n",
    "    clf_fit = classifier.fit(data_train, class_train)\n",
    "    clf_pred = classifier.predict(data_test)\n",
    "    return accuracy_score(class_test, clf_pred)\n",
    "\n",
    "def resub_and_gen_errors(classifier, data_train, data_test, class_train, class_test):\n",
    "    classifier.fit(data_train, class_train)\n",
    "    resub_err = classifier.score(data_train, class_train)\n",
    "    gen_err = classifier.score(data_test, class_test)\n",
    "    return resub_err, gen_err\n",
    "\n",
    "# This calculates the mean accuracy, variance, and confidence interval and prints it\n",
    "def mean_var_CI_calculator(clf_name, clf_acc, test_size, printStats=True):\n",
    "    sample_mean = clf_acc.mean()\n",
    "    sample_var = clf_acc.var()\n",
    "    sample_std = clf_acc.std()\n",
    "    sample_size = len(clf_acc)\n",
    "    # we're using 30 data points, so it's fair to assume a normal distribution\n",
    "    z_crit = stats.norm.ppf(0.975)  \n",
    "    err_margin = z_crit * sample_std / (sample_size ** 0.5)\n",
    "    if printStats:        \n",
    "        print(\"Accuracy statistics For classifier: \" + clf_name + \" with \"\n",
    "          + str(test_size) + \"% holdout for testing\")\n",
    "        print(\"- Sample Size: {:5d}\".format(sample_size))\n",
    "        print(\"- Variance: {:5f}\".format(sample_var))\n",
    "        print(\"- StdDev: {:5f}\".format(sample_std))\n",
    "        print(\"- Mean:{:>12.5f} +/- {:0.5f}\".format(sample_mean, err_margin))\n",
    "        print(\"- 95% CI =   [{:0.4f}, {:0.4f}]\\n\".format(sample_mean-err_margin,\\\n",
    "                                                         sample_mean+err_margin))"
   ]
  },
  {
   "cell_type": "code",
   "execution_count": 34,
   "metadata": {
    "collapsed": true
   },
   "outputs": [],
   "source": [
    "# Using the Decision Tree Classifier parameters found via a GridSearch\n",
    "#   over 10 models and used for assignment 1\n",
    "tree_clf = tree.DecisionTreeClassifier(criterion='entropy',\n",
    "                                            max_depth=3,\n",
    "                                            min_samples_leaf=2,\n",
    "                                            min_samples_split=2,\n",
    "                                            random_state=1234)\n",
    "\n",
    "nb_gauss_clf = naive_bayes.GaussianNB()"
   ]
  },
  {
   "cell_type": "code",
   "execution_count": 35,
   "metadata": {
    "collapsed": false
   },
   "outputs": [
    {
     "name": "stdout",
     "output_type": "stream",
     "text": [
      "Accuracy statistics For classifier: tree_clf with 0.34% holdout for testing\n",
      "- Sample Size:    30\n",
      "- Variance: 0.000921\n",
      "- StdDev: 0.030345\n",
      "- Mean:     0.91421 +/- 0.01086\n",
      "- 95% CI =   [0.9033, 0.9251]\n",
      "\n",
      "Accuracy statistics For classifier: nb_gauss_clf with 0.34% holdout for testing\n",
      "- Sample Size:    30\n",
      "- Variance: 0.000229\n",
      "- StdDev: 0.015129\n",
      "- Mean:     0.96885 +/- 0.00541\n",
      "- 95% CI =   [0.9634, 0.9743]\n",
      "\n",
      "Accuracy statistics For classifier: Difference of tree_clf and nb_gauss_clf with 0.34% holdout for testing\n",
      "- Sample Size:    30\n",
      "- Variance: 0.000785\n",
      "- StdDev: 0.028011\n",
      "- Mean:     0.05464 +/- 0.01002\n",
      "- 95% CI =   [0.0446, 0.0647]\n",
      "\n"
     ]
    }
   ],
   "source": [
    "tree_acc, nb_gauss_acc, tree_resub_acc,\\\n",
    "nb_resub_acc, tree_gen_acc, nb_gen_acc = clf_comparison(tree_clf, \"tree_clf\",\n",
    "                                                        nb_gauss_clf, \"nb_gauss_clf\",\n",
    "                                                        wine_data_df, wine_class_df, \n",
    "                                                        0.34)"
   ]
  },
  {
   "cell_type": "markdown",
   "metadata": {},
   "source": [
    "The functions above used the same training and testing subsets to build a model for each classifier test the accuracy of both models. This process was repeated 30 times and the model accuracies were recorded to lists for their respective classifier. Then I calculated the above descriptive statistics for the both lists of accuracy values. \n",
    "\n",
    "To determine whether there's a statistically significant difference between the accuracies for these models, we'll perform a hypothesis test, and as we have 30 pairs (which is considered the lower bound for performing large-sample hypothesis tests) we'll perform a small-sample hypothesis test using Student's t-statistic. \n",
    "\n",
    "The small-sample hypothesis test for paired population means (ie the paired t-test) is given by the equation below\n",
    "\n",
    "$$t = \\frac{\\bar{x}_d-D_0}{\\frac{s_d}{\\sqrt{n_d}}}$$\n",
    "\n",
    "For our classifier accuracy data: \n",
    "* sample size $=n_d=30$ paired samples \n",
    "* sample mean difference        $\\bar{x}_d = 0.05464$ \n",
    "* Sample Stdev of diffs         $s_d = 0.02801$\n",
    "* Expected mean difference      $D_0$\n",
    "\n",
    "The null hypothesis ($H_0$) is that the mean accuracy for models is the same, (ie $H_0:\\mu_1 - \\mu_2 = D_0 0$), and the alternative hypotheses is that the accuracies differ (ie $H_a:\\mu_1 - \\mu_2 \\neq 0$).\n",
    "\n",
    "$$t=\\frac{(0.05464)-0}{\\frac{0.02801}{\\sqrt{30}}} = \\frac{(0.05464)-0}{0.00511} = 10.6846$$\n",
    "\n",
    "For $n=30$ and $\\alpha = 0.025$ (two tailed $95%$), the critical t value is 2.042. The calculated 10.6846 is far outside those bounds, so the difference in model accuracy is statistically significant.\n",
    "\n",
    "I also used the relative t-test evaluator in scipy's stats module, which calculated 10.6852, with a $p-val = 1.43 \\times 10^{-11}$, which matches the calculated result."
   ]
  },
  {
   "cell_type": "code",
   "execution_count": 23,
   "metadata": {
    "collapsed": false
   },
   "outputs": [
    {
     "data": {
      "text/plain": [
       "10.684598551261077"
      ]
     },
     "execution_count": 23,
     "metadata": {},
     "output_type": "execute_result"
    }
   ],
   "source": [
    "paired_t = 0.05464/(0.02801/(30**0.5))\n",
    "paired_t"
   ]
  },
  {
   "cell_type": "code",
   "execution_count": 24,
   "metadata": {
    "collapsed": false
   },
   "outputs": [
    {
     "data": {
      "text/plain": [
       "Ttest_relResult(statistic=10.685187333241123, pvalue=1.4369053553409192e-11)"
      ]
     },
     "execution_count": 24,
     "metadata": {},
     "output_type": "execute_result"
    }
   ],
   "source": [
    "stats.ttest_rel(nb_gauss_acc, tree_acc)"
   ]
  },
  {
   "cell_type": "markdown",
   "metadata": {
    "collapsed": false,
    "scrolled": false
   },
   "source": [
    "# 2: Varying the Training-Testing Split"
   ]
  },
  {
   "cell_type": "code",
   "execution_count": 98,
   "metadata": {
    "collapsed": false,
    "scrolled": false
   },
   "outputs": [
    {
     "data": {
      "text/html": [
       "<div>\n",
       "<style>\n",
       "    .dataframe thead tr:only-child th {\n",
       "        text-align: right;\n",
       "    }\n",
       "\n",
       "    .dataframe thead th {\n",
       "        text-align: left;\n",
       "    }\n",
       "\n",
       "    .dataframe tbody tr th {\n",
       "        vertical-align: top;\n",
       "    }\n",
       "</style>\n",
       "<table border=\"1\" class=\"dataframe\">\n",
       "  <thead>\n",
       "    <tr style=\"text-align: right;\">\n",
       "      <th></th>\n",
       "      <th>DTree Resubstitution Error</th>\n",
       "      <th>DTree Generalization Error</th>\n",
       "      <th>NB Resubstitution Error</th>\n",
       "      <th>NB Generalization Error</th>\n",
       "    </tr>\n",
       "  </thead>\n",
       "  <tbody>\n",
       "    <tr>\n",
       "      <th>0.75</th>\n",
       "      <td>0.149254</td>\n",
       "      <td>0.022727</td>\n",
       "      <td>0.037313</td>\n",
       "      <td>0.000000</td>\n",
       "    </tr>\n",
       "    <tr>\n",
       "      <th>0.65</th>\n",
       "      <td>0.155172</td>\n",
       "      <td>0.032258</td>\n",
       "      <td>0.017241</td>\n",
       "      <td>0.000000</td>\n",
       "    </tr>\n",
       "    <tr>\n",
       "      <th>0.55</th>\n",
       "      <td>0.132653</td>\n",
       "      <td>0.012500</td>\n",
       "      <td>0.030612</td>\n",
       "      <td>0.000000</td>\n",
       "    </tr>\n",
       "    <tr>\n",
       "      <th>0.45</th>\n",
       "      <td>0.172840</td>\n",
       "      <td>0.010309</td>\n",
       "      <td>0.024691</td>\n",
       "      <td>0.000000</td>\n",
       "    </tr>\n",
       "    <tr>\n",
       "      <th>0.35</th>\n",
       "      <td>0.079365</td>\n",
       "      <td>0.017391</td>\n",
       "      <td>0.015873</td>\n",
       "      <td>0.008696</td>\n",
       "    </tr>\n",
       "    <tr>\n",
       "      <th>0.25</th>\n",
       "      <td>0.066667</td>\n",
       "      <td>0.015038</td>\n",
       "      <td>0.022222</td>\n",
       "      <td>0.007519</td>\n",
       "    </tr>\n",
       "    <tr>\n",
       "      <th>0.15</th>\n",
       "      <td>0.074074</td>\n",
       "      <td>0.013245</td>\n",
       "      <td>0.037037</td>\n",
       "      <td>0.006623</td>\n",
       "    </tr>\n",
       "  </tbody>\n",
       "</table>\n",
       "</div>"
      ],
      "text/plain": [
       "      DTree Resubstitution Error  DTree Generalization Error  \\\n",
       "0.75                    0.149254                    0.022727   \n",
       "0.65                    0.155172                    0.032258   \n",
       "0.55                    0.132653                    0.012500   \n",
       "0.45                    0.172840                    0.010309   \n",
       "0.35                    0.079365                    0.017391   \n",
       "0.25                    0.066667                    0.015038   \n",
       "0.15                    0.074074                    0.013245   \n",
       "\n",
       "      NB Resubstitution Error  NB Generalization Error  \n",
       "0.75                 0.037313                 0.000000  \n",
       "0.65                 0.017241                 0.000000  \n",
       "0.55                 0.030612                 0.000000  \n",
       "0.45                 0.024691                 0.000000  \n",
       "0.35                 0.015873                 0.008696  \n",
       "0.25                 0.022222                 0.007519  \n",
       "0.15                 0.037037                 0.006623  "
      ]
     },
     "execution_count": 98,
     "metadata": {},
     "output_type": "execute_result"
    }
   ],
   "source": [
    "# TODO: Build a loop where the test size is varied and capture the resub and gen accs\n",
    "splits = [0.75, 0.65, 0.55, 0.45, 0.35, 0.25, 0.15]\n",
    "tree_resub_acc_list = []; tree_gen_acc_list = []\n",
    "nb_resub_acc_list = []; nb_gen_acc_list = []\n",
    "\n",
    "for split in splits:\n",
    "    tree_acc, nb_gauss_acc, tree_resub_acc, nb_resub_acc, tree_gen_acc, nb_gen_acc = \\\n",
    "            clf_comparison(tree_clf, \"tree_clf\", nb_gauss_clf, \"nb_gauss_clf\",\n",
    "                           wine_data_df, wine_class_df, split, False)\n",
    "    tree_resub_acc_list.extend(tree_resub_acc)\n",
    "    tree_gen_acc_list.extend(tree_gen_acc)\n",
    "    nb_resub_acc_list.extend(nb_resub_acc)\n",
    "    nb_gen_acc_list.extend(nb_gen_acc)\n",
    "    \n",
    "resub_gen_dict = {'DTree Training Data Acc' : tree_resub_acc_list,\n",
    "                  'DTree Testing Data Acc' : tree_gen_acc_list,\n",
    "                  'NB Training Data Acc' : nb_resub_acc_list,\n",
    "                  'NB Testing Data Acc' : nb_gen_acc_list}\n",
    "\n",
    "resub_gen_df = pd.DataFrame(resub_gen_dict, index=splits)\n",
    "# resub_gen_df\n",
    "# resub_gen_error_cols =\n",
    "# resub_gen_error_df = pd.DataFrame(data=1-resub_gen_df, columns=resub_gen_error_cols)\n",
    "resub_gen_error_df = 1-resub_gen_df\n",
    "resub_gen_error_df.columns = ['DTree Resubstitution Error', 'DTree Generalization Error',\n",
    "                              'NB Resubstitution Error', 'NB Generalization Error']\n",
    "resub_gen_error_df"
   ]
  },
  {
   "cell_type": "code",
   "execution_count": 103,
   "metadata": {
    "collapsed": false
   },
   "outputs": [
    {
     "data": {
      "image/png": "[encoded data removed]",
      "text/plain": [
       "<matplotlib.figure.Figure at 0x1cda9eb7240>"
      ]
     },
     "metadata": {},
     "output_type": "display_data"
    }
   ],
   "source": [
    "with plt.style.context('seaborn-whitegrid'):\n",
    "    fig, ax = plt.subplots(figsize=(11,7))\n",
    "    ax.plot(resub_gen_df.index, resub_gen_df['DTree Training Data Acc'])\n",
    "    ax.plot(resub_gen_df.index, resub_gen_df['DTree Testing Data Acc'])\n",
    "    ax.plot(resub_gen_df.index, resub_gen_df['NB Training Data Acc'])\n",
    "    ax.plot(resub_gen_df.index, resub_gen_df['NB Testing Data Acc'])\n",
    "    ax.legend(loc='lower left', frameon=False)\n",
    "    ax.set_xlabel('Proportion of Data Heldout for Test Set')\n",
    "    ax.set_ylabel('Model Accuracy [proportion]')\n",
    "    ax.set_ylim([0.6,1.01])\n",
    "    ax.set_title('Decision Tree and Naive Bayes Classifier Accuracy on Training and Testing Data')"
   ]
  },
  {
   "cell_type": "code",
   "execution_count": 111,
   "metadata": {
    "collapsed": false
   },
   "outputs": [
    {
     "data": {
      "image/png": "[encoded data removed]",
      "text/plain": [
       "<matplotlib.figure.Figure at 0x1cda9a22c88>"
      ]
     },
     "metadata": {},
     "output_type": "display_data"
    }
   ],
   "source": [
    "with plt.style.context('seaborn-whitegrid'):\n",
    "    fig, ax = plt.subplots(figsize=(11,7))\n",
    "    ax.plot(resub_gen_error_df.index, resub_gen_error_df['DTree Resubstitution Error'])\n",
    "    ax.plot(resub_gen_error_df.index, resub_gen_error_df['DTree Generalization Error'])\n",
    "    ax.plot(resub_gen_error_df.index, resub_gen_error_df['NB Resubstitution Error'])\n",
    "    ax.plot(resub_gen_error_df.index, resub_gen_error_df['NB Generalization Error'])\n",
    "    ax.legend(loc='upper right', frameon=False)\n",
    "    ax.set_xlabel('Proportion of Data Heldout for Test Set')\n",
    "    ax.set_ylabel('Error Rate [proportion]')\n",
    "    ax.set_ylim([-0.01,0.25])\n",
    "    ax.set_title('Resubstitution and Generalization Error for\\\n",
    "                  Decision Tree and Naive Bayes Classifiers')"
   ]
  },
  {
   "cell_type": "code",
   "execution_count": 62,
   "metadata": {
    "collapsed": false,
    "scrolled": true
   },
   "outputs": [
    {
     "name": "stdout",
     "output_type": "stream",
     "text": [
      "Help on function plot in module matplotlib.pyplot:\n",
      "\n",
      "plot(*args, **kwargs)\n",
      "    Plot lines and/or markers to the\n",
      "    :class:`~matplotlib.axes.Axes`.  *args* is a variable length\n",
      "    argument, allowing for multiple *x*, *y* pairs with an\n",
      "    optional format string.  For example, each of the following is\n",
      "    legal::\n",
      "    \n",
      "        plot(x, y)        # plot x and y using default line style and color\n",
      "        plot(x, y, 'bo')  # plot x and y using blue circle markers\n",
      "        plot(y)           # plot y using x as index array 0..N-1\n",
      "        plot(y, 'r+')     # ditto, but with red plusses\n",
      "    \n",
      "    If *x* and/or *y* is 2-dimensional, then the corresponding columns\n",
      "    will be plotted.\n",
      "    \n",
      "    If used with labeled data, make sure that the color spec is not\n",
      "    included as an element in data, as otherwise the last case\n",
      "    ``plot(\"v\",\"r\", data={\"v\":..., \"r\":...)``\n",
      "    can be interpreted as the first case which would do ``plot(v, r)``\n",
      "    using the default line style and color.\n",
      "    \n",
      "    If not used with labeled data (i.e., without a data argument),\n",
      "    an arbitrary number of *x*, *y*, *fmt* groups can be specified, as in::\n",
      "    \n",
      "        a.plot(x1, y1, 'g^', x2, y2, 'g-')\n",
      "    \n",
      "    Return value is a list of lines that were added.\n",
      "    \n",
      "    By default, each line is assigned a different style specified by a\n",
      "    'style cycle'.  To change this behavior, you can edit the\n",
      "    axes.prop_cycle rcParam.\n",
      "    \n",
      "    The following format string characters are accepted to control\n",
      "    the line style or marker:\n",
      "    \n",
      "    ================    ===============================\n",
      "    character           description\n",
      "    ================    ===============================\n",
      "    ``'-'``             solid line style\n",
      "    ``'--'``            dashed line style\n",
      "    ``'-.'``            dash-dot line style\n",
      "    ``':'``             dotted line style\n",
      "    ``'.'``             point marker\n",
      "    ``','``             pixel marker\n",
      "    ``'o'``             circle marker\n",
      "    ``'v'``             triangle_down marker\n",
      "    ``'^'``             triangle_up marker\n",
      "    ``'<'``             triangle_left marker\n",
      "    ``'>'``             triangle_right marker\n",
      "    ``'1'``             tri_down marker\n",
      "    ``'2'``             tri_up marker\n",
      "    ``'3'``             tri_left marker\n",
      "    ``'4'``             tri_right marker\n",
      "    ``'s'``             square marker\n",
      "    ``'p'``             pentagon marker\n",
      "    ``'*'``             star marker\n",
      "    ``'h'``             hexagon1 marker\n",
      "    ``'H'``             hexagon2 marker\n",
      "    ``'+'``             plus marker\n",
      "    ``'x'``             x marker\n",
      "    ``'D'``             diamond marker\n",
      "    ``'d'``             thin_diamond marker\n",
      "    ``'|'``             vline marker\n",
      "    ``'_'``             hline marker\n",
      "    ================    ===============================\n",
      "    \n",
      "    \n",
      "    The following color abbreviations are supported:\n",
      "    \n",
      "    ==========  ========\n",
      "    character   color\n",
      "    ==========  ========\n",
      "    'b'         blue\n",
      "    'g'         green\n",
      "    'r'         red\n",
      "    'c'         cyan\n",
      "    'm'         magenta\n",
      "    'y'         yellow\n",
      "    'k'         black\n",
      "    'w'         white\n",
      "    ==========  ========\n",
      "    \n",
      "    In addition, you can specify colors in many weird and\n",
      "    wonderful ways, including full names (``'green'``), hex\n",
      "    strings (``'#008000'``), RGB or RGBA tuples (``(0,1,0,1)``) or\n",
      "    grayscale intensities as a string (``'0.8'``).  Of these, the\n",
      "    string specifications can be used in place of a ``fmt`` group,\n",
      "    but the tuple forms can be used only as ``kwargs``.\n",
      "    \n",
      "    Line styles and colors are combined in a single format string, as in\n",
      "    ``'bo'`` for blue circles.\n",
      "    \n",
      "    The *kwargs* can be used to set line properties (any property that has\n",
      "    a ``set_*`` method).  You can use this to set a line label (for auto\n",
      "    legends), linewidth, anitialising, marker face color, etc.  Here is an\n",
      "    example::\n",
      "    \n",
      "        plot([1,2,3], [1,2,3], 'go-', label='line 1', linewidth=2)\n",
      "        plot([1,2,3], [1,4,9], 'rs',  label='line 2')\n",
      "        axis([0, 4, 0, 10])\n",
      "        legend()\n",
      "    \n",
      "    If you make multiple lines with one plot command, the kwargs\n",
      "    apply to all those lines, e.g.::\n",
      "    \n",
      "        plot(x1, y1, x2, y2, antialiased=False)\n",
      "    \n",
      "    Neither line will be antialiased.\n",
      "    \n",
      "    You do not need to use format strings, which are just\n",
      "    abbreviations.  All of the line properties can be controlled\n",
      "    by keyword arguments.  For example, you can set the color,\n",
      "    marker, linestyle, and markercolor with::\n",
      "    \n",
      "        plot(x, y, color='green', linestyle='dashed', marker='o',\n",
      "             markerfacecolor='blue', markersize=12).\n",
      "    \n",
      "    See :class:`~matplotlib.lines.Line2D` for details.\n",
      "    \n",
      "    The kwargs are :class:`~matplotlib.lines.Line2D` properties:\n",
      "    \n",
      "      agg_filter: unknown\n",
      "      alpha: float (0.0 transparent through 1.0 opaque) \n",
      "      animated: [True | False] \n",
      "      antialiased or aa: [True | False] \n",
      "      axes: an :class:`~matplotlib.axes.Axes` instance \n",
      "      clip_box: a :class:`matplotlib.transforms.Bbox` instance \n",
      "      clip_on: [True | False] \n",
      "      clip_path: [ (:class:`~matplotlib.path.Path`, :class:`~matplotlib.transforms.Transform`) | :class:`~matplotlib.patches.Patch` | None ] \n",
      "      color or c: any matplotlib color \n",
      "      contains: a callable function \n",
      "      dash_capstyle: ['butt' | 'round' | 'projecting'] \n",
      "      dash_joinstyle: ['miter' | 'round' | 'bevel'] \n",
      "      dashes: sequence of on/off ink in points \n",
      "      drawstyle: ['default' | 'steps' | 'steps-pre' | 'steps-mid' | 'steps-post'] \n",
      "      figure: a :class:`matplotlib.figure.Figure` instance \n",
      "      fillstyle: ['full' | 'left' | 'right' | 'bottom' | 'top' | 'none'] \n",
      "      gid: an id string \n",
      "      label: string or anything printable with '%s' conversion. \n",
      "      linestyle or ls: ['solid' | 'dashed', 'dashdot', 'dotted' | (offset, on-off-dash-seq) | ``'-'`` | ``'--'`` | ``'-.'`` | ``':'`` | ``'None'`` | ``' '`` | ``''``]\n",
      "      linewidth or lw: float value in points \n",
      "      marker: :mod:`A valid marker style <matplotlib.markers>`\n",
      "      markeredgecolor or mec: any matplotlib color \n",
      "      markeredgewidth or mew: float value in points \n",
      "      markerfacecolor or mfc: any matplotlib color \n",
      "      markerfacecoloralt or mfcalt: any matplotlib color \n",
      "      markersize or ms: float \n",
      "      markevery: [None | int | length-2 tuple of int | slice | list/array of int | float | length-2 tuple of float]\n",
      "      path_effects: unknown\n",
      "      picker: float distance in points or callable pick function ``fn(artist, event)`` \n",
      "      pickradius: float distance in points \n",
      "      rasterized: [True | False | None] \n",
      "      sketch_params: unknown\n",
      "      snap: unknown\n",
      "      solid_capstyle: ['butt' | 'round' |  'projecting'] \n",
      "      solid_joinstyle: ['miter' | 'round' | 'bevel'] \n",
      "      transform: a :class:`matplotlib.transforms.Transform` instance \n",
      "      url: a url string \n",
      "      visible: [True | False] \n",
      "      xdata: 1D array \n",
      "      ydata: 1D array \n",
      "      zorder: any number \n",
      "    \n",
      "    kwargs *scalex* and *scaley*, if defined, are passed on to\n",
      "    :meth:`~matplotlib.axes.Axes.autoscale_view` to determine\n",
      "    whether the *x* and *y* axes are autoscaled; the default is\n",
      "    *True*.\n",
      "    \n",
      "    .. note::\n",
      "        In addition to the above described arguments, this function can take a\n",
      "        **data** keyword argument. If such a **data** argument is given, the\n",
      "        following arguments are replaced by **data[<arg>]**:\n",
      "    \n",
      "        * All arguments with the following names: 'x', 'y'.\n",
      "\n"
     ]
    }
   ],
   "source": [
    "help(plt.plot)\n",
    "# help(pd.DataFrame)"
   ]
  },
  {
   "cell_type": "code",
   "execution_count": 72,
   "metadata": {
    "collapsed": false
   },
   "outputs": [
    {
     "data": {
      "text/plain": [
       "['ggplot',\n",
       " 'seaborn-white',\n",
       " 'seaborn-muted',\n",
       " 'seaborn-darkgrid',\n",
       " 'classic',\n",
       " '_classic_test',\n",
       " 'seaborn-poster',\n",
       " 'bmh',\n",
       " 'seaborn-notebook',\n",
       " 'seaborn-talk',\n",
       " 'fivethirtyeight',\n",
       " 'seaborn-deep',\n",
       " 'grayscale',\n",
       " 'seaborn-ticks',\n",
       " 'seaborn-whitegrid',\n",
       " 'dark_background',\n",
       " 'seaborn-colorblind',\n",
       " 'seaborn',\n",
       " 'seaborn-bright',\n",
       " 'seaborn-pastel',\n",
       " 'seaborn-dark-palette',\n",
       " 'seaborn-paper',\n",
       " 'seaborn-dark']"
      ]
     },
     "execution_count": 72,
     "metadata": {},
     "output_type": "execute_result"
    }
   ],
   "source": [
    "plt.style.available"
   ]
  },
  {
   "cell_type": "code",
   "execution_count": null,
   "metadata": {
    "collapsed": true
   },
   "outputs": [],
   "source": []
  },
  {
   "cell_type": "code",
   "execution_count": null,
   "metadata": {
    "collapsed": true
   },
   "outputs": [],
   "source": []
  },
  {
   "cell_type": "code",
   "execution_count": null,
   "metadata": {
    "collapsed": true
   },
   "outputs": [],
   "source": []
  },
  {
   "cell_type": "code",
   "execution_count": null,
   "metadata": {
    "collapsed": true
   },
   "outputs": [],
   "source": []
  },
  {
   "cell_type": "code",
   "execution_count": null,
   "metadata": {
    "collapsed": true
   },
   "outputs": [],
   "source": []
  },
  {
   "cell_type": "code",
   "execution_count": null,
   "metadata": {
    "collapsed": true
   },
   "outputs": [],
   "source": [
    "\n",
    "\n",
    "\n",
    "\n",
    "\n",
    "\n",
    "\n",
    "\n",
    "\n",
    "\n",
    "\n",
    "\n",
    "\n",
    "\n",
    "\n",
    "\n",
    "\n",
    "\n",
    "\n",
    "\n",
    "\n",
    "\n",
    "\n",
    "\n",
    "\n",
    "\n",
    "\n",
    "\n",
    "\n",
    "\n",
    "\n",
    "\n",
    "\n",
    "\n",
    "\n",
    "\n",
    "\n",
    "\n",
    "\n",
    "\n",
    "\n",
    "\n",
    "\n",
    "\n",
    "\n",
    "\n",
    "\n",
    "\n"
   ]
  }
 ],
 "metadata": {
  "anaconda-cloud": {},
  "kernelspec": {
   "display_name": "Python [default]",
   "language": "python",
   "name": "python3"
  },
  "language_info": {
   "codemirror_mode": {
    "name": "ipython",
    "version": 3
   },
   "file_extension": ".py",
   "mimetype": "text/x-python",
   "name": "python",
   "nbconvert_exporter": "python",
   "pygments_lexer": "ipython3",
   "version": "3.5.4"
  }
 },
 "nbformat": 4,
 "nbformat_minor": 2
}
