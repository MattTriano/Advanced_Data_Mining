{
 "cells": [
  {
   "cell_type": "code",
   "execution_count": 22,
   "metadata": {
    "collapsed": false
   },
   "outputs": [],
   "source": [
    "import pandas as pd\n",
    "import matplotlib.pyplot as plt\n",
    "import seaborn as sns\n",
    "import numpy as np\n",
    "import copy\n",
    "import warnings\n",
    "from scipy import stats\n",
    "from IPython.display import display\n",
    "from sklearn import tree\n",
    "from sklearn import metrics\n",
    "from sklearn.metrics import accuracy_score\n",
    "from sklearn.feature_selection import SelectFromModel\n",
    "from sklearn.model_selection import GridSearchCV\n",
    "from sklearn.model_selection import train_test_split\n",
    "from sklearn import naive_bayes\n",
    "from sklearn import neighbors\n",
    "from sklearn import preprocessing"
   ]
  },
  {
   "cell_type": "code",
   "execution_count": 7,
   "metadata": {
    "collapsed": false
   },
   "outputs": [
    {
     "data": {
      "text/plain": [
       "Index(['Class', 'Alcohol', 'Malic acid', 'Ash', 'Alcalinity of ash', 'Mg',\n",
       "       'Total phenols', 'Flavanoids', 'Nonflavanoid phenols',\n",
       "       'Proanthocyanins', 'Color intensity', 'Hue',\n",
       "       'OD280/OD315 of diluted wines', 'Proline'],\n",
       "      dtype='object')"
      ]
     },
     "metadata": {},
     "output_type": "display_data"
    },
    {
     "data": {
      "text/html": [
       "<div>\n",
       "<style>\n",
       "    .dataframe thead tr:only-child th {\n",
       "        text-align: right;\n",
       "    }\n",
       "\n",
       "    .dataframe thead th {\n",
       "        text-align: left;\n",
       "    }\n",
       "\n",
       "    .dataframe tbody tr th {\n",
       "        vertical-align: top;\n",
       "    }\n",
       "</style>\n",
       "<table border=\"1\" class=\"dataframe\">\n",
       "  <thead>\n",
       "    <tr style=\"text-align: right;\">\n",
       "      <th></th>\n",
       "      <th>Class</th>\n",
       "      <th>Alcohol</th>\n",
       "      <th>Malic acid</th>\n",
       "      <th>Ash</th>\n",
       "      <th>Alcalinity of ash</th>\n",
       "      <th>Mg</th>\n",
       "      <th>Total phenols</th>\n",
       "      <th>Flavanoids</th>\n",
       "      <th>Nonflavanoid phenols</th>\n",
       "      <th>Proanthocyanins</th>\n",
       "      <th>Color intensity</th>\n",
       "      <th>Hue</th>\n",
       "      <th>OD280/OD315 of diluted wines</th>\n",
       "      <th>Proline</th>\n",
       "    </tr>\n",
       "  </thead>\n",
       "  <tbody>\n",
       "    <tr>\n",
       "      <th>0</th>\n",
       "      <td>1</td>\n",
       "      <td>14.23</td>\n",
       "      <td>1.71</td>\n",
       "      <td>2.43</td>\n",
       "      <td>15.6</td>\n",
       "      <td>127</td>\n",
       "      <td>2.80</td>\n",
       "      <td>3.06</td>\n",
       "      <td>0.28</td>\n",
       "      <td>2.29</td>\n",
       "      <td>5.64</td>\n",
       "      <td>1.04</td>\n",
       "      <td>3.92</td>\n",
       "      <td>1065</td>\n",
       "    </tr>\n",
       "    <tr>\n",
       "      <th>1</th>\n",
       "      <td>1</td>\n",
       "      <td>13.20</td>\n",
       "      <td>1.78</td>\n",
       "      <td>2.14</td>\n",
       "      <td>11.2</td>\n",
       "      <td>100</td>\n",
       "      <td>2.65</td>\n",
       "      <td>2.76</td>\n",
       "      <td>0.26</td>\n",
       "      <td>1.28</td>\n",
       "      <td>4.38</td>\n",
       "      <td>1.05</td>\n",
       "      <td>3.40</td>\n",
       "      <td>1050</td>\n",
       "    </tr>\n",
       "    <tr>\n",
       "      <th>2</th>\n",
       "      <td>1</td>\n",
       "      <td>13.16</td>\n",
       "      <td>2.36</td>\n",
       "      <td>2.67</td>\n",
       "      <td>18.6</td>\n",
       "      <td>101</td>\n",
       "      <td>2.80</td>\n",
       "      <td>3.24</td>\n",
       "      <td>0.30</td>\n",
       "      <td>2.81</td>\n",
       "      <td>5.68</td>\n",
       "      <td>1.03</td>\n",
       "      <td>3.17</td>\n",
       "      <td>1185</td>\n",
       "    </tr>\n",
       "    <tr>\n",
       "      <th>3</th>\n",
       "      <td>1</td>\n",
       "      <td>14.37</td>\n",
       "      <td>1.95</td>\n",
       "      <td>2.50</td>\n",
       "      <td>16.8</td>\n",
       "      <td>113</td>\n",
       "      <td>3.85</td>\n",
       "      <td>3.49</td>\n",
       "      <td>0.24</td>\n",
       "      <td>2.18</td>\n",
       "      <td>7.80</td>\n",
       "      <td>0.86</td>\n",
       "      <td>3.45</td>\n",
       "      <td>1480</td>\n",
       "    </tr>\n",
       "    <tr>\n",
       "      <th>4</th>\n",
       "      <td>1</td>\n",
       "      <td>13.24</td>\n",
       "      <td>2.59</td>\n",
       "      <td>2.87</td>\n",
       "      <td>21.0</td>\n",
       "      <td>118</td>\n",
       "      <td>2.80</td>\n",
       "      <td>2.69</td>\n",
       "      <td>0.39</td>\n",
       "      <td>1.82</td>\n",
       "      <td>4.32</td>\n",
       "      <td>1.04</td>\n",
       "      <td>2.93</td>\n",
       "      <td>735</td>\n",
       "    </tr>\n",
       "  </tbody>\n",
       "</table>\n",
       "</div>"
      ],
      "text/plain": [
       "   Class  Alcohol  Malic acid   Ash  Alcalinity of ash   Mg  Total phenols  \\\n",
       "0      1    14.23        1.71  2.43               15.6  127           2.80   \n",
       "1      1    13.20        1.78  2.14               11.2  100           2.65   \n",
       "2      1    13.16        2.36  2.67               18.6  101           2.80   \n",
       "3      1    14.37        1.95  2.50               16.8  113           3.85   \n",
       "4      1    13.24        2.59  2.87               21.0  118           2.80   \n",
       "\n",
       "   Flavanoids  Nonflavanoid phenols  Proanthocyanins  Color intensity   Hue  \\\n",
       "0        3.06                  0.28             2.29             5.64  1.04   \n",
       "1        2.76                  0.26             1.28             4.38  1.05   \n",
       "2        3.24                  0.30             2.81             5.68  1.03   \n",
       "3        3.49                  0.24             2.18             7.80  0.86   \n",
       "4        2.69                  0.39             1.82             4.32  1.04   \n",
       "\n",
       "   OD280/OD315 of diluted wines  Proline  \n",
       "0                          3.92     1065  \n",
       "1                          3.40     1050  \n",
       "2                          3.17     1185  \n",
       "3                          3.45     1480  \n",
       "4                          2.93      735  "
      ]
     },
     "execution_count": 7,
     "metadata": {},
     "output_type": "execute_result"
    }
   ],
   "source": [
    "# Loading the data set and splitting off the target feature, 'Class'\n",
    "wine_df = pd.read_csv(\"wine.csv\")\n",
    "wine_class_df = wine_df['Class']\n",
    "wine_data_df = wine_df.drop('Class', axis=1)\n",
    "display(wine_df.columns)\n",
    "wine_df.head(5)"
   ]
  },
  {
   "cell_type": "code",
   "execution_count": 26,
   "metadata": {
    "collapsed": false
   },
   "outputs": [
    {
     "data": {
      "text/plain": [
       "array([92975, 58067, 34086, 60620, 89460, 82584, 32399, 55985, 41239,\n",
       "        9449, 23706,  8222, 97963, 33950, 40684,  8060, 73498, 79222,\n",
       "       79728, 73180, 93509, 93520, 49398, 68094, 36271,  3824, 22267,\n",
       "       21580, 80165, 77734])"
      ]
     },
     "execution_count": 26,
     "metadata": {},
     "output_type": "execute_result"
    }
   ],
   "source": [
    "# Generating a consistent set of random seeds, so that my results are reproducible\n",
    "rng = np.random.RandomState(1234)\n",
    "random_seeds = rng.randint(low=0, high=99999, size=30)\n",
    "random_seeds"
   ]
  },
  {
   "cell_type": "code",
   "execution_count": 191,
   "metadata": {
    "collapsed": false
   },
   "outputs": [],
   "source": [
    "# This function compares 2 classifiers\n",
    "def clf_comparison(clf1, clf1_name, clf2, clf2_name, data_df, class_df, test_size=0.34, n_trials=30, seed=1234):\n",
    "    rng = np.random.RandomState(seed)\n",
    "    random_seeds = rng.randint(low=0, high=99999, size=n_trials)\n",
    "    clf1_acc = []\n",
    "    clf2_acc = []\n",
    "    for i in range(n_trials):\n",
    "        data_train, data_test, class_train, class_test = train_test_split(data_df, class_df, test_size=test_size,\n",
    "                                                                      random_state=random_seeds[i])\n",
    "        clf1_acc.append(clf_evaluation(clf1, data_train, data_test, class_train, class_test))\n",
    "        clf2_acc.append(clf_evaluation(clf2, data_train, data_test, class_train, class_test))\n",
    "    mean_var_CI_calculator(clf1_name, pd.Series(clf1_acc), test_size)\n",
    "    mean_var_CI_calculator(clf2_name, pd.Series(clf2_acc), test_size)\n",
    "    return clf1_acc, clf2_acc\n",
    "                        \n",
    "# This executes a simple fit-predict-evaluate routine with a single data split.\n",
    "# classifier:   a classifier model that conforms to sklearns regular classifier interface\n",
    "# data/class_train/test: array-like containers holding corresponding data and class labels\n",
    "def clf_evaluation(classifier, data_train, data_test, class_train, class_test):\n",
    "    clf_fit = classifier.fit(data_train, class_train)\n",
    "    clf_pred = classifier.predict(data_test)\n",
    "    return accuracy_score(class_test, clf_pred)\n",
    "\n",
    "# This calculates the mean accuracy, variance, and confidence interval and prints it\n",
    "def mean_var_CI_calculator(clf_name, clf_acc, test_size):\n",
    "    sample_mean = clf_acc.mean()\n",
    "    sample_var = clf_acc.var()\n",
    "    sample_std = clf_acc.std()\n",
    "    sample_size = len(clf_acc)\n",
    "    z_crit = stats.norm.ppf(q = 0.975)\n",
    "    err_margin = z_crit * sample_std / (sample_size ** 0.5)\n",
    "    print(\"Accuracy statistics For classifier: \" + clf_name + \" with \"\n",
    "          + str(test_size) + \"% holdout for testing\")\n",
    "    print(\"\"\"    Sample Size:{:5d}\n",
    "    Variance:{:>8.5f}\n",
    "    Mean:{:>12.5f} +/- {:0.5f}\n",
    "    95% CI =   [{:0.4f}, {:0.4f}] \\n\"\"\"\n",
    "          .format(sample_size,\n",
    "                  sample_var,\n",
    "                  sample_mean,\n",
    "                  err_margin,\n",
    "                  sample_mean-err_margin,\n",
    "                  sample_mean+err_margin))"
   ]
  },
  {
   "cell_type": "code",
   "execution_count": 192,
   "metadata": {
    "collapsed": true
   },
   "outputs": [],
   "source": [
    "# Using the Decision Tree Classifier parameters found via a GridSearch\n",
    "#   over 10 models and used for assignment 1\n",
    "tree_clf = tree.DecisionTreeClassifier(criterion='entropy',\n",
    "                                            max_depth=3,\n",
    "                                            min_samples_leaf=2,\n",
    "                                            min_samples_split=2,\n",
    "                                            random_state=1234)\n",
    "\n",
    "nb_gauss_clf = naive_bayes.GaussianNB()"
   ]
  },
  {
   "cell_type": "code",
   "execution_count": 193,
   "metadata": {
    "collapsed": false
   },
   "outputs": [
    {
     "name": "stdout",
     "output_type": "stream",
     "text": [
      "Accuracy statistics For classifier: tree_clf with 0.34% holdout for testing\n",
      "    Sample Size:   30\n",
      "    Variance: 0.00092\n",
      "    Mean:     0.91421 +/- 0.01086\n",
      "    95% CI =   [0.9033, 0.9251] \n",
      "\n",
      "Accuracy statistics For classifier: nb_gauss_clf with 0.34% holdout for testing\n",
      "    Sample Size:   30\n",
      "    Variance: 0.00023\n",
      "    Mean:     0.96885 +/- 0.00541\n",
      "    95% CI =   [0.9634, 0.9743] \n",
      "\n"
     ]
    }
   ],
   "source": [
    "tree_acc, nb_gauss_acc = clf_comparison(tree_clf, \"tree_clf\",\n",
    "                                        nb_gauss_clf, \"nb_gauss_clf\",\n",
    "                                        wine_data_df, wine_class_df)"
   ]
  },
  {
   "cell_type": "markdown",
   "metadata": {},
   "source": [
    "The functions above used the same training and testing subsets to build a model for each classifier test the accuracy of both models. This process was repeated 30 times and the model accuracies were recorded to lists for their respective classifier. Then I calculated the above descriptive statistics for the both lists of accuracy values. \n",
    "\n",
    "To determine whether there's a statistically significant difference between the accuracies for these models, we'll perform a hypothesis test, and as we have 30 pairs (which is considered the lower bound for performing large-sample hypothesis tests) we'll perform a small-sample hypothesis test using Student's t-statistic. \n",
    "\n",
    "The small-sample hypothesis test for paired population means (ie the paired t-test) is given by the equation below\n",
    "\n",
    "$$t=\\frac{\\big(\\bar{x}_1 - \\bar{x}_2\\big)-D_0}{\\sqrt{s_p^2\\big(\\frac{1}{n_1} + \\frac{1}{n_2}\\big)}}$$\n",
    "\n",
    "where sample variance for the pair, $s_p^2$ is given by \n",
    "\n",
    "$$s_p^2 = \\frac{\\big(n_1-1\\big)s_1^2 + \\big(n_2 -1\\big)s_2^2}{n_1+n_2-2}$$\n",
    "\n",
    "For our classifier accuracy data: \n",
    "* sample size $=n_1=n_2=30$ samples \n",
    "* tree_clf sample mean:         $\\bar{x}_1 = 0.91421$ \n",
    "* tree_clf sample variance:     $s_1^2 = 0.00092$\n",
    "* nb_gauss_clf sample mean:     $\\bar{x}_2 = 0.96885$\n",
    "* nb_gauss_clf sample variance: $s_2^2 = 0.00023$\n",
    "* pooled pop. variance est:     $s_p = \\frac{0.00092\\big(29\\big)+0.00023\\big(29\\big)}{58} = 0.000575$\n",
    "\n",
    "The null hypothesis ($H_0$) is that the mean accuracy for models is the same, (ie $H_0:\\mu_1 - \\mu_2 = 0$), and the alternative hypotheses is that the accuracies differ (ie $H_a:\\mu_1 - \\mu_2 \\neq 0$).\n",
    "\n",
    "$$t=\\frac{\\big(0.91421 - 0.96885\\big)-0}{\\sqrt{0.000575\\big(\\frac{1}{30} + \\frac{1}{30}\\big)}}$$\n",
    "\n",
    "This value is also given by the "
   ]
  },
  {
   "cell_type": "code",
   "execution_count": 199,
   "metadata": {
    "collapsed": false
   },
   "outputs": [
    {
     "data": {
      "text/plain": [
       "-8.825156138537452"
      ]
     },
     "execution_count": 199,
     "metadata": {},
     "output_type": "execute_result"
    }
   ],
   "source": [
    "sp_sq = ((0.00092*29)+(0.00023*29))/58\n",
    "paired_t = (0.91421-0.96885-0)/((0.000575*(2/30))**0.5)\n",
    "paired_t"
   ]
  },
  {
   "cell_type": "code",
   "execution_count": 200,
   "metadata": {
    "collapsed": false
   },
   "outputs": [
    {
     "data": {
      "text/plain": [
       "Ttest_indResult(statistic=-8.8269530081970586, pvalue=2.5620615813813117e-12)"
      ]
     },
     "execution_count": 200,
     "metadata": {},
     "output_type": "execute_result"
    }
   ],
   "source": [
    "stats.ttest_ind(tree_acc, nb_gauss_acc)"
   ]
  },
  {
   "cell_type": "code",
   "execution_count": 128,
   "metadata": {
    "collapsed": false,
    "scrolled": false
   },
   "outputs": [
    {
     "name": "stdout",
     "output_type": "stream",
     "text": [
      "Help on built-in function format in module builtins:\n",
      "\n",
      "format(value, format_spec='', /)\n",
      "    Return value.__format__(format_spec)\n",
      "    \n",
      "    format_spec defaults to the empty string\n",
      "\n"
     ]
    }
   ],
   "source": [
    "help(format)"
   ]
  },
  {
   "cell_type": "code",
   "execution_count": null,
   "metadata": {
    "collapsed": true
   },
   "outputs": [],
   "source": []
  },
  {
   "cell_type": "code",
   "execution_count": null,
   "metadata": {
    "collapsed": true
   },
   "outputs": [],
   "source": []
  },
  {
   "cell_type": "code",
   "execution_count": null,
   "metadata": {
    "collapsed": true
   },
   "outputs": [],
   "source": []
  },
  {
   "cell_type": "code",
   "execution_count": null,
   "metadata": {
    "collapsed": true
   },
   "outputs": [],
   "source": []
  },
  {
   "cell_type": "code",
   "execution_count": null,
   "metadata": {
    "collapsed": true
   },
   "outputs": [],
   "source": []
  },
  {
   "cell_type": "code",
   "execution_count": null,
   "metadata": {
    "collapsed": true
   },
   "outputs": [],
   "source": []
  },
  {
   "cell_type": "code",
   "execution_count": null,
   "metadata": {
    "collapsed": true
   },
   "outputs": [],
   "source": [
    "\n",
    "\n",
    "\n",
    "\n",
    "\n",
    "\n",
    "\n",
    "\n",
    "\n",
    "\n",
    "\n",
    "\n",
    "\n",
    "\n",
    "\n",
    "\n",
    "\n",
    "\n",
    "\n",
    "\n",
    "\n",
    "\n",
    "\n",
    "\n",
    "\n",
    "\n",
    "\n",
    "\n",
    "\n",
    "\n",
    "\n",
    "\n",
    "\n",
    "\n",
    "\n",
    "\n",
    "\n",
    "\n",
    "\n",
    "\n",
    "\n",
    "\n",
    "\n",
    "\n",
    "\n",
    "\n",
    "\n",
    "\n"
   ]
  }
 ],
 "metadata": {
  "anaconda-cloud": {},
  "kernelspec": {
   "display_name": "Python [default]",
   "language": "python",
   "name": "python3"
  },
  "language_info": {
   "codemirror_mode": {
    "name": "ipython",
    "version": 3
   },
   "file_extension": ".py",
   "mimetype": "text/x-python",
   "name": "python",
   "nbconvert_exporter": "python",
   "pygments_lexer": "ipython3",
   "version": "3.5.4"
  }
 },
 "nbformat": 4,
 "nbformat_minor": 2
}
