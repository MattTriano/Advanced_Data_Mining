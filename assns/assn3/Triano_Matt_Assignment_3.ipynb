{
 "cells": [
  {
   "cell_type": "markdown",
   "metadata": {},
   "source": [
    "# CSC 529 Assignment 3\n",
    "## Matt Triano"
   ]
  },
  {
   "cell_type": "code",
   "execution_count": 93,
   "metadata": {},
   "outputs": [],
   "source": [
    "import pandas as pd\n",
    "import matplotlib.pyplot as plt\n",
    "import seaborn as sns\n",
    "import numpy as np\n",
    "import copy\n",
    "import warnings\n",
    "from IPython.display import display\n",
    "from sklearn import metrics\n",
    "from sklearn import tree\n",
    "from sklearn.metrics import accuracy_score\n",
    "from sklearn.model_selection import GridSearchCV\n",
    "from sklearn.model_selection import RandomizedSearchCV\n",
    "from sklearn.model_selection import train_test_split\n",
    "from sklearn.preprocessing import StandardScaler\n",
    "from sklearn.model_selection import cross_val_score\n",
    "\n",
    "from sklearn.svm import SVC\n",
    "from sklearn.svm import LinearSVC\n",
    "from sklearn.ensemble import RandomForestClassifier\n",
    "\n",
    "from imblearn.over_sampling import SMOTE, ADASYN\n",
    "from sklearn.feature_selection import SelectFromModel\n",
    "\n",
    "\n",
    "%matplotlib inline"
   ]
  },
  {
   "cell_type": "code",
   "execution_count": 133,
   "metadata": {},
   "outputs": [
    {
     "data": {
      "text/html": [
       "<div>\n",
       "<style>\n",
       "    .dataframe thead tr:only-child th {\n",
       "        text-align: right;\n",
       "    }\n",
       "\n",
       "    .dataframe thead th {\n",
       "        text-align: left;\n",
       "    }\n",
       "\n",
       "    .dataframe tbody tr th {\n",
       "        vertical-align: top;\n",
       "    }\n",
       "</style>\n",
       "<table border=\"1\" class=\"dataframe\">\n",
       "  <thead>\n",
       "    <tr style=\"text-align: right;\">\n",
       "      <th></th>\n",
       "      <th>0</th>\n",
       "      <th>1</th>\n",
       "      <th>2</th>\n",
       "      <th>3</th>\n",
       "      <th>4</th>\n",
       "      <th>5</th>\n",
       "      <th>6</th>\n",
       "      <th>7</th>\n",
       "      <th>8</th>\n",
       "      <th>9</th>\n",
       "      <th>...</th>\n",
       "      <th>246</th>\n",
       "      <th>247</th>\n",
       "      <th>248</th>\n",
       "      <th>249</th>\n",
       "      <th>250</th>\n",
       "      <th>251</th>\n",
       "      <th>252</th>\n",
       "      <th>253</th>\n",
       "      <th>254</th>\n",
       "      <th>255</th>\n",
       "    </tr>\n",
       "  </thead>\n",
       "  <tbody>\n",
       "    <tr>\n",
       "      <th>0</th>\n",
       "      <td>0.0</td>\n",
       "      <td>0.0</td>\n",
       "      <td>0.00</td>\n",
       "      <td>0.00</td>\n",
       "      <td>0.95</td>\n",
       "      <td>11.91</td>\n",
       "      <td>49.02</td>\n",
       "      <td>106.96</td>\n",
       "      <td>152.14</td>\n",
       "      <td>157.77</td>\n",
       "      <td>...</td>\n",
       "      <td>145.84</td>\n",
       "      <td>154.03</td>\n",
       "      <td>152.60</td>\n",
       "      <td>142.38</td>\n",
       "      <td>125.40</td>\n",
       "      <td>100.57</td>\n",
       "      <td>69.80</td>\n",
       "      <td>38.67</td>\n",
       "      <td>14.58</td>\n",
       "      <td>2.80</td>\n",
       "    </tr>\n",
       "    <tr>\n",
       "      <th>1</th>\n",
       "      <td>0.0</td>\n",
       "      <td>0.0</td>\n",
       "      <td>3.31</td>\n",
       "      <td>19.03</td>\n",
       "      <td>51.45</td>\n",
       "      <td>87.66</td>\n",
       "      <td>106.14</td>\n",
       "      <td>102.35</td>\n",
       "      <td>96.37</td>\n",
       "      <td>106.66</td>\n",
       "      <td>...</td>\n",
       "      <td>125.28</td>\n",
       "      <td>141.59</td>\n",
       "      <td>145.34</td>\n",
       "      <td>135.52</td>\n",
       "      <td>110.81</td>\n",
       "      <td>74.17</td>\n",
       "      <td>36.65</td>\n",
       "      <td>11.53</td>\n",
       "      <td>1.81</td>\n",
       "      <td>0.07</td>\n",
       "    </tr>\n",
       "    <tr>\n",
       "      <th>2</th>\n",
       "      <td>0.0</td>\n",
       "      <td>0.0</td>\n",
       "      <td>0.02</td>\n",
       "      <td>1.86</td>\n",
       "      <td>12.63</td>\n",
       "      <td>42.03</td>\n",
       "      <td>84.17</td>\n",
       "      <td>104.87</td>\n",
       "      <td>79.06</td>\n",
       "      <td>32.90</td>\n",
       "      <td>...</td>\n",
       "      <td>158.29</td>\n",
       "      <td>150.08</td>\n",
       "      <td>134.27</td>\n",
       "      <td>113.54</td>\n",
       "      <td>85.57</td>\n",
       "      <td>52.14</td>\n",
       "      <td>23.76</td>\n",
       "      <td>7.75</td>\n",
       "      <td>1.76</td>\n",
       "      <td>0.23</td>\n",
       "    </tr>\n",
       "    <tr>\n",
       "      <th>3</th>\n",
       "      <td>0.0</td>\n",
       "      <td>0.0</td>\n",
       "      <td>0.00</td>\n",
       "      <td>0.01</td>\n",
       "      <td>5.93</td>\n",
       "      <td>33.21</td>\n",
       "      <td>75.00</td>\n",
       "      <td>85.97</td>\n",
       "      <td>51.36</td>\n",
       "      <td>14.25</td>\n",
       "      <td>...</td>\n",
       "      <td>157.26</td>\n",
       "      <td>156.53</td>\n",
       "      <td>139.58</td>\n",
       "      <td>104.68</td>\n",
       "      <td>63.12</td>\n",
       "      <td>28.38</td>\n",
       "      <td>8.15</td>\n",
       "      <td>1.11</td>\n",
       "      <td>0.02</td>\n",
       "      <td>0.00</td>\n",
       "    </tr>\n",
       "    <tr>\n",
       "      <th>4</th>\n",
       "      <td>0.0</td>\n",
       "      <td>0.0</td>\n",
       "      <td>0.94</td>\n",
       "      <td>8.57</td>\n",
       "      <td>32.06</td>\n",
       "      <td>63.96</td>\n",
       "      <td>74.10</td>\n",
       "      <td>50.12</td>\n",
       "      <td>18.39</td>\n",
       "      <td>2.83</td>\n",
       "      <td>...</td>\n",
       "      <td>93.12</td>\n",
       "      <td>87.66</td>\n",
       "      <td>59.11</td>\n",
       "      <td>26.47</td>\n",
       "      <td>8.72</td>\n",
       "      <td>2.48</td>\n",
       "      <td>0.42</td>\n",
       "      <td>0.00</td>\n",
       "      <td>0.00</td>\n",
       "      <td>0.00</td>\n",
       "    </tr>\n",
       "  </tbody>\n",
       "</table>\n",
       "<p>5 rows × 256 columns</p>\n",
       "</div>"
      ],
      "text/plain": [
       "   0    1     2      3      4      5       6       7       8       9    ...   \\\n",
       "0  0.0  0.0  0.00   0.00   0.95  11.91   49.02  106.96  152.14  157.77  ...    \n",
       "1  0.0  0.0  3.31  19.03  51.45  87.66  106.14  102.35   96.37  106.66  ...    \n",
       "2  0.0  0.0  0.02   1.86  12.63  42.03   84.17  104.87   79.06   32.90  ...    \n",
       "3  0.0  0.0  0.00   0.01   5.93  33.21   75.00   85.97   51.36   14.25  ...    \n",
       "4  0.0  0.0  0.94   8.57  32.06  63.96   74.10   50.12   18.39    2.83  ...    \n",
       "\n",
       "      246     247     248     249     250     251    252    253    254   255  \n",
       "0  145.84  154.03  152.60  142.38  125.40  100.57  69.80  38.67  14.58  2.80  \n",
       "1  125.28  141.59  145.34  135.52  110.81   74.17  36.65  11.53   1.81  0.07  \n",
       "2  158.29  150.08  134.27  113.54   85.57   52.14  23.76   7.75   1.76  0.23  \n",
       "3  157.26  156.53  139.58  104.68   63.12   28.38   8.15   1.11   0.02  0.00  \n",
       "4   93.12   87.66   59.11   26.47    8.72    2.48   0.42   0.00   0.00  0.00  \n",
       "\n",
       "[5 rows x 256 columns]"
      ]
     },
     "metadata": {},
     "output_type": "display_data"
    },
    {
     "data": {
      "text/html": [
       "<div>\n",
       "<style>\n",
       "    .dataframe thead tr:only-child th {\n",
       "        text-align: right;\n",
       "    }\n",
       "\n",
       "    .dataframe thead th {\n",
       "        text-align: left;\n",
       "    }\n",
       "\n",
       "    .dataframe tbody tr th {\n",
       "        vertical-align: top;\n",
       "    }\n",
       "</style>\n",
       "<table border=\"1\" class=\"dataframe\">\n",
       "  <thead>\n",
       "    <tr style=\"text-align: right;\">\n",
       "      <th></th>\n",
       "      <th>0</th>\n",
       "    </tr>\n",
       "  </thead>\n",
       "  <tbody>\n",
       "    <tr>\n",
       "      <th>0</th>\n",
       "      <td>-1</td>\n",
       "    </tr>\n",
       "    <tr>\n",
       "      <th>1</th>\n",
       "      <td>-1</td>\n",
       "    </tr>\n",
       "    <tr>\n",
       "      <th>2</th>\n",
       "      <td>1</td>\n",
       "    </tr>\n",
       "    <tr>\n",
       "      <th>3</th>\n",
       "      <td>1</td>\n",
       "    </tr>\n",
       "    <tr>\n",
       "      <th>4</th>\n",
       "      <td>1</td>\n",
       "    </tr>\n",
       "  </tbody>\n",
       "</table>\n",
       "</div>"
      ],
      "text/plain": [
       "   0\n",
       "0 -1\n",
       "1 -1\n",
       "2  1\n",
       "3  1\n",
       "4  1"
      ]
     },
     "metadata": {},
     "output_type": "display_data"
    }
   ],
   "source": [
    "# Loading the data set and splitting off the target feature, 'Class'\n",
    "image_df = pd.read_table(\"uspsdata.txt\", header=None)\n",
    "class_df = pd.read_table(\"uspscl.txt\", header=None)\n",
    "display(image_df.head(5))\n",
    "display(class_df.head(5))"
   ]
  },
  {
   "cell_type": "code",
   "execution_count": 134,
   "metadata": {},
   "outputs": [],
   "source": [
    "scaler = StandardScaler()\n",
    "scaled_image_df = scaler.fit_transform(image_df)"
   ]
  },
  {
   "cell_type": "code",
   "execution_count": 135,
   "metadata": {
    "scrolled": false
   },
   "outputs": [],
   "source": [
    "img_train, img_test, class_train, class_test = train_test_split(scaled_image_df,\n",
    "                                                                class_df,\n",
    "                                                                test_size=0.20,\n",
    "                                                                random_state=123)"
   ]
  },
  {
   "cell_type": "code",
   "execution_count": 136,
   "metadata": {},
   "outputs": [],
   "source": [
    "# switch to LinearSVC when making SVCs with datasets > 10k rows\n",
    "# svm_clf = LinearSVC(C=1, loss=\"hinge\")  \n",
    "svm_clf = SVC(kernel='linear')"
   ]
  },
  {
   "cell_type": "code",
   "execution_count": 140,
   "metadata": {},
   "outputs": [],
   "source": [
    "parameters = {\n",
    "    'C': [1e-05, 2e-05, 5e-05, 6e-05, 7e-05, 8e-05, 9e-05, \n",
    "          1e-04, 2e-04, 3e-04, 4e-04, 5e-04, \n",
    "          1e-03, 2e-03, 5e-03, 0.01, 0.05, 0.1, 0.2, 0.5, 1, 2, 5],\n",
    "    'random_state': [123]\n",
    "}"
   ]
  },
  {
   "cell_type": "code",
   "execution_count": 141,
   "metadata": {},
   "outputs": [
    {
     "name": "stdout",
     "output_type": "stream",
     "text": [
      "Fitting 30 folds for each of 23 candidates, totalling 690 fits\n"
     ]
    },
    {
     "name": "stderr",
     "output_type": "stream",
     "text": [
      "[Parallel(n_jobs=-1)]: Done  34 tasks      | elapsed:    2.5s\n"
     ]
    },
    {
     "name": "stdout",
     "output_type": "stream",
     "text": [
      "Wall time: 4.84 s\n"
     ]
    },
    {
     "name": "stderr",
     "output_type": "stream",
     "text": [
      "[Parallel(n_jobs=-1)]: Done 690 out of 690 | elapsed:    4.3s finished\n"
     ]
    },
    {
     "data": {
      "text/plain": [
       "GridSearchCV(cv=30, error_score='raise',\n",
       "       estimator=SVC(C=1.0, cache_size=200, class_weight=None, coef0=0.0,\n",
       "  decision_function_shape='ovr', degree=3, gamma='auto', kernel='linear',\n",
       "  max_iter=-1, probability=False, random_state=None, shrinking=True,\n",
       "  tol=0.001, verbose=False),\n",
       "       fit_params=None, iid=True, n_jobs=-1,\n",
       "       param_grid={'random_state': [123], 'C': [1e-05, 2e-05, 5e-05, 6e-05, 7e-05, 8e-05, 9e-05, 0.0001, 0.0002, 0.0003, 0.0004, 0.0005, 0.001, 0.002, 0.005, 0.01, 0.05, 0.1, 0.2, 0.5, 1, 2, 5]},\n",
       "       pre_dispatch='2*n_jobs', refit=True, return_train_score=True,\n",
       "       scoring=None, verbose=1)"
      ]
     },
     "execution_count": 141,
     "metadata": {},
     "output_type": "execute_result"
    }
   ],
   "source": [
    "svm_clf_grid = GridSearchCV(svm_clf, parameters, verbose=4, cv=30, n_jobs=-1)\n",
    "\n",
    "# As the GridSearchCV function inherently \n",
    "%time svm_clf_grid.fit(scaled_image_df, np.ravel(class_df))"
   ]
  },
  {
   "cell_type": "code",
   "execution_count": 151,
   "metadata": {},
   "outputs": [
    {
     "name": "stdout",
     "output_type": "stream",
     "text": [
      "C value that produces the most accurate model: {'random_state': 123, 'C': 0.001}\n",
      "Score of the most accurate model: 0.970000 \n",
      "\n",
      "   --- Mean accuracy (+/- standard deviation) for different C values ---\n",
      "0.835 (+/- 0.136) for the model with parameters {'random_state': 123, 'C': 1e-05}\n",
      "0.835 (+/- 0.136) for the model with parameters {'random_state': 123, 'C': 2e-05}\n",
      "0.835 (+/- 0.136) for the model with parameters {'random_state': 123, 'C': 5e-05}\n",
      "0.835 (+/- 0.136) for the model with parameters {'random_state': 123, 'C': 6e-05}\n",
      "0.835 (+/- 0.136) for the model with parameters {'random_state': 123, 'C': 7e-05}\n",
      "0.880 (+/- 0.113) for the model with parameters {'random_state': 123, 'C': 8e-05}\n",
      "0.915 (+/- 0.086) for the model with parameters {'random_state': 123, 'C': 9e-05}\n",
      "0.915 (+/- 0.086) for the model with parameters {'random_state': 123, 'C': 0.0001}\n",
      "0.950 (+/- 0.069) for the model with parameters {'random_state': 123, 'C': 0.0002}\n",
      "0.965 (+/- 0.061) for the model with parameters {'random_state': 123, 'C': 0.0003}\n",
      "0.965 (+/- 0.061) for the model with parameters {'random_state': 123, 'C': 0.0004}\n",
      "0.965 (+/- 0.061) for the model with parameters {'random_state': 123, 'C': 0.0005}\n",
      "0.970 (+/- 0.059) for the model with parameters {'random_state': 123, 'C': 0.001}\n",
      "0.965 (+/- 0.063) for the model with parameters {'random_state': 123, 'C': 0.002}\n",
      "0.965 (+/- 0.063) for the model with parameters {'random_state': 123, 'C': 0.005}\n",
      "0.965 (+/- 0.063) for the model with parameters {'random_state': 123, 'C': 0.01}\n",
      "0.955 (+/- 0.081) for the model with parameters {'random_state': 123, 'C': 0.05}\n",
      "0.960 (+/- 0.067) for the model with parameters {'random_state': 123, 'C': 0.1}\n",
      "0.960 (+/- 0.067) for the model with parameters {'random_state': 123, 'C': 0.2}\n",
      "0.960 (+/- 0.067) for the model with parameters {'random_state': 123, 'C': 0.5}\n",
      "0.960 (+/- 0.067) for the model with parameters {'random_state': 123, 'C': 1}\n",
      "0.960 (+/- 0.067) for the model with parameters {'random_state': 123, 'C': 2}\n",
      "0.960 (+/- 0.067) for the model with parameters {'random_state': 123, 'C': 5}\n"
     ]
    }
   ],
   "source": [
    "def print_clf_grid_stats(grid_clf, gamma=False, wantPrint=True):\n",
    "    print('C value that produces the most accurate model: {}'.format(grid_clf.best_params_))\n",
    "    print('Score of the most accurate model: {:.6f} \\n'.format(grid_clf.best_score_))\n",
    "    means = grid_clf.cv_results_['mean_test_score']\n",
    "    stdevs = grid_clf.cv_results_['std_test_score']\n",
    "    c_list_ = []\n",
    "    g_list_ = []\n",
    "    if wantPrint:\n",
    "        print('   --- Mean accuracy (+/- standard deviation) for different C values ---')\n",
    "    for mean, stdev, param in zip(means, stdevs, grid_clf.cv_results_['params']):\n",
    "        c_list_.append(param['C'])\n",
    "        if gamma:\n",
    "            g_list_.append(param['gamma'])\n",
    "        if wantPrint:\n",
    "            print('{:0.3f} (+/- {:0.3f}) for the model with parameters {}'\n",
    "                  .format(mean, stdev, param))\n",
    "    return means, stdevs, c_list_, g_list_\n",
    "\n",
    "score_means, score_stdevs, c_list, _ = print_clf_grid_stats(svm_clf_grid)"
   ]
  },
  {
   "cell_type": "code",
   "execution_count": 138,
   "metadata": {},
   "outputs": [],
   "source": [
    "# Apparently Seaborn's tsplot will be deprecated, so I made just made a similar\n",
    "#  plot using matplotlib (Seaborn is just a nice wrapper for matplotlib anyway)\n",
    "def errorbar_lineplot(ax, x, y, stdev, **kw):\n",
    "    c_intervals = (y - stdev, y + stdev)\n",
    "    ax.fill_between(x, c_intervals[0], c_intervals[1], alpha=0.2, **kw)\n",
    "    ax.plot(x, y, **kw)"
   ]
  },
  {
   "cell_type": "code",
   "execution_count": 10,
   "metadata": {},
   "outputs": [
    {
     "data": {
      "image/png": "[encoded data removed]",
      "text/plain": [
       "<matplotlib.figure.Figure at 0x2001a4f1908>"
      ]
     },
     "metadata": {},
     "output_type": "display_data"
    }
   ],
   "source": [
    "with plt.style.context('seaborn-whitegrid'):\n",
    "    fig, (ax1, ax2, ax3) = plt.subplots(nrows=3, sharex=False, figsize=(8,15))\n",
    "    errorbar_lineplot(ax1, c_list, score_means, score_stdevs)\n",
    "    ax1.set_xlabel('C Value', fontsize=12)\n",
    "    ax1.set_ylabel('Model Accuracy', fontsize=12)\n",
    "    ax1.set_ylim([0.8,1.05])\n",
    "    ax1.set_xlim([-0.1,5.0])\n",
    "    ax1.set_title('Linear SVC Classification Accuracy as a fctn of C', fontsize=14)\n",
    "    errorbar_lineplot(ax2, c_list, score_means, score_stdevs)\n",
    "    ax2.set_xlabel('C Value', fontsize=12)\n",
    "    ax2.set_ylabel('Model Accuracy', fontsize=1)\n",
    "    ax2.set_ylim([0.85,1.05])\n",
    "    ax2.set_xlim([-0.005,0.2])\n",
    "    ax2.set_title('Linear SVC Classification Accuracy as a fctn of C (zoomed in)', fontsize=14)\n",
    "    errorbar_lineplot(ax3, c_list, score_means, score_stdevs)\n",
    "    ax3.set_xlabel('C Value', fontsize=12)\n",
    "    ax3.set_ylabel('Model Accuracy', fontsize=1)\n",
    "    ax3.set_ylim([0.87,1.04])\n",
    "    ax3.set_xlim([-0.0001,0.004])\n",
    "    ax3.set_title('Linear SVC Classification Accuracy as a fctn of C (zoomed way in)', fontsize=14)"
   ]
  },
  {
   "cell_type": "markdown",
   "metadata": {
    "scrolled": true
   },
   "source": [
    "## Analysis of linear SVM model with a varied soft margin\n",
    "\n",
    "Looking at the printout of accuracy values and the plots of classifier accuracy as a function of C value, we see that model accuracy rises as C increases from $C = 0.00001$ to a peak accuracy at $C=0.001$ then a shallow dip and then model accuracy converges to a constant hyperplane (or at least a hyperplane that doesn't cross over any additional datapoints) for all values of $C >= 0.100$. This kind contradicts my intuition, as higher values of $C$ indicate a greater aversion to misclassification (ie inaccuracy). "
   ]
  },
  {
   "cell_type": "code",
   "execution_count": 143,
   "metadata": {},
   "outputs": [],
   "source": [
    "# This function calculates the total accuracy of a classifiers, clf \n",
    "#  on the same training and testing data, as well as the accuracy on the training\n",
    "#  data (which gives the resubstitution (resub) error) and accuracy on the testing\n",
    "#  data (which gives the generalization error).\n",
    "# Takes 2 classifiers that conform to the sklearn classifier interface, strings\n",
    "#  containing the names of the classifiers\n",
    "# data_df:  an array-like object containing \n",
    "def svm_c_explorer(clf, clf_name, data_df, class_df,\\\n",
    "                   test_size=0.34, printStats=True, n_trials=30, seed=1234):\n",
    "    rng = np.random.RandomState(seed)\n",
    "    random_seeds = rng.randint(low=0, high=99999, size=n_trials)\n",
    "    clf_acc = [] #; clf_resub_acc = []; clf_gen_acc = []\n",
    "    for i in range(n_trials):\n",
    "        data_train_, data_test_, class_train_, class_test_ = \\\n",
    "                train_test_split(data_df, class_df, test_size=test_size, \\\n",
    "                                 random_state=random_seeds[i])\n",
    "        clf_acc.append(clf_evaluation(clf, data_train_, data_test_, class_train_, class_test_))\n",
    "    mean_var_CI_calculator(clf_name, pd.Series(clf_acc), test_size, printStats)\n",
    "    return clf_acc #, clf_resub_acc, clf_gen_acc\n",
    "\n",
    "# This executes a simple fit-predict-evaluate routine with a single data split.\n",
    "# classifier:   a classifier model that conforms to sklearns regular classifier interface\n",
    "# data/class_train/test: array-like containers holding corresponding data and class labels\n",
    "def clf_evaluation(clf_, data_train_, data_test_, class_train_, class_test_):\n",
    "    clf_fit = clf_.fit(data_train_, class_train_)\n",
    "    clf_pred = clf_.predict(data_test_)\n",
    "    return accuracy_score(class_test_, clf_pred)"
   ]
  },
  {
   "cell_type": "code",
   "execution_count": 146,
   "metadata": {},
   "outputs": [],
   "source": [
    "svm_clf = SVC()\n",
    "params_gauss = {\n",
    "    'kernel': ['rbf'],\n",
    "    'gamma': [0.001, 0.002, 0.003, 0.004, 0.005, 0.007, 0.01, 0.1, 1],\n",
    "    'C': [1e-05, 7e-05, 1e-04, 5e-04, 9e-04, \n",
    "          1e-03, 2e-03, 5e-03, 0.01, 0.05, 0.1, \n",
    "          0.125, 0.15, 0.175, 0.2, 0.25, 0.5, 1, 2, 5]    \n",
    "}"
   ]
  },
  {
   "cell_type": "code",
   "execution_count": 147,
   "metadata": {},
   "outputs": [
    {
     "name": "stdout",
     "output_type": "stream",
     "text": [
      "Fitting 30 folds for each of 180 candidates, totalling 5400 fits\n"
     ]
    },
    {
     "name": "stderr",
     "output_type": "stream",
     "text": [
      "[Parallel(n_jobs=-1)]: Done   9 tasks      | elapsed:    2.3s\n",
      "[Parallel(n_jobs=-1)]: Done 149 tasks      | elapsed:    3.3s\n",
      "[Parallel(n_jobs=-1)]: Done 641 tasks      | elapsed:    6.0s\n",
      "[Parallel(n_jobs=-1)]: Done 1325 tasks      | elapsed:   10.1s\n",
      "[Parallel(n_jobs=-1)]: Done 2209 tasks      | elapsed:   15.4s\n",
      "[Parallel(n_jobs=-1)]: Done 3285 tasks      | elapsed:   20.7s\n",
      "[Parallel(n_jobs=-1)]: Done 4677 tasks      | elapsed:   26.8s\n"
     ]
    },
    {
     "name": "stdout",
     "output_type": "stream",
     "text": [
      "Wall time: 29.9 s\n"
     ]
    },
    {
     "name": "stderr",
     "output_type": "stream",
     "text": [
      "[Parallel(n_jobs=-1)]: Done 5400 out of 5400 | elapsed:   29.3s finished\n"
     ]
    },
    {
     "data": {
      "text/plain": [
       "GridSearchCV(cv=30, error_score='raise',\n",
       "       estimator=SVC(C=1.0, cache_size=200, class_weight=None, coef0=0.0,\n",
       "  decision_function_shape='ovr', degree=3, gamma='auto', kernel='rbf',\n",
       "  max_iter=-1, probability=False, random_state=None, shrinking=True,\n",
       "  tol=0.001, verbose=False),\n",
       "       fit_params=None, iid=True, n_jobs=-1,\n",
       "       param_grid={'gamma': [0.001, 0.002, 0.003, 0.004, 0.005, 0.007, 0.01, 0.1, 1], 'kernel': ['rbf'], 'C': [1e-05, 7e-05, 0.0001, 0.0005, 0.0009, 0.001, 0.002, 0.005, 0.01, 0.05, 0.1, 0.125, 0.15, 0.175, 0.2, 0.25, 0.5, 1, 2, 5]},\n",
       "       pre_dispatch='2*n_jobs', refit=True, return_train_score=True,\n",
       "       scoring=None, verbose=4)"
      ]
     },
     "execution_count": 147,
     "metadata": {},
     "output_type": "execute_result"
    }
   ],
   "source": [
    "svm_gauss_clf_grid = GridSearchCV(svm_clf, params_gauss, verbose=4, cv=30, n_jobs=-1)\n",
    "\n",
    "%time svm_gauss_clf_grid.fit(scaled_image_df, np.ravel(class_df))"
   ]
  },
  {
   "cell_type": "code",
   "execution_count": 191,
   "metadata": {
    "scrolled": false
   },
   "outputs": [
    {
     "name": "stdout",
     "output_type": "stream",
     "text": [
      "C value that produces the most accurate model: {'gamma': 0.003, 'kernel': 'rbf', 'C': 0.15}\n",
      "Score of the most accurate model: 0.985000 \n",
      "\n"
     ]
    }
   ],
   "source": [
    "score_means, score_stdevs, c_list, g_list = print_clf_grid_stats(svm_gauss_clf_grid, True, False)"
   ]
  },
  {
   "cell_type": "markdown",
   "metadata": {},
   "source": [
    "## Gaussian SVM\n",
    "\n",
    "$$\\gamma = \\frac{1}{2\\sigma^2} \\text{  so by rearanging, we get   } \\sigma = \\sqrt{\\frac{1}{2\\gamma}}$$"
   ]
  },
  {
   "cell_type": "code",
   "execution_count": 169,
   "metadata": {},
   "outputs": [],
   "source": [
    "gamma2sigma = lambda x: np.sqrt(1/(2*x))\n",
    "sigmafier = np.vectorize(gamma2sigma)\n",
    "sigma_list = sigmafier(g_list)"
   ]
  },
  {
   "cell_type": "code",
   "execution_count": 172,
   "metadata": {
    "scrolled": false
   },
   "outputs": [
    {
     "data": {
      "text/plain": [
       "array([  1.00000000e-05,   7.00000000e-05,   1.00000000e-04,\n",
       "         5.00000000e-04,   9.00000000e-04,   1.00000000e-03,\n",
       "         2.00000000e-03,   5.00000000e-03,   1.00000000e-02,\n",
       "         5.00000000e-02,   1.00000000e-01,   1.25000000e-01,\n",
       "         1.50000000e-01,   1.75000000e-01,   2.00000000e-01,\n",
       "         2.50000000e-01,   5.00000000e-01,   1.00000000e+00,\n",
       "         2.00000000e+00,   5.00000000e+00])"
      ]
     },
     "execution_count": 172,
     "metadata": {},
     "output_type": "execute_result"
    }
   ],
   "source": [
    "gauss_data = {'mean_acc': score_means,\n",
    "              'mean_std': score_stdevs,\n",
    "              'sigma':sigma_list,\n",
    "              'C':c_list}\n",
    "gauss_df = pd.DataFrame(gauss_data)\n",
    "gauss_df = gauss_df.sort_values('sigma')\n",
    "gauss_df_bestC = gauss_df[gauss_df['C']==0.15]\n",
    "gauss_df_bestC\n",
    "np.unique(c_list)"
   ]
  },
  {
   "cell_type": "code",
   "execution_count": 184,
   "metadata": {},
   "outputs": [
    {
     "data": {
      "text/plain": [
       "pandas.core.series.Series"
      ]
     },
     "execution_count": 184,
     "metadata": {},
     "output_type": "execute_result"
    }
   ],
   "source": [
    "def errorbar_lineplot(ax, x, y, stdev, **kw):\n",
    "    c_intervals = (y - stdev, y + stdev)\n",
    "    ax.fill_between(x, c_intervals[0], c_intervals[1], alpha=0.2, **kw)\n",
    "    ax.plot(x, y, **kw)\n",
    "    \n",
    "type(df_00001['sigma'])"
   ]
  },
  {
   "cell_type": "code",
   "execution_count": 201,
   "metadata": {},
   "outputs": [
    {
     "data": {
      "image/png": "[encoded data removed]",
      "text/plain": [
       "<matplotlib.figure.Figure at 0x20941221c18>"
      ]
     },
     "metadata": {},
     "output_type": "display_data"
    }
   ],
   "source": [
    "title = 'Gaussian RBF SVC Classification Accuracy as a fctn of sigma'\n",
    "xlab = 'sigma Value'\n",
    "df_00001 = gauss_df[gauss_df['C']==0.00001]\n",
    "df_00007 = gauss_df[gauss_df['C']==0.00007]\n",
    "df_0001 = gauss_df[gauss_df['C']==0.0001]\n",
    "df_0005 = gauss_df[gauss_df['C']==0.0005]\n",
    "df_0009 = gauss_df[gauss_df['C']==0.0009]\n",
    "df_001 = gauss_df[gauss_df['C']==0.001]\n",
    "df_002 = gauss_df[gauss_df['C']==0.002]\n",
    "df_005 = gauss_df[gauss_df['C']==0.005]\n",
    "df_01 = gauss_df[gauss_df['C']==0.01]\n",
    "df_05 = gauss_df[gauss_df['C']==0.05]\n",
    "df_1 = gauss_df[gauss_df['C']==0.1]\n",
    "df_5 = gauss_df[gauss_df['C']==0.5]\n",
    "with plt.style.context('seaborn-whitegrid'):\n",
    "#     fig, (ax1, ax2, ax3) = plt.subplots(nrows=3, ncols=3, sharey=False, sharex=False, figsize=(12,12))\n",
    "    fig, ax = plt.subplots(nrows=4, ncols=3, sharey=False, sharex=False, figsize=(15,20))\n",
    "    ax = ax.flatten()\n",
    "    fig.suptitle(title)\n",
    "    errorbar_lineplot(ax[0], df_00001['sigma'], df_00001['mean_acc'], df_00001['mean_std'])\n",
    "    ax[0].set_xlabel(xlab, fontsize=12)\n",
    "    ax[0].set_ylabel('Model Accuracy', fontsize=12)\n",
    "    ax[0].set_ylim([0.4,1.05])\n",
    "    ax[0].set_xlim([0.7,22])\n",
    "    ax[0].set_title('C=0.00001')\n",
    "    errorbar_lineplot(ax[1], df_00007['sigma'], df_00007['mean_acc'], df_00007['mean_std'])\n",
    "    ax[1].set_xlabel(xlab, fontsize=12)\n",
    "    ax[1].set_ylabel('Model Accuracy', fontsize=12)\n",
    "    ax[1].set_ylim([0.4,1.05])\n",
    "    ax[1].set_xlim([0.7,22])\n",
    "    ax[1].set_title('C=0.00007')\n",
    "    errorbar_lineplot(ax[2], df_0001['sigma'], df_0001['mean_acc'], df_0001['mean_std'])\n",
    "    ax[2].set_xlabel(xlab, fontsize=12)\n",
    "    ax[2].set_ylabel('Model Accuracy', fontsize=12)\n",
    "    ax[2].set_ylim([0.4,1.05])\n",
    "    ax[2].set_xlim([0.7,22])\n",
    "    ax[2].set_title('C=0.0001')\n",
    "    errorbar_lineplot(ax[3], df_0005['sigma'], df_0005['mean_acc'], df_0005['mean_std'])\n",
    "    ax[3].set_xlabel(xlab, fontsize=12)\n",
    "    ax[3].set_ylabel('Model Accuracy', fontsize=12)\n",
    "    ax[3].set_ylim([0.4,1.05])\n",
    "    ax[3].set_xlim([0.7,22])\n",
    "    ax[3].set_title('C=0.0005')\n",
    "    errorbar_lineplot(ax[4], df_0009['sigma'], df_0009['mean_acc'], df_0009['mean_std'])\n",
    "    ax[4].set_xlabel(xlab, fontsize=12)\n",
    "    ax[4].set_ylabel('Model Accuracy', fontsize=12)\n",
    "    ax[4].set_ylim([0.4,1.05])\n",
    "    ax[4].set_xlim([0.7,22])\n",
    "    ax[4].set_title('C=0.0009')\n",
    "    errorbar_lineplot(ax[5], df_001['sigma'], df_001['mean_acc'], df_001['mean_std'])\n",
    "    ax[5].set_xlabel(xlab, fontsize=12)\n",
    "    ax[5].set_ylabel('Model Accuracy', fontsize=12)\n",
    "    ax[5].set_ylim([0.4,1.05])\n",
    "    ax[5].set_xlim([0.7,22])\n",
    "    ax[5].set_title('C=0.001')\n",
    "    errorbar_lineplot(ax[6], df_002['sigma'], df_002['mean_acc'], df_002['mean_std'])\n",
    "    ax[6].set_xlabel(xlab, fontsize=12)\n",
    "    ax[6].set_ylabel('Model Accuracy', fontsize=12)\n",
    "    ax[6].set_ylim([0.4,1.05])\n",
    "    ax[6].set_xlim([0.7,22])\n",
    "    ax[6].set_title('C=0.002')\n",
    "    errorbar_lineplot(ax[7], df_005['sigma'], df_005['mean_acc'], df_005['mean_std'])\n",
    "    ax[7].set_xlabel(xlab, fontsize=12)\n",
    "    ax[7].set_ylabel('Model Accuracy', fontsize=12)\n",
    "    ax[7].set_ylim([0.4,1.05])\n",
    "    ax[7].set_xlim([0.7,22])\n",
    "    ax[7].set_title('C=0.005')\n",
    "    errorbar_lineplot(ax[8], df_01['sigma'], df_01['mean_acc'], df_01['mean_std'])\n",
    "    ax[8].set_xlabel(xlab, fontsize=12)\n",
    "    ax[8].set_ylabel('Model Accuracy', fontsize=12)\n",
    "    ax[8].set_ylim([0.4,1.05])\n",
    "    ax[8].set_xlim([0.7,22])\n",
    "    ax[8].set_title('C=0.01')\n",
    "    errorbar_lineplot(ax[9], df_05['sigma'], df_05['mean_acc'], df_05['mean_std'])\n",
    "    ax[9].set_xlabel(xlab, fontsize=12)\n",
    "    ax[9].set_ylabel('Model Accuracy', fontsize=12)\n",
    "    ax[9].set_ylim([0.4,1.05])\n",
    "    ax[9].set_xlim([0.7,22])\n",
    "    ax[9].set_title('C=0.05')\n",
    "    errorbar_lineplot(ax[10], df_1['sigma'], df_1['mean_acc'], df_1['mean_std'])\n",
    "    ax[10].set_xlabel(xlab, fontsize=12)\n",
    "    ax[10].set_ylabel('Model Accuracy', fontsize=12)\n",
    "    ax[10].set_ylim([0.4,1.05])\n",
    "    ax[10].set_xlim([0.7,22])\n",
    "    ax[10].set_title('C=0.1')\n",
    "    errorbar_lineplot(ax[11], df_5['sigma'], df_5['mean_acc'], df_5['mean_std'])\n",
    "    ax[11].set_xlabel(xlab, fontsize=12)\n",
    "    ax[11].set_ylabel('Model Accuracy', fontsize=12)\n",
    "    ax[11].set_ylim([0.4,1.05])\n",
    "    ax[11].set_xlim([0.7,22])\n",
    "    ax[11].set_title('C=0.5')"
   ]
  },
  {
   "cell_type": "code",
   "execution_count": 175,
   "metadata": {},
   "outputs": [
    {
     "data": {
      "text/plain": [
       "pandas.core.frame.DataFrame"
      ]
     },
     "execution_count": 175,
     "metadata": {},
     "output_type": "execute_result"
    }
   ],
   "source": []
  },
  {
   "cell_type": "code",
   "execution_count": 208,
   "metadata": {
    "scrolled": false
   },
   "outputs": [
    {
     "data": {
      "image/png": "[encoded data removed]",
      "text/plain": [
       "<matplotlib.figure.Figure at 0x20940ed2f28>"
      ]
     },
     "metadata": {},
     "output_type": "display_data"
    }
   ],
   "source": [
    "title = 'Gaussian RBF SVC Classification Accuracy as a fctn of sigma (Best C=0.15)'\n",
    "xlab = 'sigma Value'\n",
    "this_df = gauss_df[gauss_df['C']==0.15]  # C=0.15 produced the most accurate model\n",
    "with plt.style.context('seaborn-whitegrid'):\n",
    "    fig, (ax1, ax2) = plt.subplots(nrows=2, sharex=False, figsize=(8,15))\n",
    "    errorbar_lineplot(ax1, this_df['sigma'], this_df['mean_acc'], this_df['mean_std'])\n",
    "    ax1.set_xlabel(xlab, fontsize=12)\n",
    "    ax1.set_ylabel('Model Accuracy', fontsize=12)\n",
    "    ax1.set_ylim([0.4,1.05])\n",
    "    ax1.set_xlim([0.7,22.0])\n",
    "    ax1.set_title(title, fontsize=14)\n",
    "    errorbar_lineplot(ax2, this_df['sigma'], this_df['mean_acc'], this_df['mean_std'])\n",
    "    ax2.set_xlabel(xlab, fontsize=12)\n",
    "    ax2.set_ylabel('Model Accuracy', fontsize=1)\n",
    "    ax2.set_ylim([0.75,1.05])\n",
    "    ax2.set_xlim([7,22])\n",
    "    ax2.set_title(title + ' (zoomed in)', fontsize=14)"
   ]
  },
  {
   "cell_type": "code",
   "execution_count": null,
   "metadata": {
    "scrolled": false
   },
   "outputs": [],
   "source": [
    "\n"
   ]
  },
  {
   "cell_type": "markdown",
   "metadata": {},
   "source": [
    "## 2: E-Commerce Customer Identification"
   ]
  },
  {
   "cell_type": "code",
   "execution_count": 6,
   "metadata": {
    "scrolled": false
   },
   "outputs": [],
   "source": [
    "train10k_raw = pd.read_csv('train10000.csv', header=None, na_values='999000.0')\n",
    "train10k_labels = pd.read_csv('train10000_label.csv', header=None, na_values='999000.0')\n",
    "test10k_raw = pd.read_csv('test10000.csv', header=None, na_values='998880.0')\n",
    "test10k_labels = pd.read_csv('test10000_label.csv', header=None, na_values='999000.0')\n",
    "\n",
    "# fixing column names\n",
    "col_nums = np.arange(train10k_raw.shape[1])\n",
    "X_gon_giveit2ya = np.vectorize(lambda x: 'x' + str(x))\n",
    "train10k_raw.columns = X_gon_giveit2ya(col_nums)\n",
    "train10k_labels.columns = ['Y']\n",
    "test10k_raw.columns = X_gon_giveit2ya(col_nums)\n",
    "test10k_labels.columns = ['Y']"
   ]
  },
  {
   "cell_type": "code",
   "execution_count": 7,
   "metadata": {},
   "outputs": [
    {
     "name": "stdout",
     "output_type": "stream",
     "text": [
      "Training Data\n"
     ]
    },
    {
     "data": {
      "text/html": [
       "<div>\n",
       "<style>\n",
       "    .dataframe thead tr:only-child th {\n",
       "        text-align: right;\n",
       "    }\n",
       "\n",
       "    .dataframe thead th {\n",
       "        text-align: left;\n",
       "    }\n",
       "\n",
       "    .dataframe tbody tr th {\n",
       "        vertical-align: top;\n",
       "    }\n",
       "</style>\n",
       "<table border=\"1\" class=\"dataframe\">\n",
       "  <thead>\n",
       "    <tr style=\"text-align: right;\">\n",
       "      <th></th>\n",
       "      <th>x0</th>\n",
       "      <th>x1</th>\n",
       "      <th>x2</th>\n",
       "      <th>x3</th>\n",
       "      <th>x4</th>\n",
       "      <th>x5</th>\n",
       "      <th>x6</th>\n",
       "      <th>x7</th>\n",
       "      <th>x8</th>\n",
       "      <th>x9</th>\n",
       "      <th>...</th>\n",
       "      <th>x324</th>\n",
       "      <th>x325</th>\n",
       "      <th>x326</th>\n",
       "      <th>x327</th>\n",
       "      <th>x328</th>\n",
       "      <th>x329</th>\n",
       "      <th>x330</th>\n",
       "      <th>x331</th>\n",
       "      <th>x332</th>\n",
       "      <th>x333</th>\n",
       "    </tr>\n",
       "  </thead>\n",
       "  <tbody>\n",
       "    <tr>\n",
       "      <th>0</th>\n",
       "      <td>NaN</td>\n",
       "      <td>46</td>\n",
       "      <td>2.0</td>\n",
       "      <td>46</td>\n",
       "      <td>196000.0</td>\n",
       "      <td>2.0</td>\n",
       "      <td>NaN</td>\n",
       "      <td>4.0</td>\n",
       "      <td>3.0</td>\n",
       "      <td>NaN</td>\n",
       "      <td>...</td>\n",
       "      <td>59</td>\n",
       "      <td>19</td>\n",
       "      <td>99</td>\n",
       "      <td>21</td>\n",
       "      <td>6</td>\n",
       "      <td>8</td>\n",
       "      <td>11</td>\n",
       "      <td>27</td>\n",
       "      <td>254</td>\n",
       "      <td>110</td>\n",
       "    </tr>\n",
       "    <tr>\n",
       "      <th>1</th>\n",
       "      <td>1.0</td>\n",
       "      <td>50</td>\n",
       "      <td>1.0</td>\n",
       "      <td>50</td>\n",
       "      <td>196000.0</td>\n",
       "      <td>1.0</td>\n",
       "      <td>4.0</td>\n",
       "      <td>7.0</td>\n",
       "      <td>5.0</td>\n",
       "      <td>1.0</td>\n",
       "      <td>...</td>\n",
       "      <td>51</td>\n",
       "      <td>24</td>\n",
       "      <td>89</td>\n",
       "      <td>13</td>\n",
       "      <td>11</td>\n",
       "      <td>2</td>\n",
       "      <td>10</td>\n",
       "      <td>30</td>\n",
       "      <td>169</td>\n",
       "      <td>144</td>\n",
       "    </tr>\n",
       "    <tr>\n",
       "      <th>2</th>\n",
       "      <td>NaN</td>\n",
       "      <td>50</td>\n",
       "      <td>1.0</td>\n",
       "      <td>50</td>\n",
       "      <td>196000.0</td>\n",
       "      <td>1.0</td>\n",
       "      <td>4.0</td>\n",
       "      <td>NaN</td>\n",
       "      <td>7.0</td>\n",
       "      <td>NaN</td>\n",
       "      <td>...</td>\n",
       "      <td>61</td>\n",
       "      <td>20</td>\n",
       "      <td>98</td>\n",
       "      <td>17</td>\n",
       "      <td>7</td>\n",
       "      <td>2</td>\n",
       "      <td>10</td>\n",
       "      <td>24</td>\n",
       "      <td>337</td>\n",
       "      <td>105</td>\n",
       "    </tr>\n",
       "    <tr>\n",
       "      <th>3</th>\n",
       "      <td>1.0</td>\n",
       "      <td>58</td>\n",
       "      <td>1.0</td>\n",
       "      <td>58</td>\n",
       "      <td>195000.0</td>\n",
       "      <td>2.0</td>\n",
       "      <td>4.0</td>\n",
       "      <td>NaN</td>\n",
       "      <td>8.0</td>\n",
       "      <td>2.0</td>\n",
       "      <td>...</td>\n",
       "      <td>50</td>\n",
       "      <td>19</td>\n",
       "      <td>83</td>\n",
       "      <td>12</td>\n",
       "      <td>8</td>\n",
       "      <td>4</td>\n",
       "      <td>4</td>\n",
       "      <td>31</td>\n",
       "      <td>280</td>\n",
       "      <td>165</td>\n",
       "    </tr>\n",
       "    <tr>\n",
       "      <th>4</th>\n",
       "      <td>NaN</td>\n",
       "      <td>64</td>\n",
       "      <td>1.0</td>\n",
       "      <td>64</td>\n",
       "      <td>196000.0</td>\n",
       "      <td>1.0</td>\n",
       "      <td>4.0</td>\n",
       "      <td>2.0</td>\n",
       "      <td>2.0</td>\n",
       "      <td>NaN</td>\n",
       "      <td>...</td>\n",
       "      <td>57</td>\n",
       "      <td>23</td>\n",
       "      <td>99</td>\n",
       "      <td>22</td>\n",
       "      <td>4</td>\n",
       "      <td>8</td>\n",
       "      <td>44</td>\n",
       "      <td>27</td>\n",
       "      <td>143</td>\n",
       "      <td>12</td>\n",
       "    </tr>\n",
       "  </tbody>\n",
       "</table>\n",
       "<p>5 rows × 334 columns</p>\n",
       "</div>"
      ],
      "text/plain": [
       "    x0  x1   x2  x3        x4   x5   x6   x7   x8   x9  ...   x324  x325  \\\n",
       "0  NaN  46  2.0  46  196000.0  2.0  NaN  4.0  3.0  NaN  ...     59    19   \n",
       "1  1.0  50  1.0  50  196000.0  1.0  4.0  7.0  5.0  1.0  ...     51    24   \n",
       "2  NaN  50  1.0  50  196000.0  1.0  4.0  NaN  7.0  NaN  ...     61    20   \n",
       "3  1.0  58  1.0  58  195000.0  2.0  4.0  NaN  8.0  2.0  ...     50    19   \n",
       "4  NaN  64  1.0  64  196000.0  1.0  4.0  2.0  2.0  NaN  ...     57    23   \n",
       "\n",
       "   x326  x327  x328  x329  x330  x331  x332  x333  \n",
       "0    99    21     6     8    11    27   254   110  \n",
       "1    89    13    11     2    10    30   169   144  \n",
       "2    98    17     7     2    10    24   337   105  \n",
       "3    83    12     8     4     4    31   280   165  \n",
       "4    99    22     4     8    44    27   143    12  \n",
       "\n",
       "[5 rows x 334 columns]"
      ]
     },
     "metadata": {},
     "output_type": "display_data"
    },
    {
     "name": "stdout",
     "output_type": "stream",
     "text": [
      "Training Data DataFrame size = (10000, 334)\n",
      "***********************************************\n",
      "\n",
      "Testing Data\n"
     ]
    },
    {
     "data": {
      "text/html": [
       "<div>\n",
       "<style>\n",
       "    .dataframe thead tr:only-child th {\n",
       "        text-align: right;\n",
       "    }\n",
       "\n",
       "    .dataframe thead th {\n",
       "        text-align: left;\n",
       "    }\n",
       "\n",
       "    .dataframe tbody tr th {\n",
       "        vertical-align: top;\n",
       "    }\n",
       "</style>\n",
       "<table border=\"1\" class=\"dataframe\">\n",
       "  <thead>\n",
       "    <tr style=\"text-align: right;\">\n",
       "      <th></th>\n",
       "      <th>x0</th>\n",
       "      <th>x1</th>\n",
       "      <th>x2</th>\n",
       "      <th>x3</th>\n",
       "      <th>x4</th>\n",
       "      <th>x5</th>\n",
       "      <th>x6</th>\n",
       "      <th>x7</th>\n",
       "      <th>x8</th>\n",
       "      <th>x9</th>\n",
       "      <th>...</th>\n",
       "      <th>x324</th>\n",
       "      <th>x325</th>\n",
       "      <th>x326</th>\n",
       "      <th>x327</th>\n",
       "      <th>x328</th>\n",
       "      <th>x329</th>\n",
       "      <th>x330</th>\n",
       "      <th>x331</th>\n",
       "      <th>x332</th>\n",
       "      <th>x333</th>\n",
       "    </tr>\n",
       "  </thead>\n",
       "  <tbody>\n",
       "    <tr>\n",
       "      <th>0</th>\n",
       "      <td>1.0</td>\n",
       "      <td>36</td>\n",
       "      <td>3.0</td>\n",
       "      <td>36</td>\n",
       "      <td>197200.0</td>\n",
       "      <td>1.0</td>\n",
       "      <td>NaN</td>\n",
       "      <td>NaN</td>\n",
       "      <td>7.0</td>\n",
       "      <td>2.0</td>\n",
       "      <td>...</td>\n",
       "      <td>63</td>\n",
       "      <td>9</td>\n",
       "      <td>97</td>\n",
       "      <td>24</td>\n",
       "      <td>3</td>\n",
       "      <td>4</td>\n",
       "      <td>7</td>\n",
       "      <td>14</td>\n",
       "      <td>347</td>\n",
       "      <td>111</td>\n",
       "    </tr>\n",
       "    <tr>\n",
       "      <th>1</th>\n",
       "      <td>0.0</td>\n",
       "      <td>36</td>\n",
       "      <td>1.0</td>\n",
       "      <td>38</td>\n",
       "      <td>196010.0</td>\n",
       "      <td>1.0</td>\n",
       "      <td>4.0</td>\n",
       "      <td>NaN</td>\n",
       "      <td>7.0</td>\n",
       "      <td>1.0</td>\n",
       "      <td>...</td>\n",
       "      <td>53</td>\n",
       "      <td>7</td>\n",
       "      <td>81</td>\n",
       "      <td>19</td>\n",
       "      <td>2</td>\n",
       "      <td>3</td>\n",
       "      <td>3</td>\n",
       "      <td>5</td>\n",
       "      <td>265</td>\n",
       "      <td>206</td>\n",
       "    </tr>\n",
       "    <tr>\n",
       "      <th>2</th>\n",
       "      <td>NaN</td>\n",
       "      <td>46</td>\n",
       "      <td>1.0</td>\n",
       "      <td>46</td>\n",
       "      <td>196010.0</td>\n",
       "      <td>1.0</td>\n",
       "      <td>4.0</td>\n",
       "      <td>NaN</td>\n",
       "      <td>7.0</td>\n",
       "      <td>NaN</td>\n",
       "      <td>...</td>\n",
       "      <td>56</td>\n",
       "      <td>10</td>\n",
       "      <td>89</td>\n",
       "      <td>22</td>\n",
       "      <td>4</td>\n",
       "      <td>3</td>\n",
       "      <td>12</td>\n",
       "      <td>13</td>\n",
       "      <td>418</td>\n",
       "      <td>143</td>\n",
       "    </tr>\n",
       "    <tr>\n",
       "      <th>3</th>\n",
       "      <td>1.0</td>\n",
       "      <td>42</td>\n",
       "      <td>1.0</td>\n",
       "      <td>42</td>\n",
       "      <td>196710.0</td>\n",
       "      <td>1.0</td>\n",
       "      <td>4.0</td>\n",
       "      <td>NaN</td>\n",
       "      <td>NaN</td>\n",
       "      <td>1.0</td>\n",
       "      <td>...</td>\n",
       "      <td>63</td>\n",
       "      <td>13</td>\n",
       "      <td>84</td>\n",
       "      <td>6</td>\n",
       "      <td>4</td>\n",
       "      <td>11</td>\n",
       "      <td>2</td>\n",
       "      <td>26</td>\n",
       "      <td>568</td>\n",
       "      <td>275</td>\n",
       "    </tr>\n",
       "    <tr>\n",
       "      <th>4</th>\n",
       "      <td>NaN</td>\n",
       "      <td>28</td>\n",
       "      <td>1.0</td>\n",
       "      <td>28</td>\n",
       "      <td>198010.0</td>\n",
       "      <td>2.0</td>\n",
       "      <td>NaN</td>\n",
       "      <td>NaN</td>\n",
       "      <td>7.0</td>\n",
       "      <td>NaN</td>\n",
       "      <td>...</td>\n",
       "      <td>53</td>\n",
       "      <td>12</td>\n",
       "      <td>88</td>\n",
       "      <td>18</td>\n",
       "      <td>4</td>\n",
       "      <td>5</td>\n",
       "      <td>21</td>\n",
       "      <td>19</td>\n",
       "      <td>328</td>\n",
       "      <td>227</td>\n",
       "    </tr>\n",
       "  </tbody>\n",
       "</table>\n",
       "<p>5 rows × 334 columns</p>\n",
       "</div>"
      ],
      "text/plain": [
       "    x0  x1   x2  x3        x4   x5   x6  x7   x8   x9  ...   x324  x325  x326  \\\n",
       "0  1.0  36  3.0  36  197200.0  1.0  NaN NaN  7.0  2.0  ...     63     9    97   \n",
       "1  0.0  36  1.0  38  196010.0  1.0  4.0 NaN  7.0  1.0  ...     53     7    81   \n",
       "2  NaN  46  1.0  46  196010.0  1.0  4.0 NaN  7.0  NaN  ...     56    10    89   \n",
       "3  1.0  42  1.0  42  196710.0  1.0  4.0 NaN  NaN  1.0  ...     63    13    84   \n",
       "4  NaN  28  1.0  28  198010.0  2.0  NaN NaN  7.0  NaN  ...     53    12    88   \n",
       "\n",
       "   x327  x328  x329  x330  x331  x332  x333  \n",
       "0    24     3     4     7    14   347   111  \n",
       "1    19     2     3     3     5   265   206  \n",
       "2    22     4     3    12    13   418   143  \n",
       "3     6     4    11     2    26   568   275  \n",
       "4    18     4     5    21    19   328   227  \n",
       "\n",
       "[5 rows x 334 columns]"
      ]
     },
     "metadata": {},
     "output_type": "display_data"
    },
    {
     "name": "stdout",
     "output_type": "stream",
     "text": [
      "Testing Data DataFrame size = (10000, 334)\n",
      "***********************************************\n",
      "\n",
      "Training Labels\n"
     ]
    },
    {
     "data": {
      "text/html": [
       "<div>\n",
       "<style>\n",
       "    .dataframe thead tr:only-child th {\n",
       "        text-align: right;\n",
       "    }\n",
       "\n",
       "    .dataframe thead th {\n",
       "        text-align: left;\n",
       "    }\n",
       "\n",
       "    .dataframe tbody tr th {\n",
       "        vertical-align: top;\n",
       "    }\n",
       "</style>\n",
       "<table border=\"1\" class=\"dataframe\">\n",
       "  <thead>\n",
       "    <tr style=\"text-align: right;\">\n",
       "      <th></th>\n",
       "      <th>Y</th>\n",
       "    </tr>\n",
       "  </thead>\n",
       "  <tbody>\n",
       "    <tr>\n",
       "      <th>0</th>\n",
       "      <td>1</td>\n",
       "    </tr>\n",
       "    <tr>\n",
       "      <th>1</th>\n",
       "      <td>1</td>\n",
       "    </tr>\n",
       "    <tr>\n",
       "      <th>2</th>\n",
       "      <td>1</td>\n",
       "    </tr>\n",
       "    <tr>\n",
       "      <th>3</th>\n",
       "      <td>1</td>\n",
       "    </tr>\n",
       "    <tr>\n",
       "      <th>4</th>\n",
       "      <td>1</td>\n",
       "    </tr>\n",
       "  </tbody>\n",
       "</table>\n",
       "</div>"
      ],
      "text/plain": [
       "   Y\n",
       "0  1\n",
       "1  1\n",
       "2  1\n",
       "3  1\n",
       "4  1"
      ]
     },
     "metadata": {},
     "output_type": "display_data"
    },
    {
     "name": "stdout",
     "output_type": "stream",
     "text": [
      "Testing Labels\n"
     ]
    },
    {
     "data": {
      "text/html": [
       "<div>\n",
       "<style>\n",
       "    .dataframe thead tr:only-child th {\n",
       "        text-align: right;\n",
       "    }\n",
       "\n",
       "    .dataframe thead th {\n",
       "        text-align: left;\n",
       "    }\n",
       "\n",
       "    .dataframe tbody tr th {\n",
       "        vertical-align: top;\n",
       "    }\n",
       "</style>\n",
       "<table border=\"1\" class=\"dataframe\">\n",
       "  <thead>\n",
       "    <tr style=\"text-align: right;\">\n",
       "      <th></th>\n",
       "      <th>Y</th>\n",
       "    </tr>\n",
       "  </thead>\n",
       "  <tbody>\n",
       "    <tr>\n",
       "      <th>0</th>\n",
       "      <td>0</td>\n",
       "    </tr>\n",
       "    <tr>\n",
       "      <th>1</th>\n",
       "      <td>0</td>\n",
       "    </tr>\n",
       "    <tr>\n",
       "      <th>2</th>\n",
       "      <td>0</td>\n",
       "    </tr>\n",
       "    <tr>\n",
       "      <th>3</th>\n",
       "      <td>0</td>\n",
       "    </tr>\n",
       "    <tr>\n",
       "      <th>4</th>\n",
       "      <td>0</td>\n",
       "    </tr>\n",
       "  </tbody>\n",
       "</table>\n",
       "</div>"
      ],
      "text/plain": [
       "   Y\n",
       "0  0\n",
       "1  0\n",
       "2  0\n",
       "3  0\n",
       "4  0"
      ]
     },
     "metadata": {},
     "output_type": "display_data"
    }
   ],
   "source": [
    "print('Training Data')\n",
    "display(train10k_raw.head(5))\n",
    "print('Training Data DataFrame size = {}'.format(train10k_raw.shape))\n",
    "print('***********************************************\\n\\nTesting Data')\n",
    "display(test10k_raw.head(5))\n",
    "print('Testing Data DataFrame size = {}'.format(test10k_raw.shape))\n",
    "print('***********************************************\\n\\nTraining Labels')\n",
    "display(train10k_labels.head(5))\n",
    "print('Testing Labels')\n",
    "display(test10k_labels.head(5))"
   ]
  },
  {
   "cell_type": "code",
   "execution_count": 8,
   "metadata": {},
   "outputs": [
    {
     "name": "stdout",
     "output_type": "stream",
     "text": [
      "# of Observations in the Testing data with Label=1: 939\n",
      "# of Observations in the Training data with Label=1: 909\n"
     ]
    }
   ],
   "source": [
    "print('# of Observations in the Testing data with Label=1: {}'\n",
    "      .format(len(test10k_labels[test10k_labels['Y'] == 1])))\n",
    "print('# of Observations in the Training data with Label=1: {}'\n",
    "      .format(len(train10k_labels[train10k_labels['Y'] == 1])))"
   ]
  },
  {
   "cell_type": "code",
   "execution_count": 9,
   "metadata": {},
   "outputs": [
    {
     "data": {
      "image/png": "[encoded data removed]",
      "text/plain": [
       "<matplotlib.figure.Figure at 0x20935d99198>"
      ]
     },
     "metadata": {},
     "output_type": "display_data"
    }
   ],
   "source": [
    "with plt.style.context('seaborn-whitegrid'):\n",
    "    fig, (ax1, ax2) = plt.subplots(ncols=2, sharex=False, figsize=(12,6))\n",
    "    sns.countplot(train10k_labels['Y'], ax=ax1)\n",
    "    sns.countplot(test10k_labels['Y'], ax=ax2)\n",
    "    ax1.set_title('Histogram of Training Label Data ')\n",
    "    ax2.set_title('Histogram of Testing Label Data ')\n",
    "    ax1.set_xlabel('Label Values')\n",
    "    ax2.set_xlabel('Label Values')"
   ]
  },
  {
   "cell_type": "markdown",
   "metadata": {},
   "source": [
    "Looking at the distributions of labels, we see a fairly extreme imbalance in both the testing and training data. I'll build two classifiers to test whether it harms the classifier performance."
   ]
  },
  {
   "cell_type": "code",
   "execution_count": 10,
   "metadata": {
    "scrolled": true
   },
   "outputs": [
    {
     "data": {
      "text/plain": [
       "array([5211,    0, 2438,    0,    0, 2402, 4313, 7073, 3024, 5431,    0,\n",
       "          0, 7704,    0, 5211,    0,    0,    0,    0,    0,    0,    0,\n",
       "          0,    0,    0,    0,    0,  504,  504,    0,    0,    0,    0,\n",
       "          0,    0,    0,    0,    0,    0,    0,    0,    0,    0,    0,\n",
       "          0,    0,    0,    0,    0,    0,    0,    0,    0,    0,    0,\n",
       "          0,    0,    0,    0,    0,    0,    0,    0,    0,    0,    0,\n",
       "          0,    0,    0,    0,    0,    0,    0,    0,    0,    0,    0,\n",
       "          0,    0,    0,    0,    0,    0,    0,    0,    0,    0,    0,\n",
       "          0,    0,    0,    0,    0,    0,    0,    0,    0,    0,    0,\n",
       "          0,    0,    0,    0,    0,    0,    0,    0,    0,    0,    0,\n",
       "          0,    0,    0,    0,    0,    0,    0,    0,    0,    0,    0,\n",
       "          0,    0,    0,    0,    0,    0,    0,    0,    0,    0,    0,\n",
       "          0,    0,    0,    0,    0,    0,    0,    0,    0,    0,    0,\n",
       "          0,    0,    0,    0,    0,    0,    0,    0,    0,    0,    0,\n",
       "          0,    0,    0,    0,    0,    0,    0,    0,    0,    0,    0,\n",
       "          0,    0,    0,    0,    0,    0,    0,    0,    0,    0,    0,\n",
       "          0,    0,    0,    0,    0,    0,    0,    0,    0,    0,    0,\n",
       "          0,    0,    0,    0,    0,    0,    0,    0,    0,    0,    0,\n",
       "          0,    0,    0,    0,    0,    0,    0,    0,    0,    0,    0,\n",
       "          0,    0,    0,    0,    0,    0,    0,    0,    0,    0,    0,\n",
       "          0,    0,    0,    0,    0,    0,    0,    0,    0,    0,    0,\n",
       "          0,    0,    0,    0,    0,    0,    0,    0,    0,    0,    0,\n",
       "          0,    0,    0,    0,    0,    0,    0,    0,    0,    0,    0,\n",
       "          0,    0,    0,    0,    0,    0,    0,    0,    0,    0,    0,\n",
       "          0,    0,    0,    0,    0,    0,    0,    0,    0,    0,    0,\n",
       "          0,    0,    0,    0,    0,    0,    0,    0,    0,    0,    0,\n",
       "          0,    0,    0,    0,    0,    0,    0,    0,    0,    0,    0,\n",
       "          0,    0,    0,    0,    0,    0,    0,    0,    0,    0,    0,\n",
       "          0,    0,    0,    0,    0,    0,    0,    0,    0,    0,    0,\n",
       "          0,    0,    0,    0,    0,    0,    0,    0,    0,    0,    0,\n",
       "          0,    0,    0,    0], dtype=int64)"
      ]
     },
     "metadata": {},
     "output_type": "display_data"
    },
    {
     "data": {
      "text/plain": [
       "array([5, 0, 5, ..., 3, 4, 9], dtype=int64)"
      ]
     },
     "metadata": {},
     "output_type": "display_data"
    },
    {
     "data": {
      "text/plain": [
       "<matplotlib.text.Text at 0x20935cdfcc0>"
      ]
     },
     "execution_count": 10,
     "metadata": {},
     "output_type": "execute_result"
    },
    {
     "data": {
      "image/png": "[encoded data removed]",
      "text/plain": [
       "<matplotlib.figure.Figure at 0x20935d8f128>"
      ]
     },
     "metadata": {},
     "output_type": "display_data"
    }
   ],
   "source": [
    "# Counts of missing values per column\n",
    "train_NA_by_col = np.array(train10k_raw.isnull().sum(axis=0))\n",
    "display(train_NA_by_col)\n",
    "\n",
    "# Counts of missing values per row\n",
    "train_NA_by_row = np.array(train10k_raw.isnull().sum(axis=1))\n",
    "display(train_NA_by_row)\n",
    "\n",
    "plt.figure(figsize=(8,6))\n",
    "ax = sns.countplot(train_NA_by_row)\n",
    "ax.set_title('Histogram of Missing Values per Row in the Training Data')\n",
    "ax.set_xlabel('Missing Values in a single row')"
   ]
  },
  {
   "cell_type": "code",
   "execution_count": 11,
   "metadata": {
    "scrolled": false
   },
   "outputs": [
    {
     "data": {
      "text/plain": [
       "array([5237,    0, 2378,    0,    0, 2288, 4212, 7102, 2906, 5413,    0,\n",
       "          0, 7630,    0, 5237,    0,    0,    0,    0,    0,    0,    0,\n",
       "          0,    0,    0,    0,    0,  528,  528,    0,    0,    0,    0,\n",
       "          0,    0,    0,    0,    0,    0,    0,    0,    0,    0,    0,\n",
       "          0,    0,    0,    0,    0,    0,    0,    0,    0,    0,    0,\n",
       "          0,    0,    0,    0,    0,    0,    0,    0,    0,    0,    0,\n",
       "          0,    0,    0,    0,    0,    0,    0,    0,    0,    0,    0,\n",
       "          0,    0,    0,    0,    0,    0,    0,    0,    0,    0,    0,\n",
       "          0,    0,    0,    0,    0,    0,    0,    0,    0,    0,    0,\n",
       "          0,    0,    0,    0,    0,    0,    0,    0,    0,    0,    0,\n",
       "          0,    0,    0,    0,    0,    0,    0,    0,    0,    0,    0,\n",
       "          0,    0,    0,    0,    0,    0,    0,    0,    0,    0,    0,\n",
       "          0,    0,    0,    0,    0,    0,    0,    0,    0,    0,    0,\n",
       "          0,    0,    0,    0,    0,    0,    0,    0,    0,    0,    0,\n",
       "          0,    0,    0,    0,    0,    0,    0,    0,    0,    0,    0,\n",
       "          0,    0,    0,    0,    0,    0,    0,    0,    0,    0,    0,\n",
       "          0,    0,    0,    0,    0,    0,    0,    0,    0,    0,    0,\n",
       "          0,    0,    0,    0,    0,    0,    0,    0,    0,    0,    0,\n",
       "          0,    0,    0,    0,    0,    0,    0,    0,    0,    0,    0,\n",
       "          0,    0,    0,    0,    0,    0,    0,    0,    0,    0,    0,\n",
       "          0,    0,    0,    0,    0,    0,    0,    0,    0,    0,    0,\n",
       "          0,    0,    0,    0,    0,    0,    0,    0,    0,    0,    0,\n",
       "          0,    0,    0,    0,    0,    0,    0,    0,    0,    0,    0,\n",
       "          0,    0,    0,    0,    0,    0,    0,    0,    0,    0,    0,\n",
       "          0,    0,    0,    0,    0,    0,    0,    0,    0,    0,    0,\n",
       "          0,    0,    0,    0,    0,    0,    0,    0,    0,    0,    0,\n",
       "          0,    0,    0,    0,    0,    0,    0,    0,    0,    0,    0,\n",
       "          0,    0,    0,    0,    0,    0,    0,    0,    0,    0,    0,\n",
       "          0,    0,    0,    0,    0,    0,    0,    0,    0,    0,    0,\n",
       "          0,    0,    0,    0,    0,    0,    0,    0,    0,    0,    0,\n",
       "          0,    0,    0,    0], dtype=int64)"
      ]
     },
     "metadata": {},
     "output_type": "display_data"
    },
    {
     "data": {
      "text/plain": [
       "array([3, 2, 5, ..., 9, 1, 0], dtype=int64)"
      ]
     },
     "metadata": {},
     "output_type": "display_data"
    },
    {
     "data": {
      "text/plain": [
       "<matplotlib.text.Text at 0x20935df1438>"
      ]
     },
     "execution_count": 11,
     "metadata": {},
     "output_type": "execute_result"
    },
    {
     "data": {
      "image/png": "[encoded data removed]",
      "text/plain": [
       "<matplotlib.figure.Figure at 0x20935db6be0>"
      ]
     },
     "metadata": {},
     "output_type": "display_data"
    }
   ],
   "source": [
    "# Counts of missing values per column\n",
    "test_NA_by_col = np.array(test10k_raw.isnull().sum(axis=0))\n",
    "display(test_NA_by_col)\n",
    "\n",
    "# Counts of missing values per row\n",
    "test_NA_by_row = np.array(test10k_raw.isnull().sum(axis=1))\n",
    "display(test_NA_by_row)\n",
    "\n",
    "plt.figure(figsize=(8,6))\n",
    "ax = sns.countplot(test_NA_by_row)\n",
    "ax.set_title('Histogram of Missing Values per Row in the Testing Data')\n",
    "ax.set_xlabel('Missing Values in a single row')"
   ]
  },
  {
   "cell_type": "markdown",
   "metadata": {},
   "source": [
    "A small number of columns have many missing values (specifically 11 columns out of 334, or $3.3\\%$). I don't know anything about how the data was collected or whether the missing values are missing because of systemic issues or whether they're missing completely at random. Still, as less than $3.5\\%$ of the columns contain missing values (and some of those columns are missing as much as $77\\%$! of their values), they are within standard rules of thumb for deletion (as stated in one of my CSC 424 texts: \"Multivariate Data Analysis\",m 7th ed. by Hair, Black, Babin, and Anderson). From inspection, we see the same columns in the training and testing data have missing values, so it's very easy to maintain the same columns in both the testing and training. Otherwise, I'd have to drop columns without missing values because of missing values in the complementary data."
   ]
  },
  {
   "cell_type": "code",
   "execution_count": 12,
   "metadata": {},
   "outputs": [
    {
     "name": "stdout",
     "output_type": "stream",
     "text": [
      "\n",
      "Training Data DataFrame after dropping the Columns that had  missing values in the Testing Data\n"
     ]
    },
    {
     "data": {
      "text/html": [
       "<div>\n",
       "<style>\n",
       "    .dataframe thead tr:only-child th {\n",
       "        text-align: right;\n",
       "    }\n",
       "\n",
       "    .dataframe thead th {\n",
       "        text-align: left;\n",
       "    }\n",
       "\n",
       "    .dataframe tbody tr th {\n",
       "        vertical-align: top;\n",
       "    }\n",
       "</style>\n",
       "<table border=\"1\" class=\"dataframe\">\n",
       "  <thead>\n",
       "    <tr style=\"text-align: right;\">\n",
       "      <th></th>\n",
       "      <th>x1</th>\n",
       "      <th>x3</th>\n",
       "      <th>x4</th>\n",
       "      <th>x10</th>\n",
       "      <th>x11</th>\n",
       "      <th>x13</th>\n",
       "      <th>x15</th>\n",
       "      <th>x16</th>\n",
       "      <th>x17</th>\n",
       "      <th>x18</th>\n",
       "      <th>...</th>\n",
       "      <th>x324</th>\n",
       "      <th>x325</th>\n",
       "      <th>x326</th>\n",
       "      <th>x327</th>\n",
       "      <th>x328</th>\n",
       "      <th>x329</th>\n",
       "      <th>x330</th>\n",
       "      <th>x331</th>\n",
       "      <th>x332</th>\n",
       "      <th>x333</th>\n",
       "    </tr>\n",
       "  </thead>\n",
       "  <tbody>\n",
       "    <tr>\n",
       "      <th>0</th>\n",
       "      <td>46</td>\n",
       "      <td>46</td>\n",
       "      <td>196000.0</td>\n",
       "      <td>45</td>\n",
       "      <td>1</td>\n",
       "      <td>48</td>\n",
       "      <td>40</td>\n",
       "      <td>476</td>\n",
       "      <td>508</td>\n",
       "      <td>375</td>\n",
       "      <td>...</td>\n",
       "      <td>59</td>\n",
       "      <td>19</td>\n",
       "      <td>99</td>\n",
       "      <td>21</td>\n",
       "      <td>6</td>\n",
       "      <td>8</td>\n",
       "      <td>11</td>\n",
       "      <td>27</td>\n",
       "      <td>254</td>\n",
       "      <td>110</td>\n",
       "    </tr>\n",
       "    <tr>\n",
       "      <th>1</th>\n",
       "      <td>50</td>\n",
       "      <td>50</td>\n",
       "      <td>196000.0</td>\n",
       "      <td>35</td>\n",
       "      <td>4</td>\n",
       "      <td>46</td>\n",
       "      <td>170</td>\n",
       "      <td>504</td>\n",
       "      <td>533</td>\n",
       "      <td>421</td>\n",
       "      <td>...</td>\n",
       "      <td>51</td>\n",
       "      <td>24</td>\n",
       "      <td>89</td>\n",
       "      <td>13</td>\n",
       "      <td>11</td>\n",
       "      <td>2</td>\n",
       "      <td>10</td>\n",
       "      <td>30</td>\n",
       "      <td>169</td>\n",
       "      <td>144</td>\n",
       "    </tr>\n",
       "    <tr>\n",
       "      <th>2</th>\n",
       "      <td>50</td>\n",
       "      <td>50</td>\n",
       "      <td>196000.0</td>\n",
       "      <td>63</td>\n",
       "      <td>2</td>\n",
       "      <td>40</td>\n",
       "      <td>170</td>\n",
       "      <td>486</td>\n",
       "      <td>512</td>\n",
       "      <td>399</td>\n",
       "      <td>...</td>\n",
       "      <td>61</td>\n",
       "      <td>20</td>\n",
       "      <td>98</td>\n",
       "      <td>17</td>\n",
       "      <td>7</td>\n",
       "      <td>2</td>\n",
       "      <td>10</td>\n",
       "      <td>24</td>\n",
       "      <td>337</td>\n",
       "      <td>105</td>\n",
       "    </tr>\n",
       "    <tr>\n",
       "      <th>3</th>\n",
       "      <td>58</td>\n",
       "      <td>58</td>\n",
       "      <td>195000.0</td>\n",
       "      <td>80</td>\n",
       "      <td>2</td>\n",
       "      <td>36</td>\n",
       "      <td>170</td>\n",
       "      <td>470</td>\n",
       "      <td>505</td>\n",
       "      <td>390</td>\n",
       "      <td>...</td>\n",
       "      <td>50</td>\n",
       "      <td>19</td>\n",
       "      <td>83</td>\n",
       "      <td>12</td>\n",
       "      <td>8</td>\n",
       "      <td>4</td>\n",
       "      <td>4</td>\n",
       "      <td>31</td>\n",
       "      <td>280</td>\n",
       "      <td>165</td>\n",
       "    </tr>\n",
       "    <tr>\n",
       "      <th>4</th>\n",
       "      <td>64</td>\n",
       "      <td>64</td>\n",
       "      <td>196000.0</td>\n",
       "      <td>31</td>\n",
       "      <td>2</td>\n",
       "      <td>5</td>\n",
       "      <td>20</td>\n",
       "      <td>490</td>\n",
       "      <td>525</td>\n",
       "      <td>381</td>\n",
       "      <td>...</td>\n",
       "      <td>57</td>\n",
       "      <td>23</td>\n",
       "      <td>99</td>\n",
       "      <td>22</td>\n",
       "      <td>4</td>\n",
       "      <td>8</td>\n",
       "      <td>44</td>\n",
       "      <td>27</td>\n",
       "      <td>143</td>\n",
       "      <td>12</td>\n",
       "    </tr>\n",
       "  </tbody>\n",
       "</table>\n",
       "<p>5 rows × 323 columns</p>\n",
       "</div>"
      ],
      "text/plain": [
       "   x1  x3        x4  x10  x11  x13  x15  x16  x17  x18  ...   x324  x325  \\\n",
       "0  46  46  196000.0   45    1   48   40  476  508  375  ...     59    19   \n",
       "1  50  50  196000.0   35    4   46  170  504  533  421  ...     51    24   \n",
       "2  50  50  196000.0   63    2   40  170  486  512  399  ...     61    20   \n",
       "3  58  58  195000.0   80    2   36  170  470  505  390  ...     50    19   \n",
       "4  64  64  196000.0   31    2    5   20  490  525  381  ...     57    23   \n",
       "\n",
       "   x326  x327  x328  x329  x330  x331  x332  x333  \n",
       "0    99    21     6     8    11    27   254   110  \n",
       "1    89    13    11     2    10    30   169   144  \n",
       "2    98    17     7     2    10    24   337   105  \n",
       "3    83    12     8     4     4    31   280   165  \n",
       "4    99    22     4     8    44    27   143    12  \n",
       "\n",
       "[5 rows x 323 columns]"
      ]
     },
     "metadata": {},
     "output_type": "display_data"
    },
    {
     "name": "stdout",
     "output_type": "stream",
     "text": [
      "\n",
      "Testing Data DataFrame after dropping the Columns that had  missing values in the Testing Data\n"
     ]
    },
    {
     "data": {
      "text/html": [
       "<div>\n",
       "<style>\n",
       "    .dataframe thead tr:only-child th {\n",
       "        text-align: right;\n",
       "    }\n",
       "\n",
       "    .dataframe thead th {\n",
       "        text-align: left;\n",
       "    }\n",
       "\n",
       "    .dataframe tbody tr th {\n",
       "        vertical-align: top;\n",
       "    }\n",
       "</style>\n",
       "<table border=\"1\" class=\"dataframe\">\n",
       "  <thead>\n",
       "    <tr style=\"text-align: right;\">\n",
       "      <th></th>\n",
       "      <th>x1</th>\n",
       "      <th>x3</th>\n",
       "      <th>x4</th>\n",
       "      <th>x10</th>\n",
       "      <th>x11</th>\n",
       "      <th>x13</th>\n",
       "      <th>x15</th>\n",
       "      <th>x16</th>\n",
       "      <th>x17</th>\n",
       "      <th>x18</th>\n",
       "      <th>...</th>\n",
       "      <th>x324</th>\n",
       "      <th>x325</th>\n",
       "      <th>x326</th>\n",
       "      <th>x327</th>\n",
       "      <th>x328</th>\n",
       "      <th>x329</th>\n",
       "      <th>x330</th>\n",
       "      <th>x331</th>\n",
       "      <th>x332</th>\n",
       "      <th>x333</th>\n",
       "    </tr>\n",
       "  </thead>\n",
       "  <tbody>\n",
       "    <tr>\n",
       "      <th>0</th>\n",
       "      <td>36</td>\n",
       "      <td>36</td>\n",
       "      <td>197200.0</td>\n",
       "      <td>83</td>\n",
       "      <td>1</td>\n",
       "      <td>22</td>\n",
       "      <td>200</td>\n",
       "      <td>450</td>\n",
       "      <td>472</td>\n",
       "      <td>341</td>\n",
       "      <td>...</td>\n",
       "      <td>63</td>\n",
       "      <td>9</td>\n",
       "      <td>97</td>\n",
       "      <td>24</td>\n",
       "      <td>3</td>\n",
       "      <td>4</td>\n",
       "      <td>7</td>\n",
       "      <td>14</td>\n",
       "      <td>347</td>\n",
       "      <td>111</td>\n",
       "    </tr>\n",
       "    <tr>\n",
       "      <th>1</th>\n",
       "      <td>36</td>\n",
       "      <td>38</td>\n",
       "      <td>196010.0</td>\n",
       "      <td>60</td>\n",
       "      <td>3</td>\n",
       "      <td>21</td>\n",
       "      <td>220</td>\n",
       "      <td>416</td>\n",
       "      <td>441</td>\n",
       "      <td>314</td>\n",
       "      <td>...</td>\n",
       "      <td>53</td>\n",
       "      <td>7</td>\n",
       "      <td>81</td>\n",
       "      <td>19</td>\n",
       "      <td>2</td>\n",
       "      <td>3</td>\n",
       "      <td>3</td>\n",
       "      <td>5</td>\n",
       "      <td>265</td>\n",
       "      <td>206</td>\n",
       "    </tr>\n",
       "    <tr>\n",
       "      <th>2</th>\n",
       "      <td>46</td>\n",
       "      <td>46</td>\n",
       "      <td>196010.0</td>\n",
       "      <td>86</td>\n",
       "      <td>2</td>\n",
       "      <td>21</td>\n",
       "      <td>170</td>\n",
       "      <td>447</td>\n",
       "      <td>466</td>\n",
       "      <td>341</td>\n",
       "      <td>...</td>\n",
       "      <td>56</td>\n",
       "      <td>10</td>\n",
       "      <td>89</td>\n",
       "      <td>22</td>\n",
       "      <td>4</td>\n",
       "      <td>3</td>\n",
       "      <td>12</td>\n",
       "      <td>13</td>\n",
       "      <td>418</td>\n",
       "      <td>143</td>\n",
       "    </tr>\n",
       "    <tr>\n",
       "      <th>3</th>\n",
       "      <td>42</td>\n",
       "      <td>42</td>\n",
       "      <td>196710.0</td>\n",
       "      <td>99</td>\n",
       "      <td>1</td>\n",
       "      <td>57</td>\n",
       "      <td>170</td>\n",
       "      <td>433</td>\n",
       "      <td>450</td>\n",
       "      <td>400</td>\n",
       "      <td>...</td>\n",
       "      <td>63</td>\n",
       "      <td>13</td>\n",
       "      <td>84</td>\n",
       "      <td>6</td>\n",
       "      <td>4</td>\n",
       "      <td>11</td>\n",
       "      <td>2</td>\n",
       "      <td>26</td>\n",
       "      <td>568</td>\n",
       "      <td>275</td>\n",
       "    </tr>\n",
       "    <tr>\n",
       "      <th>4</th>\n",
       "      <td>28</td>\n",
       "      <td>28</td>\n",
       "      <td>198010.0</td>\n",
       "      <td>102</td>\n",
       "      <td>1</td>\n",
       "      <td>41</td>\n",
       "      <td>170</td>\n",
       "      <td>462</td>\n",
       "      <td>491</td>\n",
       "      <td>360</td>\n",
       "      <td>...</td>\n",
       "      <td>53</td>\n",
       "      <td>12</td>\n",
       "      <td>88</td>\n",
       "      <td>18</td>\n",
       "      <td>4</td>\n",
       "      <td>5</td>\n",
       "      <td>21</td>\n",
       "      <td>19</td>\n",
       "      <td>328</td>\n",
       "      <td>227</td>\n",
       "    </tr>\n",
       "  </tbody>\n",
       "</table>\n",
       "<p>5 rows × 323 columns</p>\n",
       "</div>"
      ],
      "text/plain": [
       "   x1  x3        x4  x10  x11  x13  x15  x16  x17  x18  ...   x324  x325  \\\n",
       "0  36  36  197200.0   83    1   22  200  450  472  341  ...     63     9   \n",
       "1  36  38  196010.0   60    3   21  220  416  441  314  ...     53     7   \n",
       "2  46  46  196010.0   86    2   21  170  447  466  341  ...     56    10   \n",
       "3  42  42  196710.0   99    1   57  170  433  450  400  ...     63    13   \n",
       "4  28  28  198010.0  102    1   41  170  462  491  360  ...     53    12   \n",
       "\n",
       "   x326  x327  x328  x329  x330  x331  x332  x333  \n",
       "0    97    24     3     4     7    14   347   111  \n",
       "1    81    19     2     3     3     5   265   206  \n",
       "2    89    22     4     3    12    13   418   143  \n",
       "3    84     6     4    11     2    26   568   275  \n",
       "4    88    18     4     5    21    19   328   227  \n",
       "\n",
       "[5 rows x 323 columns]"
      ]
     },
     "metadata": {},
     "output_type": "display_data"
    },
    {
     "name": "stdout",
     "output_type": "stream",
     "text": [
      "\n",
      "Training Data DataFrame after dropping the Columns that had  missing values in the Testing Data\n",
      "\n",
      "Testing Data DataFrame after dropping the Columns that had  missing values in the Testing Data\n"
     ]
    },
    {
     "data": {
      "text/plain": [
       "Index(['x0', 'x2', 'x5', 'x6', 'x7', 'x8', 'x9', 'x12', 'x14', 'x27', 'x28'], dtype='object')"
      ]
     },
     "metadata": {},
     "output_type": "display_data"
    },
    {
     "data": {
      "text/plain": [
       "Index(['x0', 'x2', 'x5', 'x6', 'x7', 'x8', 'x9', 'x12', 'x14', 'x27', 'x28'], dtype='object')"
      ]
     },
     "metadata": {},
     "output_type": "display_data"
    }
   ],
   "source": [
    "test_cols_over_NA_thresh = train10k_raw.columns[test_NA_by_col >= 1]\n",
    "test10k_trim = test10k_raw.drop(test_cols_over_NA_thresh, axis=1)\n",
    "train10k_trim = train10k_raw.drop(test_cols_over_NA_thresh, axis=1)\n",
    "print('\\nTraining Data DataFrame after dropping the Columns that had ' + \n",
    "      ' missing values in the Testing Data')\n",
    "display(train10k_trim.head(5))\n",
    "print('\\nTesting Data DataFrame after dropping the Columns that had ' + \n",
    "      ' missing values in the Testing Data')\n",
    "display(test10k_trim.head(5))\n",
    "\n",
    "train_cols_over_NA_thresh = train10k_raw.columns[train_NA_by_col >= 1]\n",
    "# test10k_trim = test10k_trim.drop(train_cols_over_NA_thresh, axis=1)\n",
    "# train10k_trim = train10k_trim.drop(train_cols_over_NA_thresh, axis=1)\n",
    "\n",
    "print('\\nTraining Data DataFrame after dropping the Columns that had ' + \n",
    "      ' missing values in the Testing Data')\n",
    "# display(train10k_trim.head(5))\n",
    "print('\\nTesting Data DataFrame after dropping the Columns that had ' + \n",
    "      ' missing values in the Testing Data')\n",
    "# display(test10k_trim.head(5))\n",
    "display(train_cols_over_NA_thresh)\n",
    "display(test_cols_over_NA_thresh)"
   ]
  },
  {
   "cell_type": "code",
   "execution_count": 13,
   "metadata": {},
   "outputs": [],
   "source": [
    "parameters = {\n",
    "    'criterion': ['entropy','gini'],\n",
    "    'max_depth': [1,3],\n",
    "    'min_samples_leaf': [1,2,3],\n",
    "    'min_samples_split': [2,3,4],\n",
    "    'random_state': [123]\n",
    "}\n",
    "\n",
    "dt_clf = tree.DecisionTreeClassifier()\n",
    "\n",
    "dt_clf_gs = GridSearchCV(dt_clf, parameters, verbose=1, cv=30, n_jobs=-1)"
   ]
  },
  {
   "cell_type": "code",
   "execution_count": 13,
   "metadata": {},
   "outputs": [
    {
     "data": {
      "text/plain": [
       "(10000,)"
      ]
     },
     "execution_count": 13,
     "metadata": {},
     "output_type": "execute_result"
    }
   ],
   "source": [
    "train10k_trim.shape\n",
    "c, r = train10k_labels.shape\n",
    "np.array(train10k_labels).reshape(c, ).shape"
   ]
  },
  {
   "cell_type": "code",
   "execution_count": 32,
   "metadata": {
    "scrolled": false
   },
   "outputs": [
    {
     "name": "stdout",
     "output_type": "stream",
     "text": [
      "Fitting 30 folds for each of 36 candidates, totalling 1080 fits\n"
     ]
    },
    {
     "name": "stderr",
     "output_type": "stream",
     "text": [
      "[Parallel(n_jobs=-1)]: Done  34 tasks      | elapsed:   10.5s\n",
      "[Parallel(n_jobs=-1)]: Done 184 tasks      | elapsed:   18.7s\n",
      "[Parallel(n_jobs=-1)]: Done 434 tasks      | elapsed:   37.6s\n",
      "[Parallel(n_jobs=-1)]: Done 784 tasks      | elapsed:   59.3s\n",
      "[Parallel(n_jobs=-1)]: Done 1080 out of 1080 | elapsed:  1.4min finished\n"
     ]
    },
    {
     "name": "stdout",
     "output_type": "stream",
     "text": [
      "Wall time: 1min 24s\n"
     ]
    },
    {
     "data": {
      "text/plain": [
       "({'criterion': 'gini',\n",
       "  'max_depth': 3,\n",
       "  'min_samples_leaf': 1,\n",
       "  'min_samples_split': 2,\n",
       "  'random_state': 123},\n",
       " 0.90920000000000001)"
      ]
     },
     "execution_count": 32,
     "metadata": {},
     "output_type": "execute_result"
    }
   ],
   "source": [
    "%time _ = dt_clf_gs.fit(train10k_trim, np.array(train10k_labels).reshape(c, ))\n",
    "\n",
    "dt_clf_gs.best_params_, dt_clf_gs.best_score_"
   ]
  },
  {
   "cell_type": "code",
   "execution_count": 14,
   "metadata": {},
   "outputs": [
    {
     "data": {
      "text/plain": [
       "DecisionTreeClassifier(class_weight=None, criterion='entropy', max_depth=1,\n",
       "            max_features=None, max_leaf_nodes=None,\n",
       "            min_impurity_decrease=0.0, min_impurity_split=None,\n",
       "            min_samples_leaf=1, min_samples_split=2,\n",
       "            min_weight_fraction_leaf=0.0, presort=False, random_state=123,\n",
       "            splitter='best')"
      ]
     },
     "execution_count": 14,
     "metadata": {},
     "output_type": "execute_result"
    }
   ],
   "source": [
    "trim_dtree_clf = tree.DecisionTreeClassifier(criterion='entropy',\n",
    "                                        max_depth = 1,\n",
    "                                        min_samples_leaf = 1,\n",
    "                                        min_samples_split = 2,\n",
    "                                        random_state = 123)\n",
    "trim_dtree_clf.fit(train10k_trim, train10k_labels)"
   ]
  },
  {
   "cell_type": "code",
   "execution_count": 16,
   "metadata": {},
   "outputs": [
    {
     "name": "stdout",
     "output_type": "stream",
     "text": [
      "Classifier accuracy when trained with the imbalanced, NA-free training data: 0.9061\n"
     ]
    }
   ],
   "source": [
    "trim_dtree_preds = trim_dtree_clf.predict(test10k_trim)\n",
    "trim_test_acc = accuracy_score(test10k_labels, trim_dtree_preds)\n",
    "print('Classifier accuracy when trained with the imbalanced, NA-free training data: {:0.4f}'\n",
    "      .format(trim_test_acc))"
   ]
  },
  {
   "cell_type": "markdown",
   "metadata": {},
   "source": [
    "The decision tree built with this the NA-free, imbalanced training data had an accuracy of $90.61\\%$. Not too shabby! We should probably check the confusion matrix though, just to confirm how awesome this model is. Although I am suspicious that the best decision tree classifier has a max depth of 1..."
   ]
  },
  {
   "cell_type": "code",
   "execution_count": 15,
   "metadata": {},
   "outputs": [],
   "source": [
    "def confusion_mat_plotter(cfn_matrix, class_labels, title):\n",
    "    print(cfn_matrix)\n",
    "    sns.heatmap(cfn_matrix.T, square=True, annot=True, fmt='d', cbar=False, \n",
    "            xticklabels=class_labels, yticklabels=class_labels)\n",
    "    plt.xlabel('True Class')\n",
    "    plt.ylabel('Predicted Class')\n",
    "    plt.title('Confusion Matrix ' + title)"
   ]
  },
  {
   "cell_type": "code",
   "execution_count": 23,
   "metadata": {},
   "outputs": [
    {
     "name": "stdout",
     "output_type": "stream",
     "text": [
      "[[9061    0]\n",
      " [ 939    0]]\n"
     ]
    },
    {
     "data": {
      "image/png": "[encoded data removed]",
      "text/plain": [
       "<matplotlib.figure.Figure at 0x2001bd6ac50>"
      ]
     },
     "metadata": {},
     "output_type": "display_data"
    }
   ],
   "source": [
    "confusion_mat = metrics.confusion_matrix(test10k_labels, trim_dtree_preds)\n",
    "confusion_mat_plotter(confusion_mat, [0,1], \n",
    "                      'for the model built on the trimmed (NAs dropped) data without balancing')"
   ]
  },
  {
   "cell_type": "markdown",
   "metadata": {},
   "source": [
    "## Analysis of decision tree performance with only NA removal\n",
    "\n",
    "Oh. Our classifier just a simple rule: everything is 0. Because the labels were so lopsided, it simply predicts that everything leads to the dominant label. ACCURACY PARADOX!\n",
    "\n",
    "                                            Decision Tree Table\n",
    "| Training Results | Sensitivity/precision | Specificity/Recall |\n",
    "| :--------------: | --------------------: | :---------------- |\n",
    "| Raw Data | $\\frac{0}{939+0} = 0$ | $\\frac{9061}{9061} = 1.0$ |\n",
    "| Raw Data with Balanced Data |  |  |\n",
    "| Normalize Attributes |  |  |\n",
    "| Feature Selection |  |  |"
   ]
  },
  {
   "cell_type": "code",
   "execution_count": 39,
   "metadata": {},
   "outputs": [],
   "source": [
    "parameters = {\n",
    "    'criterion': ['entropy', 'gini'],\n",
    "    'n_estimators': [30,50,100],\n",
    "    'max_depth': [1,3,5],\n",
    "    'max_features': [1,5,15],\n",
    "    'min_samples_leaf': [1,3,5],\n",
    "    'min_samples_split': [2,4,6]\n",
    "}\n",
    "\n",
    "rf_clf = RandomForestClassifier()\n",
    "\n",
    "rf_clf_gs = GridSearchCV(rf_clf, parameters, verbose=4, cv=30, n_jobs=-1)"
   ]
  },
  {
   "cell_type": "code",
   "execution_count": 132,
   "metadata": {},
   "outputs": [
    {
     "data": {
      "text/plain": [
       "array([1, 1, 1, ..., 0, 0, 0], dtype=int64)"
      ]
     },
     "execution_count": 132,
     "metadata": {},
     "output_type": "execute_result"
    }
   ],
   "source": [
    "train10k_trim.shape\n",
    "c, r = train10k_labels.shape\n",
    "np.array(train10k_labels).reshape(c, )"
   ]
  },
  {
   "cell_type": "code",
   "execution_count": 43,
   "metadata": {},
   "outputs": [
    {
     "name": "stdout",
     "output_type": "stream",
     "text": [
      "Fitting 10 folds for each of 486 candidates, totalling 4860 fits\n"
     ]
    },
    {
     "name": "stderr",
     "output_type": "stream",
     "text": [
      "[Parallel(n_jobs=4)]: Done  17 tasks      | elapsed:    6.0s\n",
      "[Parallel(n_jobs=4)]: Done  90 tasks      | elapsed:   13.3s\n",
      "[Parallel(n_jobs=4)]: Done 213 tasks      | elapsed:   26.4s\n",
      "[Parallel(n_jobs=4)]: Done 384 tasks      | elapsed:   43.8s\n",
      "[Parallel(n_jobs=4)]: Done 605 tasks      | elapsed:  1.2min\n",
      "[Parallel(n_jobs=4)]: Done 874 tasks      | elapsed:  1.8min\n",
      "[Parallel(n_jobs=4)]: Done 1193 tasks      | elapsed:  2.5min\n",
      "[Parallel(n_jobs=4)]: Done 1560 tasks      | elapsed:  3.8min\n",
      "[Parallel(n_jobs=4)]: Done 1977 tasks      | elapsed:  4.9min\n",
      "[Parallel(n_jobs=4)]: Done 2442 tasks      | elapsed:  7.5min\n",
      "[Parallel(n_jobs=4)]: Done 2957 tasks      | elapsed:  8.4min\n",
      "[Parallel(n_jobs=4)]: Done 3520 tasks      | elapsed:  9.6min\n",
      "[Parallel(n_jobs=4)]: Done 4133 tasks      | elapsed: 11.5min\n",
      "[Parallel(n_jobs=4)]: Done 4794 tasks      | elapsed: 13.9min\n",
      "[Parallel(n_jobs=4)]: Done 4860 out of 4860 | elapsed: 14.2min finished\n"
     ]
    },
    {
     "name": "stdout",
     "output_type": "stream",
     "text": [
      "Wall time: 14min 14s\n"
     ]
    },
    {
     "data": {
      "text/plain": [
       "({'criterion': 'gini',\n",
       "  'max_depth': 5,\n",
       "  'max_features': 15,\n",
       "  'min_samples_leaf': 1,\n",
       "  'min_samples_split': 6,\n",
       "  'n_estimators': 50},\n",
       " 0.90920000000000001)"
      ]
     },
     "execution_count": 43,
     "metadata": {},
     "output_type": "execute_result"
    }
   ],
   "source": [
    "%time _ = rf_clf_gs.fit(train10k_trim, np.array(train10k_labels).reshape(c, ))\n",
    "\n",
    "rf_clf_gs.best_params_, rf_clf_gs.best_score_"
   ]
  },
  {
   "cell_type": "code",
   "execution_count": 40,
   "metadata": {},
   "outputs": [
    {
     "name": "stderr",
     "output_type": "stream",
     "text": [
      "C:\\Users\\mattt\\Anaconda3\\lib\\site-packages\\ipykernel\\__main__.py:4: DataConversionWarning: A column-vector y was passed when a 1d array was expected. Please change the shape of y to (n_samples,), for example using ravel().\n",
      "[Parallel(n_jobs=-1)]: Done  30 out of  30 | elapsed:   13.6s finished\n"
     ]
    }
   ],
   "source": [
    "trim_rf_clf = RandomForestClassifier(criterion='gini', max_depth=5, \n",
    "                                      max_features=15, min_samples_leaf=1,\n",
    "                                      min_samples_split=6, n_estimators=50)\n",
    "trim_rf_clf = trim_rf_clf.fit(train10k_trim, train10k_labels)\n",
    "trim_rf_cv = cross_val_score(trim_rf_clf, train10k_trim,\n",
    "                             np.array(train10k_labels).reshape(c, ),\n",
    "                             cv=30,n_jobs=-1, verbose=1)"
   ]
  },
  {
   "cell_type": "code",
   "execution_count": 41,
   "metadata": {},
   "outputs": [
    {
     "name": "stdout",
     "output_type": "stream",
     "text": [
      "Total Classification Accuracy: 0.909 +/- 0.0015)\n",
      "[[9060    1]\n",
      " [ 939    0]]\n"
     ]
    },
    {
     "data": {
      "image/png": "[encoded data removed]",
      "text/plain": [
       "<matplotlib.figure.Figure at 0x139c00ae6d8>"
      ]
     },
     "metadata": {},
     "output_type": "display_data"
    }
   ],
   "source": [
    "print(\"Total Classification Accuracy: {:0.3f} +/- {:0.4f})\"\n",
    "      .format(trim_rf_cv.mean(), trim_rf_cv.std()))\n",
    "trim_rf_preds = trim_rf_clf.predict(test10k_trim)\n",
    "confusion_mat = metrics.confusion_matrix(test10k_labels, trim_rf_preds)\n",
    "confusion_mat_plotter(confusion_mat, [0,1], \n",
    "                      'for the RandomForest clf built on the trimmed'\n",
    "                      +' (NAs dropped) data without balancing')"
   ]
  },
  {
   "cell_type": "markdown",
   "metadata": {},
   "source": [
    "## Analysis of random forest performance with only NA removal\n",
    "\n",
    "The Random Forest classifier that I spent so much time getting hyperparameters for produces the same accuracy, but it does predict at least (well, exactly) 1 positive label.\n",
    "\n",
    "                                        Random Forest Table\n",
    "| Training Results | Sensitivity/precision | Specificity/Recall |\n",
    "| :--------------: | --------------------: | :---------------- |\n",
    "| Raw Data | $\\frac{0}{939+0} = 0$ | $\\frac{9060}{9060+1} = 0.99989$ |\n",
    "| Raw Data with Balanced Data |  |  |\n",
    "| Normalize Attributes |  |  |\n",
    "| Feature Selection |  |  |"
   ]
  },
  {
   "cell_type": "code",
   "execution_count": 16,
   "metadata": {},
   "outputs": [],
   "source": [
    "# from imblearn.over_sampling import SMOTE, ADASYN\n",
    "sm = SMOTE(kind='regular')\n",
    "c, r = train10k_labels.shape\n",
    "train10k_smote, train10k_labels_smote = sm.fit_sample(\n",
    "                                train10k_trim, np.array(train10k_labels).reshape(c, ))\n",
    "test10k_smote, test10k_labels_smote = sm.fit_sample(\n",
    "                                test10k_trim, np.array(test10k_labels).reshape(c, ))"
   ]
  },
  {
   "cell_type": "code",
   "execution_count": 42,
   "metadata": {},
   "outputs": [],
   "source": [
    "parameters = {\n",
    "    'criterion': ['entropy','gini'],\n",
    "    'max_depth': [15,25,35],\n",
    "    'min_samples_leaf': [1,4,6],\n",
    "    'min_samples_split': [2,4],\n",
    "    'random_state': [123]\n",
    "}\n",
    "\n",
    "dt_clf = tree.DecisionTreeClassifier()\n",
    "\n",
    "dt_clf_gs = GridSearchCV(dt_clf, parameters, verbose=1, cv=5, n_jobs=-1)"
   ]
  },
  {
   "cell_type": "code",
   "execution_count": 41,
   "metadata": {},
   "outputs": [
    {
     "name": "stdout",
     "output_type": "stream",
     "text": [
      "Fitting 5 folds for each of 36 candidates, totalling 180 fits\n"
     ]
    },
    {
     "name": "stderr",
     "output_type": "stream",
     "text": [
      "[Parallel(n_jobs=-1)]: Done  34 tasks      | elapsed:   30.2s\n",
      "[Parallel(n_jobs=-1)]: Done 180 out of 180 | elapsed:  2.1min finished\n"
     ]
    },
    {
     "name": "stdout",
     "output_type": "stream",
     "text": [
      "Wall time: 2min 12s\n"
     ]
    },
    {
     "data": {
      "text/plain": [
       "({'criterion': 'gini',\n",
       "  'max_depth': 35,\n",
       "  'min_samples_leaf': 4,\n",
       "  'min_samples_split': 2,\n",
       "  'random_state': 123},\n",
       " 0.88752612473875259)"
      ]
     },
     "execution_count": 41,
     "metadata": {},
     "output_type": "execute_result"
    }
   ],
   "source": [
    "train10k_smote.shape\n",
    "c_sm = train10k_labels_smote.shape\n",
    "\n",
    "%time _ = dt_clf_gs.fit(train10k_smote, np.array(train10k_labels_smote).reshape(c_sm, ))\n",
    "\n",
    "dt_clf_gs.best_params_, dt_clf_gs.best_score_"
   ]
  },
  {
   "cell_type": "code",
   "execution_count": 128,
   "metadata": {},
   "outputs": [
    {
     "name": "stderr",
     "output_type": "stream",
     "text": [
      "[Parallel(n_jobs=-1)]: Done   9 tasks      | elapsed:   12.1s\n",
      "[Parallel(n_jobs=-1)]: Done  23 out of  30 | elapsed:   21.4s remaining:    6.4s\n",
      "[Parallel(n_jobs=-1)]: Done  30 out of  30 | elapsed:   26.1s finished\n"
     ]
    }
   ],
   "source": [
    "dtree_smote = tree.DecisionTreeClassifier(criterion='gini', max_depth=25,\n",
    "                                          min_samples_leaf=4, min_samples_split=2,\n",
    "                                          random_state=123)\n",
    "dtree_smote = dtree_smote.fit(train10k_smote, train10k_labels_smote)\n",
    "dtree_smote_cv = cross_val_score(dtree_smote, train10k_smote,\n",
    "                                 train10k_labels_smote,\n",
    "                                 cv=30,n_jobs=-1, verbose=4)"
   ]
  },
  {
   "cell_type": "code",
   "execution_count": 129,
   "metadata": {},
   "outputs": [
    {
     "name": "stdout",
     "output_type": "stream",
     "text": [
      "Total Classification Accuracy: 0.897 +/- 0.1049)\n",
      "[[8265  796]\n",
      " [2250 6811]]\n"
     ]
    },
    {
     "data": {
      "image/png": "[encoded data removed]",
      "text/plain": [
       "<matplotlib.figure.Figure at 0x20935f17160>"
      ]
     },
     "metadata": {},
     "output_type": "display_data"
    }
   ],
   "source": [
    "print(\"Total Classification Accuracy: {:0.3f} +/- {:0.4f})\"\n",
    "      .format(dtree_smote_cv.mean(), dtree_smote_cv.std()))\n",
    "dtree_smote_preds = dtree_smote.predict(test10k_smote)\n",
    "confusion_mat = metrics.confusion_matrix(test10k_labels_smote, dtree_smote_preds)\n",
    "confusion_mat_plotter(confusion_mat, [0,1], \n",
    "                      'for the Decision Tree clf built on the trimmed'\n",
    "                      +' (NAs dropped) data with SMOTE')"
   ]
  },
  {
   "cell_type": "markdown",
   "metadata": {},
   "source": [
    "## Analysis of decision tree performance with SMOTE\n",
    "\n",
    "This decision tree classifier built on the balanced (via SMOTE) training and testing data isn't quite as accurate as the earlier classifier that predicted everything had the same label, but this classifier has far more sensitivity and comparable specificity. \n",
    "\n",
    "                                            Decision Tree Table\n",
    "|--- Training Results ---|--- Sensitivity/precision ---|---- Specificity/Recall ---|\n",
    "| :--------------: | --------------------: | :---------------- |\n",
    "| Raw Data | $\\frac{0}{939 + 0} = 0$ | $\\frac{9061}{10000} = 0.9061$ |\n",
    "| Raw Data with Balanced Data | $\\frac{7155}{7155+1906} = 0.7897$ | $\\frac{8154}{8154+907} = 0.8999$ |\n",
    "| Normalize Attributes |  |  |\n",
    "| Feature Selection |  |  |"
   ]
  },
  {
   "cell_type": "code",
   "execution_count": 54,
   "metadata": {},
   "outputs": [],
   "source": [
    "parameters = {\n",
    "    'criterion': ['entropy'],\n",
    "    'n_estimators': [75,100],\n",
    "    'max_depth': [10,20],\n",
    "    'max_features': [15,25],\n",
    "    'min_samples_leaf': [1,3,5],\n",
    "    'min_samples_split': [2,4,6]\n",
    "}\n",
    "\n",
    "rf_clf = RandomForestClassifier()\n",
    "\n",
    "rf_clf_gs = GridSearchCV(rf_clf, parameters, verbose=4, cv=3, n_jobs=-1)"
   ]
  },
  {
   "cell_type": "code",
   "execution_count": 55,
   "metadata": {
    "scrolled": false
   },
   "outputs": [
    {
     "name": "stdout",
     "output_type": "stream",
     "text": [
      "Fitting 3 folds for each of 72 candidates, totalling 216 fits\n"
     ]
    },
    {
     "name": "stderr",
     "output_type": "stream",
     "text": [
      "[Parallel(n_jobs=-1)]: Done   9 tasks      | elapsed:   26.3s\n",
      "[Parallel(n_jobs=-1)]: Done  82 tasks      | elapsed:  3.3min\n",
      "[Parallel(n_jobs=-1)]: Done 216 out of 216 | elapsed:  9.8min finished\n"
     ]
    },
    {
     "name": "stdout",
     "output_type": "stream",
     "text": [
      "Wall time: 10min 10s\n"
     ]
    },
    {
     "data": {
      "text/plain": [
       "({'criterion': 'entropy',\n",
       "  'max_depth': 20,\n",
       "  'max_features': 25,\n",
       "  'min_samples_leaf': 5,\n",
       "  'min_samples_split': 4,\n",
       "  'n_estimators': 75},\n",
       " 0.93625563744362561)"
      ]
     },
     "execution_count": 55,
     "metadata": {},
     "output_type": "execute_result"
    }
   ],
   "source": [
    "%time _ = rf_clf_gs.fit(train10k_smote, train10k_labels_smote)\n",
    "\n",
    "rf_clf_gs.best_params_, rf_clf_gs.best_score_"
   ]
  },
  {
   "cell_type": "code",
   "execution_count": 130,
   "metadata": {},
   "outputs": [
    {
     "name": "stderr",
     "output_type": "stream",
     "text": [
      "[Parallel(n_jobs=-1)]: Done  30 out of  30 | elapsed:  2.5min finished\n"
     ]
    }
   ],
   "source": [
    "rf_smote = RandomForestClassifier(criterion='entropy', max_depth=20,\n",
    "                                  max_features=25, min_samples_leaf=5,\n",
    "                                  min_samples_split=4, n_estimators=75)\n",
    "rf_smote = rf_smote.fit(train10k_smote, train10k_labels_smote)\n",
    "rf_smote_cv = cross_val_score(rf_smote, train10k_smote,\n",
    "                             train10k_labels_smote,\n",
    "                             cv=30,n_jobs=-1, verbose=4)"
   ]
  },
  {
   "cell_type": "code",
   "execution_count": 131,
   "metadata": {},
   "outputs": [
    {
     "name": "stdout",
     "output_type": "stream",
     "text": [
      "Total Classification Accuracy: 0.9408 +/- 0.1266)\n",
      "[[8883  178]\n",
      " [1643 7418]]\n"
     ]
    },
    {
     "data": {
      "image/png": "[encoded data removed]",
      "text/plain": [
       "<matplotlib.figure.Figure at 0x2093655d1d0>"
      ]
     },
     "metadata": {},
     "output_type": "display_data"
    }
   ],
   "source": [
    "print(\"Total Classification Accuracy: {:0.4f} +/- {:0.4f})\"\n",
    "      .format(rf_smote_cv.mean(), rf_smote_cv.std()))\n",
    "rf_smote_preds = rf_smote.predict(test10k_smote)\n",
    "confusion_mat = metrics.confusion_matrix(test10k_labels_smote, rf_smote_preds)\n",
    "confusion_mat_plotter(confusion_mat, [0,1], \n",
    "                      'for the RandomForest clf built on the trimmed'\n",
    "                      +' (NAs dropped) data with SMOTE')"
   ]
  },
  {
   "cell_type": "markdown",
   "metadata": {},
   "source": [
    "## Analysis of random forest performance with SMOTE\n",
    "\n",
    "By using the training data balanced by SMOTE and a random forest classifier, we achieved a model that is more accurate than the simple dumb model and has a vastly improved sensitivity. Now I'll investigate what impact, if any, normalization has on the accuracy, sensitivity, or specificity of our classifiers. I expect normalization won't have any significant impact on our classifiers as they're both based on decision trees, which don't depend on a distance metric. \n",
    "\n",
    "                                        Random Forest Table\n",
    "|--- Training Results ---|--- Sensitivity/precision ---|---- Specificity/Recall ---|\n",
    "| :--------------: | --------------------: | :---------------- |\n",
    "| Raw Data | $\\frac{0}{939+0} = 0$ | $\\frac{9060}{9060+1} = 0.99989$ |\n",
    "| Raw Data with Balanced Data | $\\frac{7363}{7363+1698} = 0.81260$ | $\\frac{8866}{8866+195} = 0.97848$ |\n",
    "| Normalize Attributes |  |  |\n",
    "| Feature Selection |  |  |"
   ]
  },
  {
   "cell_type": "code",
   "execution_count": 17,
   "metadata": {},
   "outputs": [],
   "source": [
    "scaler = StandardScaler()\n",
    "train10k_scaled = scaler.fit_transform(train10k_smote)\n",
    "test10k_scaled = scaler.fit_transform(test10k_smote)"
   ]
  },
  {
   "cell_type": "code",
   "execution_count": 37,
   "metadata": {},
   "outputs": [],
   "source": [
    "parameters = {\n",
    "    'criterion': ['entropy','gini'],\n",
    "    'max_depth': [25,35,45],\n",
    "    'min_samples_leaf': [1,4],\n",
    "    'min_samples_split': [2,4,6],\n",
    "    'random_state': [123]\n",
    "}\n",
    "\n",
    "dt_clf = tree.DecisionTreeClassifier()\n",
    "\n",
    "dt_clf_gs = GridSearchCV(dt_clf, parameters, verbose=4, cv=3, n_jobs=-1)"
   ]
  },
  {
   "cell_type": "code",
   "execution_count": 38,
   "metadata": {},
   "outputs": [
    {
     "name": "stdout",
     "output_type": "stream",
     "text": [
      "Fitting 3 folds for each of 36 candidates, totalling 108 fits\n"
     ]
    },
    {
     "name": "stderr",
     "output_type": "stream",
     "text": [
      "[Parallel(n_jobs=-1)]: Done   9 tasks      | elapsed:   11.0s\n",
      "[Parallel(n_jobs=-1)]: Done  82 tasks      | elapsed:   52.4s\n",
      "[Parallel(n_jobs=-1)]: Done 108 out of 108 | elapsed:  1.1min finished\n"
     ]
    },
    {
     "name": "stdout",
     "output_type": "stream",
     "text": [
      "Wall time: 1min 10s\n"
     ]
    },
    {
     "data": {
      "text/plain": [
       "({'criterion': 'entropy',\n",
       "  'max_depth': 35,\n",
       "  'min_samples_leaf': 1,\n",
       "  'min_samples_split': 4,\n",
       "  'random_state': 123},\n",
       " 0.88598614013859867)"
      ]
     },
     "execution_count": 38,
     "metadata": {},
     "output_type": "execute_result"
    }
   ],
   "source": [
    "train10k_smote.shape\n",
    "c_sm = train10k_labels_smote.shape\n",
    "%time _ = dt_clf_gs.fit(train10k_scaled, train10k_labels_smote)\n",
    "\n",
    "dt_clf_gs.best_params_, dt_clf_gs.best_score_"
   ]
  },
  {
   "cell_type": "code",
   "execution_count": 48,
   "metadata": {},
   "outputs": [
    {
     "name": "stderr",
     "output_type": "stream",
     "text": [
      "[Parallel(n_jobs=-1)]: Done   9 tasks      | elapsed:   15.2s\n",
      "[Parallel(n_jobs=-1)]: Done  23 out of  30 | elapsed:   25.3s remaining:    7.6s\n",
      "[Parallel(n_jobs=-1)]: Done  30 out of  30 | elapsed:   31.0s finished\n"
     ]
    }
   ],
   "source": [
    "dtree_scaled = tree.DecisionTreeClassifier(criterion='entropy', max_depth=35,\n",
    "                                          min_samples_leaf=1, min_samples_split=4,\n",
    "                                          random_state=123)\n",
    "dtree_scaled = dtree_scaled.fit(train10k_scaled, train10k_labels_smote)\n",
    "dtree_scaled_cv = cross_val_score(dtree_scaled, train10k_scaled,\n",
    "                                 train10k_labels_smote,\n",
    "                                 cv=30,n_jobs=-1, verbose=4)"
   ]
  },
  {
   "cell_type": "code",
   "execution_count": 54,
   "metadata": {},
   "outputs": [
    {
     "name": "stdout",
     "output_type": "stream",
     "text": [
      "Total Classification Accuracy: 0.891 +/- 0.1072)\n",
      "[[  88 8973]\n",
      " [  57 9004]]\n"
     ]
    },
    {
     "data": {
      "image/png": "[encoded data removed]",
      "text/plain": [
       "<matplotlib.figure.Figure at 0x2001bdb95c0>"
      ]
     },
     "metadata": {},
     "output_type": "display_data"
    }
   ],
   "source": [
    "print(\"Total Classification Accuracy: {:0.3f} +/- {:0.4f})\"\n",
    "      .format(dtree_scaled_cv.mean(), dtree_scaled_cv.std()))\n",
    "dtree_scaled_preds = dtree_scaled.predict(test10k_scaled)\n",
    "confusion_mat = metrics.confusion_matrix(test10k_labels_smote, dtree_scaled_preds)\n",
    "confusion_mat_plotter(confusion_mat, [0,1], \n",
    "                      'for the Decision Tree clf built on the normalized,'\n",
    "                      +' (NAs dropped), SMOTE balanced data')"
   ]
  },
  {
   "cell_type": "markdown",
   "metadata": {},
   "source": [
    "## Analysis of decision tree performance with normalized data\n",
    "\n",
    "We actually see that normalization lead to a very slight decrease in accuracy compared with the unnormalized, SMOTE'd decision tree classifier, but the major change is in the specificity, which dropped from nearly $90\\%$ down to just under $1\\%$.  \n",
    "\n",
    "                                            Decision Tree Table\n",
    "|--- Training Results ---|--- Sensitivity/precision ---|---- Specificity/Recall ---|\n",
    "| :--------------: | --------------------: | :---------------- |\n",
    "| Raw Data | $\\frac{0}{939 + 0} = 0$ | $\\frac{9061}{10000} = 0.9061$ |\n",
    "| Raw Data with Balanced Data | $\\frac{7155}{7155+1906} = 0.7897$ | $\\frac{8154}{8154+907} = 0.8999$ |\n",
    "| Normalize Attributes | $\\frac{9004}{9004+57} = 0.99371$ | $\\frac{88}{8973+88} = 0.00971$ |\n",
    "| Feature Selection |  |  |"
   ]
  },
  {
   "cell_type": "code",
   "execution_count": 53,
   "metadata": {},
   "outputs": [
    {
     "name": "stderr",
     "output_type": "stream",
     "text": [
      "[Parallel(n_jobs=-1)]: Done   9 tasks      | elapsed:  1.2min\n",
      "[Parallel(n_jobs=-1)]: Done  23 out of  30 | elapsed:  1.8min remaining:   33.4s\n",
      "[Parallel(n_jobs=-1)]: Done  30 out of  30 | elapsed:  2.4min finished\n"
     ]
    }
   ],
   "source": [
    "rf_scaled = RandomForestClassifier(criterion='entropy', max_depth=20,\n",
    "                                  max_features=25, min_samples_leaf=5,\n",
    "                                  min_samples_split=4, n_estimators=75)\n",
    "rf_scaled = rf_scaled.fit(train10k_scaled, train10k_labels_smote)\n",
    "rf_scaled_cv = cross_val_score(rf_scaled, train10k_scaled,\n",
    "                             train10k_labels_smote,\n",
    "                             cv=30,n_jobs=-1, verbose=4)"
   ]
  },
  {
   "cell_type": "code",
   "execution_count": 55,
   "metadata": {},
   "outputs": [
    {
     "name": "stdout",
     "output_type": "stream",
     "text": [
      "Total Classification Accuracy: 0.9405 +/- 0.1253)\n",
      "[[ 221 8840]\n",
      " [ 588 8473]]\n"
     ]
    },
    {
     "data": {
      "image/png": "[encoded data removed]",
      "text/plain": [
       "<matplotlib.figure.Figure at 0x2001da02748>"
      ]
     },
     "metadata": {},
     "output_type": "display_data"
    }
   ],
   "source": [
    "print(\"Total Classification Accuracy: {:0.4f} +/- {:0.4f})\"\n",
    "      .format(rf_scaled_cv.mean(), rf_scaled_cv.std()))\n",
    "rf_scaled_preds = rf_scaled.predict(test10k_smote)\n",
    "confusion_mat = metrics.confusion_matrix(test10k_labels_smote, rf_scaled_preds)\n",
    "confusion_mat_plotter(confusion_mat, [0,1], \n",
    "                      'for the RandomForest clf built on the normalized,'\n",
    "                      +' NAs dropped, SMOTE-balanced data')"
   ]
  },
  {
   "cell_type": "markdown",
   "metadata": {},
   "source": [
    "## Analysis of random forest performance with normalized data\n",
    "\n",
    "We see a similar effect with the random forest classifier (I didn't spend time adjusting hyperparameters this time). Comparable accuracy, severly harmed specificity. I had expected normalization to simply have no positive benefit for these decision tree based classifiers, but apparently by normalizing the data, it made it much harder for the classifiers to detect the class divisions in the data.  \n",
    "\n",
    "                                        Random Forest Table\n",
    "|--- Training Results ---|--- Sensitivity/precision ---|---- Specificity/Recall ---|\n",
    "| :--------------: | --------------------: | :---------------- |\n",
    "| Raw Data | $\\frac{0}{939+0} = 0$ | $\\frac{9060}{9060+1} = 0.99989$ |\n",
    "| Raw Data with Balanced Data | $\\frac{7363}{7363+1698} = 0.81260$ | $\\frac{8866}{8866+195} = 0.97848$ |\n",
    "| Normalize Attributes | $\\frac{8473}{8473+588} = 0.06489$ | $\\frac{8840}{8840+221} = 0.97561$ |\n",
    "| Feature Selection |  |  |"
   ]
  },
  {
   "cell_type": "markdown",
   "metadata": {},
   "source": [
    "## Feature Selection\n",
    "\n",
    "Next, I'll explore the impact feature selection has on classifier performance. I'll continue using the SMOTE balanced data as that clearly had a significant positive impact on classifier performance."
   ]
  },
  {
   "cell_type": "code",
   "execution_count": 19,
   "metadata": {},
   "outputs": [
    {
     "name": "stderr",
     "output_type": "stream",
     "text": [
      "[Parallel(n_jobs=-1)]: Done   2 tasks      | elapsed:    6.5s\n",
      "[Parallel(n_jobs=-1)]: Done  22 out of  30 | elapsed:   19.6s remaining:    7.1s\n",
      "[Parallel(n_jobs=-1)]: Done  30 out of  30 | elapsed:   24.4s finished\n"
     ]
    }
   ],
   "source": [
    "dtree_smote = tree.DecisionTreeClassifier(criterion='gini', max_depth=25,\n",
    "                                          min_samples_leaf=4, min_samples_split=2,\n",
    "                                          random_state=123)\n",
    "dtree_smote = dtree_smote.fit(train10k_smote, train10k_labels_smote)\n",
    "dtree_smote_cv = cross_val_score(dtree_smote, train10k_smote,\n",
    "                                 train10k_labels_smote,\n",
    "                                 cv=30,n_jobs=-1, verbose=5)"
   ]
  },
  {
   "cell_type": "code",
   "execution_count": 44,
   "metadata": {
    "scrolled": true
   },
   "outputs": [],
   "source": [
    "def feature_importance_zipper(model, feat_names, thresh=0.005):\n",
    "    n = 0\n",
    "    importances_ = [['feature', 'importance']]\n",
    "    for feat in zip(feat_names, model.feature_importances_):\n",
    "        importances_.append([feat[0], feat[1]])\n",
    "        if feat[1] >= thresh:\n",
    "            n += 1\n",
    "    importances_df = pd.DataFrame(importances_)\n",
    "    header = importances_df.iloc[0]\n",
    "    importances_df = importances_df[1:]\n",
    "    importances_df.rename(columns=header, inplace=True)\n",
    "    return importances_df.sort_values(ascending=False, by='importance').head(n)\n",
    "\n",
    "dtree_imp_feats = feature_importance_zipper(dtree_smote, train10k_trim.columns, 0.00003)\n",
    "# display(dtree_imp_feats)"
   ]
  },
  {
   "cell_type": "markdown",
   "metadata": {},
   "source": [
    "**Implementation Note**: In sklearn's implementation, the feature importances are calculated by randomly permuteing values for features and then measuring the decrease in accuracy on out-of-bag samples. After calculating importances for all features in a data set, the importances are normalized so that they sum to $1.00$."
   ]
  },
  {
   "cell_type": "code",
   "execution_count": 50,
   "metadata": {
    "scrolled": false
   },
   "outputs": [
    {
     "data": {
      "image/png": "[encoded data removed]",
      "text/plain": [
       "<matplotlib.figure.Figure at 0x2093661fcf8>"
      ]
     },
     "metadata": {},
     "output_type": "display_data"
    }
   ],
   "source": [
    "with plt.style.context('seaborn-whitegrid'):\n",
    "    fig, (ax1, ax2) = plt.subplots(nrows=2, sharex=False, figsize=(12,10))\n",
    "    ax1.plot(dtree_imp_feats['importance'].reset_index(drop=True))\n",
    "    ax1.set_title('Curve of feature importance for Decision Tree Clf Features')\n",
    "    ax1.set_xlabel('Feature Importance (ordinal, 0=highest importance)')\n",
    "    ax1.set_ylabel('Proportion of importance captured')\n",
    "    ax2.plot(dtree_imp_feats['importance'].reset_index(drop=True))\n",
    "    ax2.set_title('Curve of feature importance for Decision Tree Clf'\n",
    "                  +' Features (zoomed in on the knee)')\n",
    "    ax2.set_xlabel('Feature Importance (ordinal, 0=highest importance)')\n",
    "    ax2.set_ylabel('Proportion of importance captured')\n",
    "    ax2.set_xlim([0,30])\n",
    "    ax2.set_ylim([0,0.1])"
   ]
  },
  {
   "cell_type": "code",
   "execution_count": 48,
   "metadata": {},
   "outputs": [
    {
     "name": "stdout",
     "output_type": "stream",
     "text": [
      "The first 5 features capture 58.559% of the \"importance\".\n",
      "The first 10 features capture 66.131% of the \"importance\".\n",
      "The first 15 features capture 71.222% of the \"importance\".\n",
      "The first 20 features capture 74.378% of the \"importance\".\n"
     ]
    }
   ],
   "source": [
    "print('The first {} features capture {:0.3f}% of the \"importance\".'\n",
    "      .format(5, sum(dtree_imp_feats['importance'][0:5])*100))\n",
    "print('The first {} features capture {:0.3f}% of the \"importance\".'\n",
    "      .format(10, sum(dtree_imp_feats['importance'][0:10])*100))\n",
    "print('The first {} features capture {:0.3f}% of the \"importance\".'\n",
    "      .format(15, sum(dtree_imp_feats['importance'][0:15])*100))\n",
    "print('The first {} features capture {:0.3f}% of the \"importance\".'\n",
    "      .format(20, sum(dtree_imp_feats['importance'][0:20])*100))"
   ]
  },
  {
   "cell_type": "markdown",
   "metadata": {},
   "source": [
    "From these plots, we see the knee in the importance plot is around 5, so I'll use the 5 best try to build a classifier with the 5 best features. "
   ]
  },
  {
   "cell_type": "code",
   "execution_count": 72,
   "metadata": {},
   "outputs": [],
   "source": [
    "def select_top_feats(df_, imp_feats_, top_n=5):\n",
    "    top_feats = imp_feats_.head(top_n)\n",
    "    top_inds = [int(s.replace('x','')) for s in top_feats.feature.values]\n",
    "    return df_.take(top_inds, axis=1)\n",
    "\n",
    "train10k_top5 = select_top_feats(train10k_smote, dtree_imp_feats)\n",
    "test10k_top5 = select_top_feats(test10k_smote, dtree_imp_feats)"
   ]
  },
  {
   "cell_type": "code",
   "execution_count": 81,
   "metadata": {},
   "outputs": [],
   "source": [
    "parameters = {\n",
    "    'criterion': ['entropy','gini'],\n",
    "    'max_depth': [15,25,30,35,40,45,55],\n",
    "    'min_samples_leaf': [1,4,6],\n",
    "    'min_samples_split': [2,4],\n",
    "    'random_state': [123]\n",
    "}\n",
    "\n",
    "dt_clf = tree.DecisionTreeClassifier()\n",
    "\n",
    "dt_clf_gs = GridSearchCV(dt_clf, parameters, verbose=4, cv=30, n_jobs=-1)"
   ]
  },
  {
   "cell_type": "code",
   "execution_count": 82,
   "metadata": {},
   "outputs": [
    {
     "name": "stdout",
     "output_type": "stream",
     "text": [
      "Fitting 30 folds for each of 84 candidates, totalling 2520 fits\n"
     ]
    },
    {
     "name": "stderr",
     "output_type": "stream",
     "text": [
      "[Parallel(n_jobs=-1)]: Done   9 tasks      | elapsed:    2.2s\n",
      "[Parallel(n_jobs=-1)]: Done  82 tasks      | elapsed:    3.6s\n",
      "[Parallel(n_jobs=-1)]: Done 205 tasks      | elapsed:    6.0s\n",
      "[Parallel(n_jobs=-1)]: Done 376 tasks      | elapsed:    9.7s\n",
      "[Parallel(n_jobs=-1)]: Done 597 tasks      | elapsed:   14.5s\n",
      "[Parallel(n_jobs=-1)]: Done 866 tasks      | elapsed:   20.8s\n",
      "[Parallel(n_jobs=-1)]: Done 1185 tasks      | elapsed:   29.3s\n",
      "[Parallel(n_jobs=-1)]: Done 1552 tasks      | elapsed:   35.9s\n",
      "[Parallel(n_jobs=-1)]: Done 1969 tasks      | elapsed:   42.6s\n",
      "[Parallel(n_jobs=-1)]: Done 2434 tasks      | elapsed:   50.3s\n",
      "[Parallel(n_jobs=-1)]: Done 2520 out of 2520 | elapsed:   51.7s finished\n"
     ]
    },
    {
     "name": "stdout",
     "output_type": "stream",
     "text": [
      "Wall time: 52.4 s\n"
     ]
    },
    {
     "data": {
      "text/plain": [
       "({'criterion': 'entropy',\n",
       "  'max_depth': 45,\n",
       "  'min_samples_leaf': 4,\n",
       "  'min_samples_split': 2,\n",
       "  'random_state': 123},\n",
       " 0.89819601803981963)"
      ]
     },
     "execution_count": 82,
     "metadata": {},
     "output_type": "execute_result"
    }
   ],
   "source": [
    "# c_sm = train10k_labels_smote.shape\n",
    "%time _ = dt_clf_gs.fit(train10k_top5, train10k_labels_smote)\n",
    "\n",
    "dt_clf_gs.best_params_, dt_clf_gs.best_score_"
   ]
  },
  {
   "cell_type": "code",
   "execution_count": 83,
   "metadata": {},
   "outputs": [
    {
     "name": "stderr",
     "output_type": "stream",
     "text": [
      "[Parallel(n_jobs=-1)]: Done   9 tasks      | elapsed:    2.2s\n",
      "[Parallel(n_jobs=-1)]: Done  23 out of  30 | elapsed:    2.4s remaining:    0.7s\n",
      "[Parallel(n_jobs=-1)]: Done  30 out of  30 | elapsed:    2.6s finished\n"
     ]
    }
   ],
   "source": [
    "dtree_top5 = tree.DecisionTreeClassifier(criterion='entropy', max_depth=45,\n",
    "                                         min_samples_leaf=4, min_samples_split=2,\n",
    "                                         random_state=123)\n",
    "dtree_top5 = dtree_top5.fit(train10k_top5, train10k_labels_smote)\n",
    "dtree_top5_cv = cross_val_score(dtree_top5, train10k_top5,\n",
    "                                 train10k_labels_smote,\n",
    "                                 cv=30,n_jobs=-1, verbose=4)"
   ]
  },
  {
   "cell_type": "code",
   "execution_count": 84,
   "metadata": {},
   "outputs": [
    {
     "name": "stdout",
     "output_type": "stream",
     "text": [
      "Total Classification Accuracy: 0.8982 +/- 0.1252)\n",
      "[[8493  568]\n",
      " [1893 7168]]\n"
     ]
    },
    {
     "data": {
      "image/png": "[encoded data removed]",
      "text/plain": [
       "<matplotlib.figure.Figure at 0x2093684b7f0>"
      ]
     },
     "metadata": {},
     "output_type": "display_data"
    }
   ],
   "source": [
    "print(\"Total Classification Accuracy: {:0.4f} +/- {:0.4f})\"\n",
    "      .format(dtree_top5_cv.mean(), dtree_top5_cv.std()))\n",
    "dtree_top5_preds = dtree_top5.predict(test10k_top5)\n",
    "confusion_mat = metrics.confusion_matrix(test10k_labels_smote, dtree_top5_preds)\n",
    "confusion_mat_plotter(confusion_mat, [0,1], \n",
    "                      'for the Decision Tree clf built on the top 5 features of' \n",
    "                      + ' the normalized, no NAs, SMOTE-balanced data')"
   ]
  },
  {
   "cell_type": "markdown",
   "metadata": {},
   "source": [
    "## Analysis of decision tree performance with SMOTE and feature selection\n",
    "This combination of preprocessing steps produced the best decision tree classifier yet. Compared with the classifier built on the (SMOTE and NA-drop)-only dataset, this classifier has both better sensitivity and better specificity, indicating that the many unimportant features added variance without benefit, and by trimming them, there was less noise obscuring the actual divisions between classes. Compared with the 'Normalized' classifier, this classifier doesn't have as high a score in sensitivity, but that's because that classifier was nearly as lopsided as the 'Raw' classifier, causing this classifier to have a massivly better specificity.\n",
    "\n",
    "Another benefit of performing feature selection on the dataset is that GridSearch took way less time!\n",
    "\n",
    "                                           Decision Tree Table\n",
    "|--- Training Results ---|--- Sensitivity/precision ---|---- Specificity/Recall ---|\n",
    "| :--------------: | --------------------: | :---------------- |\n",
    "| Raw Data | $\\frac{0}{939+0} = 0$ | $\\frac{9061}{10000} = 0.9061$ |\n",
    "| Raw Data with Balanced Data | $\\frac{7155}{7155+1906} = 0.7897$ | $\\frac{8154}{8154+907} = 0.8999$ |\n",
    "| Normalize Attributes | $\\frac{9004}{9004+57} = 0.99371$ | $\\frac{88}{8973+88} = 0.00971$ |\n",
    "| Feature Selection + SMOTE | $\\frac{7168}{7168+1893} = 0.79108$ | $\\frac{8493}{8493+568}=0.93731$ |"
   ]
  },
  {
   "cell_type": "code",
   "execution_count": null,
   "metadata": {
    "scrolled": true
   },
   "outputs": [],
   "source": []
  },
  {
   "cell_type": "code",
   "execution_count": 118,
   "metadata": {},
   "outputs": [],
   "source": [
    "parameters = {\n",
    "    'criterion': ['entropy'],\n",
    "    'n_estimators': [50,75],\n",
    "    'max_depth': [40,50,75],\n",
    "    'max_features': [5],\n",
    "    'min_samples_leaf': [3,5],\n",
    "    'min_samples_split': [4,6]\n",
    "}\n",
    "\n",
    "rf_clf = RandomForestClassifier()\n",
    "\n",
    "rf_clf_gs = GridSearchCV(rf_clf, parameters, verbose=4, cv=3, n_jobs=-1)"
   ]
  },
  {
   "cell_type": "code",
   "execution_count": 119,
   "metadata": {},
   "outputs": [
    {
     "data": {
      "text/plain": [
       "(18182, 5)"
      ]
     },
     "metadata": {},
     "output_type": "display_data"
    },
    {
     "data": {
      "text/plain": [
       "(18182, 323)"
      ]
     },
     "metadata": {},
     "output_type": "display_data"
    }
   ],
   "source": [
    "display(train10k_top5.shape)\n",
    "display(train10k_smote.shape)"
   ]
  },
  {
   "cell_type": "code",
   "execution_count": 120,
   "metadata": {},
   "outputs": [
    {
     "name": "stdout",
     "output_type": "stream",
     "text": [
      "Fitting 3 folds for each of 24 candidates, totalling 72 fits\n"
     ]
    },
    {
     "name": "stderr",
     "output_type": "stream",
     "text": [
      "[Parallel(n_jobs=-1)]: Done   9 tasks      | elapsed:    7.2s\n",
      "[Parallel(n_jobs=-1)]: Done  72 out of  72 | elapsed:   41.7s finished\n"
     ]
    },
    {
     "name": "stdout",
     "output_type": "stream",
     "text": [
      "Wall time: 47.1 s\n"
     ]
    },
    {
     "data": {
      "text/plain": [
       "({'criterion': 'entropy',\n",
       "  'max_depth': 40,\n",
       "  'max_features': 5,\n",
       "  'min_samples_leaf': 3,\n",
       "  'min_samples_split': 4,\n",
       "  'n_estimators': 75},\n",
       " 0.91964580354196457)"
      ]
     },
     "execution_count": 120,
     "metadata": {},
     "output_type": "execute_result"
    }
   ],
   "source": [
    "%time _ = rf_clf_gs.fit(train10k_top5, train10k_labels_smote)\n",
    "\n",
    "rf_clf_gs.best_params_, rf_clf_gs.best_score_"
   ]
  },
  {
   "cell_type": "code",
   "execution_count": 122,
   "metadata": {},
   "outputs": [
    {
     "name": "stderr",
     "output_type": "stream",
     "text": [
      "[Parallel(n_jobs=-1)]: Done   2 tasks      | elapsed:   10.7s\n",
      "[Parallel(n_jobs=-1)]: Done  22 out of  30 | elapsed:   32.9s remaining:   11.9s\n",
      "[Parallel(n_jobs=-1)]: Done  30 out of  30 | elapsed:   41.0s finished\n"
     ]
    }
   ],
   "source": [
    "rf_top5 = RandomForestClassifier(criterion='entropy', max_depth=40,\n",
    "                                  max_features=5, min_samples_leaf=3,\n",
    "                                  min_samples_split=4, n_estimators=75)\n",
    "rf_top5 = rf_top5.fit(train10k_top5, train10k_labels_smote)\n",
    "rf_top5_cv = cross_val_score(rf_top5, train10k_smote,\n",
    "                             train10k_labels_smote,\n",
    "                             cv=30,n_jobs=-1, verbose=5)"
   ]
  },
  {
   "cell_type": "code",
   "execution_count": 127,
   "metadata": {},
   "outputs": [
    {
     "name": "stdout",
     "output_type": "stream",
     "text": [
      "Total Classification Accuracy: 0.9368 +/- 0.1108)\n",
      "[[8929  132]\n",
      " [1963 7098]]\n"
     ]
    },
    {
     "data": {
      "image/png": "[encoded data removed]",
      "text/plain": [
       "<matplotlib.figure.Figure at 0x2093672a898>"
      ]
     },
     "metadata": {},
     "output_type": "display_data"
    }
   ],
   "source": [
    "print(\"Total Classification Accuracy: {:0.4f} +/- {:0.4f})\"\n",
    "      .format(rf_top5_cv.mean(), rf_top5_cv.std()))\n",
    "rf_top5_preds = rf_top5.predict(test10k_top5)\n",
    "confusion_mat = metrics.confusion_matrix(test10k_labels_smote, rf_top5_preds)\n",
    "confusion_mat_plotter(confusion_mat, [0,1], \n",
    "                      'for the Random Forest clf built on the top 5 features of' \n",
    "                      + ' the normalized, no NAs, SMOTE-balanced data')"
   ]
  },
  {
   "cell_type": "markdown",
   "metadata": {},
   "source": [
    "## Analysis of random forest performance with SMOTE and feature selection\n",
    "Not too bad, this classifier performed comparably to the 'SMOTE' random forest classifier. This did slightly better on specificity ($~0.985$ vs. $~0.978$), but didn't do quite as well regarding sensitivity ($~0.783$ vs $~0.813$). But it was much less time consuming to explore different parameters.\n",
    "\n",
    "                                        Random Forest Table\n",
    "|--- Training Results ---|--- Sensitivity/precision ---|---- Specificity/Recall ---|\n",
    "| :--------------: | --------------------: | :---------------- |\n",
    "| Raw Data | $\\frac{0}{939+0} = 0$ | $\\frac{9060}{9060+1} = 0.99989$ |\n",
    "| Raw Data with Balanced Data | $\\frac{7363}{7363+1698} = 0.81260$ | $\\frac{8866}{8866+195} = 0.97848$ |\n",
    "| Normalize Attributes | $\\frac{8473}{8473+588} = 0.06489$ | $\\frac{8840}{8840+221} = 0.97561$ |\n",
    "| Feature Selection | $\\frac{7098}{7098+1963}=0.78336$ | $\\frac{8929}{8929+132}=0.98543$ |"
   ]
  },
  {
   "cell_type": "code",
   "execution_count": null,
   "metadata": {},
   "outputs": [],
   "source": []
  },
  {
   "cell_type": "code",
   "execution_count": null,
   "metadata": {},
   "outputs": [],
   "source": []
  },
  {
   "cell_type": "code",
   "execution_count": 123,
   "metadata": {
    "scrolled": true
   },
   "outputs": [],
   "source": [
    "# help(sns.countplot)\n",
    "# help(pd.read_csv)\n",
    "# help(pd.DataFrame.drop)\n",
    "# help(SMOTE.fit_sample)\n",
    "# help(StandardScaler)"
   ]
  },
  {
   "cell_type": "code",
   "execution_count": null,
   "metadata": {
    "collapsed": true
   },
   "outputs": [],
   "source": [
    "\n",
    "\n",
    "\n",
    "\n",
    "\n",
    "\n",
    "\n",
    "\n",
    "\n",
    "\n",
    "\n",
    "\n",
    "\n",
    "\n",
    "\n",
    "\n",
    "\n",
    "\n",
    "\n",
    "\n",
    "\n",
    "\n",
    "\n",
    "\n",
    "\n",
    "\n",
    "\n",
    "\n",
    "\n",
    "\n",
    "\n",
    "\n",
    "\n",
    "\n",
    "\n",
    "\n",
    "\n",
    "\n",
    "\n",
    "\n",
    "\n",
    "\n",
    "\n",
    "\n",
    "\n",
    "\n",
    "\n",
    "\n",
    "\n",
    "\n",
    "\n",
    "\n",
    "\n",
    "\n",
    "\n",
    "\n",
    "\n",
    "\n",
    "\n",
    "\n",
    "\n",
    "\n"
   ]
  }
 ],
 "metadata": {
  "anaconda-cloud": {},
  "kernelspec": {
   "display_name": "Python [default]",
   "language": "python",
   "name": "python3"
  },
  "language_info": {
   "codemirror_mode": {
    "name": "ipython",
    "version": 3
   },
   "file_extension": ".py",
   "mimetype": "text/x-python",
   "name": "python",
   "nbconvert_exporter": "python",
   "pygments_lexer": "ipython3",
   "version": "3.5.4"
  }
 },
 "nbformat": 4,
 "nbformat_minor": 2
}
