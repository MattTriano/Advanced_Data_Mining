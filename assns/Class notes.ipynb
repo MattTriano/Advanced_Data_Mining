{
 "cells": [
  {
   "cell_type": "markdown",
   "metadata": {},
   "source": [
    "# Model Performance Evaluation\n",
    "\n",
    "* Error rates = $\\frac{\\# of misclassified}{total \\# of cases}$\n",
    "* Sampling Techniques\n",
    "* Split data\n",
    "    * training: resubstitution error\n",
    "    * testing: generalization error\n",
    "    \n",
    "* Models with parameters that need to be tuned\n",
    "    * Decision Trees\n",
    "    * KNN\n",
    "    * NN\n",
    "    * SVM\n"
   ]
  },
  {
   "cell_type": "markdown",
   "metadata": {},
   "source": []
  }
 ],
 "metadata": {
  "kernelspec": {
   "display_name": "Python [default]",
   "language": "python",
   "name": "python3"
  },
  "language_info": {
   "codemirror_mode": {
    "name": "ipython",
    "version": 3
   },
   "file_extension": ".py",
   "mimetype": "text/x-python",
   "name": "python",
   "nbconvert_exporter": "python",
   "pygments_lexer": "ipython3",
   "version": "3.5.4"
  }
 },
 "nbformat": 4,
 "nbformat_minor": 2
}
