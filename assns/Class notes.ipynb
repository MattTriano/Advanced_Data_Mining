{
 "cells": [
  {
   "cell_type": "markdown",
   "metadata": {},
   "source": [
    "# Model Performance Evaluation\n",
    "\n",
    "* Error rates = $\\frac{\\# of misclassified}{total \\# of cases}$\n",
    "* Sampling Techniques\n",
    "* Split data\n",
    "    * training: resubstitution error\n",
    "    * testing: generalization error\n",
    "    \n",
    "* Models with parameters that need to be tuned\n",
    "    * Decision Trees\n",
    "    * KNN\n",
    "    * NN\n",
    "    * SVM\n",
    "* Sampling techniques\n",
    "    * Hold-out:  Basically train_test_split, retain a portion of the data for training the model and use the remainder to test that model.\n",
    "    * Stratified hold-out: If X percent of the total population is category A and 100-X percent of the total population is category Y, when making the test set, you'll want to maintain that proportion in your training and testing sets. \n",
    "    \n",
    "* ROC curves\n",
    "* Lift Charts\n",
    "* Gain charts\n",
    "\n",
    "* BAGGing (Bootstrap AGGrigation): only effective when using unstable nonlinear models (ie small changes to the training set can cause significant model changes)\n",
    "\n",
    "\n",
    "Homogeneous Ensembles of Classifiers (EC)\n",
    "\n",
    "Constructed Independently EC:\n",
    "* Bagging\n",
    "* Random Forest (something = $\\sqrt{m}$ where $m$ is the number of features.\n",
    "* Rotation Forest\n",
    "\n",
    "Constructed Dependently\n",
    "* Boosting\n",
    "* Stacking\n",
    "\n",
    "### AdaBoost\n",
    "Bounding the training error:\n",
    "* Thm: the training error is bounded by the following expression:\n",
    "$$ \\hat{err}(H) \\leq \\prod_{t=1}^T 2\\sqrt{\\epsilon_t(1-\\epsilon_t)} $$\n",
    "$$ =\\prod_t $$\n",
    "\n",
    "Bounding the generalization error\n",
    "$$ \\hat{err}(H) \\leq \\hat{err}(H) + \\mathcal{O}\\Bigg(\\sqrt{\\frac{Td + ln\\frac{1}{\\delta}}{m}}\\Bigg) $$"
   ]
  },
  {
   "cell_type": "markdown",
   "metadata": {},
   "source": []
  }
 ],
 "metadata": {
  "anaconda-cloud": {},
  "kernelspec": {
   "display_name": "Python [default]",
   "language": "python",
   "name": "python3"
  },
  "language_info": {
   "codemirror_mode": {
    "name": "ipython",
    "version": 3
   },
   "file_extension": ".py",
   "mimetype": "text/x-python",
   "name": "python",
   "nbconvert_exporter": "python",
   "pygments_lexer": "ipython3",
   "version": "3.5.4"
  }
 },
 "nbformat": 4,
 "nbformat_minor": 2
}
