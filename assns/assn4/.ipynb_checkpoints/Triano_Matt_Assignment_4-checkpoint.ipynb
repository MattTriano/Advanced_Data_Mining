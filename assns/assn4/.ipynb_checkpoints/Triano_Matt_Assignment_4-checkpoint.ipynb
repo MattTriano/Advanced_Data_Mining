{
 "cells": [
  {
   "cell_type": "markdown",
   "metadata": {},
   "source": [
    "# CSC529 Assignment 4\n",
    "## Matt Triano"
   ]
  },
  {
   "cell_type": "code",
   "execution_count": 80,
   "metadata": {},
   "outputs": [],
   "source": [
    "import pandas as pd\n",
    "import matplotlib.pyplot as plt\n",
    "import seaborn as sns\n",
    "import numpy as np\n",
    "import copy\n",
    "import warnings\n",
    "from IPython.display import display\n",
    "from IPython.display import Image\n",
    "%matplotlib inline\n",
    "\n",
    "from sklearn.model_selection import StratifiedKFold\n",
    "from sklearn.model_selection import RepeatedStratifiedKFold\n",
    "\n",
    "from sklearn.preprocessing import StandardScaler\n",
    "from sklearn.metrics import accuracy_score\n",
    "from sklearn.model_selection import GridSearchCV\n",
    "from sklearn.model_selection import train_test_split\n",
    "from sklearn.model_selection import cross_val_score\n",
    "from sklearn.model_selection import cross_val_predict\n",
    "from sklearn.tree import DecisionTreeClassifier\n",
    "\n",
    "from sklearn.metrics import confusion_matrix\n",
    "\n",
    "from sklearn.ensemble import AdaBoostClassifier\n",
    "from imblearn.over_sampling import SMOTE, ADASYN\n",
    "from sklearn.svm import SVC\n",
    "from sklearn.svm import LinearSVC\n",
    "\n",
    "from sklearn.pipeline import Pipeline\n",
    "\n",
    "g_cmap = sns.light_palette('seagreen', n_colors=10, as_cmap=True)"
   ]
  },
  {
   "cell_type": "code",
   "execution_count": 2,
   "metadata": {},
   "outputs": [
    {
     "data": {
      "text/html": [
       "<div>\n",
       "<style>\n",
       "    .dataframe thead tr:only-child th {\n",
       "        text-align: right;\n",
       "    }\n",
       "\n",
       "    .dataframe thead th {\n",
       "        text-align: left;\n",
       "    }\n",
       "\n",
       "    .dataframe tbody tr th {\n",
       "        vertical-align: top;\n",
       "    }\n",
       "</style>\n",
       "<table border=\"1\" class=\"dataframe\">\n",
       "  <thead>\n",
       "    <tr style=\"text-align: right;\">\n",
       "      <th></th>\n",
       "      <th>wf_make</th>\n",
       "      <th>wf_address</th>\n",
       "      <th>wf_all</th>\n",
       "      <th>wf_3d</th>\n",
       "      <th>wf_our</th>\n",
       "      <th>wf_over</th>\n",
       "      <th>wf_remove</th>\n",
       "      <th>wf_internet</th>\n",
       "      <th>wf_order</th>\n",
       "      <th>wf_mail</th>\n",
       "      <th>...</th>\n",
       "      <th>wf_conference</th>\n",
       "      <th>cf_;</th>\n",
       "      <th>cf_(</th>\n",
       "      <th>cf_[</th>\n",
       "      <th>cf_!</th>\n",
       "      <th>cf_$</th>\n",
       "      <th>cf_#</th>\n",
       "      <th>crl_average</th>\n",
       "      <th>crl_longest</th>\n",
       "      <th>crl_total</th>\n",
       "    </tr>\n",
       "  </thead>\n",
       "  <tbody>\n",
       "    <tr>\n",
       "      <th>0</th>\n",
       "      <td>0.00</td>\n",
       "      <td>0.64</td>\n",
       "      <td>0.64</td>\n",
       "      <td>0.0</td>\n",
       "      <td>0.32</td>\n",
       "      <td>0.00</td>\n",
       "      <td>0.00</td>\n",
       "      <td>0.00</td>\n",
       "      <td>0.00</td>\n",
       "      <td>0.00</td>\n",
       "      <td>...</td>\n",
       "      <td>0.0</td>\n",
       "      <td>0.00</td>\n",
       "      <td>0.000</td>\n",
       "      <td>0.0</td>\n",
       "      <td>0.778</td>\n",
       "      <td>0.000</td>\n",
       "      <td>0.000</td>\n",
       "      <td>3.756</td>\n",
       "      <td>61</td>\n",
       "      <td>278</td>\n",
       "    </tr>\n",
       "    <tr>\n",
       "      <th>1</th>\n",
       "      <td>0.21</td>\n",
       "      <td>0.28</td>\n",
       "      <td>0.50</td>\n",
       "      <td>0.0</td>\n",
       "      <td>0.14</td>\n",
       "      <td>0.28</td>\n",
       "      <td>0.21</td>\n",
       "      <td>0.07</td>\n",
       "      <td>0.00</td>\n",
       "      <td>0.94</td>\n",
       "      <td>...</td>\n",
       "      <td>0.0</td>\n",
       "      <td>0.00</td>\n",
       "      <td>0.132</td>\n",
       "      <td>0.0</td>\n",
       "      <td>0.372</td>\n",
       "      <td>0.180</td>\n",
       "      <td>0.048</td>\n",
       "      <td>5.114</td>\n",
       "      <td>101</td>\n",
       "      <td>1028</td>\n",
       "    </tr>\n",
       "    <tr>\n",
       "      <th>2</th>\n",
       "      <td>0.06</td>\n",
       "      <td>0.00</td>\n",
       "      <td>0.71</td>\n",
       "      <td>0.0</td>\n",
       "      <td>1.23</td>\n",
       "      <td>0.19</td>\n",
       "      <td>0.19</td>\n",
       "      <td>0.12</td>\n",
       "      <td>0.64</td>\n",
       "      <td>0.25</td>\n",
       "      <td>...</td>\n",
       "      <td>0.0</td>\n",
       "      <td>0.01</td>\n",
       "      <td>0.143</td>\n",
       "      <td>0.0</td>\n",
       "      <td>0.276</td>\n",
       "      <td>0.184</td>\n",
       "      <td>0.010</td>\n",
       "      <td>9.821</td>\n",
       "      <td>485</td>\n",
       "      <td>2259</td>\n",
       "    </tr>\n",
       "    <tr>\n",
       "      <th>3</th>\n",
       "      <td>0.00</td>\n",
       "      <td>0.00</td>\n",
       "      <td>0.00</td>\n",
       "      <td>0.0</td>\n",
       "      <td>0.63</td>\n",
       "      <td>0.00</td>\n",
       "      <td>0.31</td>\n",
       "      <td>0.63</td>\n",
       "      <td>0.31</td>\n",
       "      <td>0.63</td>\n",
       "      <td>...</td>\n",
       "      <td>0.0</td>\n",
       "      <td>0.00</td>\n",
       "      <td>0.137</td>\n",
       "      <td>0.0</td>\n",
       "      <td>0.137</td>\n",
       "      <td>0.000</td>\n",
       "      <td>0.000</td>\n",
       "      <td>3.537</td>\n",
       "      <td>40</td>\n",
       "      <td>191</td>\n",
       "    </tr>\n",
       "    <tr>\n",
       "      <th>4</th>\n",
       "      <td>0.00</td>\n",
       "      <td>0.00</td>\n",
       "      <td>0.00</td>\n",
       "      <td>0.0</td>\n",
       "      <td>0.63</td>\n",
       "      <td>0.00</td>\n",
       "      <td>0.31</td>\n",
       "      <td>0.63</td>\n",
       "      <td>0.31</td>\n",
       "      <td>0.63</td>\n",
       "      <td>...</td>\n",
       "      <td>0.0</td>\n",
       "      <td>0.00</td>\n",
       "      <td>0.135</td>\n",
       "      <td>0.0</td>\n",
       "      <td>0.135</td>\n",
       "      <td>0.000</td>\n",
       "      <td>0.000</td>\n",
       "      <td>3.537</td>\n",
       "      <td>40</td>\n",
       "      <td>191</td>\n",
       "    </tr>\n",
       "  </tbody>\n",
       "</table>\n",
       "<p>5 rows × 57 columns</p>\n",
       "</div>"
      ],
      "text/plain": [
       "   wf_make  wf_address  wf_all  wf_3d  wf_our  wf_over  wf_remove  \\\n",
       "0     0.00        0.64    0.64    0.0    0.32     0.00       0.00   \n",
       "1     0.21        0.28    0.50    0.0    0.14     0.28       0.21   \n",
       "2     0.06        0.00    0.71    0.0    1.23     0.19       0.19   \n",
       "3     0.00        0.00    0.00    0.0    0.63     0.00       0.31   \n",
       "4     0.00        0.00    0.00    0.0    0.63     0.00       0.31   \n",
       "\n",
       "   wf_internet  wf_order  wf_mail    ...      wf_conference  cf_;   cf_(  \\\n",
       "0         0.00      0.00     0.00    ...                0.0  0.00  0.000   \n",
       "1         0.07      0.00     0.94    ...                0.0  0.00  0.132   \n",
       "2         0.12      0.64     0.25    ...                0.0  0.01  0.143   \n",
       "3         0.63      0.31     0.63    ...                0.0  0.00  0.137   \n",
       "4         0.63      0.31     0.63    ...                0.0  0.00  0.135   \n",
       "\n",
       "   cf_[   cf_!   cf_$   cf_#  crl_average  crl_longest  crl_total  \n",
       "0   0.0  0.778  0.000  0.000        3.756           61        278  \n",
       "1   0.0  0.372  0.180  0.048        5.114          101       1028  \n",
       "2   0.0  0.276  0.184  0.010        9.821          485       2259  \n",
       "3   0.0  0.137  0.000  0.000        3.537           40        191  \n",
       "4   0.0  0.135  0.000  0.000        3.537           40        191  \n",
       "\n",
       "[5 rows x 57 columns]"
      ]
     },
     "metadata": {},
     "output_type": "display_data"
    },
    {
     "data": {
      "text/plain": [
       "0    1\n",
       "1    1\n",
       "2    1\n",
       "3    1\n",
       "4    1\n",
       "Name: spam, dtype: int64"
      ]
     },
     "metadata": {},
     "output_type": "display_data"
    },
    {
     "data": {
      "text/plain": [
       "(4601, 58)"
      ]
     },
     "metadata": {},
     "output_type": "display_data"
    }
   ],
   "source": [
    "data_raw = pd.read_csv('spambase.csv')\n",
    "spam_labels = data_raw['spam']\n",
    "data_df = data_raw.drop('spam', axis=1)\n",
    "scaler = StandardScaler()\n",
    "scaled_data_df = scaler.fit_transform(data_df)\n",
    "display(data_df.head(5))\n",
    "display(spam_labels.head(5))\n",
    "display(data_raw.shape)"
   ]
  },
  {
   "cell_type": "code",
   "execution_count": 3,
   "metadata": {},
   "outputs": [
    {
     "data": {
      "text/html": [
       "<div>\n",
       "<style>\n",
       "    .dataframe thead tr:only-child th {\n",
       "        text-align: right;\n",
       "    }\n",
       "\n",
       "    .dataframe thead th {\n",
       "        text-align: left;\n",
       "    }\n",
       "\n",
       "    .dataframe tbody tr th {\n",
       "        vertical-align: top;\n",
       "    }\n",
       "</style>\n",
       "<table border=\"1\" class=\"dataframe\">\n",
       "  <thead>\n",
       "    <tr style=\"text-align: right;\">\n",
       "      <th></th>\n",
       "      <th>wf_make</th>\n",
       "      <th>wf_address</th>\n",
       "      <th>wf_all</th>\n",
       "      <th>wf_3d</th>\n",
       "      <th>wf_our</th>\n",
       "      <th>wf_over</th>\n",
       "      <th>wf_remove</th>\n",
       "      <th>wf_internet</th>\n",
       "      <th>wf_order</th>\n",
       "      <th>wf_mail</th>\n",
       "      <th>...</th>\n",
       "      <th>cf_;</th>\n",
       "      <th>cf_(</th>\n",
       "      <th>cf_[</th>\n",
       "      <th>cf_!</th>\n",
       "      <th>cf_$</th>\n",
       "      <th>cf_#</th>\n",
       "      <th>crl_average</th>\n",
       "      <th>crl_longest</th>\n",
       "      <th>crl_total</th>\n",
       "      <th>spam</th>\n",
       "    </tr>\n",
       "  </thead>\n",
       "  <tbody>\n",
       "    <tr>\n",
       "      <th>count</th>\n",
       "      <td>4601.000000</td>\n",
       "      <td>4601.000000</td>\n",
       "      <td>4601.000000</td>\n",
       "      <td>4601.000000</td>\n",
       "      <td>4601.000000</td>\n",
       "      <td>4601.000000</td>\n",
       "      <td>4601.000000</td>\n",
       "      <td>4601.000000</td>\n",
       "      <td>4601.000000</td>\n",
       "      <td>4601.000000</td>\n",
       "      <td>...</td>\n",
       "      <td>4601.000000</td>\n",
       "      <td>4601.000000</td>\n",
       "      <td>4601.000000</td>\n",
       "      <td>4601.000000</td>\n",
       "      <td>4601.000000</td>\n",
       "      <td>4601.000000</td>\n",
       "      <td>4601.000000</td>\n",
       "      <td>4601.000000</td>\n",
       "      <td>4601.000000</td>\n",
       "      <td>4601.000000</td>\n",
       "    </tr>\n",
       "    <tr>\n",
       "      <th>mean</th>\n",
       "      <td>0.104553</td>\n",
       "      <td>0.213015</td>\n",
       "      <td>0.280656</td>\n",
       "      <td>0.065425</td>\n",
       "      <td>0.312223</td>\n",
       "      <td>0.095901</td>\n",
       "      <td>0.114208</td>\n",
       "      <td>0.105295</td>\n",
       "      <td>0.090067</td>\n",
       "      <td>0.239413</td>\n",
       "      <td>...</td>\n",
       "      <td>0.038575</td>\n",
       "      <td>0.139030</td>\n",
       "      <td>0.016976</td>\n",
       "      <td>0.269071</td>\n",
       "      <td>0.075811</td>\n",
       "      <td>0.044238</td>\n",
       "      <td>5.191515</td>\n",
       "      <td>52.172789</td>\n",
       "      <td>283.289285</td>\n",
       "      <td>0.394045</td>\n",
       "    </tr>\n",
       "    <tr>\n",
       "      <th>std</th>\n",
       "      <td>0.305358</td>\n",
       "      <td>1.290575</td>\n",
       "      <td>0.504143</td>\n",
       "      <td>1.395151</td>\n",
       "      <td>0.672513</td>\n",
       "      <td>0.273824</td>\n",
       "      <td>0.391441</td>\n",
       "      <td>0.401071</td>\n",
       "      <td>0.278616</td>\n",
       "      <td>0.644755</td>\n",
       "      <td>...</td>\n",
       "      <td>0.243471</td>\n",
       "      <td>0.270355</td>\n",
       "      <td>0.109394</td>\n",
       "      <td>0.815672</td>\n",
       "      <td>0.245882</td>\n",
       "      <td>0.429342</td>\n",
       "      <td>31.729449</td>\n",
       "      <td>194.891310</td>\n",
       "      <td>606.347851</td>\n",
       "      <td>0.488698</td>\n",
       "    </tr>\n",
       "    <tr>\n",
       "      <th>min</th>\n",
       "      <td>0.000000</td>\n",
       "      <td>0.000000</td>\n",
       "      <td>0.000000</td>\n",
       "      <td>0.000000</td>\n",
       "      <td>0.000000</td>\n",
       "      <td>0.000000</td>\n",
       "      <td>0.000000</td>\n",
       "      <td>0.000000</td>\n",
       "      <td>0.000000</td>\n",
       "      <td>0.000000</td>\n",
       "      <td>...</td>\n",
       "      <td>0.000000</td>\n",
       "      <td>0.000000</td>\n",
       "      <td>0.000000</td>\n",
       "      <td>0.000000</td>\n",
       "      <td>0.000000</td>\n",
       "      <td>0.000000</td>\n",
       "      <td>1.000000</td>\n",
       "      <td>1.000000</td>\n",
       "      <td>1.000000</td>\n",
       "      <td>0.000000</td>\n",
       "    </tr>\n",
       "    <tr>\n",
       "      <th>25%</th>\n",
       "      <td>0.000000</td>\n",
       "      <td>0.000000</td>\n",
       "      <td>0.000000</td>\n",
       "      <td>0.000000</td>\n",
       "      <td>0.000000</td>\n",
       "      <td>0.000000</td>\n",
       "      <td>0.000000</td>\n",
       "      <td>0.000000</td>\n",
       "      <td>0.000000</td>\n",
       "      <td>0.000000</td>\n",
       "      <td>...</td>\n",
       "      <td>0.000000</td>\n",
       "      <td>0.000000</td>\n",
       "      <td>0.000000</td>\n",
       "      <td>0.000000</td>\n",
       "      <td>0.000000</td>\n",
       "      <td>0.000000</td>\n",
       "      <td>1.588000</td>\n",
       "      <td>6.000000</td>\n",
       "      <td>35.000000</td>\n",
       "      <td>0.000000</td>\n",
       "    </tr>\n",
       "    <tr>\n",
       "      <th>50%</th>\n",
       "      <td>0.000000</td>\n",
       "      <td>0.000000</td>\n",
       "      <td>0.000000</td>\n",
       "      <td>0.000000</td>\n",
       "      <td>0.000000</td>\n",
       "      <td>0.000000</td>\n",
       "      <td>0.000000</td>\n",
       "      <td>0.000000</td>\n",
       "      <td>0.000000</td>\n",
       "      <td>0.000000</td>\n",
       "      <td>...</td>\n",
       "      <td>0.000000</td>\n",
       "      <td>0.065000</td>\n",
       "      <td>0.000000</td>\n",
       "      <td>0.000000</td>\n",
       "      <td>0.000000</td>\n",
       "      <td>0.000000</td>\n",
       "      <td>2.276000</td>\n",
       "      <td>15.000000</td>\n",
       "      <td>95.000000</td>\n",
       "      <td>0.000000</td>\n",
       "    </tr>\n",
       "    <tr>\n",
       "      <th>75%</th>\n",
       "      <td>0.000000</td>\n",
       "      <td>0.000000</td>\n",
       "      <td>0.420000</td>\n",
       "      <td>0.000000</td>\n",
       "      <td>0.380000</td>\n",
       "      <td>0.000000</td>\n",
       "      <td>0.000000</td>\n",
       "      <td>0.000000</td>\n",
       "      <td>0.000000</td>\n",
       "      <td>0.160000</td>\n",
       "      <td>...</td>\n",
       "      <td>0.000000</td>\n",
       "      <td>0.188000</td>\n",
       "      <td>0.000000</td>\n",
       "      <td>0.315000</td>\n",
       "      <td>0.052000</td>\n",
       "      <td>0.000000</td>\n",
       "      <td>3.706000</td>\n",
       "      <td>43.000000</td>\n",
       "      <td>266.000000</td>\n",
       "      <td>1.000000</td>\n",
       "    </tr>\n",
       "    <tr>\n",
       "      <th>max</th>\n",
       "      <td>4.540000</td>\n",
       "      <td>14.280000</td>\n",
       "      <td>5.100000</td>\n",
       "      <td>42.810000</td>\n",
       "      <td>10.000000</td>\n",
       "      <td>5.880000</td>\n",
       "      <td>7.270000</td>\n",
       "      <td>11.110000</td>\n",
       "      <td>5.260000</td>\n",
       "      <td>18.180000</td>\n",
       "      <td>...</td>\n",
       "      <td>4.385000</td>\n",
       "      <td>9.752000</td>\n",
       "      <td>4.081000</td>\n",
       "      <td>32.478000</td>\n",
       "      <td>6.003000</td>\n",
       "      <td>19.829000</td>\n",
       "      <td>1102.500000</td>\n",
       "      <td>9989.000000</td>\n",
       "      <td>15841.000000</td>\n",
       "      <td>1.000000</td>\n",
       "    </tr>\n",
       "  </tbody>\n",
       "</table>\n",
       "<p>8 rows × 58 columns</p>\n",
       "</div>"
      ],
      "text/plain": [
       "           wf_make   wf_address       wf_all        wf_3d       wf_our  \\\n",
       "count  4601.000000  4601.000000  4601.000000  4601.000000  4601.000000   \n",
       "mean      0.104553     0.213015     0.280656     0.065425     0.312223   \n",
       "std       0.305358     1.290575     0.504143     1.395151     0.672513   \n",
       "min       0.000000     0.000000     0.000000     0.000000     0.000000   \n",
       "25%       0.000000     0.000000     0.000000     0.000000     0.000000   \n",
       "50%       0.000000     0.000000     0.000000     0.000000     0.000000   \n",
       "75%       0.000000     0.000000     0.420000     0.000000     0.380000   \n",
       "max       4.540000    14.280000     5.100000    42.810000    10.000000   \n",
       "\n",
       "           wf_over    wf_remove  wf_internet     wf_order      wf_mail  \\\n",
       "count  4601.000000  4601.000000  4601.000000  4601.000000  4601.000000   \n",
       "mean      0.095901     0.114208     0.105295     0.090067     0.239413   \n",
       "std       0.273824     0.391441     0.401071     0.278616     0.644755   \n",
       "min       0.000000     0.000000     0.000000     0.000000     0.000000   \n",
       "25%       0.000000     0.000000     0.000000     0.000000     0.000000   \n",
       "50%       0.000000     0.000000     0.000000     0.000000     0.000000   \n",
       "75%       0.000000     0.000000     0.000000     0.000000     0.160000   \n",
       "max       5.880000     7.270000    11.110000     5.260000    18.180000   \n",
       "\n",
       "          ...              cf_;         cf_(         cf_[         cf_!  \\\n",
       "count     ...       4601.000000  4601.000000  4601.000000  4601.000000   \n",
       "mean      ...          0.038575     0.139030     0.016976     0.269071   \n",
       "std       ...          0.243471     0.270355     0.109394     0.815672   \n",
       "min       ...          0.000000     0.000000     0.000000     0.000000   \n",
       "25%       ...          0.000000     0.000000     0.000000     0.000000   \n",
       "50%       ...          0.000000     0.065000     0.000000     0.000000   \n",
       "75%       ...          0.000000     0.188000     0.000000     0.315000   \n",
       "max       ...          4.385000     9.752000     4.081000    32.478000   \n",
       "\n",
       "              cf_$         cf_#  crl_average  crl_longest     crl_total  \\\n",
       "count  4601.000000  4601.000000  4601.000000  4601.000000   4601.000000   \n",
       "mean      0.075811     0.044238     5.191515    52.172789    283.289285   \n",
       "std       0.245882     0.429342    31.729449   194.891310    606.347851   \n",
       "min       0.000000     0.000000     1.000000     1.000000      1.000000   \n",
       "25%       0.000000     0.000000     1.588000     6.000000     35.000000   \n",
       "50%       0.000000     0.000000     2.276000    15.000000     95.000000   \n",
       "75%       0.052000     0.000000     3.706000    43.000000    266.000000   \n",
       "max       6.003000    19.829000  1102.500000  9989.000000  15841.000000   \n",
       "\n",
       "              spam  \n",
       "count  4601.000000  \n",
       "mean      0.394045  \n",
       "std       0.488698  \n",
       "min       0.000000  \n",
       "25%       0.000000  \n",
       "50%       0.000000  \n",
       "75%       1.000000  \n",
       "max       1.000000  \n",
       "\n",
       "[8 rows x 58 columns]"
      ]
     },
     "execution_count": 3,
     "metadata": {},
     "output_type": "execute_result"
    }
   ],
   "source": [
    "data_raw.describe()"
   ]
  },
  {
   "cell_type": "code",
   "execution_count": 4,
   "metadata": {},
   "outputs": [
    {
     "data": {
      "image/png": "[encoded data removed]",
      "text/plain": [
       "<matplotlib.figure.Figure at 0x16695147550>"
      ]
     },
     "metadata": {},
     "output_type": "display_data"
    }
   ],
   "source": [
    "with plt.style.context('seaborn-whitegrid'):\n",
    "    fig, ax0 = plt.subplots(nrows=1, ncols=1,figsize=(8,8))\n",
    "    sns.countplot(x='spam', data=data_raw, ax=ax0)\n",
    "    ax0.set_ylabel('Count', fontsize=12)\n",
    "    ax0.set_xticklabels(['Not Spam', 'Spam'])    \n",
    "    ax0.set_title('Spam distribution')"
   ]
  },
  {
   "cell_type": "code",
   "execution_count": 5,
   "metadata": {},
   "outputs": [],
   "source": [
    "def print_clf_grid_stats(grid_clf, gamma=False, wantPrint=True):\n",
    "    print('C value that produces the most accurate model: {}'.format(grid_clf.best_params_))\n",
    "    print('Score of the most accurate model: {:.6f} \\n'.format(grid_clf.best_score_))\n",
    "    means = grid_clf.cv_results_['mean_test_score']\n",
    "    stdevs = grid_clf.cv_results_['std_test_score']\n",
    "    c_list_ = []\n",
    "    g_list_ = []\n",
    "    if wantPrint:\n",
    "        print('   --- Mean accuracy (+/- standard deviation) for different C values ---')\n",
    "    for mean, stdev, param in zip(means, stdevs, grid_clf.cv_results_['params']):\n",
    "        c_list_.append(param['C'])\n",
    "        if gamma:\n",
    "            g_list_.append(param['gamma'])\n",
    "        if wantPrint:\n",
    "            print('{:0.3f} (+/- {:0.3f}) for the model with parameters {}'\n",
    "                  .format(mean, stdev, param))\n",
    "    return means, stdevs, c_list_, g_list_"
   ]
  },
  {
   "cell_type": "code",
   "execution_count": 6,
   "metadata": {},
   "outputs": [],
   "source": [
    "# Apparently Seaborn's tsplot will be deprecated, so I made just made a similar\n",
    "#  plot using matplotlib (Seaborn is just a nice wrapper for matplotlib anyway)\n",
    "def errorbar_lineplot(ax, x, y, stdev, **kw):\n",
    "    c_intervals = (y - stdev, y + stdev)\n",
    "    ax.fill_between(x, c_intervals[0], c_intervals[1], alpha=0.2, **kw)\n",
    "    ax.plot(x, y, **kw)"
   ]
  },
  {
   "cell_type": "code",
   "execution_count": 72,
   "metadata": {},
   "outputs": [],
   "source": [
    "g_cmap = sns.light_palette('seagreen', n_colors=10, as_cmap=True)\n",
    "def confusion_mat_plotter(cfn_matrix, class_labels, title, ax, cmap=g_cmap):\n",
    "#     print(cfn_matrix)\n",
    "    sns.heatmap(cfn_matrix.T, square=True, annot=True, fmt='d', cbar=False, \n",
    "            xticklabels=class_labels, yticklabels=class_labels, ax=ax, cmap=g_cmap)\n",
    "    ax.set_xlabel('True Class')\n",
    "    ax.set_ylabel('Predicted Class')\n",
    "    ax.set_title('Confusion Matrix ' + title)"
   ]
  },
  {
   "cell_type": "markdown",
   "metadata": {},
   "source": [
    "# Problem 1\n",
    "\n",
    "## SVC Explorations\n",
    "\n",
    "GridSearchCV builds models with all of the combinations of values enumerated in the param_... variable and includes performance information and model specifications in its output. Through an iterative process of expanding parameter windows (when a best model use a parameter at one extreme of its given range) and then increasing parameter resolution when a rough best value is identified.\n",
    "\n",
    "### Linear Kernel SVC "
   ]
  },
  {
   "cell_type": "code",
   "execution_count": 7,
   "metadata": {},
   "outputs": [],
   "source": [
    "param_lin = [\n",
    "  {'C': [5e-05, 5e-04, 1e-03, 5e-03, 0.01, 0.02, 0.03, 0.04, 0.05, 0.06, 0.07,\n",
    "         0.08, 0.09, 0.1, 0.2, 0.3, 0.5, 0.7, 0.9, 1, 1.5, 2, 5, 10, 20],\n",
    "  'loss': ['hinge']}\n",
    "]\n",
    "svm_clf = LinearSVC()"
   ]
  },
  {
   "cell_type": "code",
   "execution_count": 9,
   "metadata": {
    "scrolled": false
   },
   "outputs": [
    {
     "name": "stdout",
     "output_type": "stream",
     "text": [
      "Fitting 10 folds for each of 25 candidates, totalling 250 fits\n"
     ]
    },
    {
     "name": "stderr",
     "output_type": "stream",
     "text": [
      "[Parallel(n_jobs=-1)]: Done   2 tasks      | elapsed:    1.1s\n",
      "[Parallel(n_jobs=-1)]: Done  16 tasks      | elapsed:    3.1s\n",
      "[Parallel(n_jobs=-1)]: Done  34 tasks      | elapsed:    3.5s\n",
      "[Parallel(n_jobs=-1)]: Done  56 tasks      | elapsed:    4.0s\n",
      "[Parallel(n_jobs=-1)]: Done  82 tasks      | elapsed:    4.6s\n",
      "[Parallel(n_jobs=-1)]: Done 112 tasks      | elapsed:    5.3s\n",
      "[Parallel(n_jobs=-1)]: Done 146 tasks      | elapsed:    6.4s\n",
      "[Parallel(n_jobs=-1)]: Done 184 tasks      | elapsed:    8.4s\n",
      "[Parallel(n_jobs=-1)]: Done 226 tasks      | elapsed:   12.8s\n",
      "[Parallel(n_jobs=-1)]: Done 250 out of 250 | elapsed:   17.8s finished\n"
     ]
    },
    {
     "name": "stdout",
     "output_type": "stream",
     "text": [
      "Wall time: 18.5 s\n"
     ]
    },
    {
     "data": {
      "text/plain": [
       "GridSearchCV(cv=10, error_score='raise',\n",
       "       estimator=LinearSVC(C=1.0, class_weight=None, dual=True, fit_intercept=True,\n",
       "     intercept_scaling=1, loss='squared_hinge', max_iter=1000,\n",
       "     multi_class='ovr', penalty='l2', random_state=None, tol=0.0001,\n",
       "     verbose=0),\n",
       "       fit_params=None, iid=True, n_jobs=-1,\n",
       "       param_grid=[{'C': [5e-05, 0.0005, 0.001, 0.005, 0.01, 0.02, 0.03, 0.04, 0.05, 0.06, 0.07, 0.08, 0.09, 0.1, 0.2, 0.3, 0.5, 0.7, 0.9, 1, 1.5, 2, 5, 10, 20], 'loss': ['hinge']}],\n",
       "       pre_dispatch='2*n_jobs', refit=True, return_train_score=True,\n",
       "       scoring=None, verbose=9)"
      ]
     },
     "execution_count": 9,
     "metadata": {},
     "output_type": "execute_result"
    }
   ],
   "source": [
    "svm_lin_clf_grid = GridSearchCV(svm_clf, param_lin, verbose=9, cv=10, n_jobs=-1)\n",
    "\n",
    "%time svm_lin_clf_grid.fit(scaled_data_df, spam_labels.values)"
   ]
  },
  {
   "cell_type": "code",
   "execution_count": 11,
   "metadata": {
    "scrolled": false
   },
   "outputs": [
    {
     "name": "stdout",
     "output_type": "stream",
     "text": [
      "C value that produces the most accurate model: {'C': 0.03, 'loss': 'hinge'}\n",
      "Score of the most accurate model: 0.921539 \n",
      "\n",
      "   --- Mean accuracy (+/- standard deviation) for different C values ---\n",
      "0.891 (+/- 0.044) for the model with parameters {'C': 5e-05, 'loss': 'hinge'}\n",
      "0.887 (+/- 0.027) for the model with parameters {'C': 0.0005, 'loss': 'hinge'}\n",
      "0.895 (+/- 0.023) for the model with parameters {'C': 0.001, 'loss': 'hinge'}\n",
      "0.912 (+/- 0.019) for the model with parameters {'C': 0.005, 'loss': 'hinge'}\n",
      "0.915 (+/- 0.021) for the model with parameters {'C': 0.01, 'loss': 'hinge'}\n",
      "0.918 (+/- 0.022) for the model with parameters {'C': 0.02, 'loss': 'hinge'}\n",
      "0.922 (+/- 0.023) for the model with parameters {'C': 0.03, 'loss': 'hinge'}\n",
      "0.912 (+/- 0.028) for the model with parameters {'C': 0.04, 'loss': 'hinge'}\n",
      "0.913 (+/- 0.028) for the model with parameters {'C': 0.05, 'loss': 'hinge'}\n",
      "0.912 (+/- 0.030) for the model with parameters {'C': 0.06, 'loss': 'hinge'}\n",
      "0.913 (+/- 0.029) for the model with parameters {'C': 0.07, 'loss': 'hinge'}\n",
      "0.912 (+/- 0.030) for the model with parameters {'C': 0.08, 'loss': 'hinge'}\n",
      "0.913 (+/- 0.030) for the model with parameters {'C': 0.09, 'loss': 'hinge'}\n",
      "0.913 (+/- 0.030) for the model with parameters {'C': 0.1, 'loss': 'hinge'}\n",
      "0.919 (+/- 0.027) for the model with parameters {'C': 0.2, 'loss': 'hinge'}\n",
      "0.919 (+/- 0.027) for the model with parameters {'C': 0.3, 'loss': 'hinge'}\n",
      "0.913 (+/- 0.032) for the model with parameters {'C': 0.5, 'loss': 'hinge'}\n",
      "0.913 (+/- 0.033) for the model with parameters {'C': 0.7, 'loss': 'hinge'}\n",
      "0.920 (+/- 0.027) for the model with parameters {'C': 0.9, 'loss': 'hinge'}\n",
      "0.920 (+/- 0.028) for the model with parameters {'C': 1, 'loss': 'hinge'}\n",
      "0.919 (+/- 0.028) for the model with parameters {'C': 1.5, 'loss': 'hinge'}\n",
      "0.920 (+/- 0.025) for the model with parameters {'C': 2, 'loss': 'hinge'}\n",
      "0.920 (+/- 0.028) for the model with parameters {'C': 5, 'loss': 'hinge'}\n",
      "0.920 (+/- 0.030) for the model with parameters {'C': 10, 'loss': 'hinge'}\n",
      "0.918 (+/- 0.030) for the model with parameters {'C': 20, 'loss': 'hinge'}\n"
     ]
    }
   ],
   "source": [
    "lin_means, lin_stdevs, lin_Cs,_ = print_clf_grid_stats(svm_lin_clf_grid,\n",
    "                                                      wantPrint=True)\n",
    "# svm_lin_clf_grid.best_params_\n",
    "# svm_lin_clf_grid.cv_results_['param_linsvm_clf__C']"
   ]
  },
  {
   "cell_type": "code",
   "execution_count": 14,
   "metadata": {},
   "outputs": [
    {
     "data": {
      "image/png": "[encoded data removed]",
      "text/plain": [
       "<matplotlib.figure.Figure at 0x166952a6128>"
      ]
     },
     "metadata": {},
     "output_type": "display_data"
    }
   ],
   "source": [
    "with plt.style.context('seaborn-whitegrid'):\n",
    "    fig, (ax1, ax2) = plt.subplots(nrows=2, sharex=False, figsize=(8,12))\n",
    "    errorbar_lineplot(ax1, lin_Cs, lin_means, lin_stdevs)\n",
    "    ax1.set_xlabel('C Value', fontsize=12)\n",
    "    ax1.set_ylabel('Model Accuracy', fontsize=12)\n",
    "    ax1.set_ylim([0.6,1.05])\n",
    "    ax1.set_xlim([-0.1,5])\n",
    "    ax1.set_title('Linear SVC Classification Accuracy as a fctn of C', fontsize=14)\n",
    "    errorbar_lineplot(ax2, lin_Cs, lin_means, lin_stdevs)\n",
    "    ax2.set_xlabel('C Value', fontsize=12)\n",
    "    ax2.set_ylabel('Model Accuracy', fontsize=1)\n",
    "    ax2.set_ylim([0.88,0.95])\n",
    "    ax2.set_xlim([-0.005,1.25])\n",
    "    ax2.set_title('Linear SVC Classification Accuracy as a fctn of C (zoomed in)', fontsize=14)"
   ]
  },
  {
   "cell_type": "code",
   "execution_count": 37,
   "metadata": {},
   "outputs": [
    {
     "name": "stdout",
     "output_type": "stream",
     "text": [
      "Param values that produces the most accurate model:\n",
      "    {'C': 0.03, 'loss': 'hinge'}\n",
      "Score of the most accurate model:\n",
      "    0.921539 \n",
      "\n"
     ]
    }
   ],
   "source": [
    "print('Param values that produces the most accurate model:\\n    {}'\n",
    "          .format(svm_lin_clf_grid.best_params_))\n",
    "print('Score of the most accurate model:\\n    {:.6f} \\n'\n",
    "          .format(svm_lin_clf_grid.best_score_))"
   ]
  },
  {
   "cell_type": "code",
   "execution_count": 75,
   "metadata": {},
   "outputs": [],
   "source": [
    "best_lin_svm_clf = LinearSVC(C=0.003, loss='hinge')"
   ]
  },
  {
   "cell_type": "code",
   "execution_count": 77,
   "metadata": {},
   "outputs": [],
   "source": [
    "dat_train, dat_test, cls_train, cls_test = train_test_split(scaled_data_df, \n",
    "                                                            spam_labels.values, \n",
    "                                                            test_size=0.34, \n",
    "                                                            random_state=1234)"
   ]
  },
  {
   "cell_type": "code",
   "execution_count": 81,
   "metadata": {},
   "outputs": [],
   "source": [
    "best_lin_svm_clf.fit(dat_train, cls_train)\n",
    "preds = best_lin_svm_clf.predict(dat_test)\n",
    "cfn_mat = confusion_matrix(cls_test, preds)"
   ]
  },
  {
   "cell_type": "code",
   "execution_count": null,
   "metadata": {},
   "outputs": [],
   "source": [
    "with plt.style.context('seaborn-whitegrid'):\n",
    "    fig, ax = plt.subplots(nrows=1, sharex=False, figsize=(9,7))\n",
    "    confusion_mat_plotter(cfn_mat, )"
   ]
  },
  {
   "cell_type": "code",
   "execution_count": null,
   "metadata": {},
   "outputs": [],
   "source": [
    "preds_ = clf_.predict(d_test_sm)\n",
    "cfn_ = confusion_matrix(cls_test_sm, preds_, [0,1])\n"
   ]
  },
  {
   "cell_type": "markdown",
   "metadata": {},
   "source": [
    "### Gaussian Kernel SVC"
   ]
  },
  {
   "cell_type": "code",
   "execution_count": 17,
   "metadata": {},
   "outputs": [],
   "source": [
    "param_rbf = [\n",
    "  {'C': [0.01, 0.1, 1, 10, 35, 50, 65, 100, 250, 500], \n",
    "   'gamma': [5e-05, 1e-04, 5e-04, 1e-03, 5e-03, 0.01, 0.05, 0.1, 0.5]\n",
    "  }]\n",
    "rbf_svm_clf = SVC()"
   ]
  },
  {
   "cell_type": "code",
   "execution_count": 18,
   "metadata": {
    "scrolled": false
   },
   "outputs": [
    {
     "name": "stdout",
     "output_type": "stream",
     "text": [
      "Fitting 3 folds for each of 90 candidates, totalling 270 fits\n"
     ]
    },
    {
     "name": "stderr",
     "output_type": "stream",
     "text": [
      "[Parallel(n_jobs=-1)]: Done   2 tasks      | elapsed:    5.5s\n",
      "[Parallel(n_jobs=-1)]: Done  16 tasks      | elapsed:   20.8s\n",
      "[Parallel(n_jobs=-1)]: Done  34 tasks      | elapsed:   29.8s\n",
      "[Parallel(n_jobs=-1)]: Done  56 tasks      | elapsed:   39.2s\n",
      "[Parallel(n_jobs=-1)]: Done  82 tasks      | elapsed:   45.4s\n",
      "[Parallel(n_jobs=-1)]: Done 112 tasks      | elapsed:   51.3s\n",
      "[Parallel(n_jobs=-1)]: Done 146 tasks      | elapsed:   57.1s\n",
      "[Parallel(n_jobs=-1)]: Done 184 tasks      | elapsed:  1.1min\n",
      "[Parallel(n_jobs=-1)]: Done 226 tasks      | elapsed:  1.2min\n",
      "[Parallel(n_jobs=-1)]: Done 270 out of 270 | elapsed:  1.4min finished\n"
     ]
    },
    {
     "name": "stdout",
     "output_type": "stream",
     "text": [
      "Wall time: 1min 23s\n"
     ]
    },
    {
     "data": {
      "text/plain": [
       "GridSearchCV(cv=3, error_score='raise',\n",
       "       estimator=SVC(C=1.0, cache_size=200, class_weight=None, coef0=0.0,\n",
       "  decision_function_shape='ovr', degree=3, gamma='auto', kernel='rbf',\n",
       "  max_iter=-1, probability=False, random_state=None, shrinking=True,\n",
       "  tol=0.001, verbose=False),\n",
       "       fit_params=None, iid=True, n_jobs=-1,\n",
       "       param_grid=[{'C': [0.01, 0.1, 1, 10, 35, 50, 65, 100, 250, 500], 'gamma': [5e-05, 0.0001, 0.0005, 0.001, 0.005, 0.01, 0.05, 0.1, 0.5]}],\n",
       "       pre_dispatch='2*n_jobs', refit=True, return_train_score=True,\n",
       "       scoring=None, verbose=9)"
      ]
     },
     "execution_count": 18,
     "metadata": {},
     "output_type": "execute_result"
    }
   ],
   "source": [
    "svm_rbf_clf_grid = GridSearchCV(rbf_svm_clf, param_rbf, verbose=9, cv=3, n_jobs=-1)\n",
    "\n",
    "%time svm_rbf_clf_grid.fit(scaled_data_df, spam_labels)"
   ]
  },
  {
   "cell_type": "code",
   "execution_count": 19,
   "metadata": {},
   "outputs": [
    {
     "name": "stdout",
     "output_type": "stream",
     "text": [
      "C value that produces the most accurate model: {'C': 50, 'gamma': 0.001}\n",
      "Score of the most accurate model: 0.926538 \n",
      "\n"
     ]
    }
   ],
   "source": [
    "rbf_means, rbf_stdevs, rbf_Cs, rbf_gammas = \\\n",
    "                                print_clf_grid_stats(svm_rbf_clf_grid, \n",
    "                                                     gamma=True, \n",
    "                                                     wantPrint=False)"
   ]
  },
  {
   "cell_type": "code",
   "execution_count": 51,
   "metadata": {},
   "outputs": [],
   "source": [
    "gamma2sigma = lambda x: np.sqrt(1/(2*x))\n",
    "sigmafier = np.vectorize(gamma2sigma)\n",
    "sigma_list = sigmafier(rbf_gammas)"
   ]
  },
  {
   "cell_type": "code",
   "execution_count": 22,
   "metadata": {},
   "outputs": [],
   "source": [
    "rbf_mean_dict = {'mean_acc': rbf_means,\n",
    "                 'sigma':sigma_list,\n",
    "                 'C': rbf_Cs}\n",
    "rbf_mean_df = pd.DataFrame(rbf_mean_dict)"
   ]
  },
  {
   "cell_type": "code",
   "execution_count": 23,
   "metadata": {},
   "outputs": [
    {
     "data": {
      "image/png": "[encoded data removed]",
      "text/plain": [
       "<matplotlib.figure.Figure at 0x166952d2390>"
      ]
     },
     "metadata": {},
     "output_type": "display_data"
    }
   ],
   "source": [
    "rbf_mean_piv = rbf_mean_df.pivot(index='C', values='mean_acc', columns='sigma')\n",
    "with plt.style.context('seaborn-whitegrid'):\n",
    "    fig, ax = plt.subplots(nrows=1, sharex=False, figsize=(9,7))\n",
    "    ax = sns.heatmap(rbf_mean_piv, linewidths=0.5, annot=True, fmt='0.3f')\n",
    "    ax.set_title('RBF SVC Accuracy for Different Values of C and Sigma', fontsize=16)"
   ]
  },
  {
   "cell_type": "code",
   "execution_count": 59,
   "metadata": {},
   "outputs": [
    {
     "name": "stdout",
     "output_type": "stream",
     "text": [
      "Param values that produces the most accurate model: {'C': 50, 'gamma': 0.001}\n",
      "Score of the most accurate model:     0.9265\n",
      "Sigma value for best gamma (0.0010): 22.3607\n"
     ]
    }
   ],
   "source": [
    "print('Param values that produces the most accurate model: {}'\n",
    "          .format(svm_rbf_clf_grid.best_params_))\n",
    "print('Score of the most accurate model: {:10.4f}'\n",
    "          .format(svm_rbf_clf_grid.best_score_))\n",
    "x=0.001\n",
    "print('Sigma value for best gamma ({:0.4f}): {:0.4f}'.format(x,np.sqrt(1/(2*x))))"
   ]
  },
  {
   "cell_type": "markdown",
   "metadata": {},
   "source": [
    "## Polynomial Kernel SVC\n",
    "\n",
    "Per the heatmap of results, we see that the best model had an accuracy on $0.918$ with parameters $C=1$ and $Degree=1$.\n",
    "\n",
    "Aside: I just discovered what Pipeline does and it solves one of my main roadblocks on my final project. If you aren't familiar, you can enter a sequence of preprocessing steps into a Pipeline and it will allow you to automatically keep the testing and training sets isolated even when invoking preprocessing. "
   ]
  },
  {
   "cell_type": "code",
   "execution_count": 25,
   "metadata": {},
   "outputs": [],
   "source": [
    "svm_pipe_clf = Pipeline(steps=[('scaler', StandardScaler()),\n",
    "                               ('svm_clf', SVC())])"
   ]
  },
  {
   "cell_type": "code",
   "execution_count": 60,
   "metadata": {},
   "outputs": [],
   "source": [
    "param_nonlin = [\n",
    "    {'svm_clf__kernel': ['poly'],\n",
    "    'svm_clf__degree': [1,2,3],\n",
    "    'svm_clf__C': [0.01, 1, 2, 3, 5]}\n",
    "]"
   ]
  },
  {
   "cell_type": "code",
   "execution_count": 61,
   "metadata": {},
   "outputs": [
    {
     "name": "stdout",
     "output_type": "stream",
     "text": [
      "Fitting 10 folds for each of 15 candidates, totalling 150 fits\n"
     ]
    },
    {
     "name": "stderr",
     "output_type": "stream",
     "text": [
      "[Parallel(n_jobs=-1)]: Done   2 tasks      | elapsed:    4.6s\n",
      "[Parallel(n_jobs=-1)]: Done  16 tasks      | elapsed:   23.1s\n",
      "[Parallel(n_jobs=-1)]: Done  34 tasks      | elapsed:   33.1s\n",
      "[Parallel(n_jobs=-1)]: Done  56 tasks      | elapsed:   42.9s\n",
      "[Parallel(n_jobs=-1)]: Done  82 tasks      | elapsed:   53.8s\n",
      "[Parallel(n_jobs=-1)]: Done 112 tasks      | elapsed:  1.1min\n",
      "[Parallel(n_jobs=-1)]: Done 150 out of 150 | elapsed:  1.3min finished\n"
     ]
    },
    {
     "name": "stdout",
     "output_type": "stream",
     "text": [
      "Wall time: 1min 18s\n"
     ]
    },
    {
     "data": {
      "text/plain": [
       "GridSearchCV(cv=10, error_score='raise',\n",
       "       estimator=Pipeline(memory=None,\n",
       "     steps=[('scaler', StandardScaler(copy=True, with_mean=True, with_std=True)), ('svm_clf', SVC(C=1.0, cache_size=200, class_weight=None, coef0=0.0,\n",
       "  decision_function_shape='ovr', degree=3, gamma='auto', kernel='rbf',\n",
       "  max_iter=-1, probability=False, random_state=None, shrinking=True,\n",
       "  tol=0.001, verbose=False))]),\n",
       "       fit_params=None, iid=True, n_jobs=-1,\n",
       "       param_grid=[{'svm_clf__C': [0.01, 1, 2, 3, 5], 'svm_clf__kernel': ['poly'], 'svm_clf__degree': [1, 2, 3]}],\n",
       "       pre_dispatch='2*n_jobs', refit=True, return_train_score=True,\n",
       "       scoring=None, verbose=9)"
      ]
     },
     "execution_count": 61,
     "metadata": {},
     "output_type": "execute_result"
    }
   ],
   "source": [
    "svm_poly_grid = GridSearchCV(svm_pipe_clf, param_nonlin, cv=10, n_jobs=-1, verbose=9)\n",
    "\n",
    "%time svm_poly_grid.fit(data_df, spam_labels)"
   ]
  },
  {
   "cell_type": "code",
   "execution_count": 62,
   "metadata": {},
   "outputs": [
    {
     "name": "stdout",
     "output_type": "stream",
     "text": [
      "Best Polynomial SVC score: 0.9178 \n",
      "Best Params: {'svm_clf__C': 1, 'svm_clf__kernel': 'poly', 'svm_clf__degree': 1}\n"
     ]
    }
   ],
   "source": [
    "# svm_poly_grid.cv_results_['param_svm_clf__C'].data\n",
    "# svm_poly_grid.cv_results_['params']\n",
    "print('Best Polynomial SVC score: {:0.4f} \\nBest Params: {}'\n",
    "      .format(svm_poly_grid.best_score_, svm_poly_grid.best_params_))"
   ]
  },
  {
   "cell_type": "code",
   "execution_count": 63,
   "metadata": {},
   "outputs": [],
   "source": [
    "poly_dict = {'mean_acc': svm_poly_grid.cv_results_['mean_test_score'], \n",
    "                 'degree': svm_poly_grid.cv_results_['param_svm_clf__degree'].data,\n",
    "                 'C': svm_poly_grid.cv_results_['param_svm_clf__C'].data}\n",
    "poly_df = pd.DataFrame(poly_dict)"
   ]
  },
  {
   "cell_type": "code",
   "execution_count": 71,
   "metadata": {
    "scrolled": false
   },
   "outputs": [
    {
     "data": {
      "image/png": "[encoded data removed]",
      "text/plain": [
       "<matplotlib.figure.Figure at 0x16698ff5ac8>"
      ]
     },
     "metadata": {},
     "output_type": "display_data"
    }
   ],
   "source": [
    "poly_piv = poly_df.pivot(index='C', values='mean_acc', columns='degree')\n",
    "with plt.style.context('seaborn-whitegrid'):\n",
    "    fig, ax = plt.subplots(nrows=1, sharex=False, figsize=(10,7))\n",
    "    ax = sns.heatmap(poly_piv, linewidths=0.5, annot=True, fmt='0.3f')\n",
    "    ax.set_title('Poly SVC Accuracy for Different Values of Degree and C', fontsize=16)"
   ]
  },
  {
   "cell_type": "code",
   "execution_count": 36,
   "metadata": {},
   "outputs": [
    {
     "name": "stdout",
     "output_type": "stream",
     "text": [
      "Param values that produces the most accurate model:\n",
      "    {'svm_clf__C': 1, 'svm_clf__kernel': 'poly', 'svm_clf__degree': 1}\n",
      "Score of the most accurate model:\n",
      "    0.917844 \n",
      "\n"
     ]
    }
   ],
   "source": [
    "print('Param values that produces the most accurate model:\\n    {}'\n",
    "          .format(svm_poly_grid.best_params_))\n",
    "print('Score of the most accurate model:\\n    {:.6f} \\n'\n",
    "          .format(svm_poly_grid.best_score_))"
   ]
  },
  {
   "cell_type": "code",
   "execution_count": 62,
   "metadata": {},
   "outputs": [],
   "source": [
    "best_poly_pipe_clf = Pipeline(steps=[('scaler', StandardScaler()),\n",
    "                                     ('svm_clf', SVC(kernel='poly', C=1.0, degree=0.1))])"
   ]
  },
  {
   "cell_type": "code",
   "execution_count": null,
   "metadata": {},
   "outputs": [],
   "source": []
  },
  {
   "cell_type": "code",
   "execution_count": null,
   "metadata": {},
   "outputs": [],
   "source": []
  },
  {
   "cell_type": "markdown",
   "metadata": {},
   "source": [
    "## 1b: AdaBoost"
   ]
  },
  {
   "cell_type": "code",
   "execution_count": 68,
   "metadata": {},
   "outputs": [],
   "source": [
    "d_stumps = DecisionTreeClassifier(max_depth=1)\n",
    "\n",
    "param_ada = {\n",
    "    'base_estimator': [d_stumps],\n",
    "    'n_estimators': [100],\n",
    "    'algorithm': ['SAMME.R'],\n",
    "    'learning_rate': [0.3, 0.5, 0.7]\n",
    "}\n",
    "\n",
    "ada_clf = AdaBoostClassifier()\n",
    "# ada_clf = ada_clf.fit(X_train, y_train)"
   ]
  },
  {
   "cell_type": "code",
   "execution_count": 69,
   "metadata": {
    "scrolled": false
   },
   "outputs": [
    {
     "name": "stdout",
     "output_type": "stream",
     "text": [
      "Fitting 10 folds for each of 3 candidates, totalling 30 fits\n"
     ]
    },
    {
     "name": "stderr",
     "output_type": "stream",
     "text": [
      "[Parallel(n_jobs=-1)]: Done   2 tasks      | elapsed:    3.6s\n",
      "[Parallel(n_jobs=-1)]: Done  19 out of  30 | elapsed:   13.2s remaining:    7.6s\n",
      "[Parallel(n_jobs=-1)]: Done  23 out of  30 | elapsed:   13.3s remaining:    4.0s\n",
      "[Parallel(n_jobs=-1)]: Done  27 out of  30 | elapsed:   14.8s remaining:    1.6s\n",
      "[Parallel(n_jobs=-1)]: Done  30 out of  30 | elapsed:   14.8s finished\n"
     ]
    },
    {
     "name": "stdout",
     "output_type": "stream",
     "text": [
      "Wall time: 16.1 s\n"
     ]
    },
    {
     "data": {
      "text/plain": [
       "GridSearchCV(cv=10, error_score='raise',\n",
       "       estimator=AdaBoostClassifier(algorithm='SAMME.R', base_estimator=None,\n",
       "          learning_rate=1.0, n_estimators=50, random_state=None),\n",
       "       fit_params=None, iid=True, n_jobs=-1,\n",
       "       param_grid={'base_estimator': [DecisionTreeClassifier(class_weight=None, criterion='gini', max_depth=1,\n",
       "            max_features=None, max_leaf_nodes=None,\n",
       "            min_impurity_decrease=0.0, min_impurity_split=None,\n",
       "            min_samples_leaf=1, min_samples_split=2,\n",
       "            min_weight_fraction_leaf=0.0, presort=False, random_state=None,\n",
       "            splitter='best')], 'learning_rate': [0.3, 0.5, 0.7], 'algorithm': ['SAMME.R'], 'n_estimators': [100]},\n",
       "       pre_dispatch='2*n_jobs', refit=True, return_train_score=True,\n",
       "       scoring=None, verbose=9)"
      ]
     },
     "execution_count": 69,
     "metadata": {},
     "output_type": "execute_result"
    }
   ],
   "source": [
    "ada_clf_grid = GridSearchCV(ada_clf, param_ada, verbose=9, cv=10, n_jobs=-1)\n",
    "\n",
    "%time ada_clf_grid.fit(scaled_data_df, spam_labels)"
   ]
  },
  {
   "cell_type": "code",
   "execution_count": 70,
   "metadata": {},
   "outputs": [
    {
     "data": {
      "text/plain": [
       "array([ 0.93327537,  0.93371006,  0.93327537])"
      ]
     },
     "metadata": {},
     "output_type": "display_data"
    },
    {
     "data": {
      "text/plain": [
       "array([ 0.03941998,  0.03790285,  0.03744828])"
      ]
     },
     "metadata": {},
     "output_type": "display_data"
    },
    {
     "data": {
      "text/plain": [
       "{'algorithm': 'SAMME.R',\n",
       " 'base_estimator': DecisionTreeClassifier(class_weight=None, criterion='gini', max_depth=1,\n",
       "             max_features=None, max_leaf_nodes=None,\n",
       "             min_impurity_decrease=0.0, min_impurity_split=None,\n",
       "             min_samples_leaf=1, min_samples_split=2,\n",
       "             min_weight_fraction_leaf=0.0, presort=False, random_state=None,\n",
       "             splitter='best'),\n",
       " 'learning_rate': 0.5,\n",
       " 'n_estimators': 100}"
      ]
     },
     "execution_count": 70,
     "metadata": {},
     "output_type": "execute_result"
    }
   ],
   "source": [
    "# ada_clf_grid.cv_results_['mean']\n",
    "# print_clf_grid_stats(ada_clf_grid)\n",
    "ada_means = ada_clf_grid.cv_results_['mean_test_score']\n",
    "ada_stdevs = ada_clf_grid.cv_results_['std_test_score']\n",
    "display(ada_means)\n",
    "display(ada_stdevs)\n",
    "ada_clf_grid.best_params_"
   ]
  },
  {
   "cell_type": "code",
   "execution_count": 71,
   "metadata": {},
   "outputs": [],
   "source": [
    "def print_ada_grid_stats(ada_grid, wantPrint=True):\n",
    "    print('C value that produces the most accurate model: {}'.format(ada_grid.best_params_))\n",
    "    print('Score of the most accurate model: {:.6f} \\n'.format(ada_grid.best_score_))\n",
    "    means_ = ada_grid.cv_results_['mean_test_score']\n",
    "    stdevs_ = ada_grid.cv_results_['std_test_score']\n",
    "    c_list_ = []\n",
    "    g_list_ = []\n",
    "    if wantPrint:\n",
    "        print('   --- Mean accuracy (+/- standard deviation) for different C values ---')\n",
    "    for mean, stdev, param in zip(means, stdevs, grid_clf.cv_results_['params']):\n",
    "        c_list_.append(param['C'])\n",
    "        if gamma:\n",
    "            g_list_.append(param['gamma'])\n",
    "        if wantPrint:\n",
    "            print('{:0.3f} (+/- {:0.3f}) for the model with parameters {}'\n",
    "                  .format(mean, stdev, param))\n",
    "    return means_, stdevs_, c_list_, g_list_"
   ]
  },
  {
   "cell_type": "code",
   "execution_count": 8,
   "metadata": {
    "scrolled": true
   },
   "outputs": [],
   "source": [
    "# help(AdaBoostClassifier)\n",
    "# help(DecisionTreeClassifier)\n",
    "# help(d_stumps)"
   ]
  },
  {
   "cell_type": "markdown",
   "metadata": {},
   "source": [
    "## 2: Questions"
   ]
  },
  {
   "cell_type": "markdown",
   "metadata": {},
   "source": [
    "### 2a: Decision Boundaries\n",
    "\n",
    "A decision boundary is some manifold/surface in the data space that tries to accurately separate datapoints of different classes. \n",
    "* In a binary SVM classifier, the hyperplane that divides the bulk of one class from the bulk of another.\n",
    "* In a decision tree classifier (with binary splits), at every node of the decision tree there is a feature-value ($D_V$) that is used to sort all datapoints on that branch. All datapoints where their value for that feature exceeds $D_V$ go to one branch and all other datapoints fo to the other branch."
   ]
  },
  {
   "cell_type": "markdown",
   "metadata": {},
   "source": [
    "### 2b: Bayes Decision Theory\n",
    "\n",
    "Prior Probability captures the expectation that an observer could reach using the relevant information that was available to them. I frequently use the phrase \"prepare to adjust your priors\" when presenting new, striking information to the nerds I associate with."
   ]
  },
  {
   "cell_type": "markdown",
   "metadata": {},
   "source": [
    "### 2c: Zero-One Loss Function\n",
    "\n",
    "$$\\lambda(\\alpha_i|\\omega_j) := \\left\\{\n",
    "    \\begin{array}{rcl}\n",
    "        0 & \\mbox{for} & i = j \\\\\n",
    "        1 & \\mbox{for} & i \\neq j \\\\\n",
    "    \\end{array} \\;\\; \\mbox{for} \\; i,j = 1, ..., c\n",
    "\\right.$$"
   ]
  },
  {
   "cell_type": "markdown",
   "metadata": {},
   "source": [
    "The **Zero-One Loss Function** states that for any incorrect classification (whether it's a false positive or false negative), the loss is complete ($1$), and for correct classifications, there is no loss ($0$) of accuracy. This is the loss function typically used in binary classifications. "
   ]
  },
  {
   "cell_type": "markdown",
   "metadata": {},
   "source": [
    "### 2d: Evaluation Metrics for Probabilistic Classifiers\n",
    "\n",
    "* "
   ]
  },
  {
   "cell_type": "code",
   "execution_count": null,
   "metadata": {},
   "outputs": [],
   "source": []
  },
  {
   "cell_type": "code",
   "execution_count": null,
   "metadata": {},
   "outputs": [],
   "source": []
  },
  {
   "cell_type": "markdown",
   "metadata": {},
   "source": [
    "## Bayesian Networks"
   ]
  },
  {
   "cell_type": "markdown",
   "metadata": {},
   "source": [
    "### 3a:\n",
    "$$P(X)*P(Y|X)*P(Z|X,Y)*P(W|X,Y,Z)$$\n",
    "<img src=\"3a.PNG\" alt=\"Drawing\" style=\"width: 400px;\"/>"
   ]
  },
  {
   "cell_type": "markdown",
   "metadata": {},
   "source": [
    "### 3b:\n",
    "$$P(W)*P(X)*P(Y)*P(Z)$$\n",
    "<img src=\"3b.PNG\" alt=\"Drawing\" style=\"width: 400px;\"/>"
   ]
  },
  {
   "cell_type": "markdown",
   "metadata": {},
   "source": [
    "### 3c:\n",
    "$$P(Y)*P(Z|Y)*P(X|Y)*P(W|Y)$$\n",
    "<img src=\"3c.PNG\" alt=\"Drawing\" style=\"width: 400px;\"/>"
   ]
  },
  {
   "cell_type": "markdown",
   "metadata": {},
   "source": [
    "### 3d:\n",
    "$$P(Z|X,Y)*P(X)*P(Y)*P(W|X)$$\n",
    "<img src=\"3d.PNG\" alt=\"Drawing\" style=\"width: 400px;\"/>"
   ]
  },
  {
   "cell_type": "markdown",
   "metadata": {},
   "source": [
    "### 3e:\n",
    "$$P(W|X)*P(X|Y)*P(Y|Z)*P(Z)$$\n",
    "<img src=\"3e.PNG\" alt=\"Drawing\" style=\"width: 400px;\"/>"
   ]
  },
  {
   "cell_type": "markdown",
   "metadata": {},
   "source": [
    "### 3f:\n",
    "$$P(W|X)*P(Y|X)*P(Z|Y)*P(X)$$\n",
    "<img src=\"3f.PNG\" alt=\"Drawing\" style=\"width: 400px;\"/>"
   ]
  },
  {
   "cell_type": "markdown",
   "metadata": {},
   "source": []
  },
  {
   "cell_type": "markdown",
   "metadata": {},
   "source": []
  },
  {
   "cell_type": "code",
   "execution_count": null,
   "metadata": {},
   "outputs": [],
   "source": []
  },
  {
   "cell_type": "code",
   "execution_count": null,
   "metadata": {},
   "outputs": [],
   "source": []
  },
  {
   "cell_type": "code",
   "execution_count": null,
   "metadata": {},
   "outputs": [],
   "source": []
  },
  {
   "cell_type": "code",
   "execution_count": null,
   "metadata": {},
   "outputs": [],
   "source": []
  },
  {
   "cell_type": "code",
   "execution_count": null,
   "metadata": {},
   "outputs": [],
   "source": []
  },
  {
   "cell_type": "code",
   "execution_count": null,
   "metadata": {},
   "outputs": [],
   "source": []
  },
  {
   "cell_type": "code",
   "execution_count": null,
   "metadata": {},
   "outputs": [],
   "source": []
  },
  {
   "cell_type": "code",
   "execution_count": null,
   "metadata": {},
   "outputs": [],
   "source": []
  },
  {
   "cell_type": "code",
   "execution_count": null,
   "metadata": {},
   "outputs": [],
   "source": []
  },
  {
   "cell_type": "code",
   "execution_count": null,
   "metadata": {},
   "outputs": [],
   "source": []
  },
  {
   "cell_type": "code",
   "execution_count": null,
   "metadata": {},
   "outputs": [],
   "source": []
  },
  {
   "cell_type": "code",
   "execution_count": null,
   "metadata": {},
   "outputs": [],
   "source": [
    "# LinearSVC().get_params().keys()\n",
    "# help(sns.countplot)\n",
    "# <markdown> ![Directed Graph for 3a](3a.png)"
   ]
  },
  {
   "cell_type": "code",
   "execution_count": null,
   "metadata": {},
   "outputs": [],
   "source": [
    "\n",
    "\n",
    "\n",
    "\n",
    "\n",
    "\n",
    "\n",
    "\n",
    "\n",
    "\n",
    "\n",
    "\n",
    "\n",
    "\n",
    "\n",
    "\n",
    "\n",
    "\n",
    "\n",
    "\n",
    "\n",
    "\n",
    "\n",
    "\n",
    "\n",
    "\n",
    "\n",
    "\n",
    "\n",
    "\n",
    "\n",
    "\n",
    "\n",
    "\n",
    "\n",
    "\n",
    "\n",
    "\n",
    "\n",
    "\n",
    "\n",
    "\n",
    "\n",
    "\n",
    "\n",
    "\n",
    "\n",
    "\n",
    "\n",
    "\n",
    "\n"
   ]
  }
 ],
 "metadata": {
  "anaconda-cloud": {},
  "kernelspec": {
   "display_name": "Python [default]",
   "language": "python",
   "name": "python3"
  },
  "language_info": {
   "codemirror_mode": {
    "name": "ipython",
    "version": 3
   },
   "file_extension": ".py",
   "mimetype": "text/x-python",
   "name": "python",
   "nbconvert_exporter": "python",
   "pygments_lexer": "ipython3",
   "version": "3.5.4"
  }
 },
 "nbformat": 4,
 "nbformat_minor": 2
}
