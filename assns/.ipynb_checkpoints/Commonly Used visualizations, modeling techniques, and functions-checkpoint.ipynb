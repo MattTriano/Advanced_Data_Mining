{
 "cells": [
  {
   "cell_type": "code",
   "execution_count": 3,
   "metadata": {
    "collapsed": true
   },
   "outputs": [],
   "source": [
    "import pandas as pd\n",
    "import matplotlib.pyplot as plt\n",
    "import seaborn as sns\n",
    "import numpy as np\n",
    "import copy\n",
    "import warnings"
   ]
  },
  {
   "cell_type": "markdown",
   "metadata": {},
   "source": [
    "Scatter Plots"
   ]
  },
  {
   "cell_type": "code",
   "execution_count": null,
   "metadata": {
    "collapsed": true
   },
   "outputs": [],
   "source": []
  },
  {
   "cell_type": "code",
   "execution_count": 5,
   "metadata": {
    "collapsed": false
   },
   "outputs": [
    {
     "ename": "NameError",
     "evalue": "name 'display' is not defined",
     "output_type": "error",
     "traceback": [
      "\u001b[0;31m---------------------------------------------------------------------------\u001b[0m",
      "\u001b[0;31mNameError\u001b[0m                                 Traceback (most recent call last)",
      "\u001b[0;32m<ipython-input-5-6217287aa88c>\u001b[0m in \u001b[0;36m<module>\u001b[0;34m()\u001b[0m\n\u001b[1;32m      1\u001b[0m \u001b[0mwine_df\u001b[0m \u001b[1;33m=\u001b[0m \u001b[0mpd\u001b[0m\u001b[1;33m.\u001b[0m\u001b[0mread_csv\u001b[0m\u001b[1;33m(\u001b[0m\u001b[1;34m\"wine.csv\"\u001b[0m\u001b[1;33m)\u001b[0m\u001b[1;33m\u001b[0m\u001b[0m\n\u001b[0;32m----> 2\u001b[0;31m \u001b[0mdisplay\u001b[0m\u001b[1;33m(\u001b[0m\u001b[0mwine_df\u001b[0m\u001b[1;33m.\u001b[0m\u001b[0mcolumns\u001b[0m\u001b[1;33m)\u001b[0m\u001b[1;33m\u001b[0m\u001b[0m\n\u001b[0m\u001b[1;32m      3\u001b[0m \u001b[0mwine_df\u001b[0m\u001b[1;33m.\u001b[0m\u001b[0mhead\u001b[0m\u001b[1;33m(\u001b[0m\u001b[1;36m5\u001b[0m\u001b[1;33m)\u001b[0m\u001b[1;33m\u001b[0m\u001b[0m\n",
      "\u001b[0;31mNameError\u001b[0m: name 'display' is not defined"
     ]
    }
   ],
   "source": [
    "wine_df = pd.read_csv(\"wine.csv\")\n",
    "display(wine_df.columns)\n",
    "wine_df.head(5)"
   ]
  },
  {
   "cell_type": "markdown",
   "metadata": {},
   "source": [
    "KDE Plots"
   ]
  },
  {
   "cell_type": "code",
   "execution_count": null,
   "metadata": {
    "collapsed": true
   },
   "outputs": [],
   "source": [
    "iris = sns.load_dataset(\"iris\")\n",
    "setosa = iris.loc[iris.species == \"setosa\"]\n",
    "virginica = iris.loc[iris.species == \"virginica\"]\n",
    "ax = sns.kdeplot(setosa.sepal_width, setosa.sepal_length,\n",
    "                 cmap=\"Reds\", shade=True, shade_lowest=False)\n",
    "ax = sns.kdeplot(virginica.sepal_width, virginica.sepal_length,\n",
    "                 cmap=\"Blues\", shade=True, shade_lowest=False)"
   ]
  },
  {
   "cell_type": "code",
   "execution_count": null,
   "metadata": {
    "collapsed": true
   },
   "outputs": [],
   "source": [
    "# Still Developing this\n",
    "\n",
    "def kde_compare(cat1, cat2, cat3, feat1, feat2):\n",
    "    ax = sns.kdeplot(cat1[feat1], cat1[feat2], cmap=\"Blues\", shade=True, shade_lowest=False,\n",
    "                     legend=True)\n",
    "    ax = sns.kdeplot(cat2[feat1], cat2[feat2], cmap=\"Oranges\", shade=True, shade_lowest=False,\n",
    "                     legend=True)\n",
    "    ax = sns.kdeplot(cat3[feat1], cat3[feat2], cmap=\"Greens\", shade=True, shade_lowest=False, \n",
    "                     legend=True)"
   ]
  },
  {
   "cell_type": "code",
   "execution_count": null,
   "metadata": {
    "collapsed": true
   },
   "outputs": [],
   "source": [
    "# sample that was being used with the above\n",
    "# feature_compare(wine_df, 'OD280/OD315 of diluted wines', 'Proline')\n",
    "wine_c1 = wine_df.loc[wine_df.Class == 1]\n",
    "wine_c2 = wine_df.loc[wine_df.Class == 2]\n",
    "wine_c3 = wine_df.loc[wine_df.Class == 3]\n",
    "\n",
    "# ax = sns.kdeplot(wine_c1['Proline'], wine_c1['Proline'],\n",
    "#                  cmap=\"Reds\", shade=True, shade_lowest=False)\n",
    "# ax = sns.kdeplot(virginica.sepal_width, virginica.sepal_length,\n",
    "#                  cmap=\"Blues\", shade=True, shade_lowest=False)\n",
    "\n",
    "kde_compare(wine_c1, wine_c2, wine_c3, 'Alcohol', 'Ash')"
   ]
  },
  {
   "cell_type": "markdown",
   "metadata": {},
   "source": [
    "## small-sample hypothesis test for independent population means\n",
    "\n",
    "The small-sample hypothesis test for independent population means (ie the paired t-test) is given by the equation below\n",
    "\n",
    "$$t=\\frac{\\big(\\bar{x}_1 - \\bar{x}_2\\big)-D_0}{\\sqrt{s_p^2\\big(\\frac{1}{n_1} + \\frac{1}{n_2}\\big)}}$$\n",
    "\n",
    "where sample variance for the pair, $s_p^2$ is given by \n",
    "\n",
    "$$s_p^2 = \\frac{\\big(n_1-1\\big)s_1^2 + \\big(n_2 -1\\big)s_2^2}{n_1+n_2-2}$$\n",
    "\n",
    "* tree_clf sample mean:         $\\bar{x}_1 = 0.91421$ \n",
    "* tree_clf sample variance:     $s_1^2 = 0.00092$\n",
    "* nb_gauss_clf sample mean:     $\\bar{x}_2 = 0.96885$\n",
    "* nb_gauss_clf sample variance: $s_2^2 = 0.00023$\n",
    "* pooled pop. variance est:     $s_p = \\frac{0.00092\\big(29\\big)+0.00023\\big(29\\big)}{58} = 0.000575$"
   ]
  },
  {
   "cell_type": "markdown",
   "metadata": {
    "collapsed": true
   },
   "source": [
    "# Still under development"
   ]
  },
  {
   "cell_type": "code",
   "execution_count": 4,
   "metadata": {
    "collapsed": false
   },
   "outputs": [
    {
     "ename": "NameError",
     "evalue": "name 'wine_df' is not defined",
     "output_type": "error",
     "traceback": [
      "\u001b[0;31m---------------------------------------------------------------------------\u001b[0m",
      "\u001b[0;31mNameError\u001b[0m                                 Traceback (most recent call last)",
      "\u001b[0;32m<ipython-input-4-683efa54eacd>\u001b[0m in \u001b[0;36m<module>\u001b[0;34m()\u001b[0m\n\u001b[1;32m     24\u001b[0m \u001b[0max2\u001b[0m \u001b[1;33m=\u001b[0m \u001b[0mplt\u001b[0m\u001b[1;33m.\u001b[0m\u001b[0msubplot2grid\u001b[0m\u001b[1;33m(\u001b[0m\u001b[1;33m(\u001b[0m\u001b[1;36m3\u001b[0m\u001b[1;33m,\u001b[0m\u001b[1;36m3\u001b[0m\u001b[1;33m)\u001b[0m\u001b[1;33m,\u001b[0m \u001b[1;33m(\u001b[0m\u001b[1;36m1\u001b[0m\u001b[1;33m,\u001b[0m\u001b[1;36m0\u001b[0m\u001b[1;33m)\u001b[0m\u001b[1;33m)\u001b[0m\u001b[1;33m\u001b[0m\u001b[0m\n\u001b[1;32m     25\u001b[0m \u001b[0max4\u001b[0m \u001b[1;33m=\u001b[0m \u001b[0mplt\u001b[0m\u001b[1;33m.\u001b[0m\u001b[0msubplot2grid\u001b[0m\u001b[1;33m(\u001b[0m\u001b[1;33m(\u001b[0m\u001b[1;36m3\u001b[0m\u001b[1;33m,\u001b[0m\u001b[1;36m3\u001b[0m\u001b[1;33m)\u001b[0m\u001b[1;33m,\u001b[0m \u001b[1;33m(\u001b[0m\u001b[1;36m1\u001b[0m\u001b[1;33m,\u001b[0m\u001b[1;36m1\u001b[0m\u001b[1;33m)\u001b[0m\u001b[1;33m)\u001b[0m\u001b[1;33m\u001b[0m\u001b[0m\n\u001b[0;32m---> 26\u001b[0;31m \u001b[0msns\u001b[0m\u001b[1;33m.\u001b[0m\u001b[0mviolinplot\u001b[0m\u001b[1;33m(\u001b[0m\u001b[0mx\u001b[0m\u001b[1;33m=\u001b[0m\u001b[0mwine_df\u001b[0m\u001b[1;33m[\u001b[0m\u001b[1;34m'Class'\u001b[0m\u001b[1;33m]\u001b[0m\u001b[1;33m,\u001b[0m \u001b[0my\u001b[0m\u001b[1;33m=\u001b[0m\u001b[0mwine_df\u001b[0m\u001b[1;33m[\u001b[0m\u001b[1;34m'Mg'\u001b[0m\u001b[1;33m]\u001b[0m\u001b[1;33m,\u001b[0m \u001b[0mhue\u001b[0m\u001b[1;33m=\u001b[0m\u001b[0mwine_df\u001b[0m\u001b[1;33m[\u001b[0m\u001b[1;34m'Class'\u001b[0m\u001b[1;33m]\u001b[0m\u001b[1;33m,\u001b[0m \u001b[0minner\u001b[0m\u001b[1;33m=\u001b[0m\u001b[1;34m'points'\u001b[0m\u001b[1;33m,\u001b[0m \u001b[0max\u001b[0m\u001b[1;33m=\u001b[0m\u001b[0max4\u001b[0m\u001b[1;33m)\u001b[0m\u001b[1;33m\u001b[0m\u001b[0m\n\u001b[0m\u001b[1;32m     27\u001b[0m sns.violinplot(x=wine_df['Ash'], y=wine_df['Class'], hue=wine_df['Class'], inner='points', ax=ax1,\n\u001b[1;32m     28\u001b[0m                orient='h', legend=False)\n",
      "\u001b[0;31mNameError\u001b[0m: name 'wine_df' is not defined"
     ]
    }
   ],
   "source": [
    "# sns.swarmplot(x='Ash', y='Mg',hue='Class', data=wine_df)\n",
    "# iris = sns.load_dataset(\"iris\")\n",
    "tips = sns.load_dataset(\"tips\")\n",
    "tips\n",
    "# iris = pd.melt(iris, \"species\", var_name=\"measurement\")\n",
    "# iris\n",
    "# Draw a categorical scatterplot to show each observation\n",
    "# sns.swarmplot(x=\"measurement\", y=\"value\", hue=\"species\", data=iris)\n",
    "# sns.violinplot(x=wine_df['Class'], y=wine_df['Mg'], hue=wine_df['Class'], inner='points')\n",
    "# help(sns.violinplot)\n",
    "\n",
    "# fig, ax = plt.subplots(2,2,sharex='col', sharey='row')\n",
    "# fig=plt.figure(figsize=(6,6))\n",
    "# # help(plt.GridSpec)\n",
    "# grid = plt.GridSpec(2, 2, wspace=0.4, hspace=0.4)\n",
    "# plt.subplot(grid[0,0])\n",
    "# plt.subplot(grid[0, 1])\n",
    "# plt.subplot(grid[1, 0])\n",
    "# plt.subplot(grid[1, 1]);\n",
    "# help(plt.subplots)\n",
    "\n",
    "plt.figure(figsize=(12,12))\n",
    "ax1 = plt.subplot2grid((3,3), (0,0))\n",
    "ax2 = plt.subplot2grid((3,3), (1,0))\n",
    "ax4 = plt.subplot2grid((3,3), (1,1))\n",
    "sns.violinplot(x=wine_df['Class'], y=wine_df['Mg'], hue=wine_df['Class'], inner='points', ax=ax4)\n",
    "sns.violinplot(x=wine_df['Ash'], y=wine_df['Class'], hue=wine_df['Class'], inner='points', ax=ax1,\n",
    "               orient='h', legend=False)\n",
    "plt.tight_layout()\n",
    "l1 = ax1.legend(loc='best')\n",
    "l4 = ax4.legend(loc='best')\n",
    "# l.set_title()"
   ]
  },
  {
   "cell_type": "code",
   "execution_count": null,
   "metadata": {
    "collapsed": true
   },
   "outputs": [],
   "source": []
  },
  {
   "cell_type": "code",
   "execution_count": null,
   "metadata": {
    "collapsed": true
   },
   "outputs": [],
   "source": []
  },
  {
   "cell_type": "code",
   "execution_count": null,
   "metadata": {
    "collapsed": true
   },
   "outputs": [],
   "source": []
  },
  {
   "cell_type": "code",
   "execution_count": null,
   "metadata": {
    "collapsed": true
   },
   "outputs": [],
   "source": []
  },
  {
   "cell_type": "code",
   "execution_count": null,
   "metadata": {
    "collapsed": true
   },
   "outputs": [],
   "source": []
  },
  {
   "cell_type": "code",
   "execution_count": null,
   "metadata": {
    "collapsed": true
   },
   "outputs": [],
   "source": []
  }
 ],
 "metadata": {
  "anaconda-cloud": {},
  "kernelspec": {
   "display_name": "Python [default]",
   "language": "python",
   "name": "python3"
  },
  "language_info": {
   "codemirror_mode": {
    "name": "ipython",
    "version": 3
   },
   "file_extension": ".py",
   "mimetype": "text/x-python",
   "name": "python",
   "nbconvert_exporter": "python",
   "pygments_lexer": "ipython3",
   "version": "3.5.4"
  }
 },
 "nbformat": 4,
 "nbformat_minor": 2
}
