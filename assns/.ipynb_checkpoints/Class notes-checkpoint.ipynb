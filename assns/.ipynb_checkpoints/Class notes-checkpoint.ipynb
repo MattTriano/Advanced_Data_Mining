{
 "cells": [
  {
   "cell_type": "markdown",
   "metadata": {},
   "source": [
    "# Model Performance Evaluation\n",
    "\n",
    "* Error rates = $\\frac{\\# of misclassified}{total \\# of cases}$\n",
    "* Sampling Techniques\n",
    "* Split data\n",
    "    * training: resubstitution error\n",
    "    * testing: generalization error\n",
    "    \n",
    "* Models with parameters that need to be tuned\n",
    "    * Decision Trees\n",
    "    * KNN\n",
    "    * NN\n",
    "    * SVM\n",
    "* Sampling techniques\n",
    "    * Hold-out:  Basically train_test_split, retain a portion of the data for training the model and use the remainder to test that model.\n",
    "    * Stratified hold-out: If X percent of the total population is category A and 100-X percent of the total population is category Y, when making the test set, you'll want to maintain that proportion in your training and testing sets. \n",
    "    \n",
    "* ROC curves\n",
    "* Lift Charts\n",
    "* Gain charts\n",
    "\n",
    "* BAGGing (Bootstrap AGGrigation): only effective when using unstable nonlinear models (ie small changes to the training set can cause significant model changes)\n",
    "\n",
    "\n",
    "Homogeneous Ensembles of Classifiers (EC)\n",
    "\n",
    "Constructed Independently EC:\n",
    "* Bagging\n",
    "* Random Forest (something = $\\sqrt{m}$ where $m$ is the number of features.\n",
    "* Rotation Forest\n",
    "\n",
    "Constructed Dependently\n",
    "* Boosting\n",
    "* Stacking\n",
    "\n",
    "### AdaBoost\n",
    "Bounding the training error:\n",
    "* Thm: the training error is bounded by the following expression:\n",
    "$$ \\hat{err}(H) \\leq \\prod_{t=1}^T 2\\sqrt{\\epsilon_t(1-\\epsilon_t)} $$\n",
    "$$ =\\prod_t $$\n",
    "\n",
    "Bounding the generalization error\n",
    "$$ \\hat{err}(H) \\leq \\hat{err}(H) + \\mathcal{O}\\Bigg(\\sqrt{\\frac{Td + ln\\frac{1}{\\delta}}{m}}\\Bigg) $$\n",
    "\n",
    "Kernel Trick\n",
    "$$ h(x) = \\sum_{i=1}^k\\alpha_i\\big<\\phi(x_i),\\phi(x)\\big> +b $$\n",
    "$$ f(x)=Sign(h(x)) = Sign(\\sum_{i=1}^k \\alpha_i k(x_i,x)+b $$\n",
    "\n",
    "## Common Kernels\n",
    "### Gaussian\n",
    "\n",
    "## SVM: Support Vector Machines\n",
    "(AKA Sparse Kernel Machines and Maximum Margin Classifiers)\n",
    "Simple SVMs seek a linear classifier that maximizes the margin between clusters.\n",
    "\n",
    "A way to find hard-to-classify points is to look close to the dividing vector. \n",
    "\n",
    "\n",
    "## PCA\n",
    "\n",
    "$$c\\mu = \\lambda\\mu$$\n",
    "$$PC_1 = \\alpha_1x_1+ \\alpha_2x_2$$\n",
    "$$PC_2 = \\alpha_1^2x_1 + \\alpha_2^2x_2$$\n",
    "$\\alpha$: 'loading' \n",
    "\n",
    "### When do I want to do PCA?\n",
    "* You have high dimensional data (many features)\n",
    "* <more>\n"
   ]
  },
  {
   "cell_type": "markdown",
   "metadata": {},
   "source": [
    "**Probabilistic Graphical Models**\n",
    "\n",
    "* Each node represents a random variable (or group of random variables).\n",
    "* Links express probabilistic relationships.\n",
    "\n",
    "\n"
   ]
  },
  {
   "cell_type": "markdown",
   "metadata": {},
   "source": [
    "## Bayesian Networks\n",
    "\n"
   ]
  },
  {
   "cell_type": "markdown",
   "metadata": {},
   "source": [
    "## Hidden Markov Models\n",
    "Used for human activity recognition and NLP.\n",
    "\n",
    "### Markov Property\n",
    "$q_{t+1}$ is conditionally independent of ${q_{t-n}, q_{t-n+1},...,q_{1}, q_0}$\n",
    "The **Markov property** essentially states that you only need to know the recent state to calculate the future state.\n",
    "\n",
    "**Hidden Markov Models** are best represented as serial graphs. \n",
    "example: turn-based games where players can move some distance each turn. Given a player's position at time $t-1$, you can have a pretty good idea of where that player will be at time $t=0$\n"
   ]
  },
  {
   "cell_type": "markdown",
   "metadata": {},
   "source": []
  },
  {
   "cell_type": "markdown",
   "metadata": {},
   "source": []
  },
  {
   "cell_type": "markdown",
   "metadata": {},
   "source": []
  },
  {
   "cell_type": "markdown",
   "metadata": {},
   "source": []
  },
  {
   "cell_type": "markdown",
   "metadata": {},
   "source": []
  }
 ],
 "metadata": {
  "anaconda-cloud": {},
  "kernelspec": {
   "display_name": "Python [default]",
   "language": "python",
   "name": "python3"
  },
  "language_info": {
   "codemirror_mode": {
    "name": "ipython",
    "version": 3
   },
   "file_extension": ".py",
   "mimetype": "text/x-python",
   "name": "python",
   "nbconvert_exporter": "python",
   "pygments_lexer": "ipython3",
   "version": "3.5.4"
  }
 },
 "nbformat": 4,
 "nbformat_minor": 2
}
