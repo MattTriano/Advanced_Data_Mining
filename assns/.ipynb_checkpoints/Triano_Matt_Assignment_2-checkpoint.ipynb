{
 "cells": [
  {
   "cell_type": "code",
   "execution_count": 539,
   "metadata": {
    "collapsed": false
   },
   "outputs": [
    {
     "ename": "RuntimeError",
     "evalue": "module compiled against API version 0xc but this version of numpy is 0xa",
     "output_type": "error",
     "traceback": [
      "\u001b[0;31m---------------------------------------------------------------------------\u001b[0m",
      "\u001b[0;31mRuntimeError\u001b[0m                              Traceback (most recent call last)",
      "\u001b[0;31mRuntimeError\u001b[0m: module compiled against API version 0xc but this version of numpy is 0xa"
     ]
    },
    {
     "ename": "ImportError",
     "evalue": "numpy.core.multiarray failed to import",
     "output_type": "error",
     "traceback": [
      "\u001b[0;31m---------------------------------------------------------------------------\u001b[0m",
      "\u001b[0;31mImportError\u001b[0m                               Traceback (most recent call last)",
      "\u001b[0;32m<ipython-input-539-f68d9802638c>\u001b[0m in \u001b[0;36m<module>\u001b[0;34m()\u001b[0m\n\u001b[1;32m     21\u001b[0m \u001b[1;32mfrom\u001b[0m \u001b[0msklearn\u001b[0m\u001b[1;33m.\u001b[0m\u001b[0mmodel_selection\u001b[0m \u001b[1;32mimport\u001b[0m \u001b[0mStratifiedKFold\u001b[0m\u001b[1;33m\u001b[0m\u001b[0m\n\u001b[1;32m     22\u001b[0m \u001b[1;32mfrom\u001b[0m \u001b[0msklearn\u001b[0m\u001b[1;33m.\u001b[0m\u001b[0mmodel_selection\u001b[0m \u001b[1;32mimport\u001b[0m \u001b[0mStratifiedShuffleSplit\u001b[0m\u001b[1;33m\u001b[0m\u001b[0m\n\u001b[0;32m---> 23\u001b[0;31m \u001b[1;32mfrom\u001b[0m \u001b[0msklearn\u001b[0m\u001b[1;33m.\u001b[0m\u001b[0mensemble\u001b[0m \u001b[1;32mimport\u001b[0m \u001b[0mBaggingClassifier\u001b[0m\u001b[1;33m\u001b[0m\u001b[0m\n\u001b[0m\u001b[1;32m     24\u001b[0m \u001b[1;31m# from sklearn.model_selection import RepeatedStratifiedKFold\u001b[0m\u001b[1;33m\u001b[0m\u001b[1;33m\u001b[0m\u001b[0m\n\u001b[1;32m     25\u001b[0m \u001b[1;32mfrom\u001b[0m \u001b[0msklearn\u001b[0m \u001b[1;32mimport\u001b[0m \u001b[0mnaive_bayes\u001b[0m\u001b[1;33m\u001b[0m\u001b[0m\n",
      "\u001b[0;32mC:\\Users\\mattt\\Anaconda3\\lib\\site-packages\\sklearn\\ensemble\\__init__.py\u001b[0m in \u001b[0;36m<module>\u001b[0;34m()\u001b[0m\n\u001b[1;32m     13\u001b[0m \u001b[1;32mfrom\u001b[0m \u001b[1;33m.\u001b[0m\u001b[0mbagging\u001b[0m \u001b[1;32mimport\u001b[0m \u001b[0mBaggingRegressor\u001b[0m\u001b[1;33m\u001b[0m\u001b[0m\n\u001b[1;32m     14\u001b[0m \u001b[1;32mfrom\u001b[0m \u001b[1;33m.\u001b[0m\u001b[0miforest\u001b[0m \u001b[1;32mimport\u001b[0m \u001b[0mIsolationForest\u001b[0m\u001b[1;33m\u001b[0m\u001b[0m\n\u001b[0;32m---> 15\u001b[0;31m \u001b[1;32mfrom\u001b[0m \u001b[1;33m.\u001b[0m\u001b[0mweight_boosting\u001b[0m \u001b[1;32mimport\u001b[0m \u001b[0mAdaBoostClassifier\u001b[0m\u001b[1;33m\u001b[0m\u001b[0m\n\u001b[0m\u001b[1;32m     16\u001b[0m \u001b[1;32mfrom\u001b[0m \u001b[1;33m.\u001b[0m\u001b[0mweight_boosting\u001b[0m \u001b[1;32mimport\u001b[0m \u001b[0mAdaBoostRegressor\u001b[0m\u001b[1;33m\u001b[0m\u001b[0m\n\u001b[1;32m     17\u001b[0m \u001b[1;32mfrom\u001b[0m \u001b[1;33m.\u001b[0m\u001b[0mgradient_boosting\u001b[0m \u001b[1;32mimport\u001b[0m \u001b[0mGradientBoostingClassifier\u001b[0m\u001b[1;33m\u001b[0m\u001b[0m\n",
      "\u001b[0;32mC:\\Users\\mattt\\Anaconda3\\lib\\site-packages\\sklearn\\ensemble\\weight_boosting.py\u001b[0m in \u001b[0;36m<module>\u001b[0;34m()\u001b[0m\n\u001b[1;32m     27\u001b[0m \u001b[1;33m\u001b[0m\u001b[0m\n\u001b[1;32m     28\u001b[0m \u001b[1;32mimport\u001b[0m \u001b[0mnumpy\u001b[0m \u001b[1;32mas\u001b[0m \u001b[0mnp\u001b[0m\u001b[1;33m\u001b[0m\u001b[0m\n\u001b[0;32m---> 29\u001b[0;31m \u001b[1;32mfrom\u001b[0m \u001b[0mnumpy\u001b[0m\u001b[1;33m.\u001b[0m\u001b[0mcore\u001b[0m\u001b[1;33m.\u001b[0m\u001b[0mumath_tests\u001b[0m \u001b[1;32mimport\u001b[0m \u001b[0minner1d\u001b[0m\u001b[1;33m\u001b[0m\u001b[0m\n\u001b[0m\u001b[1;32m     30\u001b[0m \u001b[1;33m\u001b[0m\u001b[0m\n\u001b[1;32m     31\u001b[0m \u001b[1;32mfrom\u001b[0m \u001b[1;33m.\u001b[0m\u001b[0mbase\u001b[0m \u001b[1;32mimport\u001b[0m \u001b[0mBaseEnsemble\u001b[0m\u001b[1;33m\u001b[0m\u001b[0m\n",
      "\u001b[0;31mImportError\u001b[0m: numpy.core.multiarray failed to import"
     ]
    }
   ],
   "source": [
    "import pandas as pd\n",
    "import matplotlib.pyplot as plt\n",
    "import seaborn as sns\n",
    "import numpy as np\n",
    "import copy\n",
    "import warnings\n",
    "from scipy import stats\n",
    "from scipy.stats import t\n",
    "from IPython.display import display\n",
    "from sklearn import tree\n",
    "from sklearn import metrics\n",
    "from sklearn.metrics import accuracy_score\n",
    "from sklearn.metrics import roc_curve\n",
    "from sklearn.metrics import auc\n",
    "from sklearn.feature_selection import SelectFromModel\n",
    "from sklearn.model_selection import GridSearchCV\n",
    "from sklearn.model_selection import train_test_split\n",
    "from sklearn.model_selection import KFold\n",
    "from sklearn.model_selection import cross_val_predict\n",
    "from sklearn.model_selection import cross_val_score\n",
    "from sklearn.model_selection import StratifiedKFold\n",
    "from sklearn.model_selection import StratifiedShuffleSplit\n",
    "from sklearn.ensemble import BaggingClassifier\n",
    "# from sklearn.model_selection import RepeatedStratifiedKFold\n",
    "from sklearn import naive_bayes\n",
    "from sklearn import neighbors\n",
    "from sklearn import preprocessing\n",
    "%matplotlib inline"
   ]
  },
  {
   "cell_type": "code",
   "execution_count": 557,
   "metadata": {
    "collapsed": false
   },
   "outputs": [
    {
     "data": {
      "text/plain": [
       "['C:\\\\Users\\\\mattt\\\\Anaconda3\\\\lib\\\\site-packages\\\\numpy']"
      ]
     },
     "execution_count": 557,
     "metadata": {},
     "output_type": "execute_result"
    }
   ],
   "source": [
    "# import sys\n",
    "# sys.executable\n",
    "# np.version.version\n",
    "# np.__file__\n",
    "# !{sys.executable} -m pip install --upgrade numpy\n",
    "np.__path__"
   ]
  },
  {
   "cell_type": "code",
   "execution_count": 236,
   "metadata": {
    "collapsed": false
   },
   "outputs": [
    {
     "data": {
      "text/plain": [
       "Index(['Class', 'Alcohol', 'Malic acid', 'Ash', 'Alcalinity of ash', 'Mg',\n",
       "       'Total phenols', 'Flavanoids', 'Nonflavanoid phenols',\n",
       "       'Proanthocyanins', 'Color intensity', 'Hue',\n",
       "       'OD280/OD315 of diluted wines', 'Proline'],\n",
       "      dtype='object')"
      ]
     },
     "metadata": {},
     "output_type": "display_data"
    },
    {
     "data": {
      "text/html": [
       "<div>\n",
       "<style>\n",
       "    .dataframe thead tr:only-child th {\n",
       "        text-align: right;\n",
       "    }\n",
       "\n",
       "    .dataframe thead th {\n",
       "        text-align: left;\n",
       "    }\n",
       "\n",
       "    .dataframe tbody tr th {\n",
       "        vertical-align: top;\n",
       "    }\n",
       "</style>\n",
       "<table border=\"1\" class=\"dataframe\">\n",
       "  <thead>\n",
       "    <tr style=\"text-align: right;\">\n",
       "      <th></th>\n",
       "      <th>Class</th>\n",
       "      <th>Alcohol</th>\n",
       "      <th>Malic acid</th>\n",
       "      <th>Ash</th>\n",
       "      <th>Alcalinity of ash</th>\n",
       "      <th>Mg</th>\n",
       "      <th>Total phenols</th>\n",
       "      <th>Flavanoids</th>\n",
       "      <th>Nonflavanoid phenols</th>\n",
       "      <th>Proanthocyanins</th>\n",
       "      <th>Color intensity</th>\n",
       "      <th>Hue</th>\n",
       "      <th>OD280/OD315 of diluted wines</th>\n",
       "      <th>Proline</th>\n",
       "    </tr>\n",
       "  </thead>\n",
       "  <tbody>\n",
       "    <tr>\n",
       "      <th>0</th>\n",
       "      <td>1</td>\n",
       "      <td>14.23</td>\n",
       "      <td>1.71</td>\n",
       "      <td>2.43</td>\n",
       "      <td>15.6</td>\n",
       "      <td>127</td>\n",
       "      <td>2.80</td>\n",
       "      <td>3.06</td>\n",
       "      <td>0.28</td>\n",
       "      <td>2.29</td>\n",
       "      <td>5.64</td>\n",
       "      <td>1.04</td>\n",
       "      <td>3.92</td>\n",
       "      <td>1065</td>\n",
       "    </tr>\n",
       "    <tr>\n",
       "      <th>1</th>\n",
       "      <td>1</td>\n",
       "      <td>13.20</td>\n",
       "      <td>1.78</td>\n",
       "      <td>2.14</td>\n",
       "      <td>11.2</td>\n",
       "      <td>100</td>\n",
       "      <td>2.65</td>\n",
       "      <td>2.76</td>\n",
       "      <td>0.26</td>\n",
       "      <td>1.28</td>\n",
       "      <td>4.38</td>\n",
       "      <td>1.05</td>\n",
       "      <td>3.40</td>\n",
       "      <td>1050</td>\n",
       "    </tr>\n",
       "    <tr>\n",
       "      <th>2</th>\n",
       "      <td>1</td>\n",
       "      <td>13.16</td>\n",
       "      <td>2.36</td>\n",
       "      <td>2.67</td>\n",
       "      <td>18.6</td>\n",
       "      <td>101</td>\n",
       "      <td>2.80</td>\n",
       "      <td>3.24</td>\n",
       "      <td>0.30</td>\n",
       "      <td>2.81</td>\n",
       "      <td>5.68</td>\n",
       "      <td>1.03</td>\n",
       "      <td>3.17</td>\n",
       "      <td>1185</td>\n",
       "    </tr>\n",
       "    <tr>\n",
       "      <th>3</th>\n",
       "      <td>1</td>\n",
       "      <td>14.37</td>\n",
       "      <td>1.95</td>\n",
       "      <td>2.50</td>\n",
       "      <td>16.8</td>\n",
       "      <td>113</td>\n",
       "      <td>3.85</td>\n",
       "      <td>3.49</td>\n",
       "      <td>0.24</td>\n",
       "      <td>2.18</td>\n",
       "      <td>7.80</td>\n",
       "      <td>0.86</td>\n",
       "      <td>3.45</td>\n",
       "      <td>1480</td>\n",
       "    </tr>\n",
       "    <tr>\n",
       "      <th>4</th>\n",
       "      <td>1</td>\n",
       "      <td>13.24</td>\n",
       "      <td>2.59</td>\n",
       "      <td>2.87</td>\n",
       "      <td>21.0</td>\n",
       "      <td>118</td>\n",
       "      <td>2.80</td>\n",
       "      <td>2.69</td>\n",
       "      <td>0.39</td>\n",
       "      <td>1.82</td>\n",
       "      <td>4.32</td>\n",
       "      <td>1.04</td>\n",
       "      <td>2.93</td>\n",
       "      <td>735</td>\n",
       "    </tr>\n",
       "  </tbody>\n",
       "</table>\n",
       "</div>"
      ],
      "text/plain": [
       "   Class  Alcohol  Malic acid   Ash  Alcalinity of ash   Mg  Total phenols  \\\n",
       "0      1    14.23        1.71  2.43               15.6  127           2.80   \n",
       "1      1    13.20        1.78  2.14               11.2  100           2.65   \n",
       "2      1    13.16        2.36  2.67               18.6  101           2.80   \n",
       "3      1    14.37        1.95  2.50               16.8  113           3.85   \n",
       "4      1    13.24        2.59  2.87               21.0  118           2.80   \n",
       "\n",
       "   Flavanoids  Nonflavanoid phenols  Proanthocyanins  Color intensity   Hue  \\\n",
       "0        3.06                  0.28             2.29             5.64  1.04   \n",
       "1        2.76                  0.26             1.28             4.38  1.05   \n",
       "2        3.24                  0.30             2.81             5.68  1.03   \n",
       "3        3.49                  0.24             2.18             7.80  0.86   \n",
       "4        2.69                  0.39             1.82             4.32  1.04   \n",
       "\n",
       "   OD280/OD315 of diluted wines  Proline  \n",
       "0                          3.92     1065  \n",
       "1                          3.40     1050  \n",
       "2                          3.17     1185  \n",
       "3                          3.45     1480  \n",
       "4                          2.93      735  "
      ]
     },
     "execution_count": 236,
     "metadata": {},
     "output_type": "execute_result"
    }
   ],
   "source": [
    "# Loading the data set and splitting off the target feature, 'Class'\n",
    "wine_df = pd.read_csv(\"wine.csv\")\n",
    "wine_class_df = wine_df['Class']\n",
    "wine_data_df = wine_df.drop('Class', axis=1)\n",
    "display(wine_df.columns)\n",
    "wine_df.head(5)"
   ]
  },
  {
   "cell_type": "code",
   "execution_count": 3,
   "metadata": {
    "collapsed": false
   },
   "outputs": [
    {
     "data": {
      "text/plain": [
       "array([92975, 58067, 34086, 60620, 89460, 82584, 32399, 55985, 41239,\n",
       "        9449, 23706,  8222, 97963, 33950, 40684,  8060, 73498, 79222,\n",
       "       79728, 73180, 93509, 93520, 49398, 68094, 36271,  3824, 22267,\n",
       "       21580, 80165, 77734])"
      ]
     },
     "execution_count": 3,
     "metadata": {},
     "output_type": "execute_result"
    }
   ],
   "source": [
    "# Generating a consistent set of random seeds, so that my results are reproducible\n",
    "rng = np.random.RandomState(1234)\n",
    "random_seeds = rng.randint(low=0, high=99999, size=30)\n",
    "random_seeds"
   ]
  },
  {
   "cell_type": "code",
   "execution_count": 122,
   "metadata": {
    "collapsed": false
   },
   "outputs": [],
   "source": [
    "# This function calculates the total accuracy of 2 classifiers, clf1 and clf2, \n",
    "#  on the same training and testing data, as well as the accuracy on the training\n",
    "#  data (which gives the resubstitution (resub) error) and accuracy on the testing\n",
    "#  data (which gives the generalization error).\n",
    "# Takes 2 classifiers that conform to the sklearn classifier interface, strings\n",
    "#  containing the names of the classifiers\n",
    "# data_df:  an array-like object containing \n",
    "def clf_comparison(clf1, clf1_name, clf2, clf2_name, data_df, class_df,\\\n",
    "                   test_size=0.34, printStats=True, n_trials=30, seed=1234):\n",
    "    rng = np.random.RandomState(seed)\n",
    "    random_seeds = rng.randint(low=0, high=99999, size=n_trials)\n",
    "    clf1_acc = [];       clf2_acc = []\n",
    "    clf1_resub_acc = []; clf2_resub_acc = []\n",
    "    clf1_gen_acc = [];   clf2_gen_acc = []\n",
    "    for i in range(n_trials):\n",
    "        data_train, data_test, class_train, class_test = \\\n",
    "                train_test_split(data_df, class_df, test_size=test_size, \\\n",
    "                                 random_state=random_seeds[i])\n",
    "        clf1_acc.append(clf_evaluation(clf1, data_train, data_test, class_train, class_test))\n",
    "        clf2_acc.append(clf_evaluation(clf2, data_train, data_test, class_train, class_test))\n",
    "    clf1_resub, clf1_gen = resub_and_gen_errors(clf1, data_train, data_test, class_train, class_test)\n",
    "    clf2_resub, clf2_gen = resub_and_gen_errors(clf2, data_train, data_test, class_train, class_test)\n",
    "    clf1_resub_acc.append(clf1_resub)\n",
    "    clf2_resub_acc.append(clf2_resub)\n",
    "    clf1_gen_acc.append(clf1_gen)\n",
    "    clf2_gen_acc.append(clf2_gen)\n",
    "    mean_var_CI_calculator(clf1_name, pd.Series(clf1_acc), test_size, printStats)\n",
    "    mean_var_CI_calculator(clf2_name, pd.Series(clf2_acc), test_size, printStats)\n",
    "    mean_var_CI_calculator(\"Difference of \" + clf1_name + \" and \" + clf2_name,\n",
    "                           (pd.Series(clf1_acc)-pd.Series(clf2_acc)).abs(),0.34, printStats)\n",
    "    return clf1_acc, clf2_acc, clf1_resub_acc, clf2_resub_acc, clf1_gen_acc, clf2_gen_acc\n",
    "                        \n",
    "# This executes a simple fit-predict-evaluate routine with a single data split.\n",
    "# classifier:   a classifier model that conforms to sklearns regular classifier interface\n",
    "# data/class_train/test: array-like containers holding corresponding data and class labels\n",
    "def clf_evaluation(classifier, data_train, data_test, class_train, class_test):\n",
    "    clf_fit = classifier.fit(data_train, class_train)\n",
    "    clf_pred = classifier.predict(data_test)\n",
    "    return accuracy_score(class_test, clf_pred)\n",
    "\n",
    "# This takes a classifier and a spefi\n",
    "def resub_and_gen_errors(classifier, data_train, data_test, class_train, class_test):\n",
    "    classifier.fit(data_train, class_train)\n",
    "    resub_err = classifier.score(data_train, class_train)\n",
    "    gen_err = classifier.score(data_test, class_test)\n",
    "    return resub_err, gen_err\n",
    "\n",
    "# This calculates the mean accuracy, variance, and confidence interval and prints it\n",
    "def mean_var_CI_calculator(clf_name, clf_acc, test_size, printStats=True):\n",
    "    sample_mean = clf_acc.mean()\n",
    "    sample_var = clf_acc.var()\n",
    "    sample_std = clf_acc.std()\n",
    "    sample_size = len(clf_acc)\n",
    "    # we're using 30 data points, so it's fair to assume a normal distribution\n",
    "    z_crit = stats.norm.ppf(0.975)  \n",
    "    err_margin = z_crit * sample_std / (sample_size ** 0.5)\n",
    "    if printStats:        \n",
    "        print(\"Accuracy statistics For classifier: \" + clf_name + \" with \"\n",
    "          + str(test_size) + \"% holdout for testing\")\n",
    "        print(\"- Sample Size: {:5d}\".format(sample_size))\n",
    "        print(\"- Variance: {:5f}\".format(sample_var))\n",
    "        print(\"- StdDev: {:5f}\".format(sample_std))\n",
    "        print(\"- Mean:{:>12.5f} +/- {:0.5f}\".format(sample_mean, err_margin))\n",
    "        print(\"- 95% CI =   [{:0.4f}, {:0.4f}]\\n\".format(sample_mean-err_margin,\\\n",
    "                                                         sample_mean+err_margin))"
   ]
  },
  {
   "cell_type": "code",
   "execution_count": 34,
   "metadata": {
    "collapsed": true
   },
   "outputs": [],
   "source": [
    "# Using the Decision Tree Classifier parameters found via a GridSearch\n",
    "#   over 10 models and used for assignment 1\n",
    "tree_clf = tree.DecisionTreeClassifier(criterion='entropy',\n",
    "                                            max_depth=3,\n",
    "                                            min_samples_leaf=2,\n",
    "                                            min_samples_split=2,\n",
    "                                            random_state=1234)\n",
    "\n",
    "nb_gauss_clf = naive_bayes.GaussianNB()"
   ]
  },
  {
   "cell_type": "code",
   "execution_count": 35,
   "metadata": {
    "collapsed": false
   },
   "outputs": [
    {
     "name": "stdout",
     "output_type": "stream",
     "text": [
      "Accuracy statistics For classifier: tree_clf with 0.34% holdout for testing\n",
      "- Sample Size:    30\n",
      "- Variance: 0.000921\n",
      "- StdDev: 0.030345\n",
      "- Mean:     0.91421 +/- 0.01086\n",
      "- 95% CI =   [0.9033, 0.9251]\n",
      "\n",
      "Accuracy statistics For classifier: nb_gauss_clf with 0.34% holdout for testing\n",
      "- Sample Size:    30\n",
      "- Variance: 0.000229\n",
      "- StdDev: 0.015129\n",
      "- Mean:     0.96885 +/- 0.00541\n",
      "- 95% CI =   [0.9634, 0.9743]\n",
      "\n",
      "Accuracy statistics For classifier: Difference of tree_clf and nb_gauss_clf with 0.34% holdout for testing\n",
      "- Sample Size:    30\n",
      "- Variance: 0.000785\n",
      "- StdDev: 0.028011\n",
      "- Mean:     0.05464 +/- 0.01002\n",
      "- 95% CI =   [0.0446, 0.0647]\n",
      "\n"
     ]
    }
   ],
   "source": [
    "tree_acc, nb_gauss_acc, tree_resub_acc,\\\n",
    "nb_resub_acc, tree_gen_acc, nb_gen_acc = clf_comparison(tree_clf, \"tree_clf\",\n",
    "                                                        nb_gauss_clf, \"nb_gauss_clf\",\n",
    "                                                        wine_data_df, wine_class_df, \n",
    "                                                        0.34)"
   ]
  },
  {
   "cell_type": "markdown",
   "metadata": {},
   "source": [
    "The functions above used the same training and testing subsets to build a model for each classifier test the accuracy of both models. This process was repeated 30 times and the model accuracies were recorded to lists for their respective classifier. Then I calculated the above descriptive statistics for the both lists of accuracy values. \n",
    "\n",
    "To determine whether there's a statistically significant difference between the accuracies for these models, we'll perform a hypothesis test, and as we have 30 pairs (which is considered the lower bound for performing large-sample hypothesis tests) we'll perform a small-sample hypothesis test using Student's t-statistic. \n",
    "\n",
    "The small-sample hypothesis test for paired population means (ie the paired t-test) is given by the equation below\n",
    "\n",
    "$$t = \\frac{\\bar{x}_d-D_0}{\\frac{s_d}{\\sqrt{n_d}}}$$\n",
    "\n",
    "For our classifier accuracy data: \n",
    "* sample size $=n_d=30$ paired samples \n",
    "* sample mean difference        $\\bar{x}_d = 0.05464$ \n",
    "* Sample Stdev of diffs         $s_d = 0.02801$\n",
    "* Expected mean difference      $D_0$\n",
    "\n",
    "The null hypothesis ($H_0$) is that the mean accuracy for models is the same, (ie $H_0:\\mu_1 - \\mu_2 = D_0 0$), and the alternative hypotheses is that the accuracies differ (ie $H_a:\\mu_1 - \\mu_2 \\neq 0$).\n",
    "\n",
    "$$t=\\frac{(0.05464)-0}{\\frac{0.02801}{\\sqrt{30}}} = \\frac{(0.05464)-0}{0.00511} = 10.6846$$\n",
    "\n",
    "For $n=30$ and $\\alpha = 0.025$ (two tailed $95%$), the critical t value is 2.042. The calculated 10.6846 is far outside those bounds, so the difference in model accuracy is statistically significant.\n",
    "\n",
    "I also used the relative t-test evaluator in scipy's stats module, which calculated 10.6852, with a $p-val = 1.43 \\times 10^{-11}$, which matches the calculated result."
   ]
  },
  {
   "cell_type": "code",
   "execution_count": 23,
   "metadata": {
    "collapsed": false
   },
   "outputs": [
    {
     "data": {
      "text/plain": [
       "10.684598551261077"
      ]
     },
     "execution_count": 23,
     "metadata": {},
     "output_type": "execute_result"
    }
   ],
   "source": [
    "paired_t = 0.05464/(0.02801/(30**0.5))\n",
    "paired_t"
   ]
  },
  {
   "cell_type": "code",
   "execution_count": 24,
   "metadata": {
    "collapsed": false
   },
   "outputs": [
    {
     "data": {
      "text/plain": [
       "Ttest_relResult(statistic=10.685187333241123, pvalue=1.4369053553409192e-11)"
      ]
     },
     "execution_count": 24,
     "metadata": {},
     "output_type": "execute_result"
    }
   ],
   "source": [
    "stats.ttest_rel(nb_gauss_acc, tree_acc)"
   ]
  },
  {
   "cell_type": "markdown",
   "metadata": {
    "collapsed": false,
    "scrolled": false
   },
   "source": [
    "# 2: Varying the Training-Testing Split"
   ]
  },
  {
   "cell_type": "code",
   "execution_count": 121,
   "metadata": {
    "collapsed": false,
    "scrolled": false
   },
   "outputs": [
    {
     "name": "stdout",
     "output_type": "stream",
     "text": [
      "Classifier Accuracies indexed on Proportion of Data Heldout for Testing\n"
     ]
    },
    {
     "data": {
      "text/html": [
       "<div>\n",
       "<style>\n",
       "    .dataframe thead tr:only-child th {\n",
       "        text-align: right;\n",
       "    }\n",
       "\n",
       "    .dataframe thead th {\n",
       "        text-align: left;\n",
       "    }\n",
       "\n",
       "    .dataframe tbody tr th {\n",
       "        vertical-align: top;\n",
       "    }\n",
       "</style>\n",
       "<table border=\"1\" class=\"dataframe\">\n",
       "  <thead>\n",
       "    <tr style=\"text-align: right;\">\n",
       "      <th></th>\n",
       "      <th>DTree Testing Data Acc</th>\n",
       "      <th>DTree Training Data Acc</th>\n",
       "      <th>NB Testing Data Acc</th>\n",
       "      <th>NB Training Data Acc</th>\n",
       "    </tr>\n",
       "  </thead>\n",
       "  <tbody>\n",
       "    <tr>\n",
       "      <th>0.75</th>\n",
       "      <td>0.850746</td>\n",
       "      <td>0.977273</td>\n",
       "      <td>0.962687</td>\n",
       "      <td>1.000000</td>\n",
       "    </tr>\n",
       "    <tr>\n",
       "      <th>0.65</th>\n",
       "      <td>0.844828</td>\n",
       "      <td>0.967742</td>\n",
       "      <td>0.982759</td>\n",
       "      <td>1.000000</td>\n",
       "    </tr>\n",
       "    <tr>\n",
       "      <th>0.55</th>\n",
       "      <td>0.867347</td>\n",
       "      <td>0.987500</td>\n",
       "      <td>0.969388</td>\n",
       "      <td>1.000000</td>\n",
       "    </tr>\n",
       "    <tr>\n",
       "      <th>0.45</th>\n",
       "      <td>0.827160</td>\n",
       "      <td>0.989691</td>\n",
       "      <td>0.975309</td>\n",
       "      <td>1.000000</td>\n",
       "    </tr>\n",
       "    <tr>\n",
       "      <th>0.35</th>\n",
       "      <td>0.920635</td>\n",
       "      <td>0.982609</td>\n",
       "      <td>0.984127</td>\n",
       "      <td>0.991304</td>\n",
       "    </tr>\n",
       "    <tr>\n",
       "      <th>0.25</th>\n",
       "      <td>0.933333</td>\n",
       "      <td>0.984962</td>\n",
       "      <td>0.977778</td>\n",
       "      <td>0.992481</td>\n",
       "    </tr>\n",
       "    <tr>\n",
       "      <th>0.15</th>\n",
       "      <td>0.925926</td>\n",
       "      <td>0.986755</td>\n",
       "      <td>0.962963</td>\n",
       "      <td>0.993377</td>\n",
       "    </tr>\n",
       "  </tbody>\n",
       "</table>\n",
       "</div>"
      ],
      "text/plain": [
       "      DTree Testing Data Acc  DTree Training Data Acc  NB Testing Data Acc  \\\n",
       "0.75                0.850746                 0.977273             0.962687   \n",
       "0.65                0.844828                 0.967742             0.982759   \n",
       "0.55                0.867347                 0.987500             0.969388   \n",
       "0.45                0.827160                 0.989691             0.975309   \n",
       "0.35                0.920635                 0.982609             0.984127   \n",
       "0.25                0.933333                 0.984962             0.977778   \n",
       "0.15                0.925926                 0.986755             0.962963   \n",
       "\n",
       "      NB Training Data Acc  \n",
       "0.75              1.000000  \n",
       "0.65              1.000000  \n",
       "0.55              1.000000  \n",
       "0.45              1.000000  \n",
       "0.35              0.991304  \n",
       "0.25              0.992481  \n",
       "0.15              0.993377  "
      ]
     },
     "metadata": {},
     "output_type": "display_data"
    },
    {
     "name": "stdout",
     "output_type": "stream",
     "text": [
      "Resubstitution and Generalization Error indexed on Proportion of Data Heldout for Testing\n"
     ]
    },
    {
     "data": {
      "text/html": [
       "<div>\n",
       "<style>\n",
       "    .dataframe thead tr:only-child th {\n",
       "        text-align: right;\n",
       "    }\n",
       "\n",
       "    .dataframe thead th {\n",
       "        text-align: left;\n",
       "    }\n",
       "\n",
       "    .dataframe tbody tr th {\n",
       "        vertical-align: top;\n",
       "    }\n",
       "</style>\n",
       "<table border=\"1\" class=\"dataframe\">\n",
       "  <thead>\n",
       "    <tr style=\"text-align: right;\">\n",
       "      <th></th>\n",
       "      <th>DTree Resubstitution Error</th>\n",
       "      <th>DTree Generalization Error</th>\n",
       "      <th>NB Resubstitution Error</th>\n",
       "      <th>NB Generalization Error</th>\n",
       "    </tr>\n",
       "  </thead>\n",
       "  <tbody>\n",
       "    <tr>\n",
       "      <th>0.75</th>\n",
       "      <td>0.149254</td>\n",
       "      <td>0.022727</td>\n",
       "      <td>0.037313</td>\n",
       "      <td>0.000000</td>\n",
       "    </tr>\n",
       "    <tr>\n",
       "      <th>0.65</th>\n",
       "      <td>0.155172</td>\n",
       "      <td>0.032258</td>\n",
       "      <td>0.017241</td>\n",
       "      <td>0.000000</td>\n",
       "    </tr>\n",
       "    <tr>\n",
       "      <th>0.55</th>\n",
       "      <td>0.132653</td>\n",
       "      <td>0.012500</td>\n",
       "      <td>0.030612</td>\n",
       "      <td>0.000000</td>\n",
       "    </tr>\n",
       "    <tr>\n",
       "      <th>0.45</th>\n",
       "      <td>0.172840</td>\n",
       "      <td>0.010309</td>\n",
       "      <td>0.024691</td>\n",
       "      <td>0.000000</td>\n",
       "    </tr>\n",
       "    <tr>\n",
       "      <th>0.35</th>\n",
       "      <td>0.079365</td>\n",
       "      <td>0.017391</td>\n",
       "      <td>0.015873</td>\n",
       "      <td>0.008696</td>\n",
       "    </tr>\n",
       "    <tr>\n",
       "      <th>0.25</th>\n",
       "      <td>0.066667</td>\n",
       "      <td>0.015038</td>\n",
       "      <td>0.022222</td>\n",
       "      <td>0.007519</td>\n",
       "    </tr>\n",
       "    <tr>\n",
       "      <th>0.15</th>\n",
       "      <td>0.074074</td>\n",
       "      <td>0.013245</td>\n",
       "      <td>0.037037</td>\n",
       "      <td>0.006623</td>\n",
       "    </tr>\n",
       "  </tbody>\n",
       "</table>\n",
       "</div>"
      ],
      "text/plain": [
       "      DTree Resubstitution Error  DTree Generalization Error  \\\n",
       "0.75                    0.149254                    0.022727   \n",
       "0.65                    0.155172                    0.032258   \n",
       "0.55                    0.132653                    0.012500   \n",
       "0.45                    0.172840                    0.010309   \n",
       "0.35                    0.079365                    0.017391   \n",
       "0.25                    0.066667                    0.015038   \n",
       "0.15                    0.074074                    0.013245   \n",
       "\n",
       "      NB Resubstitution Error  NB Generalization Error  \n",
       "0.75                 0.037313                 0.000000  \n",
       "0.65                 0.017241                 0.000000  \n",
       "0.55                 0.030612                 0.000000  \n",
       "0.45                 0.024691                 0.000000  \n",
       "0.35                 0.015873                 0.008696  \n",
       "0.25                 0.022222                 0.007519  \n",
       "0.15                 0.037037                 0.006623  "
      ]
     },
     "metadata": {},
     "output_type": "display_data"
    }
   ],
   "source": [
    "splits = [0.75, 0.65, 0.55, 0.45, 0.35, 0.25, 0.15]\n",
    "tree_resub_acc_list = []; tree_gen_acc_list = []\n",
    "nb_resub_acc_list = []; nb_gen_acc_list = []\n",
    "\n",
    "for split in splits:\n",
    "    tree_acc, nb_gauss_acc, tree_resub_acc, nb_resub_acc, tree_gen_acc, nb_gen_acc = \\\n",
    "            clf_comparison(tree_clf, \"tree_clf\", nb_gauss_clf, \"nb_gauss_clf\",\n",
    "                           wine_data_df, wine_class_df, split, False)\n",
    "    tree_resub_acc_list.extend(tree_resub_acc)\n",
    "    tree_gen_acc_list.extend(tree_gen_acc)\n",
    "    nb_resub_acc_list.extend(nb_resub_acc)\n",
    "    nb_gen_acc_list.extend(nb_gen_acc)\n",
    "    \n",
    "resub_gen_dict = {'DTree Training Data Acc' : tree_resub_acc_list,\n",
    "                  'DTree Testing Data Acc' : tree_gen_acc_list,\n",
    "                  'NB Training Data Acc' : nb_resub_acc_list,\n",
    "                  'NB Testing Data Acc' : nb_gen_acc_list}\n",
    "\n",
    "resub_gen_df = pd.DataFrame(resub_gen_dict, index=splits)\n",
    "resub_gen_error_df = 1-resub_gen_df\n",
    "resub_gen_error_df.columns = ['DTree Resubstitution Error', 'DTree Generalization Error',\n",
    "                              'NB Resubstitution Error', 'NB Generalization Error']\n",
    "print('Classifier Accuracies indexed on Proportion of Data Heldout for Testing')\n",
    "display(resub_gen_df)\n",
    "print('Resubstitution and Generalization Error indexed on Proportion of Data Heldout for Testing')\n",
    "display(resub_gen_error_df)"
   ]
  },
  {
   "cell_type": "code",
   "execution_count": 128,
   "metadata": {
    "collapsed": false
   },
   "outputs": [
    {
     "data": {
      "image/png": "[encoded data removed]",
      "text/plain": [
       "<matplotlib.figure.Figure at 0x1cda9d814a8>"
      ]
     },
     "metadata": {},
     "output_type": "display_data"
    }
   ],
   "source": [
    "with plt.style.context('seaborn-whitegrid'):\n",
    "    fig, ax = plt.subplots(figsize=(11,7))\n",
    "    ax.plot(resub_gen_df.index, resub_gen_df['DTree Training Data Acc'])\n",
    "    ax.plot(resub_gen_df.index, resub_gen_df['DTree Testing Data Acc'])\n",
    "    ax.plot(resub_gen_df.index, resub_gen_df['NB Training Data Acc'])\n",
    "    ax.plot(resub_gen_df.index, resub_gen_df['NB Testing Data Acc'])\n",
    "    ax.legend(loc='lower left', frameon=False)\n",
    "    ax.set_xlabel('$P_{testing}$: Proportion of Data Heldout for Test Set', fontsize=16)\n",
    "    ax.set_ylabel('Model Accuracy [proportion]', fontsize=16)\n",
    "    ax.set_ylim([0.6,1.01])\n",
    "    ax.set_title('Decision Tree and Naive Bayes Classifier Accuracy' + \n",
    "                 ' on Training/Testing Proportion', fontsize=16)"
   ]
  },
  {
   "cell_type": "code",
   "execution_count": 131,
   "metadata": {
    "collapsed": false
   },
   "outputs": [
    {
     "data": {
      "image/png": "[encoded data removed]",
      "text/plain": [
       "<matplotlib.figure.Figure at 0x1cda8538f98>"
      ]
     },
     "metadata": {},
     "output_type": "display_data"
    }
   ],
   "source": [
    "with plt.style.context('seaborn-whitegrid'):\n",
    "    fig, ax = plt.subplots(figsize=(11,7))\n",
    "    ax.plot(resub_gen_error_df.index, resub_gen_error_df['DTree Resubstitution Error'])\n",
    "    ax.plot(resub_gen_error_df.index, resub_gen_error_df['DTree Generalization Error'])\n",
    "    ax.plot(resub_gen_error_df.index, resub_gen_error_df['NB Resubstitution Error'])\n",
    "    ax.plot(resub_gen_error_df.index, resub_gen_error_df['NB Generalization Error'])\n",
    "    ax.legend(loc='upper right', frameon=False)\n",
    "    ax.set_xlabel('$P_{testing}$: Proportion of Data Heldout for Test Set', fontsize=16)\n",
    "    ax.set_ylabel('Error Rate [proportion]', fontsize=16)\n",
    "    ax.set_ylim([-0.01,0.24])\n",
    "    ax.set_title('Resubstitution and Generalization Error for' +\\\n",
    "                ' Decision Tree and Naive Bayes Classifiers', fontsize=16)"
   ]
  },
  {
   "cell_type": "markdown",
   "metadata": {},
   "source": [
    "### Analysis of Results\n",
    "\n",
    "From this analysis, we see that the generalization error ($Err_{gen}(P_{testing})$) for both the decision tree and naive Bayes classifiers was pretty low ($Err_{gen}<3.8\\%$) for all examined training set sizes (which are given by $P_{training}=1-P_{testing}$). The naive Bayes classifier's resubstitution error was didn't vary substantially over the range of examined testing/training splits. The decision tree classifier's resubstitution error ($Err_{resub}$), however, was significantly impacted by decreasing the size of the training set, increasing from $Err_{resub}(15\\%)\\simeq7.4\\%$ to $Err_{resub}(P_{testing})>13.2\\%$ for all $P_{testing} > 0.45\\%$. While there's not much utility to making a classifier that's exceptional at classifying training data, it is interesting that the generalization error remains so low.\n",
    "\n",
    "These error rates were measured over 30 different selections of the testing and training subsets, so these are real effects and not artifacts of small sample sizes."
   ]
  },
  {
   "cell_type": "markdown",
   "metadata": {},
   "source": [
    "# 3: ROC and Lift Curves\n",
    "\n",
    "ROC curves plot a classifier's True Positive Rate ($TPR$, aka sensitivity) and False Positive Rate ($FPR$, aka specificity) \n",
    "\n",
    "$$TPR = \\frac{TP}{TP+FN} \\quad \\text{(Sensitivity)}$$\n",
    "\n",
    "$$FPR = \\frac{FP}{FP+TN} \\quad \\text{(Specificity)}$$"
   ]
  },
  {
   "cell_type": "code",
   "execution_count": 320,
   "metadata": {
    "collapsed": false
   },
   "outputs": [
    {
     "data": {
      "text/plain": [
       "Index(['Class', 'Alcohol', 'Malic acid', 'Ash', 'Alcalinity of ash', 'Mg',\n",
       "       'Total phenols', 'Flavanoids', 'Nonflavanoid phenols',\n",
       "       'Proanthocyanins', 'Color intensity', 'Hue',\n",
       "       'OD280/OD315 of diluted wines', 'Proline'],\n",
       "      dtype='object')"
      ]
     },
     "metadata": {},
     "output_type": "display_data"
    },
    {
     "data": {
      "text/html": [
       "<div>\n",
       "<style>\n",
       "    .dataframe thead tr:only-child th {\n",
       "        text-align: right;\n",
       "    }\n",
       "\n",
       "    .dataframe thead th {\n",
       "        text-align: left;\n",
       "    }\n",
       "\n",
       "    .dataframe tbody tr th {\n",
       "        vertical-align: top;\n",
       "    }\n",
       "</style>\n",
       "<table border=\"1\" class=\"dataframe\">\n",
       "  <thead>\n",
       "    <tr style=\"text-align: right;\">\n",
       "      <th></th>\n",
       "      <th>Class</th>\n",
       "      <th>Alcohol</th>\n",
       "      <th>Malic acid</th>\n",
       "      <th>Ash</th>\n",
       "      <th>Alcalinity of ash</th>\n",
       "      <th>Mg</th>\n",
       "      <th>Total phenols</th>\n",
       "      <th>Flavanoids</th>\n",
       "      <th>Nonflavanoid phenols</th>\n",
       "      <th>Proanthocyanins</th>\n",
       "      <th>Color intensity</th>\n",
       "      <th>Hue</th>\n",
       "      <th>OD280/OD315 of diluted wines</th>\n",
       "      <th>Proline</th>\n",
       "    </tr>\n",
       "  </thead>\n",
       "  <tbody>\n",
       "    <tr>\n",
       "      <th>0</th>\n",
       "      <td>1</td>\n",
       "      <td>14.23</td>\n",
       "      <td>1.71</td>\n",
       "      <td>2.43</td>\n",
       "      <td>15.6</td>\n",
       "      <td>127</td>\n",
       "      <td>2.80</td>\n",
       "      <td>3.06</td>\n",
       "      <td>0.28</td>\n",
       "      <td>2.29</td>\n",
       "      <td>5.64</td>\n",
       "      <td>1.04</td>\n",
       "      <td>3.92</td>\n",
       "      <td>1065</td>\n",
       "    </tr>\n",
       "    <tr>\n",
       "      <th>1</th>\n",
       "      <td>1</td>\n",
       "      <td>13.20</td>\n",
       "      <td>1.78</td>\n",
       "      <td>2.14</td>\n",
       "      <td>11.2</td>\n",
       "      <td>100</td>\n",
       "      <td>2.65</td>\n",
       "      <td>2.76</td>\n",
       "      <td>0.26</td>\n",
       "      <td>1.28</td>\n",
       "      <td>4.38</td>\n",
       "      <td>1.05</td>\n",
       "      <td>3.40</td>\n",
       "      <td>1050</td>\n",
       "    </tr>\n",
       "    <tr>\n",
       "      <th>2</th>\n",
       "      <td>1</td>\n",
       "      <td>13.16</td>\n",
       "      <td>2.36</td>\n",
       "      <td>2.67</td>\n",
       "      <td>18.6</td>\n",
       "      <td>101</td>\n",
       "      <td>2.80</td>\n",
       "      <td>3.24</td>\n",
       "      <td>0.30</td>\n",
       "      <td>2.81</td>\n",
       "      <td>5.68</td>\n",
       "      <td>1.03</td>\n",
       "      <td>3.17</td>\n",
       "      <td>1185</td>\n",
       "    </tr>\n",
       "    <tr>\n",
       "      <th>3</th>\n",
       "      <td>1</td>\n",
       "      <td>14.37</td>\n",
       "      <td>1.95</td>\n",
       "      <td>2.50</td>\n",
       "      <td>16.8</td>\n",
       "      <td>113</td>\n",
       "      <td>3.85</td>\n",
       "      <td>3.49</td>\n",
       "      <td>0.24</td>\n",
       "      <td>2.18</td>\n",
       "      <td>7.80</td>\n",
       "      <td>0.86</td>\n",
       "      <td>3.45</td>\n",
       "      <td>1480</td>\n",
       "    </tr>\n",
       "    <tr>\n",
       "      <th>4</th>\n",
       "      <td>1</td>\n",
       "      <td>13.24</td>\n",
       "      <td>2.59</td>\n",
       "      <td>2.87</td>\n",
       "      <td>21.0</td>\n",
       "      <td>118</td>\n",
       "      <td>2.80</td>\n",
       "      <td>2.69</td>\n",
       "      <td>0.39</td>\n",
       "      <td>1.82</td>\n",
       "      <td>4.32</td>\n",
       "      <td>1.04</td>\n",
       "      <td>2.93</td>\n",
       "      <td>735</td>\n",
       "    </tr>\n",
       "  </tbody>\n",
       "</table>\n",
       "</div>"
      ],
      "text/plain": [
       "   Class  Alcohol  Malic acid   Ash  Alcalinity of ash   Mg  Total phenols  \\\n",
       "0      1    14.23        1.71  2.43               15.6  127           2.80   \n",
       "1      1    13.20        1.78  2.14               11.2  100           2.65   \n",
       "2      1    13.16        2.36  2.67               18.6  101           2.80   \n",
       "3      1    14.37        1.95  2.50               16.8  113           3.85   \n",
       "4      1    13.24        2.59  2.87               21.0  118           2.80   \n",
       "\n",
       "   Flavanoids  Nonflavanoid phenols  Proanthocyanins  Color intensity   Hue  \\\n",
       "0        3.06                  0.28             2.29             5.64  1.04   \n",
       "1        2.76                  0.26             1.28             4.38  1.05   \n",
       "2        3.24                  0.30             2.81             5.68  1.03   \n",
       "3        3.49                  0.24             2.18             7.80  0.86   \n",
       "4        2.69                  0.39             1.82             4.32  1.04   \n",
       "\n",
       "   OD280/OD315 of diluted wines  Proline  \n",
       "0                          3.92     1065  \n",
       "1                          3.40     1050  \n",
       "2                          3.17     1185  \n",
       "3                          3.45     1480  \n",
       "4                          2.93      735  "
      ]
     },
     "metadata": {},
     "output_type": "display_data"
    },
    {
     "name": "stdout",
     "output_type": "stream",
     "text": [
      "Unique classes in the Wine data set: [1 2 3]\n",
      "Unique classes in the Wine data set after replacing 3 with 2: [1 0]\n"
     ]
    }
   ],
   "source": [
    "wine_df = pd.read_csv(\"wine.csv\")\n",
    "display(wine_df.columns)\n",
    "display(wine_df.head(5))\n",
    "print('Unique classes in the Wine data set: ' +str(wine_df.Class.unique()))\n",
    "# Convert all instances of Class = 3 or Class = 2 to Class = 0\n",
    "wine_df.Class.replace(3,0, inplace=True) \n",
    "wine_df.Class.replace(2,0, inplace=True)\n",
    "print('Unique classes in the Wine data set after replacing 3 with 2: '\n",
    "      +str(wine_df.Class.unique()))"
   ]
  },
  {
   "cell_type": "code",
   "execution_count": 455,
   "metadata": {
    "collapsed": false
   },
   "outputs": [],
   "source": [
    "wine_class_df = wine_df['Class']\n",
    "wine_data_df = wine_df.drop('Class', axis=1)\n",
    "wine_train, wine_test, class_train, class_test = train_test_split(wine_data_df,\n",
    "                                                                  wine_class_df,\n",
    "                                                                  test_size=0.34,\n",
    "                                                                  random_state=123)\n",
    "\n",
    "# this handles a bug where the class arrays are given shape (n_rows,)\n",
    "if(any(map(lambda x: x is None, class_train))):\n",
    "    class_train = class_train.values.reshape((class_train.shape[0],1))"
   ]
  },
  {
   "cell_type": "code",
   "execution_count": 456,
   "metadata": {
    "collapsed": false
   },
   "outputs": [],
   "source": [
    "def confusion_mat_plotter(cfn_matrix, class_labels, title):\n",
    "    print(confusion_mat)\n",
    "    sns.heatmap(cfn_matrix.T, square=True, annot=True, fmt='d', cbar=False, \n",
    "            xticklabels=class_labels, yticklabels=class_labels)\n",
    "    plt.xlabel('True Class')\n",
    "    plt.ylabel('Predicted Class')\n",
    "    plt.title('Confusion Matrix ' + title)\n",
    "\n",
    "    \n",
    "def ROC_plotter(true_vals, pred_probs, title=''):\n",
    "    FPR, TPR, threshold = metrics.roc_curve(true_vals, pred_probs, pos_label=1)\n",
    "    with plt.style.context('seaborn-whitegrid'):\n",
    "        fig, ax = plt.subplots(figsize=(11,7))\n",
    "        ax.plot(FPR, TPR)\n",
    "        ax.plot([0, 1], [0, 1], 'k--')\n",
    "        ax.set_xlim([-0.01, 1.01])\n",
    "        ax.set_ylim([-0.02, 1.02])\n",
    "        ax.set_ylabel('True Positive Rate')\n",
    "        ax.set_xlabel('False Positive Rate')\n",
    "        ax.set_title('ROC Curve: ' + title )\n",
    "#         ax.set_title('ROC Curve: ' + title + ' threshold: ' + str(threshold))\n",
    "\n",
    "# def ROC_plotter(true_vals, pred_probs, title=''):\n",
    "#     FPR, TPR, threshold = metrics.roc_curve(true_vals, pred_probs, pos_label=1)\n",
    "#     with plt.style.context('seaborn-whitegrid'):\n",
    "#         fig, ax = plt.subplots(figsize=(11,7))\n",
    "#         ax.plot(FPR, TPR)\n",
    "#         ax.plot([0, 1], [0, 1], 'k--')\n",
    "#         ax.set_xlim([-0.01, 1.01])\n",
    "#         ax.set_ylim([-0.02, 1.02])\n",
    "#         ax.set_ylabel('True Positive Rate')\n",
    "#         ax.set_xlabel('False Positive Rate')\n",
    "# #         ax.set_title('ROC Curve: ' + title )\n",
    "#         ax.set_title('ROC Curve: ' + title + ' threshold: ' + str(threshold))\n",
    "    \n",
    "    "
   ]
  },
  {
   "cell_type": "code",
   "execution_count": 457,
   "metadata": {
    "collapsed": false
   },
   "outputs": [
    {
     "name": "stdout",
     "output_type": "stream",
     "text": [
      "[[43  0]\n",
      " [ 0 18]]\n"
     ]
    },
    {
     "data": {
      "image/png": "[encoded data removed]",
      "text/plain": [
       "<matplotlib.figure.Figure at 0x1cdaa3a9208>"
      ]
     },
     "metadata": {},
     "output_type": "display_data"
    },
    {
     "data": {
      "image/png": "[encoded data removed]",
      "text/plain": [
       "<matplotlib.figure.Figure at 0x1cdaa3a9e10>"
      ]
     },
     "metadata": {},
     "output_type": "display_data"
    }
   ],
   "source": [
    "nb_gauss_clf = naive_bayes.GaussianNB()\n",
    "nb_gauss_clf = nb_gauss_clf.fit(wine_train, class_train)\n",
    "nb_gauss_preds = nb_gauss_clf.predict(wine_test)\n",
    "confusion_mat = metrics.confusion_matrix(class_test, nb_gauss_preds)\n",
    "confusion_mat_plotter(confusion_mat, [1,0], 'for a single NB Classifier')\n",
    "# print(nb_gauss_preds) # for confirming the labels on the confusion matrix plot\n",
    "# print(class_test)   # for confirming the labels on the confusion matrix plot\n",
    "\n",
    "nb_pred_prob = nb_gauss_clf.predict_proba(wine_test)[:, 1]\n",
    "ROC_plotter(class_test, nb_pred_prob, 'for class_test and nb_gauss_preds')"
   ]
  },
  {
   "cell_type": "code",
   "execution_count": 458,
   "metadata": {
    "collapsed": false
   },
   "outputs": [
    {
     "name": "stdout",
     "output_type": "stream",
     "text": [
      "[[75  1]\n",
      " [ 2 39]]\n"
     ]
    },
    {
     "data": {
      "image/png": "[encoded data removed]",
      "text/plain": [
       "<matplotlib.figure.Figure at 0x1cdaaadf860>"
      ]
     },
     "metadata": {},
     "output_type": "display_data"
    },
    {
     "data": {
      "image/png": "[encoded data removed]",
      "text/plain": [
       "<matplotlib.figure.Figure at 0x1cdaaf5a518>"
      ]
     },
     "metadata": {},
     "output_type": "display_data"
    }
   ],
   "source": [
    "nb_gauss_clf = nb_gauss_clf.fit(wine_train, class_train)\n",
    "nb_train_preds = nb_gauss_clf.predict(wine_train)\n",
    "confusion_mat = metrics.confusion_matrix(class_train, nb_train_preds)\n",
    "confusion_mat_plotter(confusion_mat, [1,0],\n",
    "                      'for a single NB Classifier on training data')\n",
    "ROC_plotter(class_train, nb_train_preds, 'for training classes and training data')\n",
    "# display(nb_train_preds)\n",
    "# display(class_train)"
   ]
  },
  {
   "cell_type": "markdown",
   "metadata": {},
   "source": [
    "## 3b: \n",
    "These are boring results, as the classifier is producing perfect or nearly perfect predictions. Nearly any "
   ]
  },
  {
   "cell_type": "code",
   "execution_count": 396,
   "metadata": {
    "collapsed": true
   },
   "outputs": [],
   "source": [
    "def ROC_plotter(true_vals, pred_probs, title=''):\n",
    "    FPR, TPR, threshold = metrics.roc_curve(true_vals, pred_probs, pos_label=1)\n",
    "    with plt.style.context('seaborn-whitegrid'):\n",
    "        fig, ax = plt.subplots(figsize=(11,7))\n",
    "        ax.plot(FPR, TPR)\n",
    "        ax.plot([0, 1], [0, 1], 'k--')\n",
    "        ax.set_xlim([-0.01, 1.01])\n",
    "        ax.set_ylim([-0.02, 1.02])\n",
    "        ax.set_ylabel('True Positive Rate')\n",
    "        ax.set_xlabel('False Positive Rate')\n",
    "        ax.set_title('ROC Curve: ' + title )\n",
    "#         ax.set_title('ROC Curve: ' + title + ' threshold: ' + str(threshold))"
   ]
  },
  {
   "cell_type": "code",
   "execution_count": 470,
   "metadata": {
    "collapsed": false
   },
   "outputs": [
    {
     "name": "stdout",
     "output_type": "stream",
     "text": [
      "[[75  1]\n",
      " [ 2 39]]\n"
     ]
    },
    {
     "data": {
      "image/png": "[encoded data removed]",
      "text/plain": [
       "<matplotlib.figure.Figure at 0x1cdaa86bbe0>"
      ]
     },
     "metadata": {},
     "output_type": "display_data"
    },
    {
     "data": {
      "image/png": "[encoded data removed]",
      "text/plain": [
       "<matplotlib.figure.Figure at 0x1cdaa4402e8>"
      ]
     },
     "metadata": {},
     "output_type": "display_data"
    }
   ],
   "source": [
    "wine_train2, wine_test2, class_train2, class_test2 = train_test_split(wine_data_df,\n",
    "                                                                      wine_class_df,\n",
    "                                                                      test_size=0.30,\n",
    "                                                                      random_state=5)\n",
    "# this handles a bug where the class arrays are given shape (n_rows,)\n",
    "if(any(map(lambda x: x is None, class_train2))):\n",
    "    class_train2 = class_train2.values.reshape((class_train2.shape[0],1))\n",
    "\n",
    "# class_train2.unique()\n",
    "nb_gauss_clf2 = nb_gauss_clf.fit(wine_train2, class_train2)\n",
    "nb_gauss_preds2 = nb_gauss_clf.predict(wine_test2)\n",
    "nb_pred_prob = nb_gauss_clf.predict_proba(wine_test2)[:, 1]\n",
    "\n",
    "confusion_mat2 = metrics.confusion_matrix(class_test2, nb_gauss_preds2)\n",
    "confusion_mat_plotter(confusion_mat2, [1, 0], 'for a single NB Classifier')\n",
    "ROC_plotter(class_test2, nb_pred_prob, 'Trying to find more interesting stuff')"
   ]
  },
  {
   "cell_type": "code",
   "execution_count": 475,
   "metadata": {
    "collapsed": false
   },
   "outputs": [],
   "source": [
    "# wine_data_df"
   ]
  },
  {
   "cell_type": "code",
   "execution_count": 507,
   "metadata": {
    "collapsed": false
   },
   "outputs": [
    {
     "data": {
      "image/png": "[encoded data removed]",
      "text/plain": [
       "<matplotlib.figure.Figure at 0x1cdaaae6470>"
      ]
     },
     "metadata": {},
     "output_type": "display_data"
    }
   ],
   "source": [
    "# nb_cv_probs = cross_val_predict(nb_gauss_clf, wine_data_df, wine_class_df, cv=10, n_jobs=-1, method='predict_proba')\n",
    "class_probs = pd.DataFrame({'Class_Label': wine_class_df,\n",
    "                            'Prediction_Prob': nb_cv_probs[:,1]})\n",
    "class_probs = class_probs.sort_values(by='Prediction_Prob', ascending=False)\n",
    "class_probs.reset_index(drop=True, inplace=True)\n",
    "class_probs['Lift'] = class_probs.Class_Label.cumsum() / \\\n",
    "                        (100 * class_probs.Class_Label.sum())\n",
    "default_prob = wine_class_df.sum() / (100 * len(wine_class_df))\n",
    "with plt.style.context('seaborn-whitegrid'):\n",
    "        fig, ax = plt.subplots(figsize=(11,7))\n",
    "        ax.plot(class_probs.index, class_probs['Lift'])\n",
    "        ax.set_ylabel('Cumulative ')\n",
    "# class_probs['Lift'].plot()\n",
    "\n",
    "# help(pd.DataFrame.cumsum())"
   ]
  },
  {
   "cell_type": "markdown",
   "metadata": {},
   "source": [
    "# 4: Ensemble methods"
   ]
  },
  {
   "cell_type": "code",
   "execution_count": 529,
   "metadata": {
    "collapsed": false
   },
   "outputs": [
    {
     "data": {
      "text/plain": [
       "Index(['mean_radius', 'mean_texture', 'mean_perimeter', 'mean_area',\n",
       "       'mean_smoothness', 'mean_compactness', 'mean_concavity',\n",
       "       'mean_concave_points', 'mean_symmetry', 'mean_fractal_dimension',\n",
       "       'std_radius', 'std_texture', 'std_perimeter', 'std_area',\n",
       "       'std_smoothness', 'std_compactness', 'std_concavity',\n",
       "       'std_concave_points', 'std_symmetry', 'std_fractal_dimension',\n",
       "       'worst_radius', 'worst_texture', 'worst_perimeter', 'worst_area',\n",
       "       'worst_smoothness', 'worst_compactness', 'worst_concavity',\n",
       "       'worst_concave_points', 'worst_symmetry', 'worst_fractal_dimension'],\n",
       "      dtype='object')"
      ]
     },
     "metadata": {},
     "output_type": "display_data"
    },
    {
     "data": {
      "text/html": [
       "<div>\n",
       "<style>\n",
       "    .dataframe thead tr:only-child th {\n",
       "        text-align: right;\n",
       "    }\n",
       "\n",
       "    .dataframe thead th {\n",
       "        text-align: left;\n",
       "    }\n",
       "\n",
       "    .dataframe tbody tr th {\n",
       "        vertical-align: top;\n",
       "    }\n",
       "</style>\n",
       "<table border=\"1\" class=\"dataframe\">\n",
       "  <thead>\n",
       "    <tr style=\"text-align: right;\">\n",
       "      <th></th>\n",
       "      <th>Diagnosis</th>\n",
       "      <th>mean_radius</th>\n",
       "      <th>mean_texture</th>\n",
       "      <th>mean_perimeter</th>\n",
       "      <th>mean_area</th>\n",
       "      <th>mean_smoothness</th>\n",
       "      <th>mean_compactness</th>\n",
       "      <th>mean_concavity</th>\n",
       "      <th>mean_concave_points</th>\n",
       "      <th>mean_symmetry</th>\n",
       "      <th>...</th>\n",
       "      <th>worst_radius</th>\n",
       "      <th>worst_texture</th>\n",
       "      <th>worst_perimeter</th>\n",
       "      <th>worst_area</th>\n",
       "      <th>worst_smoothness</th>\n",
       "      <th>worst_compactness</th>\n",
       "      <th>worst_concavity</th>\n",
       "      <th>worst_concave_points</th>\n",
       "      <th>worst_symmetry</th>\n",
       "      <th>worst_fractal_dimension</th>\n",
       "    </tr>\n",
       "    <tr>\n",
       "      <th>ID</th>\n",
       "      <th></th>\n",
       "      <th></th>\n",
       "      <th></th>\n",
       "      <th></th>\n",
       "      <th></th>\n",
       "      <th></th>\n",
       "      <th></th>\n",
       "      <th></th>\n",
       "      <th></th>\n",
       "      <th></th>\n",
       "      <th></th>\n",
       "      <th></th>\n",
       "      <th></th>\n",
       "      <th></th>\n",
       "      <th></th>\n",
       "      <th></th>\n",
       "      <th></th>\n",
       "      <th></th>\n",
       "      <th></th>\n",
       "      <th></th>\n",
       "      <th></th>\n",
       "    </tr>\n",
       "  </thead>\n",
       "  <tbody>\n",
       "    <tr>\n",
       "      <th>842302</th>\n",
       "      <td>M</td>\n",
       "      <td>17.99</td>\n",
       "      <td>10.38</td>\n",
       "      <td>122.8</td>\n",
       "      <td>1001.0</td>\n",
       "      <td>0.11840</td>\n",
       "      <td>0.27760</td>\n",
       "      <td>0.3001</td>\n",
       "      <td>0.14710</td>\n",
       "      <td>0.2419</td>\n",
       "      <td>...</td>\n",
       "      <td>25.38</td>\n",
       "      <td>17.33</td>\n",
       "      <td>184.6</td>\n",
       "      <td>2019.0</td>\n",
       "      <td>0.1622</td>\n",
       "      <td>0.6656</td>\n",
       "      <td>0.7119</td>\n",
       "      <td>0.2654</td>\n",
       "      <td>0.4601</td>\n",
       "      <td>0.11890</td>\n",
       "    </tr>\n",
       "    <tr>\n",
       "      <th>842517</th>\n",
       "      <td>M</td>\n",
       "      <td>20.57</td>\n",
       "      <td>17.77</td>\n",
       "      <td>132.9</td>\n",
       "      <td>1326.0</td>\n",
       "      <td>0.08474</td>\n",
       "      <td>0.07864</td>\n",
       "      <td>0.0869</td>\n",
       "      <td>0.07017</td>\n",
       "      <td>0.1812</td>\n",
       "      <td>...</td>\n",
       "      <td>24.99</td>\n",
       "      <td>23.41</td>\n",
       "      <td>158.8</td>\n",
       "      <td>1956.0</td>\n",
       "      <td>0.1238</td>\n",
       "      <td>0.1866</td>\n",
       "      <td>0.2416</td>\n",
       "      <td>0.1860</td>\n",
       "      <td>0.2750</td>\n",
       "      <td>0.08902</td>\n",
       "    </tr>\n",
       "    <tr>\n",
       "      <th>84300903</th>\n",
       "      <td>M</td>\n",
       "      <td>19.69</td>\n",
       "      <td>21.25</td>\n",
       "      <td>130.0</td>\n",
       "      <td>1203.0</td>\n",
       "      <td>0.10960</td>\n",
       "      <td>0.15990</td>\n",
       "      <td>0.1974</td>\n",
       "      <td>0.12790</td>\n",
       "      <td>0.2069</td>\n",
       "      <td>...</td>\n",
       "      <td>23.57</td>\n",
       "      <td>25.53</td>\n",
       "      <td>152.5</td>\n",
       "      <td>1709.0</td>\n",
       "      <td>0.1444</td>\n",
       "      <td>0.4245</td>\n",
       "      <td>0.4504</td>\n",
       "      <td>0.2430</td>\n",
       "      <td>0.3613</td>\n",
       "      <td>0.08758</td>\n",
       "    </tr>\n",
       "  </tbody>\n",
       "</table>\n",
       "<p>3 rows × 31 columns</p>\n",
       "</div>"
      ],
      "text/plain": [
       "         Diagnosis  mean_radius  mean_texture  mean_perimeter  mean_area  \\\n",
       "ID                                                                         \n",
       "842302           M        17.99         10.38           122.8     1001.0   \n",
       "842517           M        20.57         17.77           132.9     1326.0   \n",
       "84300903         M        19.69         21.25           130.0     1203.0   \n",
       "\n",
       "          mean_smoothness  mean_compactness  mean_concavity  \\\n",
       "ID                                                            \n",
       "842302            0.11840           0.27760          0.3001   \n",
       "842517            0.08474           0.07864          0.0869   \n",
       "84300903          0.10960           0.15990          0.1974   \n",
       "\n",
       "          mean_concave_points  mean_symmetry           ...             \\\n",
       "ID                                                     ...              \n",
       "842302                0.14710         0.2419           ...              \n",
       "842517                0.07017         0.1812           ...              \n",
       "84300903              0.12790         0.2069           ...              \n",
       "\n",
       "          worst_radius  worst_texture  worst_perimeter  worst_area  \\\n",
       "ID                                                                   \n",
       "842302           25.38          17.33            184.6      2019.0   \n",
       "842517           24.99          23.41            158.8      1956.0   \n",
       "84300903         23.57          25.53            152.5      1709.0   \n",
       "\n",
       "          worst_smoothness  worst_compactness  worst_concavity  \\\n",
       "ID                                                               \n",
       "842302              0.1622             0.6656           0.7119   \n",
       "842517              0.1238             0.1866           0.2416   \n",
       "84300903            0.1444             0.4245           0.4504   \n",
       "\n",
       "          worst_concave_points  worst_symmetry  worst_fractal_dimension  \n",
       "ID                                                                       \n",
       "842302                  0.2654          0.4601                  0.11890  \n",
       "842517                  0.1860          0.2750                  0.08902  \n",
       "84300903                0.2430          0.3613                  0.08758  \n",
       "\n",
       "[3 rows x 31 columns]"
      ]
     },
     "metadata": {},
     "output_type": "display_data"
    },
    {
     "data": {
      "text/html": [
       "<div>\n",
       "<style>\n",
       "    .dataframe thead tr:only-child th {\n",
       "        text-align: right;\n",
       "    }\n",
       "\n",
       "    .dataframe thead th {\n",
       "        text-align: left;\n",
       "    }\n",
       "\n",
       "    .dataframe tbody tr th {\n",
       "        vertical-align: top;\n",
       "    }\n",
       "</style>\n",
       "<table border=\"1\" class=\"dataframe\">\n",
       "  <thead>\n",
       "    <tr style=\"text-align: right;\">\n",
       "      <th></th>\n",
       "      <th>mean_radius</th>\n",
       "      <th>mean_texture</th>\n",
       "      <th>mean_perimeter</th>\n",
       "      <th>mean_area</th>\n",
       "      <th>mean_smoothness</th>\n",
       "      <th>mean_compactness</th>\n",
       "      <th>mean_concavity</th>\n",
       "      <th>mean_concave_points</th>\n",
       "      <th>mean_symmetry</th>\n",
       "      <th>mean_fractal_dimension</th>\n",
       "      <th>...</th>\n",
       "      <th>worst_radius</th>\n",
       "      <th>worst_texture</th>\n",
       "      <th>worst_perimeter</th>\n",
       "      <th>worst_area</th>\n",
       "      <th>worst_smoothness</th>\n",
       "      <th>worst_compactness</th>\n",
       "      <th>worst_concavity</th>\n",
       "      <th>worst_concave_points</th>\n",
       "      <th>worst_symmetry</th>\n",
       "      <th>worst_fractal_dimension</th>\n",
       "    </tr>\n",
       "    <tr>\n",
       "      <th>ID</th>\n",
       "      <th></th>\n",
       "      <th></th>\n",
       "      <th></th>\n",
       "      <th></th>\n",
       "      <th></th>\n",
       "      <th></th>\n",
       "      <th></th>\n",
       "      <th></th>\n",
       "      <th></th>\n",
       "      <th></th>\n",
       "      <th></th>\n",
       "      <th></th>\n",
       "      <th></th>\n",
       "      <th></th>\n",
       "      <th></th>\n",
       "      <th></th>\n",
       "      <th></th>\n",
       "      <th></th>\n",
       "      <th></th>\n",
       "      <th></th>\n",
       "      <th></th>\n",
       "    </tr>\n",
       "  </thead>\n",
       "  <tbody>\n",
       "    <tr>\n",
       "      <th>842302</th>\n",
       "      <td>17.99</td>\n",
       "      <td>10.38</td>\n",
       "      <td>122.8</td>\n",
       "      <td>1001.0</td>\n",
       "      <td>0.11840</td>\n",
       "      <td>0.27760</td>\n",
       "      <td>0.3001</td>\n",
       "      <td>0.14710</td>\n",
       "      <td>0.2419</td>\n",
       "      <td>0.07871</td>\n",
       "      <td>...</td>\n",
       "      <td>25.38</td>\n",
       "      <td>17.33</td>\n",
       "      <td>184.6</td>\n",
       "      <td>2019.0</td>\n",
       "      <td>0.1622</td>\n",
       "      <td>0.6656</td>\n",
       "      <td>0.7119</td>\n",
       "      <td>0.2654</td>\n",
       "      <td>0.4601</td>\n",
       "      <td>0.11890</td>\n",
       "    </tr>\n",
       "    <tr>\n",
       "      <th>842517</th>\n",
       "      <td>20.57</td>\n",
       "      <td>17.77</td>\n",
       "      <td>132.9</td>\n",
       "      <td>1326.0</td>\n",
       "      <td>0.08474</td>\n",
       "      <td>0.07864</td>\n",
       "      <td>0.0869</td>\n",
       "      <td>0.07017</td>\n",
       "      <td>0.1812</td>\n",
       "      <td>0.05667</td>\n",
       "      <td>...</td>\n",
       "      <td>24.99</td>\n",
       "      <td>23.41</td>\n",
       "      <td>158.8</td>\n",
       "      <td>1956.0</td>\n",
       "      <td>0.1238</td>\n",
       "      <td>0.1866</td>\n",
       "      <td>0.2416</td>\n",
       "      <td>0.1860</td>\n",
       "      <td>0.2750</td>\n",
       "      <td>0.08902</td>\n",
       "    </tr>\n",
       "    <tr>\n",
       "      <th>84300903</th>\n",
       "      <td>19.69</td>\n",
       "      <td>21.25</td>\n",
       "      <td>130.0</td>\n",
       "      <td>1203.0</td>\n",
       "      <td>0.10960</td>\n",
       "      <td>0.15990</td>\n",
       "      <td>0.1974</td>\n",
       "      <td>0.12790</td>\n",
       "      <td>0.2069</td>\n",
       "      <td>0.05999</td>\n",
       "      <td>...</td>\n",
       "      <td>23.57</td>\n",
       "      <td>25.53</td>\n",
       "      <td>152.5</td>\n",
       "      <td>1709.0</td>\n",
       "      <td>0.1444</td>\n",
       "      <td>0.4245</td>\n",
       "      <td>0.4504</td>\n",
       "      <td>0.2430</td>\n",
       "      <td>0.3613</td>\n",
       "      <td>0.08758</td>\n",
       "    </tr>\n",
       "  </tbody>\n",
       "</table>\n",
       "<p>3 rows × 30 columns</p>\n",
       "</div>"
      ],
      "text/plain": [
       "          mean_radius  mean_texture  mean_perimeter  mean_area  \\\n",
       "ID                                                               \n",
       "842302          17.99         10.38           122.8     1001.0   \n",
       "842517          20.57         17.77           132.9     1326.0   \n",
       "84300903        19.69         21.25           130.0     1203.0   \n",
       "\n",
       "          mean_smoothness  mean_compactness  mean_concavity  \\\n",
       "ID                                                            \n",
       "842302            0.11840           0.27760          0.3001   \n",
       "842517            0.08474           0.07864          0.0869   \n",
       "84300903          0.10960           0.15990          0.1974   \n",
       "\n",
       "          mean_concave_points  mean_symmetry  mean_fractal_dimension  \\\n",
       "ID                                                                     \n",
       "842302                0.14710         0.2419                 0.07871   \n",
       "842517                0.07017         0.1812                 0.05667   \n",
       "84300903              0.12790         0.2069                 0.05999   \n",
       "\n",
       "                   ...             worst_radius  worst_texture  \\\n",
       "ID                 ...                                           \n",
       "842302             ...                    25.38          17.33   \n",
       "842517             ...                    24.99          23.41   \n",
       "84300903           ...                    23.57          25.53   \n",
       "\n",
       "          worst_perimeter  worst_area  worst_smoothness  worst_compactness  \\\n",
       "ID                                                                           \n",
       "842302              184.6      2019.0            0.1622             0.6656   \n",
       "842517              158.8      1956.0            0.1238             0.1866   \n",
       "84300903            152.5      1709.0            0.1444             0.4245   \n",
       "\n",
       "          worst_concavity  worst_concave_points  worst_symmetry  \\\n",
       "ID                                                                \n",
       "842302             0.7119                0.2654          0.4601   \n",
       "842517             0.2416                0.1860          0.2750   \n",
       "84300903           0.4504                0.2430          0.3613   \n",
       "\n",
       "          worst_fractal_dimension  \n",
       "ID                                 \n",
       "842302                    0.11890  \n",
       "842517                    0.08902  \n",
       "84300903                  0.08758  \n",
       "\n",
       "[3 rows x 30 columns]"
      ]
     },
     "metadata": {},
     "output_type": "display_data"
    },
    {
     "data": {
      "text/plain": [
       "ID\n",
       "842302      M\n",
       "842517      M\n",
       "84300903    M\n",
       "Name: Diagnosis, dtype: object"
      ]
     },
     "metadata": {},
     "output_type": "display_data"
    }
   ],
   "source": [
    "bc_df = pd.read_csv('wdbc.csv', index_col=0)\n",
    "bc_class =bc_df.Diagnosis\n",
    "bc_data = bc_df.drop('Diagnosis', axis=1)\n",
    "display(bc_data.columns)\n",
    "display(bc_df.head(3))\n",
    "display(bc_data.head(3))\n",
    "display(bc_class.head(3))"
   ]
  },
  {
   "cell_type": "code",
   "execution_count": 532,
   "metadata": {
    "collapsed": false,
    "scrolled": true
   },
   "outputs": [],
   "source": [
    "parameters = {\n",
    "    'criterion': ['entropy','gini'],\n",
    "    'max_depth': list(range(1,10,2)),\n",
    "    'min_samples_leaf': list(range(1,5,1)),\n",
    "    'min_samples_split': list(range(2,10,1)),\n",
    "    'max_features': list(range(5,30,5)),\n",
    "    'random_state': [123]\n",
    "}\n",
    "\n",
    "dt_clf = tree.DecisionTreeClassifier()\n",
    "dt_clf_gs = GridSearchCV(dt_clf, parameters, verbose=1, cv=30, n_jobs=-1)"
   ]
  },
  {
   "cell_type": "code",
   "execution_count": 533,
   "metadata": {
    "collapsed": false
   },
   "outputs": [
    {
     "name": "stdout",
     "output_type": "stream",
     "text": [
      "Fitting 30 folds for each of 1600 candidates, totalling 48000 fits\n"
     ]
    },
    {
     "name": "stderr",
     "output_type": "stream",
     "text": [
      "[Parallel(n_jobs=-1)]: Done  34 tasks      | elapsed:    7.9s\n",
      "[Parallel(n_jobs=-1)]: Done 3905 tasks      | elapsed:   11.8s\n",
      "[Parallel(n_jobs=-1)]: Done 12905 tasks      | elapsed:   23.8s\n",
      "[Parallel(n_jobs=-1)]: Done 25505 tasks      | elapsed:   42.9s\n",
      "[Parallel(n_jobs=-1)]: Done 41705 tasks      | elapsed:  1.0min\n",
      "[Parallel(n_jobs=-1)]: Done 48000 out of 48000 | elapsed:  1.1min finished\n"
     ]
    },
    {
     "name": "stdout",
     "output_type": "stream",
     "text": [
      "Wall time: 1min 9s\n"
     ]
    },
    {
     "data": {
      "text/plain": [
       "({'criterion': 'entropy',\n",
       "  'max_depth': 5,\n",
       "  'max_features': 15,\n",
       "  'min_samples_leaf': 1,\n",
       "  'min_samples_split': 2,\n",
       "  'random_state': 123},\n",
       " 0.96485061511423553)"
      ]
     },
     "execution_count": 533,
     "metadata": {},
     "output_type": "execute_result"
    }
   ],
   "source": [
    "%time _ = dt_clf_gs.fit(bc_data, bc_class)\n",
    "\n",
    "dt_clf_gs.best_params_, dt_clf_gs.best_score_"
   ]
  },
  {
   "cell_type": "code",
   "execution_count": 534,
   "metadata": {
    "collapsed": false
   },
   "outputs": [
    {
     "data": {
      "text/plain": [
       "DecisionTreeClassifier(class_weight=None, criterion='entropy', max_depth=5,\n",
       "            max_features=15, max_leaf_nodes=None, min_impurity_split=1e-07,\n",
       "            min_samples_leaf=1, min_samples_split=2,\n",
       "            min_weight_fraction_leaf=0.0, presort=False, random_state=123,\n",
       "            splitter='best')"
      ]
     },
     "execution_count": 534,
     "metadata": {},
     "output_type": "execute_result"
    }
   ],
   "source": [
    "dt_clf_gs.best_estimator_"
   ]
  },
  {
   "cell_type": "code",
   "execution_count": 535,
   "metadata": {
    "collapsed": true
   },
   "outputs": [],
   "source": [
    "dt_clf_best = tree.DecisionTreeClassifier(criterion='entropy', max_depth=5,\n",
    "                                         max_features=15, min_samples_leaf=1,\n",
    "                                         min_samples_split=2, random_state=123)"
   ]
  },
  {
   "cell_type": "code",
   "execution_count": null,
   "metadata": {
    "collapsed": true
   },
   "outputs": [],
   "source": [
    "dt_clf_bag = BaggingC"
   ]
  },
  {
   "cell_type": "code",
   "execution_count": 518,
   "metadata": {
    "collapsed": false,
    "scrolled": false
   },
   "outputs": [],
   "source": []
  },
  {
   "cell_type": "code",
   "execution_count": 536,
   "metadata": {
    "collapsed": false,
    "scrolled": true
   },
   "outputs": [],
   "source": []
  },
  {
   "cell_type": "code",
   "execution_count": null,
   "metadata": {
    "collapsed": false
   },
   "outputs": [],
   "source": []
  },
  {
   "cell_type": "code",
   "execution_count": null,
   "metadata": {
    "collapsed": true
   },
   "outputs": [],
   "source": [
    "# help(metrics.roc_curve)\n",
    "# help(RandomizedSearchCV)\n",
    "# help(pd.DataFrame.replace)\n",
    "# help(metrics.confusion_matrix)\n",
    "# help(naive_bayes.GaussianNB.predict_proba)"
   ]
  },
  {
   "cell_type": "code",
   "execution_count": 150,
   "metadata": {
    "collapsed": false
   },
   "outputs": [],
   "source": []
  },
  {
   "cell_type": "code",
   "execution_count": 471,
   "metadata": {
    "collapsed": false
   },
   "outputs": [],
   "source": []
  },
  {
   "cell_type": "code",
   "execution_count": null,
   "metadata": {
    "collapsed": false
   },
   "outputs": [],
   "source": []
  },
  {
   "cell_type": "code",
   "execution_count": null,
   "metadata": {
    "collapsed": false
   },
   "outputs": [],
   "source": []
  },
  {
   "cell_type": "code",
   "execution_count": null,
   "metadata": {
    "collapsed": true
   },
   "outputs": [],
   "source": [
    "\n",
    "\n",
    "\n",
    "\n",
    "\n",
    "\n",
    "\n",
    "\n",
    "\n",
    "\n",
    "\n",
    "\n",
    "\n",
    "\n",
    "\n",
    "\n",
    "\n",
    "\n",
    "\n",
    "\n",
    "\n",
    "\n",
    "\n",
    "\n",
    "\n",
    "\n",
    "\n",
    "\n",
    "\n",
    "\n",
    "\n",
    "\n",
    "\n",
    "\n",
    "\n",
    "\n",
    "\n",
    "\n",
    "\n",
    "\n",
    "\n",
    "\n",
    "\n",
    "\n",
    "\n",
    "\n",
    "\n",
    "\n"
   ]
  }
 ],
 "metadata": {
  "anaconda-cloud": {},
  "kernelspec": {
   "display_name": "Python [default]",
   "language": "python",
   "name": "python3"
  },
  "language_info": {
   "codemirror_mode": {
    "name": "ipython",
    "version": 3
   },
   "file_extension": ".py",
   "mimetype": "text/x-python",
   "name": "python",
   "nbconvert_exporter": "python",
   "pygments_lexer": "ipython3",
   "version": "3.5.4"
  }
 },
 "nbformat": 4,
 "nbformat_minor": 2
}
