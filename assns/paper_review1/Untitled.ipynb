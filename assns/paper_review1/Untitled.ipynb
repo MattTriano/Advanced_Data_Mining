{
 "cells": [
  {
   "cell_type": "markdown",
   "metadata": {},
   "source": [
    "# Ensemble Classifiers - Paper Review #1\n",
    "## Matt Triano"
   ]
  },
  {
   "cell_type": "markdown",
   "metadata": {},
   "source": [
    "## 1: Main Components of Ensemble Learning Frameworks\n",
    "\n",
    "Individual learning models can be tuned to be fairly precise, but a single learner is akin to a single data point. It could be brilliant, but you can't get a sense for the learner's accuracy without a distribution of predictions. Further, it's difficult to know if that learner just studied for the test, or if they have deep knowledge that can generalize beyond the data at hand. And even further, how can we be sure that the learner is the best possible learner for all scenarios? To address these concerns, we can assemble an ensemble of (potentially) similar learners and treat them as a distribution.\n",
    "\n",
    "This strategy is generalized into ensemble learning frameworks, which typically involve these standard components:\n",
    "\n",
    "* Training Data that contains many observations containing labeled values and 1 to many corresponding attributes.\n",
    "* A Base Inducer\n",
    "\n"
   ]
  },
  {
   "cell_type": "markdown",
   "metadata": {},
   "source": [
    "## 2: AdaBoost Variations for *Big Data*"
   ]
  },
  {
   "cell_type": "markdown",
   "metadata": {},
   "source": []
  },
  {
   "cell_type": "markdown",
   "metadata": {},
   "source": []
  },
  {
   "cell_type": "markdown",
   "metadata": {},
   "source": []
  },
  {
   "cell_type": "markdown",
   "metadata": {},
   "source": []
  },
  {
   "cell_type": "markdown",
   "metadata": {},
   "source": []
  },
  {
   "cell_type": "markdown",
   "metadata": {},
   "source": []
  },
  {
   "cell_type": "markdown",
   "metadata": {},
   "source": []
  }
 ],
 "metadata": {
  "anaconda-cloud": {},
  "kernelspec": {
   "display_name": "Python [default]",
   "language": "python",
   "name": "python3"
  },
  "language_info": {
   "codemirror_mode": {
    "name": "ipython",
    "version": 3
   },
   "file_extension": ".py",
   "mimetype": "text/x-python",
   "name": "python",
   "nbconvert_exporter": "python",
   "pygments_lexer": "ipython3",
   "version": "3.5.4"
  }
 },
 "nbformat": 4,
 "nbformat_minor": 2
}
