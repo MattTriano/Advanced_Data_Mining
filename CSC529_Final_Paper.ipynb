{
 "cells": [
  {
   "cell_type": "markdown",
   "metadata": {},
   "source": [
    "cc_cats_d0"
   ]
  },
  {
   "cell_type": "markdown",
   "metadata": {},
   "source": []
  },
  {
   "cell_type": "markdown",
   "metadata": {},
   "source": [
    "### Objectives\n",
    "\n",
    "The accuracy and performance of a machine learning classifier is highly dependent on the preprocessing steps applied to the data. With big data sets, inadequate data preprocessing or poor algorithm parameter selection can cause prohibitively long run times. My initial project focus was in exploring the performance of multiple base classifiers across multiple large ($n_{obs}>10,000$) with faint signals concerning financial risk. The time constraints of the project and the time costs of tuning classifiers revealed a more interesting project, namely to build a framework to streamline the process of testing different preprocessing configurations over a number of different base classifiers, and I used one large data set to evaluate this framework."
   ]
  },
  {
   "cell_type": "markdown",
   "metadata": {},
   "source": [
    "### Data Set: Taiwanese Credit Card Data\n",
    "\n"
   ]
  },
  {
   "cell_type": "markdown",
   "metadata": {},
   "source": [
    "\n",
    "\n",
    "\n",
    "### Data Set Feature Descriptions\n",
    "\n",
    "|--- Feature Name ---|-------- Feature Description --------|------------------  Defined Values  ------------------|\n",
    "| :--------------: | --------------------: | :---------------- |\n",
    "| $\\text{default_payment_next_month}$ | Binary Target Feature indicating a Default on Payment | $0=\\text{No Default}$ |\n",
    "|  |  | $1=\\text{Default}$ |\n",
    "| $LIMIT\\_BAL$ | Ammount of available consumer and family credit [NT \\$] | $LIMIT\\_BAL \\geq 0$ |\n",
    "| $SEX$ | Gender  | $1=\\text{Male}$ |\n",
    "|  |  | $2=\\text{Female}$ |\n",
    "| $EDUCATION$ | Highest completed education level | $1=\\text{Grad School}$ |\n",
    "|  |  | $2=\\text{University}$ |\n",
    "|  |  | $3=\\text{High School}$ |\n",
    "|  |  | $4=\\text{Other}$ |\n",
    "| $MARRIAGE$ | Marital Status | $1=\\text{Married}$ |\n",
    "|  |  | $2=\\text{Single}$ |\n",
    "|  |  | $3=\\text{Other}$ |\n",
    "| $AGE$ | Age | $AGE \\geq 0$ |\n",
    "| $PAY\\_x$ | Number of months delinquent 'x' months ago | $-1=\\text{no delinquency}$ |\n",
    "|  |  | $ 1\\text{ up to }N=\\text{Delinquent 1 to N months}$ |\n",
    "| $BILL\\_AMT\\_x$ | Ammount of bill statement 'x' months ago [NT \\$] | Any real number (negative values are credits) |\n",
    "| $PAY\\_AMT\\_x$ | Amount paid 'x' months ago [NT \\$] | $PAY\\_AMT\\_x \\geq 0$ |"
   ]
  },
  {
   "cell_type": "markdown",
   "metadata": {},
   "source": [
    "### Preprocessing Dimensions\n",
    "\n",
    "The data description provided by UCI indicates that defined values for $\\text{EDUCATION}$ and $\\text{MARRIAGE}$ are $[1,2,3,4]$ and $[1,2,3]$ respectively. However, $\\text{EDUCATION}$ includes values $[0,4,5]$ and $\\text{MARRIAGE}$ includes values of $[0]$. I explored simply dropping these values, \n",
    "\n",
    "As a general convention in my code, the bold strings itemized below are included in variable names (separated by underscores) of data_variables received the corresponding preprocessing steps.  \n",
    "\n",
    "**Undefined Value Processing**\n",
    "* **NA**: The undefined values are replaced with NA values and will be imputed at model building time.\n",
    "* * **no_NA**: Rows containing undefined values are simply dropped.\n",
    "\n",
    "**Feature Engineering**\n",
    "* **d0**: dummy variables for columns ['SEX', 'EDUCATION','MARRIAGE','PAY_0', 'PAY_2','PAY_3','PAY_4','PAY_5', 'PAY_6']\n",
    "* **d1**: dummy variables for columns ['SEX', 'EDUCATION','MARRIAGE'] \n",
    "\n",
    "**Class Balancers**\n",
    "* **sm**: SMOTE\n",
    "* **as**: AdaSyn\n",
    "\n",
    "\n",
    "cc_df_d0\n",
    "cc_df_d1\n",
    "cc_df_d1_NA\n",
    "cc_df_d1_no_NA :: classes_d1_no_NA\n",
    "cc_df_no_NA :: classes_no_NA\n",
    "\n",
    "fancyimpute.MICE().complete(data matrix)"
   ]
  },
  {
   "cell_type": "markdown",
   "metadata": {},
   "source": [
    "### Framework:\n",
    "\n",
    "1.  "
   ]
  },
  {
   "cell_type": "markdown",
   "metadata": {},
   "source": [
    "### Results\n",
    "\n"
   ]
  },
  {
   "cell_type": "markdown",
   "metadata": {},
   "source": []
  },
  {
   "cell_type": "markdown",
   "metadata": {},
   "source": []
  },
  {
   "cell_type": "markdown",
   "metadata": {},
   "source": []
  },
  {
   "cell_type": "markdown",
   "metadata": {},
   "source": []
  },
  {
   "cell_type": "markdown",
   "metadata": {},
   "source": []
  },
  {
   "cell_type": "markdown",
   "metadata": {},
   "source": []
  }
 ],
 "metadata": {
  "anaconda-cloud": {},
  "kernelspec": {
   "display_name": "Python [default]",
   "language": "python",
   "name": "python3"
  },
  "language_info": {
   "codemirror_mode": {
    "name": "ipython",
    "version": 3
   },
   "file_extension": ".py",
   "mimetype": "text/x-python",
   "name": "python",
   "nbconvert_exporter": "python",
   "pygments_lexer": "ipython3",
   "version": "3.5.4"
  }
 },
 "nbformat": 4,
 "nbformat_minor": 2
}
